{
 "cells": [
  {
   "cell_type": "code",
   "execution_count": 12,
   "metadata": {},
   "outputs": [],
   "source": [
    "import pandas as pd\n",
    "import numpy as np\n",
    "import matplotlib.pyplot as plt"
   ]
  },
  {
   "cell_type": "code",
   "execution_count": 95,
   "metadata": {},
   "outputs": [],
   "source": [
    "df_1 = pd.read_csv('/Users/wafic/Downloads/data/my_say/QAID.csv')"
   ]
  },
  {
   "cell_type": "code",
   "execution_count": 96,
   "metadata": {},
   "outputs": [],
   "source": [
    "df_2 = pd.read_csv('/Users/wafic/Downloads/data/my_say/Questions_Answers.csv')"
   ]
  },
  {
   "cell_type": "code",
   "execution_count": 97,
   "metadata": {},
   "outputs": [],
   "source": [
    "df_3 = pd.read_csv('/Users/wafic/Downloads/data/my_say/User_Question_Answer.csv', low_memory=False)"
   ]
  },
  {
   "cell_type": "code",
   "execution_count": 98,
   "metadata": {},
   "outputs": [
    {
     "data": {
      "text/html": [
       "<div>\n",
       "<style scoped>\n",
       "    .dataframe tbody tr th:only-of-type {\n",
       "        vertical-align: middle;\n",
       "    }\n",
       "\n",
       "    .dataframe tbody tr th {\n",
       "        vertical-align: top;\n",
       "    }\n",
       "\n",
       "    .dataframe thead th {\n",
       "        text-align: right;\n",
       "    }\n",
       "</style>\n",
       "<table border=\"1\" class=\"dataframe\">\n",
       "  <thead>\n",
       "    <tr style=\"text-align: right;\">\n",
       "      <th></th>\n",
       "      <th>question_id</th>\n",
       "      <th>title</th>\n",
       "      <th>start_age</th>\n",
       "      <th>end_age</th>\n",
       "      <th>sex_id</th>\n",
       "      <th>category_id</th>\n",
       "      <th>nb_targets</th>\n",
       "      <th>nb_points</th>\n",
       "      <th>created_at</th>\n",
       "      <th>updated_at</th>\n",
       "      <th>topic_id</th>\n",
       "      <th>prefered_lang</th>\n",
       "      <th>rank</th>\n",
       "      <th>Total_Number_of_Answers</th>\n",
       "      <th>answer_id</th>\n",
       "      <th>description</th>\n",
       "      <th>Number_Of_Answers</th>\n",
       "    </tr>\n",
       "  </thead>\n",
       "  <tbody>\n",
       "    <tr>\n",
       "      <th>0</th>\n",
       "      <td>21045</td>\n",
       "      <td>Are you trying to lose weight?</td>\n",
       "      <td>10</td>\n",
       "      <td>80</td>\n",
       "      <td>0.0</td>\n",
       "      <td>7</td>\n",
       "      <td>3000</td>\n",
       "      <td>1</td>\n",
       "      <td>2018-09-06 01:23:42</td>\n",
       "      <td>2018-09-06 15:12:03</td>\n",
       "      <td>0</td>\n",
       "      <td>0.0</td>\n",
       "      <td>0</td>\n",
       "      <td>3000</td>\n",
       "      <td>60570</td>\n",
       "      <td>Yes</td>\n",
       "      <td>1943</td>\n",
       "    </tr>\n",
       "    <tr>\n",
       "      <th>1</th>\n",
       "      <td>21045</td>\n",
       "      <td>Are you trying to lose weight?</td>\n",
       "      <td>10</td>\n",
       "      <td>80</td>\n",
       "      <td>0.0</td>\n",
       "      <td>7</td>\n",
       "      <td>3000</td>\n",
       "      <td>1</td>\n",
       "      <td>2018-09-06 01:23:42</td>\n",
       "      <td>2018-09-06 15:12:03</td>\n",
       "      <td>0</td>\n",
       "      <td>0.0</td>\n",
       "      <td>0</td>\n",
       "      <td>3000</td>\n",
       "      <td>60571</td>\n",
       "      <td>No</td>\n",
       "      <td>1057</td>\n",
       "    </tr>\n",
       "  </tbody>\n",
       "</table>\n",
       "</div>"
      ],
      "text/plain": [
       "   question_id                           title  start_age  end_age  sex_id  \\\n",
       "0        21045  Are you trying to lose weight?         10       80     0.0   \n",
       "1        21045  Are you trying to lose weight?         10       80     0.0   \n",
       "\n",
       "   category_id  nb_targets  nb_points           created_at  \\\n",
       "0            7        3000          1  2018-09-06 01:23:42   \n",
       "1            7        3000          1  2018-09-06 01:23:42   \n",
       "\n",
       "            updated_at  topic_id  prefered_lang  rank  \\\n",
       "0  2018-09-06 15:12:03         0            0.0     0   \n",
       "1  2018-09-06 15:12:03         0            0.0     0   \n",
       "\n",
       "   Total_Number_of_Answers  answer_id description  Number_Of_Answers  \n",
       "0                     3000      60570         Yes               1943  \n",
       "1                     3000      60571          No               1057  "
      ]
     },
     "execution_count": 98,
     "metadata": {},
     "output_type": "execute_result"
    }
   ],
   "source": [
    "df_2.head(2)"
   ]
  },
  {
   "cell_type": "code",
   "execution_count": 99,
   "metadata": {},
   "outputs": [],
   "source": [
    "quest = df_2[['question_id', 'sex_id', 'category_id']]"
   ]
  },
  {
   "cell_type": "code",
   "execution_count": 100,
   "metadata": {},
   "outputs": [
    {
     "data": {
      "text/plain": [
       "(512410, 4)"
      ]
     },
     "execution_count": 100,
     "metadata": {},
     "output_type": "execute_result"
    }
   ],
   "source": [
    "df_3.shape"
   ]
  },
  {
   "cell_type": "code",
   "execution_count": 101,
   "metadata": {},
   "outputs": [],
   "source": [
    "df = df_3.merge(quest, on='question_id', how='inner')"
   ]
  },
  {
   "cell_type": "code",
   "execution_count": 102,
   "metadata": {},
   "outputs": [
    {
     "data": {
      "text/plain": [
       "(1375049, 6)"
      ]
     },
     "execution_count": 102,
     "metadata": {},
     "output_type": "execute_result"
    }
   ],
   "source": [
    "df.shape"
   ]
  },
  {
   "cell_type": "code",
   "execution_count": 103,
   "metadata": {},
   "outputs": [
    {
     "data": {
      "text/html": [
       "<div>\n",
       "<style scoped>\n",
       "    .dataframe tbody tr th:only-of-type {\n",
       "        vertical-align: middle;\n",
       "    }\n",
       "\n",
       "    .dataframe tbody tr th {\n",
       "        vertical-align: top;\n",
       "    }\n",
       "\n",
       "    .dataframe thead th {\n",
       "        text-align: right;\n",
       "    }\n",
       "</style>\n",
       "<table border=\"1\" class=\"dataframe\">\n",
       "  <thead>\n",
       "    <tr style=\"text-align: right;\">\n",
       "      <th></th>\n",
       "      <th>user_id</th>\n",
       "      <th>question_id</th>\n",
       "      <th>answer_id</th>\n",
       "      <th>datetimestamp</th>\n",
       "      <th>sex_id</th>\n",
       "      <th>category_id</th>\n",
       "    </tr>\n",
       "  </thead>\n",
       "  <tbody>\n",
       "    <tr>\n",
       "      <th>0</th>\n",
       "      <td>10109</td>\n",
       "      <td>21045</td>\n",
       "      <td>60570</td>\n",
       "      <td>2018-09-06 16:18:02</td>\n",
       "      <td>0.0</td>\n",
       "      <td>7</td>\n",
       "    </tr>\n",
       "    <tr>\n",
       "      <th>1</th>\n",
       "      <td>10109</td>\n",
       "      <td>21045</td>\n",
       "      <td>60570</td>\n",
       "      <td>2018-09-06 16:18:02</td>\n",
       "      <td>0.0</td>\n",
       "      <td>7</td>\n",
       "    </tr>\n",
       "    <tr>\n",
       "      <th>2</th>\n",
       "      <td>10135</td>\n",
       "      <td>21045</td>\n",
       "      <td>60571</td>\n",
       "      <td>2018-09-06 15:20:57</td>\n",
       "      <td>0.0</td>\n",
       "      <td>7</td>\n",
       "    </tr>\n",
       "    <tr>\n",
       "      <th>3</th>\n",
       "      <td>10135</td>\n",
       "      <td>21045</td>\n",
       "      <td>60571</td>\n",
       "      <td>2018-09-06 15:20:57</td>\n",
       "      <td>0.0</td>\n",
       "      <td>7</td>\n",
       "    </tr>\n",
       "    <tr>\n",
       "      <th>4</th>\n",
       "      <td>10237</td>\n",
       "      <td>21045</td>\n",
       "      <td>60571</td>\n",
       "      <td>2018-09-06 13:30:05</td>\n",
       "      <td>0.0</td>\n",
       "      <td>7</td>\n",
       "    </tr>\n",
       "  </tbody>\n",
       "</table>\n",
       "</div>"
      ],
      "text/plain": [
       "   user_id  question_id answer_id        datetimestamp  sex_id  category_id\n",
       "0    10109        21045     60570  2018-09-06 16:18:02     0.0            7\n",
       "1    10109        21045     60570  2018-09-06 16:18:02     0.0            7\n",
       "2    10135        21045     60571  2018-09-06 15:20:57     0.0            7\n",
       "3    10135        21045     60571  2018-09-06 15:20:57     0.0            7\n",
       "4    10237        21045     60571  2018-09-06 13:30:05     0.0            7"
      ]
     },
     "execution_count": 103,
     "metadata": {},
     "output_type": "execute_result"
    }
   ],
   "source": [
    "df.head()"
   ]
  },
  {
   "cell_type": "code",
   "execution_count": null,
   "metadata": {},
   "outputs": [],
   "source": []
  },
  {
   "cell_type": "code",
   "execution_count": null,
   "metadata": {},
   "outputs": [],
   "source": []
  },
  {
   "cell_type": "code",
   "execution_count": null,
   "metadata": {},
   "outputs": [],
   "source": []
  }
 ],
 "metadata": {
  "kernelspec": {
   "display_name": "Python 3",
   "language": "python",
   "name": "python3"
  },
  "language_info": {
   "codemirror_mode": {
    "name": "ipython",
    "version": 3
   },
   "file_extension": ".py",
   "mimetype": "text/x-python",
   "name": "python",
   "nbconvert_exporter": "python",
   "pygments_lexer": "ipython3",
   "version": "3.6.5"
  }
 },
 "nbformat": 4,
 "nbformat_minor": 2
}
