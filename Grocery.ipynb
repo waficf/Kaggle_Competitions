{
 "cells": [
  {
   "cell_type": "markdown",
   "metadata": {},
   "source": [
    "# Imports"
   ]
  },
  {
   "cell_type": "code",
   "execution_count": 1,
   "metadata": {},
   "outputs": [],
   "source": [
    "%load_ext autoreload\n",
    "%autoreload 2\n",
    "\n",
    "%matplotlib inline"
   ]
  },
  {
   "cell_type": "code",
   "execution_count": 2,
   "metadata": {},
   "outputs": [],
   "source": [
    "import pandas as pd\n",
    "import numpy as np\n",
    "\n",
    "from sklearn.ensemble import RandomForestRegressor\n"
   ]
  },
  {
   "cell_type": "code",
   "execution_count": 8,
   "metadata": {},
   "outputs": [],
   "source": [
    "train = pd.read_csv('Data/Grocery/sales_train.csv.gz', parse_dates=['date'])\n",
    "shops = pd.read_csv('Data/Grocery/shops.csv')\n",
    "items = pd.read_csv('Data/Grocery/items.csv')\n",
    "test = pd.read_csv('Data/Grocery/test.csv.gz')\n",
    "items_cats = pd.read_csv('Data/Grocery/item_categories.csv')\n",
    "sub = pd.read_csv('Data/Grocery/sample_submission.csv.gz')"
   ]
  },
  {
   "cell_type": "code",
   "execution_count": 5,
   "metadata": {},
   "outputs": [
    {
     "data": {
      "text/plain": [
       "(2935849, 6)"
      ]
     },
     "execution_count": 5,
     "metadata": {},
     "output_type": "execute_result"
    }
   ],
   "source": [
    "train.shape"
   ]
  },
  {
   "cell_type": "code",
   "execution_count": 61,
   "metadata": {},
   "outputs": [
    {
     "data": {
      "text/html": [
       "<div>\n",
       "<style scoped>\n",
       "    .dataframe tbody tr th:only-of-type {\n",
       "        vertical-align: middle;\n",
       "    }\n",
       "\n",
       "    .dataframe tbody tr th {\n",
       "        vertical-align: top;\n",
       "    }\n",
       "\n",
       "    .dataframe thead th {\n",
       "        text-align: right;\n",
       "    }\n",
       "</style>\n",
       "<table border=\"1\" class=\"dataframe\">\n",
       "  <thead>\n",
       "    <tr style=\"text-align: right;\">\n",
       "      <th></th>\n",
       "      <th>ID</th>\n",
       "      <th>shop_id</th>\n",
       "      <th>item_id</th>\n",
       "    </tr>\n",
       "  </thead>\n",
       "  <tbody>\n",
       "    <tr>\n",
       "      <th>0</th>\n",
       "      <td>0</td>\n",
       "      <td>5</td>\n",
       "      <td>5037</td>\n",
       "    </tr>\n",
       "    <tr>\n",
       "      <th>1</th>\n",
       "      <td>1</td>\n",
       "      <td>5</td>\n",
       "      <td>5320</td>\n",
       "    </tr>\n",
       "    <tr>\n",
       "      <th>2</th>\n",
       "      <td>2</td>\n",
       "      <td>5</td>\n",
       "      <td>5233</td>\n",
       "    </tr>\n",
       "    <tr>\n",
       "      <th>3</th>\n",
       "      <td>3</td>\n",
       "      <td>5</td>\n",
       "      <td>5232</td>\n",
       "    </tr>\n",
       "    <tr>\n",
       "      <th>4</th>\n",
       "      <td>4</td>\n",
       "      <td>5</td>\n",
       "      <td>5268</td>\n",
       "    </tr>\n",
       "  </tbody>\n",
       "</table>\n",
       "</div>"
      ],
      "text/plain": [
       "   ID  shop_id  item_id\n",
       "0   0        5     5037\n",
       "1   1        5     5320\n",
       "2   2        5     5233\n",
       "3   3        5     5232\n",
       "4   4        5     5268"
      ]
     },
     "execution_count": 61,
     "metadata": {},
     "output_type": "execute_result"
    }
   ],
   "source": [
    "test.head()"
   ]
  },
  {
   "cell_type": "markdown",
   "metadata": {},
   "source": [
    "Steps to improve model:\n",
    "1. Knowing this in Russia, add the bank and the school holidays\n",
    "2. check whether some items wherein specific discount and check sales relevant to them\n",
    "3. Are same products sold for different prices in different stores\n",
    "4. Do all stores hold all products, NO does this make a difference in the model\n",
    "5. "
   ]
  },
  {
   "cell_type": "code",
   "execution_count": 62,
   "metadata": {},
   "outputs": [],
   "source": [
    "df_train = train.copy()"
   ]
  },
  {
   "cell_type": "code",
   "execution_count": 8,
   "metadata": {},
   "outputs": [
    {
     "data": {
      "text/plain": [
       "<matplotlib.axes._subplots.AxesSubplot at 0x612d6a0>"
      ]
     },
     "execution_count": 8,
     "metadata": {},
     "output_type": "execute_result"
    },
    {
     "data": {
      "image/png": "[encoded data removed]",
      "text/plain": [
       "<Figure size 864x576 with 1 Axes>"
      ]
     },
     "metadata": {},
     "output_type": "display_data"
    }
   ],
   "source": [
    "df_train[(train.item_price < 150000)].plot('item_price', 'item_cnt_day', 'scatter',figsize=(12,8))"
   ]
  },
  {
   "cell_type": "code",
   "execution_count": null,
   "metadata": {},
   "outputs": [],
   "source": []
  },
  {
   "cell_type": "code",
   "execution_count": null,
   "metadata": {},
   "outputs": [],
   "source": []
  },
  {
   "cell_type": "code",
   "execution_count": null,
   "metadata": {},
   "outputs": [],
   "source": []
  },
  {
   "cell_type": "code",
   "execution_count": null,
   "metadata": {},
   "outputs": [],
   "source": []
  },
  {
   "cell_type": "code",
   "execution_count": 19,
   "metadata": {},
   "outputs": [],
   "source": [
    "# date_att = ['day','dayofweek','dayofyear','days_in_month','is_month_end','is_month_start','is_quarter_end','is_quarter_start','is_year_end',\n",
    "#  'is_year_start','month','quarter','week','weekday','weekofyear','year']\n",
    "\n",
    "# for i in date_att:\n",
    "#     df_train['sale_'+i] = getattr(df_train['date'].dt, i)\n",
    "# df_train.drop('date', axis = 1, inplace=True)"
   ]
  },
  {
   "cell_type": "code",
   "execution_count": 30,
   "metadata": {},
   "outputs": [],
   "source": [
    "df_train['month'] = df_train['date'].dt.month\n",
    "df_train['year'] = df_train['date'].dt.year"
   ]
  },
  {
   "cell_type": "code",
   "execution_count": 31,
   "metadata": {},
   "outputs": [
    {
     "data": {
      "text/html": [
       "<div>\n",
       "<style scoped>\n",
       "    .dataframe tbody tr th:only-of-type {\n",
       "        vertical-align: middle;\n",
       "    }\n",
       "\n",
       "    .dataframe tbody tr th {\n",
       "        vertical-align: top;\n",
       "    }\n",
       "\n",
       "    .dataframe thead th {\n",
       "        text-align: right;\n",
       "    }\n",
       "</style>\n",
       "<table border=\"1\" class=\"dataframe\">\n",
       "  <thead>\n",
       "    <tr style=\"text-align: right;\">\n",
       "      <th></th>\n",
       "      <th>date</th>\n",
       "      <th>date_block_num</th>\n",
       "      <th>shop_id</th>\n",
       "      <th>item_id</th>\n",
       "      <th>item_price</th>\n",
       "      <th>item_cnt_day</th>\n",
       "      <th>month</th>\n",
       "      <th>year</th>\n",
       "    </tr>\n",
       "  </thead>\n",
       "  <tbody>\n",
       "    <tr>\n",
       "      <th>0</th>\n",
       "      <td>2013-02-01</td>\n",
       "      <td>0</td>\n",
       "      <td>59</td>\n",
       "      <td>22154</td>\n",
       "      <td>999.00</td>\n",
       "      <td>1.0</td>\n",
       "      <td>2</td>\n",
       "      <td>2013</td>\n",
       "    </tr>\n",
       "    <tr>\n",
       "      <th>1</th>\n",
       "      <td>2013-03-01</td>\n",
       "      <td>0</td>\n",
       "      <td>25</td>\n",
       "      <td>2552</td>\n",
       "      <td>899.00</td>\n",
       "      <td>1.0</td>\n",
       "      <td>3</td>\n",
       "      <td>2013</td>\n",
       "    </tr>\n",
       "    <tr>\n",
       "      <th>2</th>\n",
       "      <td>2013-05-01</td>\n",
       "      <td>0</td>\n",
       "      <td>25</td>\n",
       "      <td>2552</td>\n",
       "      <td>899.00</td>\n",
       "      <td>-1.0</td>\n",
       "      <td>5</td>\n",
       "      <td>2013</td>\n",
       "    </tr>\n",
       "    <tr>\n",
       "      <th>3</th>\n",
       "      <td>2013-06-01</td>\n",
       "      <td>0</td>\n",
       "      <td>25</td>\n",
       "      <td>2554</td>\n",
       "      <td>1709.05</td>\n",
       "      <td>1.0</td>\n",
       "      <td>6</td>\n",
       "      <td>2013</td>\n",
       "    </tr>\n",
       "    <tr>\n",
       "      <th>4</th>\n",
       "      <td>2013-01-15</td>\n",
       "      <td>0</td>\n",
       "      <td>25</td>\n",
       "      <td>2555</td>\n",
       "      <td>1099.00</td>\n",
       "      <td>1.0</td>\n",
       "      <td>1</td>\n",
       "      <td>2013</td>\n",
       "    </tr>\n",
       "  </tbody>\n",
       "</table>\n",
       "</div>"
      ],
      "text/plain": [
       "        date  date_block_num  shop_id  item_id  item_price  item_cnt_day  \\\n",
       "0 2013-02-01               0       59    22154      999.00           1.0   \n",
       "1 2013-03-01               0       25     2552      899.00           1.0   \n",
       "2 2013-05-01               0       25     2552      899.00          -1.0   \n",
       "3 2013-06-01               0       25     2554     1709.05           1.0   \n",
       "4 2013-01-15               0       25     2555     1099.00           1.0   \n",
       "\n",
       "   month  year  \n",
       "0      2  2013  \n",
       "1      3  2013  \n",
       "2      5  2013  \n",
       "3      6  2013  \n",
       "4      1  2013  "
      ]
     },
     "execution_count": 31,
     "metadata": {},
     "output_type": "execute_result"
    }
   ],
   "source": [
    "df_train.head()"
   ]
  },
  {
   "cell_type": "code",
   "execution_count": null,
   "metadata": {},
   "outputs": [],
   "source": []
  },
  {
   "cell_type": "code",
   "execution_count": null,
   "metadata": {},
   "outputs": [],
   "source": []
  },
  {
   "cell_type": "markdown",
   "metadata": {},
   "source": [
    "Merge with items to extract the category id"
   ]
  },
  {
   "cell_type": "code",
   "execution_count": 49,
   "metadata": {},
   "outputs": [],
   "source": [
    "df_all = train.merge(items, on='item_id')"
   ]
  },
  {
   "cell_type": "code",
   "execution_count": 50,
   "metadata": {},
   "outputs": [],
   "source": [
    "df_all = df_all.merge(shops, on='shop_id')"
   ]
  },
  {
   "cell_type": "code",
   "execution_count": 51,
   "metadata": {},
   "outputs": [
    {
     "data": {
      "text/html": [
       "<div>\n",
       "<style scoped>\n",
       "    .dataframe tbody tr th:only-of-type {\n",
       "        vertical-align: middle;\n",
       "    }\n",
       "\n",
       "    .dataframe tbody tr th {\n",
       "        vertical-align: top;\n",
       "    }\n",
       "\n",
       "    .dataframe thead th {\n",
       "        text-align: right;\n",
       "    }\n",
       "</style>\n",
       "<table border=\"1\" class=\"dataframe\">\n",
       "  <thead>\n",
       "    <tr style=\"text-align: right;\">\n",
       "      <th></th>\n",
       "      <th>date</th>\n",
       "      <th>date_block_num</th>\n",
       "      <th>shop_id</th>\n",
       "      <th>item_id</th>\n",
       "      <th>item_price</th>\n",
       "      <th>item_cnt_day</th>\n",
       "      <th>item_name</th>\n",
       "      <th>item_category_id</th>\n",
       "      <th>shop_name</th>\n",
       "    </tr>\n",
       "  </thead>\n",
       "  <tbody>\n",
       "    <tr>\n",
       "      <th>0</th>\n",
       "      <td>2013-02-01</td>\n",
       "      <td>0</td>\n",
       "      <td>59</td>\n",
       "      <td>22154</td>\n",
       "      <td>999.000000</td>\n",
       "      <td>1.000000</td>\n",
       "      <td>ЯВЛЕНИЕ 2012 (BD)</td>\n",
       "      <td>37</td>\n",
       "      <td>Ярославль ТЦ \"Альтаир\"</td>\n",
       "    </tr>\n",
       "    <tr>\n",
       "      <th>1</th>\n",
       "      <td>2013-05-16</td>\n",
       "      <td>4</td>\n",
       "      <td>59</td>\n",
       "      <td>2573</td>\n",
       "      <td>249.000000</td>\n",
       "      <td>1.000000</td>\n",
       "      <td>DEL REY LANA  Born To Die</td>\n",
       "      <td>55</td>\n",
       "      <td>Ярославль ТЦ \"Альтаир\"</td>\n",
       "    </tr>\n",
       "    <tr>\n",
       "      <th>2</th>\n",
       "      <td>2013-01-26</td>\n",
       "      <td>0</td>\n",
       "      <td>59</td>\n",
       "      <td>2574</td>\n",
       "      <td>399.000000</td>\n",
       "      <td>1.000000</td>\n",
       "      <td>DEL REY LANA  Born To Die  The Paradise Editio...</td>\n",
       "      <td>55</td>\n",
       "      <td>Ярославль ТЦ \"Альтаир\"</td>\n",
       "    </tr>\n",
       "    <tr>\n",
       "      <th>3</th>\n",
       "      <td>2013-09-01</td>\n",
       "      <td>0</td>\n",
       "      <td>59</td>\n",
       "      <td>2574</td>\n",
       "      <td>399.000000</td>\n",
       "      <td>1.000000</td>\n",
       "      <td>DEL REY LANA  Born To Die  The Paradise Editio...</td>\n",
       "      <td>55</td>\n",
       "      <td>Ярославль ТЦ \"Альтаир\"</td>\n",
       "    </tr>\n",
       "    <tr>\n",
       "      <th>4</th>\n",
       "      <td>2013-02-24</td>\n",
       "      <td>1</td>\n",
       "      <td>59</td>\n",
       "      <td>2574</td>\n",
       "      <td>399.000000</td>\n",
       "      <td>1.000000</td>\n",
       "      <td>DEL REY LANA  Born To Die  The Paradise Editio...</td>\n",
       "      <td>55</td>\n",
       "      <td>Ярославль ТЦ \"Альтаир\"</td>\n",
       "    </tr>\n",
       "  </tbody>\n",
       "</table>\n",
       "</div>"
      ],
      "text/plain": [
       "        date  date_block_num  shop_id  item_id  item_price  item_cnt_day  \\\n",
       "0 2013-02-01               0       59    22154  999.000000      1.000000   \n",
       "1 2013-05-16               4       59     2573  249.000000      1.000000   \n",
       "2 2013-01-26               0       59     2574  399.000000      1.000000   \n",
       "3 2013-09-01               0       59     2574  399.000000      1.000000   \n",
       "4 2013-02-24               1       59     2574  399.000000      1.000000   \n",
       "\n",
       "                                           item_name  item_category_id  \\\n",
       "0                                  ЯВЛЕНИЕ 2012 (BD)                37   \n",
       "1                          DEL REY LANA  Born To Die                55   \n",
       "2  DEL REY LANA  Born To Die  The Paradise Editio...                55   \n",
       "3  DEL REY LANA  Born To Die  The Paradise Editio...                55   \n",
       "4  DEL REY LANA  Born To Die  The Paradise Editio...                55   \n",
       "\n",
       "                shop_name  \n",
       "0  Ярославль ТЦ \"Альтаир\"  \n",
       "1  Ярославль ТЦ \"Альтаир\"  \n",
       "2  Ярославль ТЦ \"Альтаир\"  \n",
       "3  Ярославль ТЦ \"Альтаир\"  \n",
       "4  Ярославль ТЦ \"Альтаир\"  "
      ]
     },
     "execution_count": 51,
     "metadata": {},
     "output_type": "execute_result"
    }
   ],
   "source": [
    "df_all.head()"
   ]
  },
  {
   "cell_type": "code",
   "execution_count": 52,
   "metadata": {},
   "outputs": [],
   "source": [
    "df_raw = df_all.drop(['item_name', 'shop_name'], axis=1)"
   ]
  },
  {
   "cell_type": "code",
   "execution_count": 53,
   "metadata": {},
   "outputs": [
    {
     "data": {
      "text/plain": [
       "(2935849, 7)"
      ]
     },
     "execution_count": 53,
     "metadata": {},
     "output_type": "execute_result"
    }
   ],
   "source": [
    "df_raw.shape"
   ]
  },
  {
   "cell_type": "code",
   "execution_count": 54,
   "metadata": {},
   "outputs": [
    {
     "data": {
      "text/html": [
       "<div>\n",
       "<style scoped>\n",
       "    .dataframe tbody tr th:only-of-type {\n",
       "        vertical-align: middle;\n",
       "    }\n",
       "\n",
       "    .dataframe tbody tr th {\n",
       "        vertical-align: top;\n",
       "    }\n",
       "\n",
       "    .dataframe thead th {\n",
       "        text-align: right;\n",
       "    }\n",
       "</style>\n",
       "<table border=\"1\" class=\"dataframe\">\n",
       "  <thead>\n",
       "    <tr style=\"text-align: right;\">\n",
       "      <th></th>\n",
       "      <th>date</th>\n",
       "      <th>date_block_num</th>\n",
       "      <th>shop_id</th>\n",
       "      <th>item_id</th>\n",
       "      <th>item_price</th>\n",
       "      <th>item_cnt_day</th>\n",
       "      <th>item_category_id</th>\n",
       "    </tr>\n",
       "  </thead>\n",
       "  <tbody>\n",
       "    <tr>\n",
       "      <th>0</th>\n",
       "      <td>2013-02-01</td>\n",
       "      <td>0</td>\n",
       "      <td>59</td>\n",
       "      <td>22154</td>\n",
       "      <td>999.000000</td>\n",
       "      <td>1.000000</td>\n",
       "      <td>37</td>\n",
       "    </tr>\n",
       "    <tr>\n",
       "      <th>1</th>\n",
       "      <td>2013-05-16</td>\n",
       "      <td>4</td>\n",
       "      <td>59</td>\n",
       "      <td>2573</td>\n",
       "      <td>249.000000</td>\n",
       "      <td>1.000000</td>\n",
       "      <td>55</td>\n",
       "    </tr>\n",
       "    <tr>\n",
       "      <th>2</th>\n",
       "      <td>2013-01-26</td>\n",
       "      <td>0</td>\n",
       "      <td>59</td>\n",
       "      <td>2574</td>\n",
       "      <td>399.000000</td>\n",
       "      <td>1.000000</td>\n",
       "      <td>55</td>\n",
       "    </tr>\n",
       "    <tr>\n",
       "      <th>3</th>\n",
       "      <td>2013-09-01</td>\n",
       "      <td>0</td>\n",
       "      <td>59</td>\n",
       "      <td>2574</td>\n",
       "      <td>399.000000</td>\n",
       "      <td>1.000000</td>\n",
       "      <td>55</td>\n",
       "    </tr>\n",
       "    <tr>\n",
       "      <th>4</th>\n",
       "      <td>2013-02-24</td>\n",
       "      <td>1</td>\n",
       "      <td>59</td>\n",
       "      <td>2574</td>\n",
       "      <td>399.000000</td>\n",
       "      <td>1.000000</td>\n",
       "      <td>55</td>\n",
       "    </tr>\n",
       "  </tbody>\n",
       "</table>\n",
       "</div>"
      ],
      "text/plain": [
       "        date  date_block_num  shop_id  item_id  item_price  item_cnt_day  \\\n",
       "0 2013-02-01               0       59    22154  999.000000      1.000000   \n",
       "1 2013-05-16               4       59     2573  249.000000      1.000000   \n",
       "2 2013-01-26               0       59     2574  399.000000      1.000000   \n",
       "3 2013-09-01               0       59     2574  399.000000      1.000000   \n",
       "4 2013-02-24               1       59     2574  399.000000      1.000000   \n",
       "\n",
       "   item_category_id  \n",
       "0                37  \n",
       "1                55  \n",
       "2                55  \n",
       "3                55  \n",
       "4                55  "
      ]
     },
     "execution_count": 54,
     "metadata": {},
     "output_type": "execute_result"
    }
   ],
   "source": [
    "df_raw.head()"
   ]
  },
  {
   "cell_type": "code",
   "execution_count": 55,
   "metadata": {},
   "outputs": [],
   "source": [
    "pd.set_option('float_format', '{:f}'.format)"
   ]
  },
  {
   "cell_type": "code",
   "execution_count": 56,
   "metadata": {},
   "outputs": [
    {
     "data": {
      "text/html": [
       "<div>\n",
       "<style scoped>\n",
       "    .dataframe tbody tr th:only-of-type {\n",
       "        vertical-align: middle;\n",
       "    }\n",
       "\n",
       "    .dataframe tbody tr th {\n",
       "        vertical-align: top;\n",
       "    }\n",
       "\n",
       "    .dataframe thead th {\n",
       "        text-align: right;\n",
       "    }\n",
       "</style>\n",
       "<table border=\"1\" class=\"dataframe\">\n",
       "  <thead>\n",
       "    <tr style=\"text-align: right;\">\n",
       "      <th></th>\n",
       "      <th>date_block_num</th>\n",
       "      <th>shop_id</th>\n",
       "      <th>item_id</th>\n",
       "      <th>item_price</th>\n",
       "      <th>item_cnt_day</th>\n",
       "      <th>item_category_id</th>\n",
       "    </tr>\n",
       "  </thead>\n",
       "  <tbody>\n",
       "    <tr>\n",
       "      <th>count</th>\n",
       "      <td>2935849.000000</td>\n",
       "      <td>2935849.000000</td>\n",
       "      <td>2935849.000000</td>\n",
       "      <td>2935849.000000</td>\n",
       "      <td>2935849.000000</td>\n",
       "      <td>2935849.000000</td>\n",
       "    </tr>\n",
       "    <tr>\n",
       "      <th>mean</th>\n",
       "      <td>14.569911</td>\n",
       "      <td>33.001728</td>\n",
       "      <td>10197.227057</td>\n",
       "      <td>890.853233</td>\n",
       "      <td>1.242641</td>\n",
       "      <td>40.001383</td>\n",
       "    </tr>\n",
       "    <tr>\n",
       "      <th>std</th>\n",
       "      <td>9.422988</td>\n",
       "      <td>16.226973</td>\n",
       "      <td>6324.297354</td>\n",
       "      <td>1729.799631</td>\n",
       "      <td>2.618834</td>\n",
       "      <td>17.100759</td>\n",
       "    </tr>\n",
       "    <tr>\n",
       "      <th>min</th>\n",
       "      <td>0.000000</td>\n",
       "      <td>0.000000</td>\n",
       "      <td>0.000000</td>\n",
       "      <td>-1.000000</td>\n",
       "      <td>-22.000000</td>\n",
       "      <td>0.000000</td>\n",
       "    </tr>\n",
       "    <tr>\n",
       "      <th>25%</th>\n",
       "      <td>7.000000</td>\n",
       "      <td>22.000000</td>\n",
       "      <td>4476.000000</td>\n",
       "      <td>249.000000</td>\n",
       "      <td>1.000000</td>\n",
       "      <td>28.000000</td>\n",
       "    </tr>\n",
       "    <tr>\n",
       "      <th>50%</th>\n",
       "      <td>14.000000</td>\n",
       "      <td>31.000000</td>\n",
       "      <td>9343.000000</td>\n",
       "      <td>399.000000</td>\n",
       "      <td>1.000000</td>\n",
       "      <td>40.000000</td>\n",
       "    </tr>\n",
       "    <tr>\n",
       "      <th>75%</th>\n",
       "      <td>23.000000</td>\n",
       "      <td>47.000000</td>\n",
       "      <td>15684.000000</td>\n",
       "      <td>999.000000</td>\n",
       "      <td>1.000000</td>\n",
       "      <td>55.000000</td>\n",
       "    </tr>\n",
       "    <tr>\n",
       "      <th>max</th>\n",
       "      <td>33.000000</td>\n",
       "      <td>59.000000</td>\n",
       "      <td>22169.000000</td>\n",
       "      <td>307980.000000</td>\n",
       "      <td>2169.000000</td>\n",
       "      <td>83.000000</td>\n",
       "    </tr>\n",
       "  </tbody>\n",
       "</table>\n",
       "</div>"
      ],
      "text/plain": [
       "       date_block_num        shop_id        item_id     item_price  \\\n",
       "count  2935849.000000 2935849.000000 2935849.000000 2935849.000000   \n",
       "mean        14.569911      33.001728   10197.227057     890.853233   \n",
       "std          9.422988      16.226973    6324.297354    1729.799631   \n",
       "min          0.000000       0.000000       0.000000      -1.000000   \n",
       "25%          7.000000      22.000000    4476.000000     249.000000   \n",
       "50%         14.000000      31.000000    9343.000000     399.000000   \n",
       "75%         23.000000      47.000000   15684.000000     999.000000   \n",
       "max         33.000000      59.000000   22169.000000  307980.000000   \n",
       "\n",
       "        item_cnt_day  item_category_id  \n",
       "count 2935849.000000    2935849.000000  \n",
       "mean        1.242641         40.001383  \n",
       "std         2.618834         17.100759  \n",
       "min       -22.000000          0.000000  \n",
       "25%         1.000000         28.000000  \n",
       "50%         1.000000         40.000000  \n",
       "75%         1.000000         55.000000  \n",
       "max      2169.000000         83.000000  "
      ]
     },
     "execution_count": 56,
     "metadata": {},
     "output_type": "execute_result"
    }
   ],
   "source": [
    "df_raw.describe()"
   ]
  },
  {
   "cell_type": "code",
   "execution_count": 57,
   "metadata": {},
   "outputs": [
    {
     "data": {
      "text/plain": [
       "date                0\n",
       "date_block_num      0\n",
       "shop_id             0\n",
       "item_id             0\n",
       "item_price          0\n",
       "item_cnt_day        0\n",
       "item_category_id    0\n",
       "dtype: int64"
      ]
     },
     "execution_count": 57,
     "metadata": {},
     "output_type": "execute_result"
    }
   ],
   "source": [
    "df_raw.isnull().sum()"
   ]
  },
  {
   "cell_type": "code",
   "execution_count": 60,
   "metadata": {},
   "outputs": [],
   "source": [
    "date_att = ['day','dayofweek','dayofyear','days_in_month','is_month_end','is_month_start','is_quarter_end','is_quarter_start','is_year_end',\n",
    " 'is_year_start','month','quarter','week','weekday','weekofyear','year']\n",
    "\n",
    "for i in date_att:\n",
    "    df_raw['sale_'+i] = getattr(df_raw['date'].dt, i)\n",
    "df_raw.drop('date', axis = 1, inplace=True)"
   ]
  },
  {
   "cell_type": "code",
   "execution_count": 61,
   "metadata": {},
   "outputs": [
    {
     "data": {
      "text/plain": [
       "(2935849, 22)"
      ]
     },
     "execution_count": 61,
     "metadata": {},
     "output_type": "execute_result"
    }
   ],
   "source": [
    "df_raw.shape"
   ]
  },
  {
   "cell_type": "code",
   "execution_count": 62,
   "metadata": {},
   "outputs": [],
   "source": [
    "def display_all(df):\n",
    "    with pd.option_context('display.max_rows', 1000, 'display.max_columns', 1000):\n",
    "        display(df)"
   ]
  },
  {
   "cell_type": "code",
   "execution_count": 63,
   "metadata": {},
   "outputs": [
    {
     "data": {
      "text/html": [
       "<div>\n",
       "<style scoped>\n",
       "    .dataframe tbody tr th:only-of-type {\n",
       "        vertical-align: middle;\n",
       "    }\n",
       "\n",
       "    .dataframe tbody tr th {\n",
       "        vertical-align: top;\n",
       "    }\n",
       "\n",
       "    .dataframe thead th {\n",
       "        text-align: right;\n",
       "    }\n",
       "</style>\n",
       "<table border=\"1\" class=\"dataframe\">\n",
       "  <thead>\n",
       "    <tr style=\"text-align: right;\">\n",
       "      <th></th>\n",
       "      <th>date_block_num</th>\n",
       "      <th>shop_id</th>\n",
       "      <th>item_id</th>\n",
       "      <th>item_price</th>\n",
       "      <th>item_cnt_day</th>\n",
       "      <th>item_category_id</th>\n",
       "      <th>sale_day</th>\n",
       "      <th>sale_dayofweek</th>\n",
       "      <th>sale_dayofyear</th>\n",
       "      <th>sale_days_in_month</th>\n",
       "      <th>sale_is_month_end</th>\n",
       "      <th>sale_is_month_start</th>\n",
       "      <th>sale_is_quarter_end</th>\n",
       "      <th>sale_is_quarter_start</th>\n",
       "      <th>sale_is_year_end</th>\n",
       "      <th>sale_is_year_start</th>\n",
       "      <th>sale_month</th>\n",
       "      <th>sale_quarter</th>\n",
       "      <th>sale_week</th>\n",
       "      <th>sale_weekday</th>\n",
       "      <th>sale_weekofyear</th>\n",
       "      <th>sale_year</th>\n",
       "    </tr>\n",
       "  </thead>\n",
       "  <tbody>\n",
       "    <tr>\n",
       "      <th>0</th>\n",
       "      <td>0</td>\n",
       "      <td>59</td>\n",
       "      <td>22154</td>\n",
       "      <td>999.000000</td>\n",
       "      <td>1.000000</td>\n",
       "      <td>37</td>\n",
       "      <td>1</td>\n",
       "      <td>4</td>\n",
       "      <td>32</td>\n",
       "      <td>28</td>\n",
       "      <td>False</td>\n",
       "      <td>True</td>\n",
       "      <td>False</td>\n",
       "      <td>False</td>\n",
       "      <td>False</td>\n",
       "      <td>False</td>\n",
       "      <td>2</td>\n",
       "      <td>1</td>\n",
       "      <td>5</td>\n",
       "      <td>4</td>\n",
       "      <td>5</td>\n",
       "      <td>2013</td>\n",
       "    </tr>\n",
       "    <tr>\n",
       "      <th>1</th>\n",
       "      <td>4</td>\n",
       "      <td>59</td>\n",
       "      <td>2573</td>\n",
       "      <td>249.000000</td>\n",
       "      <td>1.000000</td>\n",
       "      <td>55</td>\n",
       "      <td>16</td>\n",
       "      <td>3</td>\n",
       "      <td>136</td>\n",
       "      <td>31</td>\n",
       "      <td>False</td>\n",
       "      <td>False</td>\n",
       "      <td>False</td>\n",
       "      <td>False</td>\n",
       "      <td>False</td>\n",
       "      <td>False</td>\n",
       "      <td>5</td>\n",
       "      <td>2</td>\n",
       "      <td>20</td>\n",
       "      <td>3</td>\n",
       "      <td>20</td>\n",
       "      <td>2013</td>\n",
       "    </tr>\n",
       "    <tr>\n",
       "      <th>2</th>\n",
       "      <td>0</td>\n",
       "      <td>59</td>\n",
       "      <td>2574</td>\n",
       "      <td>399.000000</td>\n",
       "      <td>1.000000</td>\n",
       "      <td>55</td>\n",
       "      <td>26</td>\n",
       "      <td>5</td>\n",
       "      <td>26</td>\n",
       "      <td>31</td>\n",
       "      <td>False</td>\n",
       "      <td>False</td>\n",
       "      <td>False</td>\n",
       "      <td>False</td>\n",
       "      <td>False</td>\n",
       "      <td>False</td>\n",
       "      <td>1</td>\n",
       "      <td>1</td>\n",
       "      <td>4</td>\n",
       "      <td>5</td>\n",
       "      <td>4</td>\n",
       "      <td>2013</td>\n",
       "    </tr>\n",
       "    <tr>\n",
       "      <th>3</th>\n",
       "      <td>0</td>\n",
       "      <td>59</td>\n",
       "      <td>2574</td>\n",
       "      <td>399.000000</td>\n",
       "      <td>1.000000</td>\n",
       "      <td>55</td>\n",
       "      <td>1</td>\n",
       "      <td>6</td>\n",
       "      <td>244</td>\n",
       "      <td>30</td>\n",
       "      <td>False</td>\n",
       "      <td>True</td>\n",
       "      <td>False</td>\n",
       "      <td>False</td>\n",
       "      <td>False</td>\n",
       "      <td>False</td>\n",
       "      <td>9</td>\n",
       "      <td>3</td>\n",
       "      <td>35</td>\n",
       "      <td>6</td>\n",
       "      <td>35</td>\n",
       "      <td>2013</td>\n",
       "    </tr>\n",
       "    <tr>\n",
       "      <th>4</th>\n",
       "      <td>1</td>\n",
       "      <td>59</td>\n",
       "      <td>2574</td>\n",
       "      <td>399.000000</td>\n",
       "      <td>1.000000</td>\n",
       "      <td>55</td>\n",
       "      <td>24</td>\n",
       "      <td>6</td>\n",
       "      <td>55</td>\n",
       "      <td>28</td>\n",
       "      <td>False</td>\n",
       "      <td>False</td>\n",
       "      <td>False</td>\n",
       "      <td>False</td>\n",
       "      <td>False</td>\n",
       "      <td>False</td>\n",
       "      <td>2</td>\n",
       "      <td>1</td>\n",
       "      <td>8</td>\n",
       "      <td>6</td>\n",
       "      <td>8</td>\n",
       "      <td>2013</td>\n",
       "    </tr>\n",
       "  </tbody>\n",
       "</table>\n",
       "</div>"
      ],
      "text/plain": [
       "   date_block_num  shop_id  item_id  item_price  item_cnt_day  \\\n",
       "0               0       59    22154  999.000000      1.000000   \n",
       "1               4       59     2573  249.000000      1.000000   \n",
       "2               0       59     2574  399.000000      1.000000   \n",
       "3               0       59     2574  399.000000      1.000000   \n",
       "4               1       59     2574  399.000000      1.000000   \n",
       "\n",
       "   item_category_id  sale_day  sale_dayofweek  sale_dayofyear  \\\n",
       "0                37         1               4              32   \n",
       "1                55        16               3             136   \n",
       "2                55        26               5              26   \n",
       "3                55         1               6             244   \n",
       "4                55        24               6              55   \n",
       "\n",
       "   sale_days_in_month  sale_is_month_end  sale_is_month_start  \\\n",
       "0                  28              False                 True   \n",
       "1                  31              False                False   \n",
       "2                  31              False                False   \n",
       "3                  30              False                 True   \n",
       "4                  28              False                False   \n",
       "\n",
       "   sale_is_quarter_end  sale_is_quarter_start  sale_is_year_end  \\\n",
       "0                False                  False             False   \n",
       "1                False                  False             False   \n",
       "2                False                  False             False   \n",
       "3                False                  False             False   \n",
       "4                False                  False             False   \n",
       "\n",
       "   sale_is_year_start  sale_month  sale_quarter  sale_week  sale_weekday  \\\n",
       "0               False           2             1          5             4   \n",
       "1               False           5             2         20             3   \n",
       "2               False           1             1          4             5   \n",
       "3               False           9             3         35             6   \n",
       "4               False           2             1          8             6   \n",
       "\n",
       "   sale_weekofyear  sale_year  \n",
       "0                5       2013  \n",
       "1               20       2013  \n",
       "2                4       2013  \n",
       "3               35       2013  \n",
       "4                8       2013  "
      ]
     },
     "metadata": {},
     "output_type": "display_data"
    }
   ],
   "source": [
    "display_all(df_raw.head())"
   ]
  },
  {
   "cell_type": "markdown",
   "metadata": {},
   "source": [
    "# Preprocessing"
   ]
  },
  {
   "cell_type": "markdown",
   "metadata": {},
   "source": [
    "Split the target variable from the rest of the dataset"
   ]
  },
  {
   "cell_type": "code",
   "execution_count": 21,
   "metadata": {},
   "outputs": [],
   "source": [
    "def change_df(df, y, subset=False):\n",
    "    if subset:\n",
    "        df = df.sample(subset).copy()\n",
    "    return df.drop(y, axis = 1), df[y]"
   ]
  },
  {
   "cell_type": "code",
   "execution_count": 22,
   "metadata": {},
   "outputs": [],
   "source": [
    "df, y = change_df(df_raw, 'item_cnt_day')"
   ]
  },
  {
   "cell_type": "code",
   "execution_count": 23,
   "metadata": {},
   "outputs": [],
   "source": [
    "def split_data(df, n):\n",
    "    return df[:n].copy(), df[n:].copy()"
   ]
  },
  {
   "cell_type": "code",
   "execution_count": 24,
   "metadata": {},
   "outputs": [],
   "source": [
    "# Take a test set of the same size of the test set on kaggle\n",
    "test_size = 214200\n",
    "n_size = len(df_raw) - test_size\n",
    "df_trn, df_valid  = split_data(df_raw, n_size)\n",
    "X_train, X_valid = split_data(df, n_size)\n",
    "y_train, y_valid = split_data(y, n_size)"
   ]
  },
  {
   "cell_type": "code",
   "execution_count": 25,
   "metadata": {},
   "outputs": [
    {
     "data": {
      "text/plain": [
       "((2721649, 21), (2721649,), (214200, 21))"
      ]
     },
     "execution_count": 25,
     "metadata": {},
     "output_type": "execute_result"
    }
   ],
   "source": [
    "X_train.shape, y_train.shape, X_valid.shape"
   ]
  },
  {
   "cell_type": "code",
   "execution_count": 26,
   "metadata": {},
   "outputs": [],
   "source": [
    "import math\n",
    "def rmse(x,y): return math.sqrt(((x-y)**2).mean())"
   ]
  },
  {
   "cell_type": "code",
   "execution_count": 27,
   "metadata": {},
   "outputs": [],
   "source": [
    "def print_score(m):\n",
    "    res = [rmse(m.predict(X_train), y_train) , rmse(m.predict(X_valid), y_valid),\n",
    "            m.score(X_train, y_train), m.score(X_valid, y_valid)]\n",
    "    print(res)"
   ]
  },
  {
   "cell_type": "code",
   "execution_count": 28,
   "metadata": {},
   "outputs": [
    {
     "name": "stdout",
     "output_type": "stream",
     "text": [
      "[0.8246529491637417, 7.808205504631873, 0.8937385846196146, -3.80940803383421]\n"
     ]
    }
   ],
   "source": [
    "m = RandomForestRegressor(n_jobs=-1)\n",
    "m.fit(X_train, y_train)\n",
    "print_score(m)"
   ]
  },
  {
   "cell_type": "markdown",
   "metadata": {},
   "source": [
    "## Base Model"
   ]
  },
  {
   "cell_type": "code",
   "execution_count": 29,
   "metadata": {},
   "outputs": [],
   "source": [
    "df_base, y_base = change_df(df_raw, 'item_cnt_day', subset=30000)"
   ]
  },
  {
   "cell_type": "code",
   "execution_count": 45,
   "metadata": {},
   "outputs": [],
   "source": [
    "X_trn_base, _ = split_data(df_base, 20000)\n",
    "y_trn_base, _ = split_data(y_base, 20000)"
   ]
  },
  {
   "cell_type": "code",
   "execution_count": 46,
   "metadata": {},
   "outputs": [
    {
     "name": "stdout",
     "output_type": "stream",
     "text": [
      "[2.503888735975627, 3.595632089588276, 0.020367428779278218, -0.019857865807203945]\n"
     ]
    }
   ],
   "source": [
    "m = RandomForestRegressor(n_estimators=1, max_depth=3, bootstrap=False, n_jobs=-1)\n",
    "m.fit(X_trn_base, y_trn_base)\n",
    "print_score(m)"
   ]
  },
  {
   "cell_type": "code",
   "execution_count": 47,
   "metadata": {},
   "outputs": [],
   "source": [
    "import IPython\n",
    "from sklearn.tree import export_graphviz\n",
    "from IPython.display import display\n",
    "import graphviz\n",
    "import re\n",
    "\n",
    "def draw_tree(t, df,  size=10, ratio=0.6, precision=0):\n",
    "    s=export_graphviz(t, out_file=None, feature_names=df.columns, filled=True, rotate=True, precision=precision)\n",
    "    IPython.display.display(graphviz.Source(re.sub('Tree {', f'Tree {{ size={size}; ratio={ratio}', s)))"
   ]
  },
  {
   "cell_type": "code",
   "execution_count": 48,
   "metadata": {},
   "outputs": [
    {
     "data": {
      "image/svg+xml": [
       "<?xml version=\"1.0\" encoding=\"UTF-8\" standalone=\"no\"?>\r\n",
       "<!DOCTYPE svg PUBLIC \"-//W3C//DTD SVG 1.1//EN\"\r\n",
       " \"http://www.w3.org/Graphics/SVG/1.1/DTD/svg11.dtd\">\r\n",
       "<!-- Generated by graphviz version 2.38.0 (20140413.2041)\r\n",
       " -->\r\n",
       "<!-- Title: Tree Pages: 1 -->\r\n",
       "<svg width=\"716pt\" height=\"433pt\"\r\n",
       " viewBox=\"0.00 0.00 716.33 433.00\" xmlns=\"http://www.w3.org/2000/svg\" xmlns:xlink=\"http://www.w3.org/1999/xlink\">\r\n",
       "<g id=\"graph0\" class=\"graph\" transform=\"scale(1 1) rotate(0) translate(4 429)\">\r\n",
       "<title>Tree</title>\r\n",
       "<polygon fill=\"white\" stroke=\"none\" points=\"-4,4 -4,-429 712.333,-429 712.333,4 -4,4\"/>\r\n",
       "<!-- 0 -->\r\n",
       "<g id=\"node1\" class=\"node\"><title>0</title>\r\n",
       "<polygon fill=\"#e58139\" fill-opacity=\"0.003922\" stroke=\"black\" points=\"120.333,-254.5 4.33333,-254.5 4.33333,-186.5 120.333,-186.5 120.333,-254.5\"/>\r\n",
       "<text text-anchor=\"middle\" x=\"62.3333\" y=\"-239.3\" font-family=\"Times New Roman,serif\" font-size=\"14.00\">item_price &lt;= 9.0</text>\r\n",
       "<text text-anchor=\"middle\" x=\"62.3333\" y=\"-224.3\" font-family=\"Times New Roman,serif\" font-size=\"14.00\">mse = 10.0</text>\r\n",
       "<text text-anchor=\"middle\" x=\"62.3333\" y=\"-209.3\" font-family=\"Times New Roman,serif\" font-size=\"14.00\">samples = 20000</text>\r\n",
       "<text text-anchor=\"middle\" x=\"62.3333\" y=\"-194.3\" font-family=\"Times New Roman,serif\" font-size=\"14.00\">value = 1.0</text>\r\n",
       "</g>\r\n",
       "<!-- 1 -->\r\n",
       "<g id=\"node2\" class=\"node\"><title>1</title>\r\n",
       "<polygon fill=\"#e58139\" fill-opacity=\"0.133333\" stroke=\"black\" points=\"327.833,-297.5 172.833,-297.5 172.833,-229.5 327.833,-229.5 327.833,-297.5\"/>\r\n",
       "<text text-anchor=\"middle\" x=\"250.333\" y=\"-282.3\" font-family=\"Times New Roman,serif\" font-size=\"14.00\">sale_dayofyear &lt;= 364.0</text>\r\n",
       "<text text-anchor=\"middle\" x=\"250.333\" y=\"-267.3\" font-family=\"Times New Roman,serif\" font-size=\"14.00\">mse = 42.0</text>\r\n",
       "<text text-anchor=\"middle\" x=\"250.333\" y=\"-252.3\" font-family=\"Times New Roman,serif\" font-size=\"14.00\">samples = 242</text>\r\n",
       "<text text-anchor=\"middle\" x=\"250.333\" y=\"-237.3\" font-family=\"Times New Roman,serif\" font-size=\"14.00\">value = 5.0</text>\r\n",
       "</g>\r\n",
       "<!-- 0&#45;&gt;1 -->\r\n",
       "<g id=\"edge1\" class=\"edge\"><title>0&#45;&gt;1</title>\r\n",
       "<path fill=\"none\" stroke=\"black\" d=\"M120.404,-233.694C133.765,-236.783 148.297,-240.142 162.628,-243.455\"/>\r\n",
       "<polygon fill=\"black\" stroke=\"black\" points=\"161.969,-246.895 172.5,-245.737 163.545,-240.075 161.969,-246.895\"/>\r\n",
       "<text text-anchor=\"middle\" x=\"151.295\" y=\"-255.279\" font-family=\"Times New Roman,serif\" font-size=\"14.00\">True</text>\r\n",
       "</g>\r\n",
       "<!-- 6 -->\r\n",
       "<g id=\"node7\" class=\"node\"><title>6</title>\r\n",
       "<polygon fill=\"#e58139\" fill-opacity=\"0.003922\" stroke=\"black\" points=\"330.833,-211.5 169.833,-211.5 169.833,-143.5 330.833,-143.5 330.833,-211.5\"/>\r\n",
       "<text text-anchor=\"middle\" x=\"250.333\" y=\"-196.3\" font-family=\"Times New Roman,serif\" font-size=\"14.00\">item_category_id &lt;= 36.0</text>\r\n",
       "<text text-anchor=\"middle\" x=\"250.333\" y=\"-181.3\" font-family=\"Times New Roman,serif\" font-size=\"14.00\">mse = 10.0</text>\r\n",
       "<text text-anchor=\"middle\" x=\"250.333\" y=\"-166.3\" font-family=\"Times New Roman,serif\" font-size=\"14.00\">samples = 19758</text>\r\n",
       "<text text-anchor=\"middle\" x=\"250.333\" y=\"-151.3\" font-family=\"Times New Roman,serif\" font-size=\"14.00\">value = 1.0</text>\r\n",
       "</g>\r\n",
       "<!-- 0&#45;&gt;6 -->\r\n",
       "<g id=\"edge6\" class=\"edge\"><title>0&#45;&gt;6</title>\r\n",
       "<path fill=\"none\" stroke=\"black\" d=\"M120.404,-207.306C132.949,-204.406 146.526,-201.267 160,-198.152\"/>\r\n",
       "<polygon fill=\"black\" stroke=\"black\" points=\"160.822,-201.555 169.777,-195.892 159.246,-194.734 160.822,-201.555\"/>\r\n",
       "<text text-anchor=\"middle\" x=\"148.572\" y=\"-178.95\" font-family=\"Times New Roman,serif\" font-size=\"14.00\">False</text>\r\n",
       "</g>\r\n",
       "<!-- 2 -->\r\n",
       "<g id=\"node3\" class=\"node\"><title>2</title>\r\n",
       "<polygon fill=\"#e58139\" fill-opacity=\"0.133333\" stroke=\"black\" points=\"537.833,-374.5 388.833,-374.5 388.833,-306.5 537.833,-306.5 537.833,-374.5\"/>\r\n",
       "<text text-anchor=\"middle\" x=\"463.333\" y=\"-359.3\" font-family=\"Times New Roman,serif\" font-size=\"14.00\">sale_dayofyear &lt;= 26.0</text>\r\n",
       "<text text-anchor=\"middle\" x=\"463.333\" y=\"-344.3\" font-family=\"Times New Roman,serif\" font-size=\"14.00\">mse = 39.0</text>\r\n",
       "<text text-anchor=\"middle\" x=\"463.333\" y=\"-329.3\" font-family=\"Times New Roman,serif\" font-size=\"14.00\">samples = 241</text>\r\n",
       "<text text-anchor=\"middle\" x=\"463.333\" y=\"-314.3\" font-family=\"Times New Roman,serif\" font-size=\"14.00\">value = 5.0</text>\r\n",
       "</g>\r\n",
       "<!-- 1&#45;&gt;2 -->\r\n",
       "<g id=\"edge2\" class=\"edge\"><title>1&#45;&gt;2</title>\r\n",
       "<path fill=\"none\" stroke=\"black\" d=\"M328.106,-291.517C344.654,-297.555 362.223,-303.967 379.007,-310.092\"/>\r\n",
       "<polygon fill=\"black\" stroke=\"black\" points=\"378.192,-313.52 388.786,-313.66 380.592,-306.944 378.192,-313.52\"/>\r\n",
       "</g>\r\n",
       "<!-- 5 -->\r\n",
       "<g id=\"node6\" class=\"node\"><title>5</title>\r\n",
       "<polygon fill=\"#e58139\" stroke=\"black\" points=\"505.833,-288 420.833,-288 420.833,-235 505.833,-235 505.833,-288\"/>\r\n",
       "<text text-anchor=\"middle\" x=\"463.333\" y=\"-272.8\" font-family=\"Times New Roman,serif\" font-size=\"14.00\">mse = 0.0</text>\r\n",
       "<text text-anchor=\"middle\" x=\"463.333\" y=\"-257.8\" font-family=\"Times New Roman,serif\" font-size=\"14.00\">samples = 1</text>\r\n",
       "<text text-anchor=\"middle\" x=\"463.333\" y=\"-242.8\" font-family=\"Times New Roman,serif\" font-size=\"14.00\">value = 30.0</text>\r\n",
       "</g>\r\n",
       "<!-- 1&#45;&gt;5 -->\r\n",
       "<g id=\"edge5\" class=\"edge\"><title>1&#45;&gt;5</title>\r\n",
       "<path fill=\"none\" stroke=\"black\" d=\"M328.106,-262.772C355.428,-262.513 385.533,-262.228 410.297,-261.993\"/>\r\n",
       "<polygon fill=\"black\" stroke=\"black\" points=\"410.593,-265.491 420.559,-261.896 410.526,-258.491 410.593,-265.491\"/>\r\n",
       "</g>\r\n",
       "<!-- 3 -->\r\n",
       "<g id=\"node4\" class=\"node\"><title>3</title>\r\n",
       "<polygon fill=\"#e58139\" fill-opacity=\"0.345098\" stroke=\"black\" points=\"691.333,-425 605.333,-425 605.333,-372 691.333,-372 691.333,-425\"/>\r\n",
       "<text text-anchor=\"middle\" x=\"648.333\" y=\"-409.8\" font-family=\"Times New Roman,serif\" font-size=\"14.00\">mse = 147.0</text>\r\n",
       "<text text-anchor=\"middle\" x=\"648.333\" y=\"-394.8\" font-family=\"Times New Roman,serif\" font-size=\"14.00\">samples = 9</text>\r\n",
       "<text text-anchor=\"middle\" x=\"648.333\" y=\"-379.8\" font-family=\"Times New Roman,serif\" font-size=\"14.00\">value = 11.0</text>\r\n",
       "</g>\r\n",
       "<!-- 2&#45;&gt;3 -->\r\n",
       "<g id=\"edge3\" class=\"edge\"><title>2&#45;&gt;3</title>\r\n",
       "<path fill=\"none\" stroke=\"black\" d=\"M537.975,-363.84C557.249,-369.949 577.623,-376.406 595.494,-382.07\"/>\r\n",
       "<polygon fill=\"black\" stroke=\"black\" points=\"594.552,-385.443 605.142,-385.128 596.667,-378.77 594.552,-385.443\"/>\r\n",
       "</g>\r\n",
       "<!-- 4 -->\r\n",
       "<g id=\"node5\" class=\"node\"><title>4</title>\r\n",
       "<polygon fill=\"#e58139\" fill-opacity=\"0.121569\" stroke=\"black\" points=\"697.333,-354 599.333,-354 599.333,-301 697.333,-301 697.333,-354\"/>\r\n",
       "<text text-anchor=\"middle\" x=\"648.333\" y=\"-338.8\" font-family=\"Times New Roman,serif\" font-size=\"14.00\">mse = 34.0</text>\r\n",
       "<text text-anchor=\"middle\" x=\"648.333\" y=\"-323.8\" font-family=\"Times New Roman,serif\" font-size=\"14.00\">samples = 232</text>\r\n",
       "<text text-anchor=\"middle\" x=\"648.333\" y=\"-308.8\" font-family=\"Times New Roman,serif\" font-size=\"14.00\">value = 5.0</text>\r\n",
       "</g>\r\n",
       "<!-- 2&#45;&gt;4 -->\r\n",
       "<g id=\"edge4\" class=\"edge\"><title>2&#45;&gt;4</title>\r\n",
       "<path fill=\"none\" stroke=\"black\" d=\"M537.975,-335.269C554.922,-334.065 572.718,-332.801 588.916,-331.65\"/>\r\n",
       "<polygon fill=\"black\" stroke=\"black\" points=\"589.578,-335.112 599.305,-330.912 589.082,-328.129 589.578,-335.112\"/>\r\n",
       "</g>\r\n",
       "<!-- 7 -->\r\n",
       "<g id=\"node8\" class=\"node\"><title>7</title>\r\n",
       "<polygon fill=\"#e58139\" fill-opacity=\"0.007843\" stroke=\"black\" points=\"526.333,-213.5 400.333,-213.5 400.333,-145.5 526.333,-145.5 526.333,-213.5\"/>\r\n",
       "<text text-anchor=\"middle\" x=\"463.333\" y=\"-198.3\" font-family=\"Times New Roman,serif\" font-size=\"14.00\">item_id &lt;= 19443.0</text>\r\n",
       "<text text-anchor=\"middle\" x=\"463.333\" y=\"-183.3\" font-family=\"Times New Roman,serif\" font-size=\"14.00\">mse = 24.0</text>\r\n",
       "<text text-anchor=\"middle\" x=\"463.333\" y=\"-168.3\" font-family=\"Times New Roman,serif\" font-size=\"14.00\">samples = 7967</text>\r\n",
       "<text text-anchor=\"middle\" x=\"463.333\" y=\"-153.3\" font-family=\"Times New Roman,serif\" font-size=\"14.00\">value = 1.0</text>\r\n",
       "</g>\r\n",
       "<!-- 6&#45;&gt;7 -->\r\n",
       "<g id=\"edge7\" class=\"edge\"><title>6&#45;&gt;7</title>\r\n",
       "<path fill=\"none\" stroke=\"black\" d=\"M331.103,-178.256C350.492,-178.44 371.116,-178.635 390.132,-178.816\"/>\r\n",
       "<polygon fill=\"black\" stroke=\"black\" points=\"390.179,-182.316 400.212,-178.911 390.246,-175.316 390.179,-182.316\"/>\r\n",
       "</g>\r\n",
       "<!-- 10 -->\r\n",
       "<g id=\"node11\" class=\"node\"><title>10</title>\r\n",
       "<polygon fill=\"none\" stroke=\"black\" points=\"543.833,-127.5 382.833,-127.5 382.833,-59.5 543.833,-59.5 543.833,-127.5\"/>\r\n",
       "<text text-anchor=\"middle\" x=\"463.333\" y=\"-112.3\" font-family=\"Times New Roman,serif\" font-size=\"14.00\">item_category_id &lt;= 78.0</text>\r\n",
       "<text text-anchor=\"middle\" x=\"463.333\" y=\"-97.3\" font-family=\"Times New Roman,serif\" font-size=\"14.00\">mse = 0.0</text>\r\n",
       "<text text-anchor=\"middle\" x=\"463.333\" y=\"-82.3\" font-family=\"Times New Roman,serif\" font-size=\"14.00\">samples = 11791</text>\r\n",
       "<text text-anchor=\"middle\" x=\"463.333\" y=\"-67.3\" font-family=\"Times New Roman,serif\" font-size=\"14.00\">value = 1.0</text>\r\n",
       "</g>\r\n",
       "<!-- 6&#45;&gt;10 -->\r\n",
       "<g id=\"edge10\" class=\"edge\"><title>6&#45;&gt;10</title>\r\n",
       "<path fill=\"none\" stroke=\"black\" d=\"M331.103,-145.743C344.852,-140.27 359.222,-134.549 373.199,-128.985\"/>\r\n",
       "<polygon fill=\"black\" stroke=\"black\" points=\"374.804,-132.113 382.801,-125.162 372.215,-125.609 374.804,-132.113\"/>\r\n",
       "</g>\r\n",
       "<!-- 8 -->\r\n",
       "<g id=\"node9\" class=\"node\"><title>8</title>\r\n",
       "<polygon fill=\"#e58139\" fill-opacity=\"0.007843\" stroke=\"black\" points=\"700.333,-270 596.333,-270 596.333,-217 700.333,-217 700.333,-270\"/>\r\n",
       "<text text-anchor=\"middle\" x=\"648.333\" y=\"-254.8\" font-family=\"Times New Roman,serif\" font-size=\"14.00\">mse = 3.0</text>\r\n",
       "<text text-anchor=\"middle\" x=\"648.333\" y=\"-239.8\" font-family=\"Times New Roman,serif\" font-size=\"14.00\">samples = 7890</text>\r\n",
       "<text text-anchor=\"middle\" x=\"648.333\" y=\"-224.8\" font-family=\"Times New Roman,serif\" font-size=\"14.00\">value = 1.0</text>\r\n",
       "</g>\r\n",
       "<!-- 7&#45;&gt;8 -->\r\n",
       "<g id=\"edge8\" class=\"edge\"><title>7&#45;&gt;8</title>\r\n",
       "<path fill=\"none\" stroke=\"black\" d=\"M526.544,-201.257C545.957,-208.046 567.335,-215.523 586.642,-222.275\"/>\r\n",
       "<polygon fill=\"black\" stroke=\"black\" points=\"585.636,-225.631 596.231,-225.628 587.947,-219.023 585.636,-225.631\"/>\r\n",
       "</g>\r\n",
       "<!-- 9 -->\r\n",
       "<g id=\"node10\" class=\"node\"><title>9</title>\r\n",
       "<polygon fill=\"#e58139\" fill-opacity=\"0.188235\" stroke=\"black\" points=\"694.333,-199 602.333,-199 602.333,-146 694.333,-146 694.333,-199\"/>\r\n",
       "<text text-anchor=\"middle\" x=\"648.333\" y=\"-183.8\" font-family=\"Times New Roman,serif\" font-size=\"14.00\">mse = 2163.0</text>\r\n",
       "<text text-anchor=\"middle\" x=\"648.333\" y=\"-168.8\" font-family=\"Times New Roman,serif\" font-size=\"14.00\">samples = 77</text>\r\n",
       "<text text-anchor=\"middle\" x=\"648.333\" y=\"-153.8\" font-family=\"Times New Roman,serif\" font-size=\"14.00\">value = 7.0</text>\r\n",
       "</g>\r\n",
       "<!-- 7&#45;&gt;9 -->\r\n",
       "<g id=\"edge9\" class=\"edge\"><title>7&#45;&gt;9</title>\r\n",
       "<path fill=\"none\" stroke=\"black\" d=\"M526.544,-177.12C547.729,-176.31 571.256,-175.41 591.877,-174.621\"/>\r\n",
       "<polygon fill=\"black\" stroke=\"black\" points=\"592.195,-178.112 602.054,-174.232 591.927,-171.117 592.195,-178.112\"/>\r\n",
       "</g>\r\n",
       "<!-- 11 -->\r\n",
       "<g id=\"node12\" class=\"node\"><title>11</title>\r\n",
       "<polygon fill=\"none\" stroke=\"black\" points=\"703.833,-124 592.833,-124 592.833,-71 703.833,-71 703.833,-124\"/>\r\n",
       "<text text-anchor=\"middle\" x=\"648.333\" y=\"-108.8\" font-family=\"Times New Roman,serif\" font-size=\"14.00\">mse = 0.0</text>\r\n",
       "<text text-anchor=\"middle\" x=\"648.333\" y=\"-93.8\" font-family=\"Times New Roman,serif\" font-size=\"14.00\">samples = 11644</text>\r\n",
       "<text text-anchor=\"middle\" x=\"648.333\" y=\"-78.8\" font-family=\"Times New Roman,serif\" font-size=\"14.00\">value = 1.0</text>\r\n",
       "</g>\r\n",
       "<!-- 10&#45;&gt;11 -->\r\n",
       "<g id=\"edge11\" class=\"edge\"><title>10&#45;&gt;11</title>\r\n",
       "<path fill=\"none\" stroke=\"black\" d=\"M544.067,-95.2428C556.86,-95.5224 569.964,-95.8089 582.357,-96.0798\"/>\r\n",
       "<polygon fill=\"black\" stroke=\"black\" points=\"582.504,-99.5837 592.578,-96.3032 582.657,-92.5854 582.504,-99.5837\"/>\r\n",
       "</g>\r\n",
       "<!-- 12 -->\r\n",
       "<g id=\"node13\" class=\"node\"><title>12</title>\r\n",
       "<polygon fill=\"#e58139\" fill-opacity=\"0.027451\" stroke=\"black\" points=\"697.333,-53 599.333,-53 599.333,-0 697.333,-0 697.333,-53\"/>\r\n",
       "<text text-anchor=\"middle\" x=\"648.333\" y=\"-37.8\" font-family=\"Times New Roman,serif\" font-size=\"14.00\">mse = 3.0</text>\r\n",
       "<text text-anchor=\"middle\" x=\"648.333\" y=\"-22.8\" font-family=\"Times New Roman,serif\" font-size=\"14.00\">samples = 147</text>\r\n",
       "<text text-anchor=\"middle\" x=\"648.333\" y=\"-7.8\" font-family=\"Times New Roman,serif\" font-size=\"14.00\">value = 2.0</text>\r\n",
       "</g>\r\n",
       "<!-- 10&#45;&gt;12 -->\r\n",
       "<g id=\"edge12\" class=\"edge\"><title>10&#45;&gt;12</title>\r\n",
       "<path fill=\"none\" stroke=\"black\" d=\"M544.067,-64.3077C559.328,-58.7206 575.032,-52.9709 589.444,-47.6943\"/>\r\n",
       "<polygon fill=\"black\" stroke=\"black\" points=\"591.007,-50.8494 599.194,-44.1247 588.601,-44.2761 591.007,-50.8494\"/>\r\n",
       "</g>\r\n",
       "</g>\r\n",
       "</svg>\r\n"
      ],
      "text/plain": [
       "<graphviz.files.Source at 0x5769f8d0>"
      ]
     },
     "metadata": {},
     "output_type": "display_data"
    }
   ],
   "source": [
    "draw_tree(m.estimators_[0] , df_base)"
   ]
  },
  {
   "cell_type": "code",
   "execution_count": null,
   "metadata": {},
   "outputs": [],
   "source": []
  }
 ],
 "metadata": {
  "kernelspec": {
   "display_name": "Python 3",
   "language": "python",
   "name": "python3"
  },
  "language_info": {
   "codemirror_mode": {
    "name": "ipython",
    "version": 3
   },
   "file_extension": ".py",
   "mimetype": "text/x-python",
   "name": "python",
   "nbconvert_exporter": "python",
   "pygments_lexer": "ipython3",
   "version": "3.6.5"
  }
 },
 "nbformat": 4,
 "nbformat_minor": 2
}
