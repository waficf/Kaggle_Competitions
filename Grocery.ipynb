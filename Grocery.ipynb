{
 "cells": [
  {
   "cell_type": "markdown",
   "metadata": {},
   "source": [
    "# Imports"
   ]
  },
  {
   "cell_type": "code",
   "execution_count": 1,
   "metadata": {},
   "outputs": [],
   "source": [
    "%load_ext autoreload\n",
    "%autoreload 2\n",
    "\n",
    "%matplotlib inline"
   ]
  },
  {
   "cell_type": "code",
   "execution_count": 18,
   "metadata": {},
   "outputs": [],
   "source": [
    "import pandas as pd\n",
    "import numpy as np\n",
    "import matplotlib.pyplot as plt\n",
    "import seaborn as sns\n",
    "\n",
    "from itertools import product"
   ]
  },
  {
   "cell_type": "code",
   "execution_count": 225,
   "metadata": {},
   "outputs": [],
   "source": [
    "# train = pd.read_csv('Data/Grocery/sales_train.csv.gz')\n",
    "# shops = pd.read_csv('Data/Grocery/shops.csv')\n",
    "# items = pd.read_csv('Data/Grocery/items.csv')\n",
    "# test = pd.read_csv('Data/Grocery/test.csv.gz')\n",
    "items_cats = pd.read_csv('Data/Grocery/item_categories.csv')\n",
    "# sub = pd.read_csv('Data/Grocery/sample_submission.csv.gz')"
   ]
  },
  {
   "cell_type": "code",
   "execution_count": 35,
   "metadata": {},
   "outputs": [],
   "source": [
    "trn = train.copy()"
   ]
  },
  {
   "cell_type": "code",
   "execution_count": 36,
   "metadata": {},
   "outputs": [
    {
     "data": {
      "text/plain": [
       "(2935849, 6)"
      ]
     },
     "execution_count": 36,
     "metadata": {},
     "output_type": "execute_result"
    }
   ],
   "source": [
    "trn.shape"
   ]
  },
  {
   "cell_type": "code",
   "execution_count": 37,
   "metadata": {},
   "outputs": [
    {
     "data": {
      "text/plain": [
       "date               object\n",
       "date_block_num      int64\n",
       "shop_id             int64\n",
       "item_id             int64\n",
       "item_price        float64\n",
       "item_cnt_day      float64\n",
       "dtype: object"
      ]
     },
     "execution_count": 37,
     "metadata": {},
     "output_type": "execute_result"
    }
   ],
   "source": [
    "trn.dtypes"
   ]
  },
  {
   "cell_type": "code",
   "execution_count": 38,
   "metadata": {},
   "outputs": [
    {
     "data": {
      "text/html": [
       "<div>\n",
       "<style scoped>\n",
       "    .dataframe tbody tr th:only-of-type {\n",
       "        vertical-align: middle;\n",
       "    }\n",
       "\n",
       "    .dataframe tbody tr th {\n",
       "        vertical-align: top;\n",
       "    }\n",
       "\n",
       "    .dataframe thead th {\n",
       "        text-align: right;\n",
       "    }\n",
       "</style>\n",
       "<table border=\"1\" class=\"dataframe\">\n",
       "  <thead>\n",
       "    <tr style=\"text-align: right;\">\n",
       "      <th></th>\n",
       "      <th>date</th>\n",
       "      <th>date_block_num</th>\n",
       "      <th>shop_id</th>\n",
       "      <th>item_id</th>\n",
       "      <th>item_price</th>\n",
       "      <th>item_cnt_day</th>\n",
       "    </tr>\n",
       "  </thead>\n",
       "  <tbody>\n",
       "    <tr>\n",
       "      <th>0</th>\n",
       "      <td>02.01.2013</td>\n",
       "      <td>0</td>\n",
       "      <td>59</td>\n",
       "      <td>22154</td>\n",
       "      <td>999.00</td>\n",
       "      <td>1.0</td>\n",
       "    </tr>\n",
       "    <tr>\n",
       "      <th>1</th>\n",
       "      <td>03.01.2013</td>\n",
       "      <td>0</td>\n",
       "      <td>25</td>\n",
       "      <td>2552</td>\n",
       "      <td>899.00</td>\n",
       "      <td>1.0</td>\n",
       "    </tr>\n",
       "    <tr>\n",
       "      <th>2</th>\n",
       "      <td>05.01.2013</td>\n",
       "      <td>0</td>\n",
       "      <td>25</td>\n",
       "      <td>2552</td>\n",
       "      <td>899.00</td>\n",
       "      <td>-1.0</td>\n",
       "    </tr>\n",
       "    <tr>\n",
       "      <th>3</th>\n",
       "      <td>06.01.2013</td>\n",
       "      <td>0</td>\n",
       "      <td>25</td>\n",
       "      <td>2554</td>\n",
       "      <td>1709.05</td>\n",
       "      <td>1.0</td>\n",
       "    </tr>\n",
       "    <tr>\n",
       "      <th>4</th>\n",
       "      <td>15.01.2013</td>\n",
       "      <td>0</td>\n",
       "      <td>25</td>\n",
       "      <td>2555</td>\n",
       "      <td>1099.00</td>\n",
       "      <td>1.0</td>\n",
       "    </tr>\n",
       "  </tbody>\n",
       "</table>\n",
       "</div>"
      ],
      "text/plain": [
       "         date  date_block_num  shop_id  item_id  item_price  item_cnt_day\n",
       "0  02.01.2013               0       59    22154      999.00           1.0\n",
       "1  03.01.2013               0       25     2552      899.00           1.0\n",
       "2  05.01.2013               0       25     2552      899.00          -1.0\n",
       "3  06.01.2013               0       25     2554     1709.05           1.0\n",
       "4  15.01.2013               0       25     2555     1099.00           1.0"
      ]
     },
     "execution_count": 38,
     "metadata": {},
     "output_type": "execute_result"
    }
   ],
   "source": [
    "trn.head()"
   ]
  },
  {
   "cell_type": "markdown",
   "metadata": {},
   "source": [
    "### Outliers"
   ]
  },
  {
   "cell_type": "code",
   "execution_count": 39,
   "metadata": {},
   "outputs": [
    {
     "data": {
      "text/plain": [
       "<matplotlib.axes._subplots.AxesSubplot at 0x1bfa1978>"
      ]
     },
     "execution_count": 39,
     "metadata": {},
     "output_type": "execute_result"
    },
    {
     "data": {
      "image/png": "[encoded data removed]",
      "text/plain": [
       "<Figure size 720x288 with 1 Axes>"
      ]
     },
     "metadata": {},
     "output_type": "display_data"
    }
   ],
   "source": [
    "plt.figure(figsize=(10,4))\n",
    "sns.boxplot(trn.item_cnt_day)"
   ]
  },
  {
   "cell_type": "code",
   "execution_count": 28,
   "metadata": {},
   "outputs": [
    {
     "data": {
      "text/plain": [
       "<matplotlib.axes._subplots.AxesSubplot at 0x143010f0>"
      ]
     },
     "execution_count": 28,
     "metadata": {},
     "output_type": "execute_result"
    },
    {
     "data": {
      "image/png": "[encoded data removed]",
      "text/plain": [
       "<Figure size 720x288 with 1 Axes>"
      ]
     },
     "metadata": {},
     "output_type": "display_data"
    }
   ],
   "source": [
    "plt.figure(figsize=(10,4))\n",
    "sns.boxplot(trn.item_price)"
   ]
  },
  {
   "cell_type": "code",
   "execution_count": 41,
   "metadata": {},
   "outputs": [],
   "source": [
    "# Drop the items prices above 100,000 and number sold per day more than 1,000\n",
    "trn.drop(index = [2909818, 1163158], inplace=True)"
   ]
  },
  {
   "cell_type": "markdown",
   "metadata": {},
   "source": [
    "### Extract feautres from shop names and item categories"
   ]
  },
  {
   "cell_type": "markdown",
   "metadata": {},
   "source": [
    "- Each shop_name starts with the city name.\n",
    "- Each category contains type and subtype in its name."
   ]
  },
  {
   "cell_type": "code",
   "execution_count": 127,
   "metadata": {},
   "outputs": [],
   "source": [
    "city = shops.shop_name.str.lower().str.split().str[0]\n",
    "shops['city'] = shops.shop_id.map(city)\n",
    "\n",
    "shops['city_code'] = shops.city.factorize()[0]"
   ]
  },
  {
   "cell_type": "code",
   "execution_count": 129,
   "metadata": {},
   "outputs": [
    {
     "data": {
      "text/plain": [
       "москва              13\n",
       "ростовнадону         3\n",
       "тюмень               3\n",
       "воронеж              3\n",
       "уфа                  2\n",
       "н.новгород           2\n",
       "красноярск           2\n",
       "новосибирск          2\n",
       "казань               2\n",
       "жуковский            2\n",
       "!якутск              2\n",
       "якутск               2\n",
       "самара               2\n",
       "спб                  2\n",
       "чехов                1\n",
       "калуга               1\n",
       "волжский             1\n",
       "коломна              1\n",
       "вологда              1\n",
       "балашиха             1\n",
       "мытищи               1\n",
       "сургут               1\n",
       "курск                1\n",
       "выездная             1\n",
       "омск                 1\n",
       "цифровой             1\n",
       "сергиев              1\n",
       "ярославль            1\n",
       "томск                1\n",
       "адыгея               1\n",
       "химки                1\n",
       "интернет-магазин     1\n",
       "Name: city, dtype: int64"
      ]
     },
     "execution_count": 129,
     "metadata": {},
     "output_type": "execute_result"
    }
   ],
   "source": [
    "shops.city.value_counts()"
   ]
  },
  {
   "cell_type": "markdown",
   "metadata": {},
   "source": [
    "Not my discovery but I noticed that these cities are the same (!якутск, якутск), I will rename them"
   ]
  },
  {
   "cell_type": "code",
   "execution_count": 130,
   "metadata": {},
   "outputs": [],
   "source": [
    "# Renumbering the city code 0 with 30 as these are the same cities\n",
    "shops.loc[shops.city_code == 0, 'city_code'] = 30"
   ]
  },
  {
   "cell_type": "code",
   "execution_count": 227,
   "metadata": {},
   "outputs": [],
   "source": [
    "cat_type = items_cats.item_category_name.str.lower().str.split().str[0]\n",
    "items_cats['type'] = items_cats.item_category_id.map(cat_type)\n",
    "\n",
    "items_cats['type_code'] = items_cats['type'].factorize()[0]"
   ]
  },
  {
   "cell_type": "code",
   "execution_count": 231,
   "metadata": {},
   "outputs": [],
   "source": [
    "sub_type = items_cats.item_category_name.str.lower().str.split('-').str[1]\n",
    "items_cats['sub_type'] = items_cats.item_category_id.map(sub_type)\n",
    "\n",
    "items_cats.sub_type.fillna('type', inplace=True)\n",
    "items_cats['subtype_code'] = items_cats['sub_type'].factorize()[0]"
   ]
  },
  {
   "cell_type": "code",
   "execution_count": 235,
   "metadata": {},
   "outputs": [],
   "source": [
    "shops = shops[['shop_id','city_code']]\n",
    "items_cats = items_cats[['item_category_id','type_code', 'subtype_code']]\n",
    "items.drop(['item_name'], axis=1, inplace=True)"
   ]
  },
  {
   "cell_type": "markdown",
   "metadata": {},
   "source": [
    "### Monthly Sales"
   ]
  },
  {
   "cell_type": "code",
   "execution_count": null,
   "metadata": {},
   "outputs": [],
   "source": []
  },
  {
   "cell_type": "code",
   "execution_count": null,
   "metadata": {},
   "outputs": [],
   "source": []
  },
  {
   "cell_type": "code",
   "execution_count": null,
   "metadata": {},
   "outputs": [],
   "source": []
  },
  {
   "cell_type": "code",
   "execution_count": null,
   "metadata": {},
   "outputs": [],
   "source": []
  },
  {
   "cell_type": "code",
   "execution_count": null,
   "metadata": {},
   "outputs": [],
   "source": []
  },
  {
   "cell_type": "code",
   "execution_count": null,
   "metadata": {},
   "outputs": [],
   "source": []
  },
  {
   "cell_type": "code",
   "execution_count": null,
   "metadata": {},
   "outputs": [],
   "source": []
  },
  {
   "cell_type": "code",
   "execution_count": null,
   "metadata": {},
   "outputs": [],
   "source": []
  },
  {
   "cell_type": "markdown",
   "metadata": {},
   "source": [
    "# Preprocessing data"
   ]
  },
  {
   "cell_type": "markdown",
   "metadata": {},
   "source": [
    "Since the competition task is to make a monthly prediction, we need to aggregate the data to montly level"
   ]
  },
  {
   "cell_type": "markdown",
   "metadata": {},
   "source": [
    "### Grouping data by month"
   ]
  },
  {
   "cell_type": "code",
   "execution_count": 8,
   "metadata": {},
   "outputs": [],
   "source": [
    "# extract all unique item ids every month in a list\n",
    "grid = []\n",
    "for month in trn.date_block_num.unique():\n",
    "    item_list = trn[trn.date_block_num == month].item_id.unique()\n",
    "    shop_list = trn[trn.date_block_num == month].shop_id.unique()\n",
    "    grid.append(np.array(list(product(*[[month], shop_list, item_list])))) # Use product to get month, shop, item cartesian combination"
   ]
  },
  {
   "cell_type": "code",
   "execution_count": 9,
   "metadata": {},
   "outputs": [],
   "source": [
    "grid = pd.DataFrame(np.vstack(grid), columns=['date_block_num', 'shop_id', 'item_id'])"
   ]
  },
  {
   "cell_type": "code",
   "execution_count": 10,
   "metadata": {},
   "outputs": [],
   "source": [
    "temp = trn.groupby(['date_block_num', 'shop_id', 'item_id'])[['item_cnt_day']].sum()\n",
    "temp.rename(columns={'item_cnt_day':'Target'}, inplace=True)"
   ]
  },
  {
   "cell_type": "code",
   "execution_count": 11,
   "metadata": {},
   "outputs": [],
   "source": [
    "all_data = grid.merge(temp, on=['date_block_num', 'shop_id', 'item_id'], how='left').fillna(0)"
   ]
  },
  {
   "cell_type": "markdown",
   "metadata": {},
   "source": [
    "### Add feature mean for Date Block"
   ]
  },
  {
   "cell_type": "code",
   "execution_count": 12,
   "metadata": {},
   "outputs": [],
   "source": [
    "temp_mean = trn.groupby(['date_block_num', 'shop_id', 'item_id'])[['item_cnt_day']].mean()\n",
    "temp_mean.rename(columns={'item_cnt_day':'Target_mean'}, inplace=True)"
   ]
  },
  {
   "cell_type": "code",
   "execution_count": 13,
   "metadata": {},
   "outputs": [],
   "source": [
    "all_data = all_data.merge(temp_mean, on=['date_block_num', 'shop_id', 'item_id'], how='left').fillna(0)"
   ]
  },
  {
   "cell_type": "code",
   "execution_count": 14,
   "metadata": {},
   "outputs": [],
   "source": [
    "all_data.sort_values(['date_block_num', 'shop_id', 'item_id'], inplace=True)"
   ]
  },
  {
   "cell_type": "code",
   "execution_count": 15,
   "metadata": {},
   "outputs": [],
   "source": [
    "all_data.reset_index(drop=True, inplace=True)"
   ]
  },
  {
   "cell_type": "markdown",
   "metadata": {},
   "source": [
    "#### Merge with shops, items and categories"
   ]
  },
  {
   "cell_type": "code",
   "execution_count": 16,
   "metadata": {},
   "outputs": [],
   "source": [
    "all_data = all_data.merge(shops, on='shop_id')"
   ]
  },
  {
   "cell_type": "code",
   "execution_count": 17,
   "metadata": {},
   "outputs": [],
   "source": [
    "all_data = all_data.merge(items, on='item_id')"
   ]
  },
  {
   "cell_type": "code",
   "execution_count": 18,
   "metadata": {},
   "outputs": [],
   "source": [
    "all_data = all_data.merge(items_cats, on='item_category_id')"
   ]
  },
  {
   "cell_type": "code",
   "execution_count": 20,
   "metadata": {},
   "outputs": [
    {
     "data": {
      "text/plain": [
       "(762113, 9)"
      ]
     },
     "execution_count": 20,
     "metadata": {},
     "output_type": "execute_result"
    }
   ],
   "source": [
    "all_data.shape"
   ]
  },
  {
   "cell_type": "markdown",
   "metadata": {},
   "source": [
    "### Mean Encoded Feature "
   ]
  },
  {
   "cell_type": "markdown",
   "metadata": {},
   "source": [
    "#### Before Regularization"
   ]
  },
  {
   "cell_type": "code",
   "execution_count": 35,
   "metadata": {},
   "outputs": [],
   "source": [
    "# item_mean = all_data.groupby('item_id')['Target'].mean()\n",
    "# all_data['Mean'] = all_data['item_id'].map(item_mean)"
   ]
  },
  {
   "cell_type": "code",
   "execution_count": 49,
   "metadata": {},
   "outputs": [
    {
     "data": {
      "text/plain": [
       "0.2991337891223941"
      ]
     },
     "execution_count": 49,
     "metadata": {},
     "output_type": "execute_result"
    }
   ],
   "source": [
    "# np.corrcoef(all_data.Mean.values, all_data.Target.values)[0][1]"
   ]
  },
  {
   "cell_type": "code",
   "execution_count": 61,
   "metadata": {},
   "outputs": [
    {
     "data": {
      "text/html": [
       "<div>\n",
       "<style scoped>\n",
       "    .dataframe tbody tr th:only-of-type {\n",
       "        vertical-align: middle;\n",
       "    }\n",
       "\n",
       "    .dataframe tbody tr th {\n",
       "        vertical-align: top;\n",
       "    }\n",
       "\n",
       "    .dataframe thead th {\n",
       "        text-align: right;\n",
       "    }\n",
       "</style>\n",
       "<table border=\"1\" class=\"dataframe\">\n",
       "  <thead>\n",
       "    <tr style=\"text-align: right;\">\n",
       "      <th></th>\n",
       "      <th>date_block_num</th>\n",
       "      <th>shop_id</th>\n",
       "      <th>item_id</th>\n",
       "      <th>Target</th>\n",
       "      <th>Target_mean</th>\n",
       "      <th>shop_name</th>\n",
       "      <th>item_name</th>\n",
       "      <th>item_category_id</th>\n",
       "      <th>item_category_name</th>\n",
       "      <th>Mean</th>\n",
       "    </tr>\n",
       "  </thead>\n",
       "  <tbody>\n",
       "    <tr>\n",
       "      <th>0</th>\n",
       "      <td>30</td>\n",
       "      <td>2</td>\n",
       "      <td>31</td>\n",
       "      <td>0.0</td>\n",
       "      <td>0.0</td>\n",
       "      <td>Адыгея ТЦ \"Мега\"</td>\n",
       "      <td>007: КООРДИНАТЫ «СКАЙФОЛЛ» (BD)</td>\n",
       "      <td>37</td>\n",
       "      <td>Кино - Blu-Ray</td>\n",
       "      <td>0.556291</td>\n",
       "    </tr>\n",
       "    <tr>\n",
       "      <th>1</th>\n",
       "      <td>31</td>\n",
       "      <td>2</td>\n",
       "      <td>31</td>\n",
       "      <td>0.0</td>\n",
       "      <td>0.0</td>\n",
       "      <td>Адыгея ТЦ \"Мега\"</td>\n",
       "      <td>007: КООРДИНАТЫ «СКАЙФОЛЛ» (BD)</td>\n",
       "      <td>37</td>\n",
       "      <td>Кино - Blu-Ray</td>\n",
       "      <td>0.556291</td>\n",
       "    </tr>\n",
       "    <tr>\n",
       "      <th>2</th>\n",
       "      <td>32</td>\n",
       "      <td>2</td>\n",
       "      <td>31</td>\n",
       "      <td>0.0</td>\n",
       "      <td>0.0</td>\n",
       "      <td>Адыгея ТЦ \"Мега\"</td>\n",
       "      <td>007: КООРДИНАТЫ «СКАЙФОЛЛ» (BD)</td>\n",
       "      <td>37</td>\n",
       "      <td>Кино - Blu-Ray</td>\n",
       "      <td>0.556291</td>\n",
       "    </tr>\n",
       "    <tr>\n",
       "      <th>3</th>\n",
       "      <td>33</td>\n",
       "      <td>2</td>\n",
       "      <td>31</td>\n",
       "      <td>1.0</td>\n",
       "      <td>1.0</td>\n",
       "      <td>Адыгея ТЦ \"Мега\"</td>\n",
       "      <td>007: КООРДИНАТЫ «СКАЙФОЛЛ» (BD)</td>\n",
       "      <td>37</td>\n",
       "      <td>Кино - Blu-Ray</td>\n",
       "      <td>0.556291</td>\n",
       "    </tr>\n",
       "    <tr>\n",
       "      <th>4</th>\n",
       "      <td>30</td>\n",
       "      <td>18</td>\n",
       "      <td>31</td>\n",
       "      <td>0.0</td>\n",
       "      <td>0.0</td>\n",
       "      <td>Красноярск ТЦ \"Июнь\"</td>\n",
       "      <td>007: КООРДИНАТЫ «СКАЙФОЛЛ» (BD)</td>\n",
       "      <td>37</td>\n",
       "      <td>Кино - Blu-Ray</td>\n",
       "      <td>0.556291</td>\n",
       "    </tr>\n",
       "  </tbody>\n",
       "</table>\n",
       "</div>"
      ],
      "text/plain": [
       "   date_block_num  shop_id  item_id  Target  Target_mean  \\\n",
       "0              30        2       31     0.0          0.0   \n",
       "1              31        2       31     0.0          0.0   \n",
       "2              32        2       31     0.0          0.0   \n",
       "3              33        2       31     1.0          1.0   \n",
       "4              30       18       31     0.0          0.0   \n",
       "\n",
       "              shop_name                        item_name  item_category_id  \\\n",
       "0      Адыгея ТЦ \"Мега\"  007: КООРДИНАТЫ «СКАЙФОЛЛ» (BD)                37   \n",
       "1      Адыгея ТЦ \"Мега\"  007: КООРДИНАТЫ «СКАЙФОЛЛ» (BD)                37   \n",
       "2      Адыгея ТЦ \"Мега\"  007: КООРДИНАТЫ «СКАЙФОЛЛ» (BD)                37   \n",
       "3      Адыгея ТЦ \"Мега\"  007: КООРДИНАТЫ «СКАЙФОЛЛ» (BD)                37   \n",
       "4  Красноярск ТЦ \"Июнь\"  007: КООРДИНАТЫ «СКАЙФОЛЛ» (BD)                37   \n",
       "\n",
       "  item_category_name      Mean  \n",
       "0     Кино - Blu-Ray  0.556291  \n",
       "1     Кино - Blu-Ray  0.556291  \n",
       "2     Кино - Blu-Ray  0.556291  \n",
       "3     Кино - Blu-Ray  0.556291  \n",
       "4     Кино - Blu-Ray  0.556291  "
      ]
     },
     "execution_count": 61,
     "metadata": {},
     "output_type": "execute_result"
    }
   ],
   "source": [
    "X_train.head()"
   ]
  },
  {
   "cell_type": "markdown",
   "metadata": {},
   "source": [
    "#### Add text size to text features"
   ]
  },
  {
   "cell_type": "code",
   "execution_count": 20,
   "metadata": {},
   "outputs": [],
   "source": [
    "df=all_data.copy()"
   ]
  },
  {
   "cell_type": "code",
   "execution_count": 21,
   "metadata": {},
   "outputs": [],
   "source": [
    "def text_count(df, col):\n",
    "    df[col+'_size'] = df[col].str.len()"
   ]
  },
  {
   "cell_type": "code",
   "execution_count": 22,
   "metadata": {},
   "outputs": [],
   "source": [
    "text_count(df, 'shop_name')\n",
    "text_count(df, 'item_name')\n",
    "text_count(df, 'item_category_name')"
   ]
  },
  {
   "cell_type": "markdown",
   "metadata": {},
   "source": [
    "#### Distinct word Count"
   ]
  },
  {
   "cell_type": "code",
   "execution_count": 23,
   "metadata": {},
   "outputs": [],
   "source": [
    "def word_count(df, col):\n",
    "    df[col+'_count'] = df[col].str.lower().str.split().str.len()"
   ]
  },
  {
   "cell_type": "code",
   "execution_count": 24,
   "metadata": {},
   "outputs": [],
   "source": [
    "word_count(df, 'shop_name')\n",
    "word_count(df, 'item_name')\n",
    "word_count(df, 'item_category_name')"
   ]
  },
  {
   "cell_type": "markdown",
   "metadata": {},
   "source": [
    "#### Add Count Frequency to text features"
   ]
  },
  {
   "cell_type": "code",
   "execution_count": 25,
   "metadata": {},
   "outputs": [],
   "source": [
    "# Context manager to temporarily set options in the with statement context\n",
    "def display_all(df):\n",
    "    with pd.option_context('display.max_rows', 1000, 'display.max_columns', 1000):\n",
    "        display(df)"
   ]
  },
  {
   "cell_type": "code",
   "execution_count": 34,
   "metadata": {},
   "outputs": [],
   "source": [
    "from sklearn import feature_extraction\n",
    "from sklearn.feature_extraction.text import TfidfVectorizer"
   ]
  },
  {
   "cell_type": "code",
   "execution_count": 35,
   "metadata": {},
   "outputs": [],
   "source": [
    "feat_count = 25\n",
    "txt_vect = feature_extraction.text.TfidfVectorizer(max_features=feat_count)"
   ]
  },
  {
   "cell_type": "code",
   "execution_count": 36,
   "metadata": {},
   "outputs": [],
   "source": [
    "columns = ['shop_name', 'item_name', 'item_category_name']\n",
    "\n",
    "for col in columns:\n",
    "    item_cat_tf = txt_vect.fit_transform(df[col])\n",
    "    df_temp = pd.DataFrame(item_cat_tf.toarray(), columns=txt_vect.get_feature_names())\n",
    "    for i in df_temp.columns:\n",
    "        df[col+'_tf_' + str(i)] = df_temp[i]"
   ]
  },
  {
   "cell_type": "code",
   "execution_count": 37,
   "metadata": {},
   "outputs": [
    {
     "data": {
      "text/plain": [
       "(762113, 90)"
      ]
     },
     "execution_count": 37,
     "metadata": {},
     "output_type": "execute_result"
    }
   ],
   "source": [
    "df.shape"
   ]
  },
  {
   "cell_type": "markdown",
   "metadata": {},
   "source": [
    "#### Label Encoding"
   ]
  },
  {
   "cell_type": "code",
   "execution_count": 38,
   "metadata": {},
   "outputs": [],
   "source": [
    "df_encode = df.copy()"
   ]
  },
  {
   "cell_type": "code",
   "execution_count": 39,
   "metadata": {},
   "outputs": [],
   "source": [
    "for i in df_encode.columns:\n",
    "    df_encode[i] = df_encode[i].factorize()[0]"
   ]
  },
  {
   "cell_type": "code",
   "execution_count": 40,
   "metadata": {},
   "outputs": [],
   "source": [
    "bag = {}\n",
    "for num, col_1  in enumerate(df_encode.columns):\n",
    "    for col_2 in df_encode.columns[num+1:]:\n",
    "        if col_2 not in bag and np.all(df_encode[col_2] == df_encode[col_1]):\n",
    "            bag[col_1] = col_2"
   ]
  },
  {
   "cell_type": "code",
   "execution_count": 41,
   "metadata": {},
   "outputs": [
    {
     "data": {
      "text/plain": [
       "{'shop_id': 'shop_name',\n",
       " 'item_id': 'item_name',\n",
       " 'item_category_id': 'item_category_name',\n",
       " 'shop_name_tf_курск': 'shop_name_tf_пушкинский',\n",
       " 'item_category_name_tf_blu': 'item_category_name_tf_ray',\n",
       " 'item_category_name_tf_cd': 'item_category_name_tf_производства'}"
      ]
     },
     "execution_count": 41,
     "metadata": {},
     "output_type": "execute_result"
    }
   ],
   "source": [
    "bag"
   ]
  },
  {
   "cell_type": "code",
   "execution_count": 42,
   "metadata": {},
   "outputs": [
    {
     "data": {
      "text/plain": [
       "dict_values(['shop_name', 'item_name', 'item_category_name', 'shop_name_tf_пушкинский', 'item_category_name_tf_ray', 'item_category_name_tf_производства'])"
      ]
     },
     "execution_count": 42,
     "metadata": {},
     "output_type": "execute_result"
    }
   ],
   "source": [
    "bag.values()"
   ]
  },
  {
   "cell_type": "code",
   "execution_count": 45,
   "metadata": {},
   "outputs": [],
   "source": [
    "df.drop(bag.values(), axis = 1, inplace=True)"
   ]
  },
  {
   "cell_type": "code",
   "execution_count": 47,
   "metadata": {},
   "outputs": [
    {
     "data": {
      "text/plain": [
       "(762113, 84)"
      ]
     },
     "execution_count": 47,
     "metadata": {},
     "output_type": "execute_result"
    }
   ],
   "source": [
    "df.shape"
   ]
  },
  {
   "cell_type": "code",
   "execution_count": 49,
   "metadata": {},
   "outputs": [],
   "source": [
    "# df_encode.drop(df_encode.index, inplace=True)"
   ]
  },
  {
   "cell_type": "markdown",
   "metadata": {},
   "source": [
    "Steps to improve model:\n",
    "1. Knowing this in Russia, add the bank and the school holidays\n",
    "2. Add features that display the summer season, christmas and other important holidays or peak seasons in russia\n",
    "3. check whether some items wherein specific discount and check sales relevant to them\n",
    "4. Are same products sold for different prices in different stores\n",
    "5. Price fluctuations over this period, does this affect the prcie?\n",
    "6. How about stores that have closed, example shop 23\n",
    "7. #### Check whether some data can point to a sales/marketing campaign, and add it as a feature then add days of saledate-campaign date as a new feature"
   ]
  },
  {
   "cell_type": "code",
   "execution_count": 50,
   "metadata": {},
   "outputs": [
    {
     "data": {
      "text/html": [
       "<div>\n",
       "<style scoped>\n",
       "    .dataframe tbody tr th:only-of-type {\n",
       "        vertical-align: middle;\n",
       "    }\n",
       "\n",
       "    .dataframe tbody tr th {\n",
       "        vertical-align: top;\n",
       "    }\n",
       "\n",
       "    .dataframe thead th {\n",
       "        text-align: right;\n",
       "    }\n",
       "</style>\n",
       "<table border=\"1\" class=\"dataframe\">\n",
       "  <thead>\n",
       "    <tr style=\"text-align: right;\">\n",
       "      <th></th>\n",
       "      <th>date_block_num</th>\n",
       "      <th>shop_id</th>\n",
       "      <th>item_id</th>\n",
       "      <th>Target</th>\n",
       "      <th>Target_mean</th>\n",
       "      <th>item_category_id</th>\n",
       "      <th>shop_name_size</th>\n",
       "      <th>item_name_size</th>\n",
       "      <th>item_category_name_size</th>\n",
       "      <th>shop_name_count</th>\n",
       "      <th>item_name_count</th>\n",
       "      <th>item_category_name_count</th>\n",
       "      <th>shop_name_tf_ii</th>\n",
       "      <th>shop_name_tf_воронеж</th>\n",
       "      <th>shop_name_tf_к7</th>\n",
       "      <th>shop_name_tf_курск</th>\n",
       "      <th>shop_name_tf_магазин</th>\n",
       "      <th>shop_name_tf_мега</th>\n",
       "      <th>shop_name_tf_молл</th>\n",
       "      <th>shop_name_tf_москва</th>\n",
       "      <th>shop_name_tf_мтрц</th>\n",
       "      <th>shop_name_tf_новгород</th>\n",
       "      <th>shop_name_tf_новосибирск</th>\n",
       "      <th>shop_name_tf_паркхаус</th>\n",
       "      <th>shop_name_tf_рио</th>\n",
       "      <th>shop_name_tf_ростовнадону</th>\n",
       "      <th>shop_name_tf_с21</th>\n",
       "      <th>shop_name_tf_самара</th>\n",
       "      <th>shop_name_tf_тк</th>\n",
       "      <th>shop_name_tf_трк</th>\n",
       "      <th>shop_name_tf_трц</th>\n",
       "      <th>shop_name_tf_тц</th>\n",
       "      <th>shop_name_tf_тюмень</th>\n",
       "      <th>shop_name_tf_уфа</th>\n",
       "      <th>shop_name_tf_центральный</th>\n",
       "      <th>shop_name_tf_якутск</th>\n",
       "      <th>item_name_tf_1с</th>\n",
       "      <th>item_name_tf_360</th>\n",
       "      <th>item_name_tf_3d</th>\n",
       "      <th>item_name_tf_bd</th>\n",
       "      <th>item_name_tf_cd</th>\n",
       "      <th>item_name_tf_edition</th>\n",
       "      <th>item_name_tf_jewel</th>\n",
       "      <th>item_name_tf_mp3</th>\n",
       "      <th>item_name_tf_of</th>\n",
       "      <th>item_name_tf_pc</th>\n",
       "      <th>item_name_tf_ps3</th>\n",
       "      <th>item_name_tf_the</th>\n",
       "      <th>item_name_tf_xbox</th>\n",
       "      <th>item_name_tf_арт</th>\n",
       "      <th>item_name_tf_версия</th>\n",
       "      <th>item_name_tf_для</th>\n",
       "      <th>item_name_tf_игра</th>\n",
       "      <th>item_name_tf_коллекция</th>\n",
       "      <th>item_name_tf_настольная</th>\n",
       "      <th>item_name_tf_регион</th>\n",
       "      <th>item_name_tf_русская</th>\n",
       "      <th>item_name_tf_русские</th>\n",
       "      <th>item_name_tf_субтитры</th>\n",
       "      <th>item_name_tf_фигурка</th>\n",
       "      <th>item_name_tf_цифровая</th>\n",
       "      <th>item_category_name_tf_360</th>\n",
       "      <th>item_category_name_tf_blu</th>\n",
       "      <th>item_category_name_tf_cd</th>\n",
       "      <th>item_category_name_tf_dvd</th>\n",
       "      <th>item_category_name_tf_pc</th>\n",
       "      <th>item_category_name_tf_ps3</th>\n",
       "      <th>item_category_name_tf_xbox</th>\n",
       "      <th>item_category_name_tf_атрибутика</th>\n",
       "      <th>item_category_name_tf_аудиокниги</th>\n",
       "      <th>item_category_name_tf_винил</th>\n",
       "      <th>item_category_name_tf_игры</th>\n",
       "      <th>item_category_name_tf_издания</th>\n",
       "      <th>item_category_name_tf_кино</th>\n",
       "      <th>item_category_name_tf_книги</th>\n",
       "      <th>item_category_name_tf_локального</th>\n",
       "      <th>item_category_name_tf_музыка</th>\n",
       "      <th>item_category_name_tf_настольные</th>\n",
       "      <th>item_category_name_tf_подарки</th>\n",
       "      <th>item_category_name_tf_программы</th>\n",
       "      <th>item_category_name_tf_стандартные</th>\n",
       "      <th>item_category_name_tf_сувениры</th>\n",
       "      <th>item_category_name_tf_фигурки</th>\n",
       "      <th>item_category_name_tf_цифра</th>\n",
       "    </tr>\n",
       "  </thead>\n",
       "  <tbody>\n",
       "    <tr>\n",
       "      <th>0</th>\n",
       "      <td>30</td>\n",
       "      <td>2</td>\n",
       "      <td>31</td>\n",
       "      <td>0.0</td>\n",
       "      <td>0.0</td>\n",
       "      <td>37</td>\n",
       "      <td>16</td>\n",
       "      <td>31</td>\n",
       "      <td>14</td>\n",
       "      <td>3</td>\n",
       "      <td>4</td>\n",
       "      <td>3</td>\n",
       "      <td>0.0</td>\n",
       "      <td>0.0</td>\n",
       "      <td>0.0</td>\n",
       "      <td>0.0</td>\n",
       "      <td>0.0</td>\n",
       "      <td>0.866732</td>\n",
       "      <td>0.0</td>\n",
       "      <td>0.0</td>\n",
       "      <td>0.0</td>\n",
       "      <td>0.0</td>\n",
       "      <td>0.0</td>\n",
       "      <td>0.0</td>\n",
       "      <td>0.0</td>\n",
       "      <td>0.0</td>\n",
       "      <td>0.0</td>\n",
       "      <td>0.0</td>\n",
       "      <td>0.0</td>\n",
       "      <td>0.0</td>\n",
       "      <td>0.0</td>\n",
       "      <td>0.498774</td>\n",
       "      <td>0.0</td>\n",
       "      <td>0.0</td>\n",
       "      <td>0.0</td>\n",
       "      <td>0.0</td>\n",
       "      <td>0.0</td>\n",
       "      <td>0.0</td>\n",
       "      <td>0.0</td>\n",
       "      <td>1.0</td>\n",
       "      <td>0.0</td>\n",
       "      <td>0.0</td>\n",
       "      <td>0.0</td>\n",
       "      <td>0.0</td>\n",
       "      <td>0.0</td>\n",
       "      <td>0.0</td>\n",
       "      <td>0.0</td>\n",
       "      <td>0.0</td>\n",
       "      <td>0.0</td>\n",
       "      <td>0.0</td>\n",
       "      <td>0.0</td>\n",
       "      <td>0.0</td>\n",
       "      <td>0.0</td>\n",
       "      <td>0.0</td>\n",
       "      <td>0.0</td>\n",
       "      <td>0.0</td>\n",
       "      <td>0.0</td>\n",
       "      <td>0.0</td>\n",
       "      <td>0.0</td>\n",
       "      <td>0.0</td>\n",
       "      <td>0.0</td>\n",
       "      <td>0.0</td>\n",
       "      <td>0.634458</td>\n",
       "      <td>0.0</td>\n",
       "      <td>0.0</td>\n",
       "      <td>0.0</td>\n",
       "      <td>0.0</td>\n",
       "      <td>0.0</td>\n",
       "      <td>0.0</td>\n",
       "      <td>0.0</td>\n",
       "      <td>0.0</td>\n",
       "      <td>0.0</td>\n",
       "      <td>0.0</td>\n",
       "      <td>0.441504</td>\n",
       "      <td>0.0</td>\n",
       "      <td>0.0</td>\n",
       "      <td>0.0</td>\n",
       "      <td>0.0</td>\n",
       "      <td>0.0</td>\n",
       "      <td>0.0</td>\n",
       "      <td>0.0</td>\n",
       "      <td>0.0</td>\n",
       "      <td>0.0</td>\n",
       "      <td>0.0</td>\n",
       "    </tr>\n",
       "    <tr>\n",
       "      <th>1</th>\n",
       "      <td>31</td>\n",
       "      <td>2</td>\n",
       "      <td>31</td>\n",
       "      <td>0.0</td>\n",
       "      <td>0.0</td>\n",
       "      <td>37</td>\n",
       "      <td>16</td>\n",
       "      <td>31</td>\n",
       "      <td>14</td>\n",
       "      <td>3</td>\n",
       "      <td>4</td>\n",
       "      <td>3</td>\n",
       "      <td>0.0</td>\n",
       "      <td>0.0</td>\n",
       "      <td>0.0</td>\n",
       "      <td>0.0</td>\n",
       "      <td>0.0</td>\n",
       "      <td>0.866732</td>\n",
       "      <td>0.0</td>\n",
       "      <td>0.0</td>\n",
       "      <td>0.0</td>\n",
       "      <td>0.0</td>\n",
       "      <td>0.0</td>\n",
       "      <td>0.0</td>\n",
       "      <td>0.0</td>\n",
       "      <td>0.0</td>\n",
       "      <td>0.0</td>\n",
       "      <td>0.0</td>\n",
       "      <td>0.0</td>\n",
       "      <td>0.0</td>\n",
       "      <td>0.0</td>\n",
       "      <td>0.498774</td>\n",
       "      <td>0.0</td>\n",
       "      <td>0.0</td>\n",
       "      <td>0.0</td>\n",
       "      <td>0.0</td>\n",
       "      <td>0.0</td>\n",
       "      <td>0.0</td>\n",
       "      <td>0.0</td>\n",
       "      <td>1.0</td>\n",
       "      <td>0.0</td>\n",
       "      <td>0.0</td>\n",
       "      <td>0.0</td>\n",
       "      <td>0.0</td>\n",
       "      <td>0.0</td>\n",
       "      <td>0.0</td>\n",
       "      <td>0.0</td>\n",
       "      <td>0.0</td>\n",
       "      <td>0.0</td>\n",
       "      <td>0.0</td>\n",
       "      <td>0.0</td>\n",
       "      <td>0.0</td>\n",
       "      <td>0.0</td>\n",
       "      <td>0.0</td>\n",
       "      <td>0.0</td>\n",
       "      <td>0.0</td>\n",
       "      <td>0.0</td>\n",
       "      <td>0.0</td>\n",
       "      <td>0.0</td>\n",
       "      <td>0.0</td>\n",
       "      <td>0.0</td>\n",
       "      <td>0.0</td>\n",
       "      <td>0.634458</td>\n",
       "      <td>0.0</td>\n",
       "      <td>0.0</td>\n",
       "      <td>0.0</td>\n",
       "      <td>0.0</td>\n",
       "      <td>0.0</td>\n",
       "      <td>0.0</td>\n",
       "      <td>0.0</td>\n",
       "      <td>0.0</td>\n",
       "      <td>0.0</td>\n",
       "      <td>0.0</td>\n",
       "      <td>0.441504</td>\n",
       "      <td>0.0</td>\n",
       "      <td>0.0</td>\n",
       "      <td>0.0</td>\n",
       "      <td>0.0</td>\n",
       "      <td>0.0</td>\n",
       "      <td>0.0</td>\n",
       "      <td>0.0</td>\n",
       "      <td>0.0</td>\n",
       "      <td>0.0</td>\n",
       "      <td>0.0</td>\n",
       "    </tr>\n",
       "    <tr>\n",
       "      <th>2</th>\n",
       "      <td>32</td>\n",
       "      <td>2</td>\n",
       "      <td>31</td>\n",
       "      <td>0.0</td>\n",
       "      <td>0.0</td>\n",
       "      <td>37</td>\n",
       "      <td>16</td>\n",
       "      <td>31</td>\n",
       "      <td>14</td>\n",
       "      <td>3</td>\n",
       "      <td>4</td>\n",
       "      <td>3</td>\n",
       "      <td>0.0</td>\n",
       "      <td>0.0</td>\n",
       "      <td>0.0</td>\n",
       "      <td>0.0</td>\n",
       "      <td>0.0</td>\n",
       "      <td>0.866732</td>\n",
       "      <td>0.0</td>\n",
       "      <td>0.0</td>\n",
       "      <td>0.0</td>\n",
       "      <td>0.0</td>\n",
       "      <td>0.0</td>\n",
       "      <td>0.0</td>\n",
       "      <td>0.0</td>\n",
       "      <td>0.0</td>\n",
       "      <td>0.0</td>\n",
       "      <td>0.0</td>\n",
       "      <td>0.0</td>\n",
       "      <td>0.0</td>\n",
       "      <td>0.0</td>\n",
       "      <td>0.498774</td>\n",
       "      <td>0.0</td>\n",
       "      <td>0.0</td>\n",
       "      <td>0.0</td>\n",
       "      <td>0.0</td>\n",
       "      <td>0.0</td>\n",
       "      <td>0.0</td>\n",
       "      <td>0.0</td>\n",
       "      <td>1.0</td>\n",
       "      <td>0.0</td>\n",
       "      <td>0.0</td>\n",
       "      <td>0.0</td>\n",
       "      <td>0.0</td>\n",
       "      <td>0.0</td>\n",
       "      <td>0.0</td>\n",
       "      <td>0.0</td>\n",
       "      <td>0.0</td>\n",
       "      <td>0.0</td>\n",
       "      <td>0.0</td>\n",
       "      <td>0.0</td>\n",
       "      <td>0.0</td>\n",
       "      <td>0.0</td>\n",
       "      <td>0.0</td>\n",
       "      <td>0.0</td>\n",
       "      <td>0.0</td>\n",
       "      <td>0.0</td>\n",
       "      <td>0.0</td>\n",
       "      <td>0.0</td>\n",
       "      <td>0.0</td>\n",
       "      <td>0.0</td>\n",
       "      <td>0.0</td>\n",
       "      <td>0.634458</td>\n",
       "      <td>0.0</td>\n",
       "      <td>0.0</td>\n",
       "      <td>0.0</td>\n",
       "      <td>0.0</td>\n",
       "      <td>0.0</td>\n",
       "      <td>0.0</td>\n",
       "      <td>0.0</td>\n",
       "      <td>0.0</td>\n",
       "      <td>0.0</td>\n",
       "      <td>0.0</td>\n",
       "      <td>0.441504</td>\n",
       "      <td>0.0</td>\n",
       "      <td>0.0</td>\n",
       "      <td>0.0</td>\n",
       "      <td>0.0</td>\n",
       "      <td>0.0</td>\n",
       "      <td>0.0</td>\n",
       "      <td>0.0</td>\n",
       "      <td>0.0</td>\n",
       "      <td>0.0</td>\n",
       "      <td>0.0</td>\n",
       "    </tr>\n",
       "    <tr>\n",
       "      <th>3</th>\n",
       "      <td>33</td>\n",
       "      <td>2</td>\n",
       "      <td>31</td>\n",
       "      <td>1.0</td>\n",
       "      <td>1.0</td>\n",
       "      <td>37</td>\n",
       "      <td>16</td>\n",
       "      <td>31</td>\n",
       "      <td>14</td>\n",
       "      <td>3</td>\n",
       "      <td>4</td>\n",
       "      <td>3</td>\n",
       "      <td>0.0</td>\n",
       "      <td>0.0</td>\n",
       "      <td>0.0</td>\n",
       "      <td>0.0</td>\n",
       "      <td>0.0</td>\n",
       "      <td>0.866732</td>\n",
       "      <td>0.0</td>\n",
       "      <td>0.0</td>\n",
       "      <td>0.0</td>\n",
       "      <td>0.0</td>\n",
       "      <td>0.0</td>\n",
       "      <td>0.0</td>\n",
       "      <td>0.0</td>\n",
       "      <td>0.0</td>\n",
       "      <td>0.0</td>\n",
       "      <td>0.0</td>\n",
       "      <td>0.0</td>\n",
       "      <td>0.0</td>\n",
       "      <td>0.0</td>\n",
       "      <td>0.498774</td>\n",
       "      <td>0.0</td>\n",
       "      <td>0.0</td>\n",
       "      <td>0.0</td>\n",
       "      <td>0.0</td>\n",
       "      <td>0.0</td>\n",
       "      <td>0.0</td>\n",
       "      <td>0.0</td>\n",
       "      <td>1.0</td>\n",
       "      <td>0.0</td>\n",
       "      <td>0.0</td>\n",
       "      <td>0.0</td>\n",
       "      <td>0.0</td>\n",
       "      <td>0.0</td>\n",
       "      <td>0.0</td>\n",
       "      <td>0.0</td>\n",
       "      <td>0.0</td>\n",
       "      <td>0.0</td>\n",
       "      <td>0.0</td>\n",
       "      <td>0.0</td>\n",
       "      <td>0.0</td>\n",
       "      <td>0.0</td>\n",
       "      <td>0.0</td>\n",
       "      <td>0.0</td>\n",
       "      <td>0.0</td>\n",
       "      <td>0.0</td>\n",
       "      <td>0.0</td>\n",
       "      <td>0.0</td>\n",
       "      <td>0.0</td>\n",
       "      <td>0.0</td>\n",
       "      <td>0.0</td>\n",
       "      <td>0.634458</td>\n",
       "      <td>0.0</td>\n",
       "      <td>0.0</td>\n",
       "      <td>0.0</td>\n",
       "      <td>0.0</td>\n",
       "      <td>0.0</td>\n",
       "      <td>0.0</td>\n",
       "      <td>0.0</td>\n",
       "      <td>0.0</td>\n",
       "      <td>0.0</td>\n",
       "      <td>0.0</td>\n",
       "      <td>0.441504</td>\n",
       "      <td>0.0</td>\n",
       "      <td>0.0</td>\n",
       "      <td>0.0</td>\n",
       "      <td>0.0</td>\n",
       "      <td>0.0</td>\n",
       "      <td>0.0</td>\n",
       "      <td>0.0</td>\n",
       "      <td>0.0</td>\n",
       "      <td>0.0</td>\n",
       "      <td>0.0</td>\n",
       "    </tr>\n",
       "    <tr>\n",
       "      <th>4</th>\n",
       "      <td>30</td>\n",
       "      <td>18</td>\n",
       "      <td>31</td>\n",
       "      <td>0.0</td>\n",
       "      <td>0.0</td>\n",
       "      <td>37</td>\n",
       "      <td>20</td>\n",
       "      <td>31</td>\n",
       "      <td>14</td>\n",
       "      <td>3</td>\n",
       "      <td>4</td>\n",
       "      <td>3</td>\n",
       "      <td>0.0</td>\n",
       "      <td>0.0</td>\n",
       "      <td>0.0</td>\n",
       "      <td>0.0</td>\n",
       "      <td>0.0</td>\n",
       "      <td>0.000000</td>\n",
       "      <td>0.0</td>\n",
       "      <td>0.0</td>\n",
       "      <td>0.0</td>\n",
       "      <td>0.0</td>\n",
       "      <td>0.0</td>\n",
       "      <td>0.0</td>\n",
       "      <td>0.0</td>\n",
       "      <td>0.0</td>\n",
       "      <td>0.0</td>\n",
       "      <td>0.0</td>\n",
       "      <td>0.0</td>\n",
       "      <td>0.0</td>\n",
       "      <td>0.0</td>\n",
       "      <td>1.000000</td>\n",
       "      <td>0.0</td>\n",
       "      <td>0.0</td>\n",
       "      <td>0.0</td>\n",
       "      <td>0.0</td>\n",
       "      <td>0.0</td>\n",
       "      <td>0.0</td>\n",
       "      <td>0.0</td>\n",
       "      <td>1.0</td>\n",
       "      <td>0.0</td>\n",
       "      <td>0.0</td>\n",
       "      <td>0.0</td>\n",
       "      <td>0.0</td>\n",
       "      <td>0.0</td>\n",
       "      <td>0.0</td>\n",
       "      <td>0.0</td>\n",
       "      <td>0.0</td>\n",
       "      <td>0.0</td>\n",
       "      <td>0.0</td>\n",
       "      <td>0.0</td>\n",
       "      <td>0.0</td>\n",
       "      <td>0.0</td>\n",
       "      <td>0.0</td>\n",
       "      <td>0.0</td>\n",
       "      <td>0.0</td>\n",
       "      <td>0.0</td>\n",
       "      <td>0.0</td>\n",
       "      <td>0.0</td>\n",
       "      <td>0.0</td>\n",
       "      <td>0.0</td>\n",
       "      <td>0.0</td>\n",
       "      <td>0.634458</td>\n",
       "      <td>0.0</td>\n",
       "      <td>0.0</td>\n",
       "      <td>0.0</td>\n",
       "      <td>0.0</td>\n",
       "      <td>0.0</td>\n",
       "      <td>0.0</td>\n",
       "      <td>0.0</td>\n",
       "      <td>0.0</td>\n",
       "      <td>0.0</td>\n",
       "      <td>0.0</td>\n",
       "      <td>0.441504</td>\n",
       "      <td>0.0</td>\n",
       "      <td>0.0</td>\n",
       "      <td>0.0</td>\n",
       "      <td>0.0</td>\n",
       "      <td>0.0</td>\n",
       "      <td>0.0</td>\n",
       "      <td>0.0</td>\n",
       "      <td>0.0</td>\n",
       "      <td>0.0</td>\n",
       "      <td>0.0</td>\n",
       "    </tr>\n",
       "  </tbody>\n",
       "</table>\n",
       "</div>"
      ],
      "text/plain": [
       "   date_block_num  shop_id  item_id  Target  Target_mean  item_category_id  \\\n",
       "0              30        2       31     0.0          0.0                37   \n",
       "1              31        2       31     0.0          0.0                37   \n",
       "2              32        2       31     0.0          0.0                37   \n",
       "3              33        2       31     1.0          1.0                37   \n",
       "4              30       18       31     0.0          0.0                37   \n",
       "\n",
       "   shop_name_size  item_name_size  item_category_name_size  shop_name_count  \\\n",
       "0              16              31                       14                3   \n",
       "1              16              31                       14                3   \n",
       "2              16              31                       14                3   \n",
       "3              16              31                       14                3   \n",
       "4              20              31                       14                3   \n",
       "\n",
       "   item_name_count  item_category_name_count  shop_name_tf_ii  \\\n",
       "0                4                         3              0.0   \n",
       "1                4                         3              0.0   \n",
       "2                4                         3              0.0   \n",
       "3                4                         3              0.0   \n",
       "4                4                         3              0.0   \n",
       "\n",
       "   shop_name_tf_воронеж  shop_name_tf_к7  shop_name_tf_курск  \\\n",
       "0                   0.0              0.0                 0.0   \n",
       "1                   0.0              0.0                 0.0   \n",
       "2                   0.0              0.0                 0.0   \n",
       "3                   0.0              0.0                 0.0   \n",
       "4                   0.0              0.0                 0.0   \n",
       "\n",
       "   shop_name_tf_магазин  shop_name_tf_мега  shop_name_tf_молл  \\\n",
       "0                   0.0           0.866732                0.0   \n",
       "1                   0.0           0.866732                0.0   \n",
       "2                   0.0           0.866732                0.0   \n",
       "3                   0.0           0.866732                0.0   \n",
       "4                   0.0           0.000000                0.0   \n",
       "\n",
       "   shop_name_tf_москва  shop_name_tf_мтрц  shop_name_tf_новгород  \\\n",
       "0                  0.0                0.0                    0.0   \n",
       "1                  0.0                0.0                    0.0   \n",
       "2                  0.0                0.0                    0.0   \n",
       "3                  0.0                0.0                    0.0   \n",
       "4                  0.0                0.0                    0.0   \n",
       "\n",
       "   shop_name_tf_новосибирск  shop_name_tf_паркхаус  shop_name_tf_рио  \\\n",
       "0                       0.0                    0.0               0.0   \n",
       "1                       0.0                    0.0               0.0   \n",
       "2                       0.0                    0.0               0.0   \n",
       "3                       0.0                    0.0               0.0   \n",
       "4                       0.0                    0.0               0.0   \n",
       "\n",
       "   shop_name_tf_ростовнадону  shop_name_tf_с21  shop_name_tf_самара  \\\n",
       "0                        0.0               0.0                  0.0   \n",
       "1                        0.0               0.0                  0.0   \n",
       "2                        0.0               0.0                  0.0   \n",
       "3                        0.0               0.0                  0.0   \n",
       "4                        0.0               0.0                  0.0   \n",
       "\n",
       "   shop_name_tf_тк  shop_name_tf_трк  shop_name_tf_трц  shop_name_tf_тц  \\\n",
       "0              0.0               0.0               0.0         0.498774   \n",
       "1              0.0               0.0               0.0         0.498774   \n",
       "2              0.0               0.0               0.0         0.498774   \n",
       "3              0.0               0.0               0.0         0.498774   \n",
       "4              0.0               0.0               0.0         1.000000   \n",
       "\n",
       "   shop_name_tf_тюмень  shop_name_tf_уфа  shop_name_tf_центральный  \\\n",
       "0                  0.0               0.0                       0.0   \n",
       "1                  0.0               0.0                       0.0   \n",
       "2                  0.0               0.0                       0.0   \n",
       "3                  0.0               0.0                       0.0   \n",
       "4                  0.0               0.0                       0.0   \n",
       "\n",
       "   shop_name_tf_якутск  item_name_tf_1с  item_name_tf_360  item_name_tf_3d  \\\n",
       "0                  0.0              0.0               0.0              0.0   \n",
       "1                  0.0              0.0               0.0              0.0   \n",
       "2                  0.0              0.0               0.0              0.0   \n",
       "3                  0.0              0.0               0.0              0.0   \n",
       "4                  0.0              0.0               0.0              0.0   \n",
       "\n",
       "   item_name_tf_bd  item_name_tf_cd  item_name_tf_edition  item_name_tf_jewel  \\\n",
       "0              1.0              0.0                   0.0                 0.0   \n",
       "1              1.0              0.0                   0.0                 0.0   \n",
       "2              1.0              0.0                   0.0                 0.0   \n",
       "3              1.0              0.0                   0.0                 0.0   \n",
       "4              1.0              0.0                   0.0                 0.0   \n",
       "\n",
       "   item_name_tf_mp3  item_name_tf_of  item_name_tf_pc  item_name_tf_ps3  \\\n",
       "0               0.0              0.0              0.0               0.0   \n",
       "1               0.0              0.0              0.0               0.0   \n",
       "2               0.0              0.0              0.0               0.0   \n",
       "3               0.0              0.0              0.0               0.0   \n",
       "4               0.0              0.0              0.0               0.0   \n",
       "\n",
       "   item_name_tf_the  item_name_tf_xbox  item_name_tf_арт  item_name_tf_версия  \\\n",
       "0               0.0                0.0               0.0                  0.0   \n",
       "1               0.0                0.0               0.0                  0.0   \n",
       "2               0.0                0.0               0.0                  0.0   \n",
       "3               0.0                0.0               0.0                  0.0   \n",
       "4               0.0                0.0               0.0                  0.0   \n",
       "\n",
       "   item_name_tf_для  item_name_tf_игра  item_name_tf_коллекция  \\\n",
       "0               0.0                0.0                     0.0   \n",
       "1               0.0                0.0                     0.0   \n",
       "2               0.0                0.0                     0.0   \n",
       "3               0.0                0.0                     0.0   \n",
       "4               0.0                0.0                     0.0   \n",
       "\n",
       "   item_name_tf_настольная  item_name_tf_регион  item_name_tf_русская  \\\n",
       "0                      0.0                  0.0                   0.0   \n",
       "1                      0.0                  0.0                   0.0   \n",
       "2                      0.0                  0.0                   0.0   \n",
       "3                      0.0                  0.0                   0.0   \n",
       "4                      0.0                  0.0                   0.0   \n",
       "\n",
       "   item_name_tf_русские  item_name_tf_субтитры  item_name_tf_фигурка  \\\n",
       "0                   0.0                    0.0                   0.0   \n",
       "1                   0.0                    0.0                   0.0   \n",
       "2                   0.0                    0.0                   0.0   \n",
       "3                   0.0                    0.0                   0.0   \n",
       "4                   0.0                    0.0                   0.0   \n",
       "\n",
       "   item_name_tf_цифровая  item_category_name_tf_360  \\\n",
       "0                    0.0                        0.0   \n",
       "1                    0.0                        0.0   \n",
       "2                    0.0                        0.0   \n",
       "3                    0.0                        0.0   \n",
       "4                    0.0                        0.0   \n",
       "\n",
       "   item_category_name_tf_blu  item_category_name_tf_cd  \\\n",
       "0                   0.634458                       0.0   \n",
       "1                   0.634458                       0.0   \n",
       "2                   0.634458                       0.0   \n",
       "3                   0.634458                       0.0   \n",
       "4                   0.634458                       0.0   \n",
       "\n",
       "   item_category_name_tf_dvd  item_category_name_tf_pc  \\\n",
       "0                        0.0                       0.0   \n",
       "1                        0.0                       0.0   \n",
       "2                        0.0                       0.0   \n",
       "3                        0.0                       0.0   \n",
       "4                        0.0                       0.0   \n",
       "\n",
       "   item_category_name_tf_ps3  item_category_name_tf_xbox  \\\n",
       "0                        0.0                         0.0   \n",
       "1                        0.0                         0.0   \n",
       "2                        0.0                         0.0   \n",
       "3                        0.0                         0.0   \n",
       "4                        0.0                         0.0   \n",
       "\n",
       "   item_category_name_tf_атрибутика  item_category_name_tf_аудиокниги  \\\n",
       "0                               0.0                               0.0   \n",
       "1                               0.0                               0.0   \n",
       "2                               0.0                               0.0   \n",
       "3                               0.0                               0.0   \n",
       "4                               0.0                               0.0   \n",
       "\n",
       "   item_category_name_tf_винил  item_category_name_tf_игры  \\\n",
       "0                          0.0                         0.0   \n",
       "1                          0.0                         0.0   \n",
       "2                          0.0                         0.0   \n",
       "3                          0.0                         0.0   \n",
       "4                          0.0                         0.0   \n",
       "\n",
       "   item_category_name_tf_издания  item_category_name_tf_кино  \\\n",
       "0                            0.0                    0.441504   \n",
       "1                            0.0                    0.441504   \n",
       "2                            0.0                    0.441504   \n",
       "3                            0.0                    0.441504   \n",
       "4                            0.0                    0.441504   \n",
       "\n",
       "   item_category_name_tf_книги  item_category_name_tf_локального  \\\n",
       "0                          0.0                               0.0   \n",
       "1                          0.0                               0.0   \n",
       "2                          0.0                               0.0   \n",
       "3                          0.0                               0.0   \n",
       "4                          0.0                               0.0   \n",
       "\n",
       "   item_category_name_tf_музыка  item_category_name_tf_настольные  \\\n",
       "0                           0.0                               0.0   \n",
       "1                           0.0                               0.0   \n",
       "2                           0.0                               0.0   \n",
       "3                           0.0                               0.0   \n",
       "4                           0.0                               0.0   \n",
       "\n",
       "   item_category_name_tf_подарки  item_category_name_tf_программы  \\\n",
       "0                            0.0                              0.0   \n",
       "1                            0.0                              0.0   \n",
       "2                            0.0                              0.0   \n",
       "3                            0.0                              0.0   \n",
       "4                            0.0                              0.0   \n",
       "\n",
       "   item_category_name_tf_стандартные  item_category_name_tf_сувениры  \\\n",
       "0                                0.0                             0.0   \n",
       "1                                0.0                             0.0   \n",
       "2                                0.0                             0.0   \n",
       "3                                0.0                             0.0   \n",
       "4                                0.0                             0.0   \n",
       "\n",
       "   item_category_name_tf_фигурки  item_category_name_tf_цифра  \n",
       "0                            0.0                          0.0  \n",
       "1                            0.0                          0.0  \n",
       "2                            0.0                          0.0  \n",
       "3                            0.0                          0.0  \n",
       "4                            0.0                          0.0  "
      ]
     },
     "metadata": {},
     "output_type": "display_data"
    }
   ],
   "source": [
    "display_all(df.head())"
   ]
  },
  {
   "cell_type": "code",
   "execution_count": null,
   "metadata": {},
   "outputs": [],
   "source": []
  },
  {
   "cell_type": "code",
   "execution_count": null,
   "metadata": {},
   "outputs": [],
   "source": []
  },
  {
   "cell_type": "code",
   "execution_count": null,
   "metadata": {},
   "outputs": [],
   "source": []
  },
  {
   "cell_type": "code",
   "execution_count": null,
   "metadata": {},
   "outputs": [],
   "source": []
  },
  {
   "cell_type": "code",
   "execution_count": null,
   "metadata": {},
   "outputs": [],
   "source": []
  }
 ],
 "metadata": {
  "kernelspec": {
   "display_name": "Python 3",
   "language": "python",
   "name": "python3"
  },
  "language_info": {
   "codemirror_mode": {
    "name": "ipython",
    "version": 3
   },
   "file_extension": ".py",
   "mimetype": "text/x-python",
   "name": "python",
   "nbconvert_exporter": "python",
   "pygments_lexer": "ipython3",
   "version": "3.6.5"
  }
 },
 "nbformat": 4,
 "nbformat_minor": 2
}
