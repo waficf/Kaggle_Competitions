{
 "cells": [
  {
   "cell_type": "code",
   "execution_count": 1,
   "metadata": {},
   "outputs": [],
   "source": [
    "import pandas as pd\n",
    "import numpy as np"
   ]
  },
  {
   "cell_type": "code",
   "execution_count": 53,
   "metadata": {},
   "outputs": [],
   "source": [
    "df_1 = pd.read_csv('Data/Questions_Answers.csv')\n",
    "df_2 = pd.read_csv('Data/User_Question_Answer.csv', low_memory=False)"
   ]
  },
  {
   "cell_type": "code",
   "execution_count": 61,
   "metadata": {},
   "outputs": [],
   "source": [
    "# Context manager to temporarily set options in the with statement context\n",
    "def display_all(df):\n",
    "    with pd.option_context('display.max_rows', 100000, 'display.max_columns', 100000):\n",
    "        display(df)"
   ]
  },
  {
   "cell_type": "markdown",
   "metadata": {},
   "source": [
    "## Preprocessing"
   ]
  },
  {
   "cell_type": "code",
   "execution_count": 100,
   "metadata": {},
   "outputs": [
    {
     "data": {
      "text/html": [
       "<div>\n",
       "<style scoped>\n",
       "    .dataframe tbody tr th:only-of-type {\n",
       "        vertical-align: middle;\n",
       "    }\n",
       "\n",
       "    .dataframe tbody tr th {\n",
       "        vertical-align: top;\n",
       "    }\n",
       "\n",
       "    .dataframe thead th {\n",
       "        text-align: right;\n",
       "    }\n",
       "</style>\n",
       "<table border=\"1\" class=\"dataframe\">\n",
       "  <thead>\n",
       "    <tr style=\"text-align: right;\">\n",
       "      <th></th>\n",
       "      <th>user_id</th>\n",
       "      <th>question_id</th>\n",
       "      <th>answer_id</th>\n",
       "      <th>datetimestamp</th>\n",
       "    </tr>\n",
       "  </thead>\n",
       "  <tbody>\n",
       "    <tr>\n",
       "      <th>0</th>\n",
       "      <td>10109</td>\n",
       "      <td>21045</td>\n",
       "      <td>60570</td>\n",
       "      <td>2018-09-06 16:18:02</td>\n",
       "    </tr>\n",
       "    <tr>\n",
       "      <th>1</th>\n",
       "      <td>10135</td>\n",
       "      <td>21045</td>\n",
       "      <td>60571</td>\n",
       "      <td>2018-09-06 15:20:57</td>\n",
       "    </tr>\n",
       "    <tr>\n",
       "      <th>2</th>\n",
       "      <td>10237</td>\n",
       "      <td>21045</td>\n",
       "      <td>60571</td>\n",
       "      <td>2018-09-06 13:30:05</td>\n",
       "    </tr>\n",
       "    <tr>\n",
       "      <th>3</th>\n",
       "      <td>10261</td>\n",
       "      <td>21045</td>\n",
       "      <td>60570</td>\n",
       "      <td>2018-09-06 14:40:45</td>\n",
       "    </tr>\n",
       "    <tr>\n",
       "      <th>4</th>\n",
       "      <td>10268</td>\n",
       "      <td>21045</td>\n",
       "      <td>60571</td>\n",
       "      <td>2018-09-06 15:06:17</td>\n",
       "    </tr>\n",
       "  </tbody>\n",
       "</table>\n",
       "</div>"
      ],
      "text/plain": [
       "   user_id  question_id answer_id       datetimestamp\n",
       "0    10109        21045     60570 2018-09-06 16:18:02\n",
       "1    10135        21045     60571 2018-09-06 15:20:57\n",
       "2    10237        21045     60571 2018-09-06 13:30:05\n",
       "3    10261        21045     60570 2018-09-06 14:40:45\n",
       "4    10268        21045     60571 2018-09-06 15:06:17"
      ]
     },
     "execution_count": 100,
     "metadata": {},
     "output_type": "execute_result"
    }
   ],
   "source": [
    "df_2.head()"
   ]
  },
  {
   "cell_type": "code",
   "execution_count": 59,
   "metadata": {},
   "outputs": [
    {
     "data": {
      "text/plain": [
       "(512410, 7243)"
      ]
     },
     "execution_count": 59,
     "metadata": {},
     "output_type": "execute_result"
    }
   ],
   "source": [
    "len(df_2), df_2.user_id.nunique()"
   ]
  },
  {
   "cell_type": "code",
   "execution_count": 60,
   "metadata": {},
   "outputs": [
    {
     "data": {
      "text/plain": [
       "0    2018-09-06 16:18:02\n",
       "1    2018-09-06 15:20:57\n",
       "2    2018-09-06 13:30:05\n",
       "3    2018-09-06 14:40:45\n",
       "4    2018-09-06 15:06:17\n",
       "Name: datetimestamp, dtype: object"
      ]
     },
     "execution_count": 60,
     "metadata": {},
     "output_type": "execute_result"
    }
   ],
   "source": [
    "df_2['datetimestamp'].head()"
   ]
  },
  {
   "cell_type": "code",
   "execution_count": 76,
   "metadata": {},
   "outputs": [
    {
     "data": {
      "text/html": [
       "<div>\n",
       "<style scoped>\n",
       "    .dataframe tbody tr th:only-of-type {\n",
       "        vertical-align: middle;\n",
       "    }\n",
       "\n",
       "    .dataframe tbody tr th {\n",
       "        vertical-align: top;\n",
       "    }\n",
       "\n",
       "    .dataframe thead th {\n",
       "        text-align: right;\n",
       "    }\n",
       "</style>\n",
       "<table border=\"1\" class=\"dataframe\">\n",
       "  <thead>\n",
       "    <tr style=\"text-align: right;\">\n",
       "      <th></th>\n",
       "      <th>user_id</th>\n",
       "      <th>question_id</th>\n",
       "      <th>answer_id</th>\n",
       "      <th>datetimestamp</th>\n",
       "    </tr>\n",
       "  </thead>\n",
       "  <tbody>\n",
       "    <tr>\n",
       "      <th>119871</th>\n",
       "      <td>82778</td>\n",
       "      <td>6</td>\n",
       "      <td>2018-09-12 19:09:06</td>\n",
       "      <td>NaN</td>\n",
       "    </tr>\n",
       "  </tbody>\n",
       "</table>\n",
       "</div>"
      ],
      "text/plain": [
       "        user_id  question_id            answer_id datetimestamp\n",
       "119871    82778            6  2018-09-12 19:09:06           NaN"
      ]
     },
     "execution_count": 76,
     "metadata": {},
     "output_type": "execute_result"
    }
   ],
   "source": [
    "# Check if any row contains a null\n",
    "df_2[df_2['datetimestamp'].isnull()]"
   ]
  },
  {
   "cell_type": "code",
   "execution_count": 82,
   "metadata": {},
   "outputs": [
    {
     "data": {
      "text/html": [
       "<div>\n",
       "<style scoped>\n",
       "    .dataframe tbody tr th:only-of-type {\n",
       "        vertical-align: middle;\n",
       "    }\n",
       "\n",
       "    .dataframe tbody tr th {\n",
       "        vertical-align: top;\n",
       "    }\n",
       "\n",
       "    .dataframe thead th {\n",
       "        text-align: right;\n",
       "    }\n",
       "</style>\n",
       "<table border=\"1\" class=\"dataframe\">\n",
       "  <thead>\n",
       "    <tr style=\"text-align: right;\">\n",
       "      <th></th>\n",
       "      <th>user_id</th>\n",
       "      <th>question_id</th>\n",
       "      <th>answer_id</th>\n",
       "      <th>datetimestamp</th>\n",
       "    </tr>\n",
       "  </thead>\n",
       "  <tbody>\n",
       "    <tr>\n",
       "      <th>291489</th>\n",
       "      <td>92579</td>\n",
       "      <td>21545</td>\n",
       "      <td>61865</td>\n",
       "      <td>2018-09-17 14:56:5,61898,2018-09-15 21:21:00\"</td>\n",
       "    </tr>\n",
       "  </tbody>\n",
       "</table>\n",
       "</div>"
      ],
      "text/plain": [
       "        user_id  question_id answer_id  \\\n",
       "291489    92579        21545     61865   \n",
       "\n",
       "                                        datetimestamp  \n",
       "291489  2018-09-17 14:56:5,61898,2018-09-15 21:21:00\"  "
      ]
     },
     "execution_count": 82,
     "metadata": {},
     "output_type": "execute_result"
    }
   ],
   "source": [
    "df_2[df_2['datetimestamp'] == '2018-09-17 14:56:5,61898,2018-09-15 21:21:00\"']"
   ]
  },
  {
   "cell_type": "code",
   "execution_count": 85,
   "metadata": {},
   "outputs": [
    {
     "data": {
      "text/html": [
       "<div>\n",
       "<style scoped>\n",
       "    .dataframe tbody tr th:only-of-type {\n",
       "        vertical-align: middle;\n",
       "    }\n",
       "\n",
       "    .dataframe tbody tr th {\n",
       "        vertical-align: top;\n",
       "    }\n",
       "\n",
       "    .dataframe thead th {\n",
       "        text-align: right;\n",
       "    }\n",
       "</style>\n",
       "<table border=\"1\" class=\"dataframe\">\n",
       "  <thead>\n",
       "    <tr style=\"text-align: right;\">\n",
       "      <th></th>\n",
       "      <th>user_id</th>\n",
       "      <th>question_id</th>\n",
       "      <th>answer_id</th>\n",
       "      <th>datetimestamp</th>\n",
       "    </tr>\n",
       "  </thead>\n",
       "  <tbody>\n",
       "    <tr>\n",
       "      <th>294320</th>\n",
       "      <td>75880</td>\n",
       "      <td>21559</td>\n",
       "      <td>61902</td>\n",
       "      <td>2018-09-18 13:0:\\r\\n74517,21562,61910,2018-09-...</td>\n",
       "    </tr>\n",
       "  </tbody>\n",
       "</table>\n",
       "</div>"
      ],
      "text/plain": [
       "        user_id  question_id answer_id  \\\n",
       "294320    75880        21559     61902   \n",
       "\n",
       "                                            datetimestamp  \n",
       "294320  2018-09-18 13:0:\\r\\n74517,21562,61910,2018-09-...  "
      ]
     },
     "execution_count": 85,
     "metadata": {},
     "output_type": "execute_result"
    }
   ],
   "source": [
    "df_2[df_2['datetimestamp'] == '2018-09-18 13:0:\\r\\n74517,21562,61910,2018-09-16 07:01:52\"']"
   ]
  },
  {
   "cell_type": "code",
   "execution_count": 77,
   "metadata": {},
   "outputs": [],
   "source": [
    "# Dropped the above corrupt rows\n",
    "df_2.drop(index=119871, inplace=True)\n",
    "df_2.drop(index=291489, inplace=True)\n",
    "df_2.drop(index=294320, inplace=True)"
   ]
  },
  {
   "cell_type": "code",
   "execution_count": 87,
   "metadata": {},
   "outputs": [],
   "source": [
    "# Convert datetimestamp from object type to datetime type\n",
    "df_2['datetimestamp'] = pd.to_datetime(df_2['datetimestamp'])"
   ]
  },
  {
   "cell_type": "code",
   "execution_count": 88,
   "metadata": {},
   "outputs": [
    {
     "data": {
      "text/plain": [
       "user_id                   int64\n",
       "question_id               int64\n",
       "answer_id                object\n",
       "datetimestamp    datetime64[ns]\n",
       "dtype: object"
      ]
     },
     "execution_count": 88,
     "metadata": {},
     "output_type": "execute_result"
    }
   ],
   "source": [
    "df_2.dtypes"
   ]
  },
  {
   "cell_type": "code",
   "execution_count": 89,
   "metadata": {},
   "outputs": [
    {
     "name": "stdout",
     "output_type": "stream",
     "text": [
      "<class 'pandas.core.frame.DataFrame'>\n",
      "Int64Index: 512407 entries, 0 to 512409\n",
      "Data columns (total 4 columns):\n",
      "user_id          512407 non-null int64\n",
      "question_id      512407 non-null int64\n",
      "answer_id        509801 non-null object\n",
      "datetimestamp    512407 non-null datetime64[ns]\n",
      "dtypes: datetime64[ns](1), int64(2), object(1)\n",
      "memory usage: 19.5+ MB\n"
     ]
    }
   ],
   "source": [
    "df_2.info()"
   ]
  },
  {
   "cell_type": "code",
   "execution_count": 98,
   "metadata": {},
   "outputs": [],
   "source": [
    "# Dropped rows in null answers for now, although in real model this might be very important feature\n",
    "df_2.dropna(inplace=True)"
   ]
  },
  {
   "cell_type": "code",
   "execution_count": 99,
   "metadata": {},
   "outputs": [
    {
     "name": "stdout",
     "output_type": "stream",
     "text": [
      "<class 'pandas.core.frame.DataFrame'>\n",
      "Int64Index: 509801 entries, 0 to 512409\n",
      "Data columns (total 4 columns):\n",
      "user_id          509801 non-null int64\n",
      "question_id      509801 non-null int64\n",
      "answer_id        509801 non-null object\n",
      "datetimestamp    509801 non-null datetime64[ns]\n",
      "dtypes: datetime64[ns](1), int64(2), object(1)\n",
      "memory usage: 19.4+ MB\n"
     ]
    }
   ],
   "source": [
    "df_2.info()"
   ]
  },
  {
   "cell_type": "code",
   "execution_count": 108,
   "metadata": {},
   "outputs": [
    {
     "data": {
      "text/html": [
       "<div>\n",
       "<style scoped>\n",
       "    .dataframe tbody tr th:only-of-type {\n",
       "        vertical-align: middle;\n",
       "    }\n",
       "\n",
       "    .dataframe tbody tr th {\n",
       "        vertical-align: top;\n",
       "    }\n",
       "\n",
       "    .dataframe thead th {\n",
       "        text-align: right;\n",
       "    }\n",
       "</style>\n",
       "<table border=\"1\" class=\"dataframe\">\n",
       "  <thead>\n",
       "    <tr style=\"text-align: right;\">\n",
       "      <th></th>\n",
       "      <th>user_id</th>\n",
       "      <th>question_id</th>\n",
       "      <th>answer_id</th>\n",
       "      <th>datetimestamp</th>\n",
       "    </tr>\n",
       "  </thead>\n",
       "  <tbody>\n",
       "    <tr>\n",
       "      <th>0</th>\n",
       "      <td>10109</td>\n",
       "      <td>21045</td>\n",
       "      <td>60570</td>\n",
       "      <td>2018-09-06 16:18:02</td>\n",
       "    </tr>\n",
       "    <tr>\n",
       "      <th>1</th>\n",
       "      <td>10135</td>\n",
       "      <td>21045</td>\n",
       "      <td>60571</td>\n",
       "      <td>2018-09-06 15:20:57</td>\n",
       "    </tr>\n",
       "    <tr>\n",
       "      <th>2</th>\n",
       "      <td>10237</td>\n",
       "      <td>21045</td>\n",
       "      <td>60571</td>\n",
       "      <td>2018-09-06 13:30:05</td>\n",
       "    </tr>\n",
       "    <tr>\n",
       "      <th>3</th>\n",
       "      <td>10261</td>\n",
       "      <td>21045</td>\n",
       "      <td>60570</td>\n",
       "      <td>2018-09-06 14:40:45</td>\n",
       "    </tr>\n",
       "    <tr>\n",
       "      <th>4</th>\n",
       "      <td>10268</td>\n",
       "      <td>21045</td>\n",
       "      <td>60571</td>\n",
       "      <td>2018-09-06 15:06:17</td>\n",
       "    </tr>\n",
       "  </tbody>\n",
       "</table>\n",
       "</div>"
      ],
      "text/plain": [
       "   user_id  question_id answer_id       datetimestamp\n",
       "0    10109        21045     60570 2018-09-06 16:18:02\n",
       "1    10135        21045     60571 2018-09-06 15:20:57\n",
       "2    10237        21045     60571 2018-09-06 13:30:05\n",
       "3    10261        21045     60570 2018-09-06 14:40:45\n",
       "4    10268        21045     60571 2018-09-06 15:06:17"
      ]
     },
     "execution_count": 108,
     "metadata": {},
     "output_type": "execute_result"
    }
   ],
   "source": [
    "df_2.head()"
   ]
  },
  {
   "cell_type": "markdown",
   "metadata": {},
   "source": [
    "> df_2 is clean and ready to be processed in feature engineering"
   ]
  },
  {
   "cell_type": "code",
   "execution_count": 102,
   "metadata": {},
   "outputs": [
    {
     "data": {
      "text/html": [
       "<div>\n",
       "<style scoped>\n",
       "    .dataframe tbody tr th:only-of-type {\n",
       "        vertical-align: middle;\n",
       "    }\n",
       "\n",
       "    .dataframe tbody tr th {\n",
       "        vertical-align: top;\n",
       "    }\n",
       "\n",
       "    .dataframe thead th {\n",
       "        text-align: right;\n",
       "    }\n",
       "</style>\n",
       "<table border=\"1\" class=\"dataframe\">\n",
       "  <thead>\n",
       "    <tr style=\"text-align: right;\">\n",
       "      <th></th>\n",
       "      <th>question_id</th>\n",
       "      <th>title</th>\n",
       "      <th>start_age</th>\n",
       "      <th>end_age</th>\n",
       "      <th>sex_id</th>\n",
       "      <th>category_id</th>\n",
       "      <th>nb_targets</th>\n",
       "      <th>nb_points</th>\n",
       "      <th>created_at</th>\n",
       "      <th>updated_at</th>\n",
       "      <th>topic_id</th>\n",
       "      <th>prefered_lang</th>\n",
       "      <th>rank</th>\n",
       "      <th>Total_Number_of_Answers</th>\n",
       "      <th>answer_id</th>\n",
       "      <th>description</th>\n",
       "      <th>Number_Of_Answers</th>\n",
       "    </tr>\n",
       "  </thead>\n",
       "  <tbody>\n",
       "    <tr>\n",
       "      <th>0</th>\n",
       "      <td>21045</td>\n",
       "      <td>Are you trying to lose weight?</td>\n",
       "      <td>10</td>\n",
       "      <td>80</td>\n",
       "      <td>0.0</td>\n",
       "      <td>7</td>\n",
       "      <td>3000</td>\n",
       "      <td>1</td>\n",
       "      <td>2018-09-06 01:23:42</td>\n",
       "      <td>2018-09-06 15:12:03</td>\n",
       "      <td>0</td>\n",
       "      <td>0.0</td>\n",
       "      <td>0</td>\n",
       "      <td>3000</td>\n",
       "      <td>60570</td>\n",
       "      <td>Yes</td>\n",
       "      <td>1943</td>\n",
       "    </tr>\n",
       "    <tr>\n",
       "      <th>1</th>\n",
       "      <td>21045</td>\n",
       "      <td>Are you trying to lose weight?</td>\n",
       "      <td>10</td>\n",
       "      <td>80</td>\n",
       "      <td>0.0</td>\n",
       "      <td>7</td>\n",
       "      <td>3000</td>\n",
       "      <td>1</td>\n",
       "      <td>2018-09-06 01:23:42</td>\n",
       "      <td>2018-09-06 15:12:03</td>\n",
       "      <td>0</td>\n",
       "      <td>0.0</td>\n",
       "      <td>0</td>\n",
       "      <td>3000</td>\n",
       "      <td>60571</td>\n",
       "      <td>No</td>\n",
       "      <td>1057</td>\n",
       "    </tr>\n",
       "    <tr>\n",
       "      <th>2</th>\n",
       "      <td>21104</td>\n",
       "      <td>Which water brand do you prefer?</td>\n",
       "      <td>10</td>\n",
       "      <td>80</td>\n",
       "      <td>0.0</td>\n",
       "      <td>12</td>\n",
       "      <td>2000</td>\n",
       "      <td>1</td>\n",
       "      <td>2018-09-07 12:51:52</td>\n",
       "      <td>2018-09-07 12:55:01</td>\n",
       "      <td>0</td>\n",
       "      <td>NaN</td>\n",
       "      <td>1</td>\n",
       "      <td>2000</td>\n",
       "      <td>60724</td>\n",
       "      <td>Sohat</td>\n",
       "      <td>698</td>\n",
       "    </tr>\n",
       "    <tr>\n",
       "      <th>3</th>\n",
       "      <td>21104</td>\n",
       "      <td>Which water brand do you prefer?</td>\n",
       "      <td>10</td>\n",
       "      <td>80</td>\n",
       "      <td>0.0</td>\n",
       "      <td>12</td>\n",
       "      <td>2000</td>\n",
       "      <td>1</td>\n",
       "      <td>2018-09-07 12:51:52</td>\n",
       "      <td>2018-09-07 12:55:01</td>\n",
       "      <td>0</td>\n",
       "      <td>NaN</td>\n",
       "      <td>1</td>\n",
       "      <td>2000</td>\n",
       "      <td>60725</td>\n",
       "      <td>Rim</td>\n",
       "      <td>337</td>\n",
       "    </tr>\n",
       "    <tr>\n",
       "      <th>4</th>\n",
       "      <td>21104</td>\n",
       "      <td>Which water brand do you prefer?</td>\n",
       "      <td>10</td>\n",
       "      <td>80</td>\n",
       "      <td>0.0</td>\n",
       "      <td>12</td>\n",
       "      <td>2000</td>\n",
       "      <td>1</td>\n",
       "      <td>2018-09-07 12:51:52</td>\n",
       "      <td>2018-09-07 12:55:01</td>\n",
       "      <td>0</td>\n",
       "      <td>NaN</td>\n",
       "      <td>1</td>\n",
       "      <td>2000</td>\n",
       "      <td>60726</td>\n",
       "      <td>Sannine</td>\n",
       "      <td>139</td>\n",
       "    </tr>\n",
       "  </tbody>\n",
       "</table>\n",
       "</div>"
      ],
      "text/plain": [
       "   question_id                             title  start_age  end_age  sex_id  \\\n",
       "0        21045    Are you trying to lose weight?         10       80     0.0   \n",
       "1        21045    Are you trying to lose weight?         10       80     0.0   \n",
       "2        21104  Which water brand do you prefer?         10       80     0.0   \n",
       "3        21104  Which water brand do you prefer?         10       80     0.0   \n",
       "4        21104  Which water brand do you prefer?         10       80     0.0   \n",
       "\n",
       "   category_id  nb_targets  nb_points           created_at  \\\n",
       "0            7        3000          1  2018-09-06 01:23:42   \n",
       "1            7        3000          1  2018-09-06 01:23:42   \n",
       "2           12        2000          1  2018-09-07 12:51:52   \n",
       "3           12        2000          1  2018-09-07 12:51:52   \n",
       "4           12        2000          1  2018-09-07 12:51:52   \n",
       "\n",
       "            updated_at  topic_id  prefered_lang  rank  \\\n",
       "0  2018-09-06 15:12:03         0            0.0     0   \n",
       "1  2018-09-06 15:12:03         0            0.0     0   \n",
       "2  2018-09-07 12:55:01         0            NaN     1   \n",
       "3  2018-09-07 12:55:01         0            NaN     1   \n",
       "4  2018-09-07 12:55:01         0            NaN     1   \n",
       "\n",
       "   Total_Number_of_Answers  answer_id description  Number_Of_Answers  \n",
       "0                     3000      60570         Yes               1943  \n",
       "1                     3000      60571          No               1057  \n",
       "2                     2000      60724       Sohat                698  \n",
       "3                     2000      60725         Rim                337  \n",
       "4                     2000      60726     Sannine                139  "
      ]
     },
     "execution_count": 102,
     "metadata": {},
     "output_type": "execute_result"
    }
   ],
   "source": [
    "df_1.head()"
   ]
  },
  {
   "cell_type": "code",
   "execution_count": 13,
   "metadata": {},
   "outputs": [
    {
     "data": {
      "text/html": [
       "<div>\n",
       "<style scoped>\n",
       "    .dataframe tbody tr th:only-of-type {\n",
       "        vertical-align: middle;\n",
       "    }\n",
       "\n",
       "    .dataframe tbody tr th {\n",
       "        vertical-align: top;\n",
       "    }\n",
       "\n",
       "    .dataframe thead th {\n",
       "        text-align: right;\n",
       "    }\n",
       "</style>\n",
       "<table border=\"1\" class=\"dataframe\">\n",
       "  <thead>\n",
       "    <tr style=\"text-align: right;\">\n",
       "      <th></th>\n",
       "      <th>question_id</th>\n",
       "      <th>title</th>\n",
       "      <th>start_age</th>\n",
       "      <th>end_age</th>\n",
       "      <th>sex_id</th>\n",
       "      <th>category_id</th>\n",
       "      <th>nb_targets</th>\n",
       "      <th>nb_points</th>\n",
       "      <th>created_at</th>\n",
       "      <th>updated_at</th>\n",
       "      <th>topic_id</th>\n",
       "      <th>prefered_lang</th>\n",
       "      <th>rank</th>\n",
       "      <th>Total_Number_of_Answers</th>\n",
       "      <th>answer_id</th>\n",
       "      <th>description</th>\n",
       "      <th>Number_Of_Answers</th>\n",
       "    </tr>\n",
       "  </thead>\n",
       "  <tbody>\n",
       "    <tr>\n",
       "      <th>0</th>\n",
       "      <td>21045</td>\n",
       "      <td>Are you trying to lose weight?</td>\n",
       "      <td>10</td>\n",
       "      <td>80</td>\n",
       "      <td>0.0</td>\n",
       "      <td>7</td>\n",
       "      <td>3000</td>\n",
       "      <td>1</td>\n",
       "      <td>2018-09-06 01:23:42</td>\n",
       "      <td>2018-09-06 15:12:03</td>\n",
       "      <td>0</td>\n",
       "      <td>0.0</td>\n",
       "      <td>0</td>\n",
       "      <td>3000</td>\n",
       "      <td>60570</td>\n",
       "      <td>Yes</td>\n",
       "      <td>1943</td>\n",
       "    </tr>\n",
       "    <tr>\n",
       "      <th>1</th>\n",
       "      <td>21045</td>\n",
       "      <td>Are you trying to lose weight?</td>\n",
       "      <td>10</td>\n",
       "      <td>80</td>\n",
       "      <td>0.0</td>\n",
       "      <td>7</td>\n",
       "      <td>3000</td>\n",
       "      <td>1</td>\n",
       "      <td>2018-09-06 01:23:42</td>\n",
       "      <td>2018-09-06 15:12:03</td>\n",
       "      <td>0</td>\n",
       "      <td>0.0</td>\n",
       "      <td>0</td>\n",
       "      <td>3000</td>\n",
       "      <td>60571</td>\n",
       "      <td>No</td>\n",
       "      <td>1057</td>\n",
       "    </tr>\n",
       "  </tbody>\n",
       "</table>\n",
       "</div>"
      ],
      "text/plain": [
       "   question_id                           title  start_age  end_age  sex_id  \\\n",
       "0        21045  Are you trying to lose weight?         10       80     0.0   \n",
       "1        21045  Are you trying to lose weight?         10       80     0.0   \n",
       "\n",
       "   category_id  nb_targets  nb_points           created_at  \\\n",
       "0            7        3000          1  2018-09-06 01:23:42   \n",
       "1            7        3000          1  2018-09-06 01:23:42   \n",
       "\n",
       "            updated_at  topic_id  prefered_lang  rank  \\\n",
       "0  2018-09-06 15:12:03         0            0.0     0   \n",
       "1  2018-09-06 15:12:03         0            0.0     0   \n",
       "\n",
       "   Total_Number_of_Answers  answer_id description  Number_Of_Answers  \n",
       "0                     3000      60570         Yes               1943  \n",
       "1                     3000      60571          No               1057  "
      ]
     },
     "execution_count": 13,
     "metadata": {},
     "output_type": "execute_result"
    }
   ],
   "source": [
    "df_1[df_1.question_id == 21045]"
   ]
  },
  {
   "cell_type": "code",
   "execution_count": 103,
   "metadata": {},
   "outputs": [
    {
     "data": {
      "text/html": [
       "<div>\n",
       "<style scoped>\n",
       "    .dataframe tbody tr th:only-of-type {\n",
       "        vertical-align: middle;\n",
       "    }\n",
       "\n",
       "    .dataframe tbody tr th {\n",
       "        vertical-align: top;\n",
       "    }\n",
       "\n",
       "    .dataframe thead th {\n",
       "        text-align: right;\n",
       "    }\n",
       "</style>\n",
       "<table border=\"1\" class=\"dataframe\">\n",
       "  <thead>\n",
       "    <tr style=\"text-align: right;\">\n",
       "      <th></th>\n",
       "      <th>question_id</th>\n",
       "      <th>title</th>\n",
       "      <th>start_age</th>\n",
       "      <th>end_age</th>\n",
       "      <th>sex_id</th>\n",
       "      <th>category_id</th>\n",
       "      <th>nb_targets</th>\n",
       "      <th>nb_points</th>\n",
       "      <th>created_at</th>\n",
       "      <th>updated_at</th>\n",
       "      <th>topic_id</th>\n",
       "      <th>prefered_lang</th>\n",
       "      <th>rank</th>\n",
       "      <th>Total_Number_of_Answers</th>\n",
       "      <th>answer_id</th>\n",
       "      <th>description</th>\n",
       "      <th>Number_Of_Answers</th>\n",
       "    </tr>\n",
       "  </thead>\n",
       "  <tbody>\n",
       "    <tr>\n",
       "      <th>2</th>\n",
       "      <td>21104</td>\n",
       "      <td>Which water brand do you prefer?</td>\n",
       "      <td>10</td>\n",
       "      <td>80</td>\n",
       "      <td>0.0</td>\n",
       "      <td>12</td>\n",
       "      <td>2000</td>\n",
       "      <td>1</td>\n",
       "      <td>2018-09-07 12:51:52</td>\n",
       "      <td>2018-09-07 12:55:01</td>\n",
       "      <td>0</td>\n",
       "      <td>NaN</td>\n",
       "      <td>1</td>\n",
       "      <td>2000</td>\n",
       "      <td>60724</td>\n",
       "      <td>Sohat</td>\n",
       "      <td>698</td>\n",
       "    </tr>\n",
       "    <tr>\n",
       "      <th>3</th>\n",
       "      <td>21104</td>\n",
       "      <td>Which water brand do you prefer?</td>\n",
       "      <td>10</td>\n",
       "      <td>80</td>\n",
       "      <td>0.0</td>\n",
       "      <td>12</td>\n",
       "      <td>2000</td>\n",
       "      <td>1</td>\n",
       "      <td>2018-09-07 12:51:52</td>\n",
       "      <td>2018-09-07 12:55:01</td>\n",
       "      <td>0</td>\n",
       "      <td>NaN</td>\n",
       "      <td>1</td>\n",
       "      <td>2000</td>\n",
       "      <td>60725</td>\n",
       "      <td>Rim</td>\n",
       "      <td>337</td>\n",
       "    </tr>\n",
       "    <tr>\n",
       "      <th>4</th>\n",
       "      <td>21104</td>\n",
       "      <td>Which water brand do you prefer?</td>\n",
       "      <td>10</td>\n",
       "      <td>80</td>\n",
       "      <td>0.0</td>\n",
       "      <td>12</td>\n",
       "      <td>2000</td>\n",
       "      <td>1</td>\n",
       "      <td>2018-09-07 12:51:52</td>\n",
       "      <td>2018-09-07 12:55:01</td>\n",
       "      <td>0</td>\n",
       "      <td>NaN</td>\n",
       "      <td>1</td>\n",
       "      <td>2000</td>\n",
       "      <td>60726</td>\n",
       "      <td>Sannine</td>\n",
       "      <td>139</td>\n",
       "    </tr>\n",
       "    <tr>\n",
       "      <th>5</th>\n",
       "      <td>21104</td>\n",
       "      <td>Which water brand do you prefer?</td>\n",
       "      <td>10</td>\n",
       "      <td>80</td>\n",
       "      <td>0.0</td>\n",
       "      <td>12</td>\n",
       "      <td>2000</td>\n",
       "      <td>1</td>\n",
       "      <td>2018-09-07 12:51:52</td>\n",
       "      <td>2018-09-07 12:55:01</td>\n",
       "      <td>0</td>\n",
       "      <td>NaN</td>\n",
       "      <td>1</td>\n",
       "      <td>2000</td>\n",
       "      <td>60727</td>\n",
       "      <td>Nestle Pure Water</td>\n",
       "      <td>417</td>\n",
       "    </tr>\n",
       "    <tr>\n",
       "      <th>6</th>\n",
       "      <td>21104</td>\n",
       "      <td>Which water brand do you prefer?</td>\n",
       "      <td>10</td>\n",
       "      <td>80</td>\n",
       "      <td>0.0</td>\n",
       "      <td>12</td>\n",
       "      <td>2000</td>\n",
       "      <td>1</td>\n",
       "      <td>2018-09-07 12:51:52</td>\n",
       "      <td>2018-09-07 12:55:01</td>\n",
       "      <td>0</td>\n",
       "      <td>NaN</td>\n",
       "      <td>1</td>\n",
       "      <td>2000</td>\n",
       "      <td>60728</td>\n",
       "      <td>Tannourine</td>\n",
       "      <td>409</td>\n",
       "    </tr>\n",
       "  </tbody>\n",
       "</table>\n",
       "</div>"
      ],
      "text/plain": [
       "   question_id                             title  start_age  end_age  sex_id  \\\n",
       "2        21104  Which water brand do you prefer?         10       80     0.0   \n",
       "3        21104  Which water brand do you prefer?         10       80     0.0   \n",
       "4        21104  Which water brand do you prefer?         10       80     0.0   \n",
       "5        21104  Which water brand do you prefer?         10       80     0.0   \n",
       "6        21104  Which water brand do you prefer?         10       80     0.0   \n",
       "\n",
       "   category_id  nb_targets  nb_points           created_at  \\\n",
       "2           12        2000          1  2018-09-07 12:51:52   \n",
       "3           12        2000          1  2018-09-07 12:51:52   \n",
       "4           12        2000          1  2018-09-07 12:51:52   \n",
       "5           12        2000          1  2018-09-07 12:51:52   \n",
       "6           12        2000          1  2018-09-07 12:51:52   \n",
       "\n",
       "            updated_at  topic_id  prefered_lang  rank  \\\n",
       "2  2018-09-07 12:55:01         0            NaN     1   \n",
       "3  2018-09-07 12:55:01         0            NaN     1   \n",
       "4  2018-09-07 12:55:01         0            NaN     1   \n",
       "5  2018-09-07 12:55:01         0            NaN     1   \n",
       "6  2018-09-07 12:55:01         0            NaN     1   \n",
       "\n",
       "   Total_Number_of_Answers  answer_id        description  Number_Of_Answers  \n",
       "2                     2000      60724              Sohat                698  \n",
       "3                     2000      60725                Rim                337  \n",
       "4                     2000      60726            Sannine                139  \n",
       "5                     2000      60727  Nestle Pure Water                417  \n",
       "6                     2000      60728         Tannourine                409  "
      ]
     },
     "execution_count": 103,
     "metadata": {},
     "output_type": "execute_result"
    }
   ],
   "source": [
    "df_1[df_1.question_id == 21104]"
   ]
  },
  {
   "cell_type": "code",
   "execution_count": 143,
   "metadata": {},
   "outputs": [],
   "source": [
    "# For now we will only these columns \n",
    "df_q = df_1[['question_id', 'category_id', 'created_at', 'nb_points', 'sex_id']]"
   ]
  },
  {
   "cell_type": "code",
   "execution_count": 144,
   "metadata": {},
   "outputs": [
    {
     "data": {
      "text/plain": [
       "235"
      ]
     },
     "execution_count": 144,
     "metadata": {},
     "output_type": "execute_result"
    }
   ],
   "source": [
    "df_q.question_id.nunique()"
   ]
  },
  {
   "cell_type": "code",
   "execution_count": 145,
   "metadata": {},
   "outputs": [],
   "source": [
    "df_q = df_q.drop_duplicates().copy()"
   ]
  },
  {
   "cell_type": "code",
   "execution_count": 146,
   "metadata": {},
   "outputs": [],
   "source": [
    "df_q.reset_index(drop=True, inplace=True)"
   ]
  },
  {
   "cell_type": "code",
   "execution_count": 148,
   "metadata": {},
   "outputs": [
    {
     "data": {
      "text/html": [
       "<div>\n",
       "<style scoped>\n",
       "    .dataframe tbody tr th:only-of-type {\n",
       "        vertical-align: middle;\n",
       "    }\n",
       "\n",
       "    .dataframe tbody tr th {\n",
       "        vertical-align: top;\n",
       "    }\n",
       "\n",
       "    .dataframe thead th {\n",
       "        text-align: right;\n",
       "    }\n",
       "</style>\n",
       "<table border=\"1\" class=\"dataframe\">\n",
       "  <thead>\n",
       "    <tr style=\"text-align: right;\">\n",
       "      <th></th>\n",
       "      <th>question_id</th>\n",
       "      <th>category_id</th>\n",
       "      <th>created_at</th>\n",
       "      <th>nb_points</th>\n",
       "      <th>sex_id</th>\n",
       "    </tr>\n",
       "  </thead>\n",
       "  <tbody>\n",
       "    <tr>\n",
       "      <th>0</th>\n",
       "      <td>21045</td>\n",
       "      <td>7</td>\n",
       "      <td>2018-09-06 01:23:42</td>\n",
       "      <td>1</td>\n",
       "      <td>0.0</td>\n",
       "    </tr>\n",
       "    <tr>\n",
       "      <th>1</th>\n",
       "      <td>21104</td>\n",
       "      <td>12</td>\n",
       "      <td>2018-09-07 12:51:52</td>\n",
       "      <td>1</td>\n",
       "      <td>0.0</td>\n",
       "    </tr>\n",
       "    <tr>\n",
       "      <th>2</th>\n",
       "      <td>21106</td>\n",
       "      <td>10</td>\n",
       "      <td>2018-09-07 15:03:05</td>\n",
       "      <td>0</td>\n",
       "      <td>2.0</td>\n",
       "    </tr>\n",
       "    <tr>\n",
       "      <th>3</th>\n",
       "      <td>21107</td>\n",
       "      <td>10</td>\n",
       "      <td>2018-09-07 15:07:58</td>\n",
       "      <td>0</td>\n",
       "      <td>0.0</td>\n",
       "    </tr>\n",
       "    <tr>\n",
       "      <th>4</th>\n",
       "      <td>21108</td>\n",
       "      <td>10</td>\n",
       "      <td>2018-09-07 15:10:56</td>\n",
       "      <td>0</td>\n",
       "      <td>2.0</td>\n",
       "    </tr>\n",
       "  </tbody>\n",
       "</table>\n",
       "</div>"
      ],
      "text/plain": [
       "   question_id  category_id           created_at  nb_points  sex_id\n",
       "0        21045            7  2018-09-06 01:23:42          1     0.0\n",
       "1        21104           12  2018-09-07 12:51:52          1     0.0\n",
       "2        21106           10  2018-09-07 15:03:05          0     2.0\n",
       "3        21107           10  2018-09-07 15:07:58          0     0.0\n",
       "4        21108           10  2018-09-07 15:10:56          0     2.0"
      ]
     },
     "execution_count": 148,
     "metadata": {},
     "output_type": "execute_result"
    }
   ],
   "source": [
    "df_q.head()"
   ]
  },
  {
   "cell_type": "code",
   "execution_count": 150,
   "metadata": {},
   "outputs": [
    {
     "data": {
      "text/plain": [
       "question_id      int64\n",
       "category_id      int64\n",
       "created_at      object\n",
       "nb_points        int64\n",
       "sex_id         float64\n",
       "dtype: object"
      ]
     },
     "execution_count": 150,
     "metadata": {},
     "output_type": "execute_result"
    }
   ],
   "source": [
    "df_q.dtypes"
   ]
  },
  {
   "cell_type": "code",
   "execution_count": 151,
   "metadata": {},
   "outputs": [],
   "source": [
    "# Convert created_at from object type to datetime type\n",
    "df_q['created_at'] = pd.to_datetime(df_q['created_at'])"
   ]
  },
  {
   "cell_type": "code",
   "execution_count": 175,
   "metadata": {},
   "outputs": [
    {
     "data": {
      "text/html": [
       "<div>\n",
       "<style scoped>\n",
       "    .dataframe tbody tr th:only-of-type {\n",
       "        vertical-align: middle;\n",
       "    }\n",
       "\n",
       "    .dataframe tbody tr th {\n",
       "        vertical-align: top;\n",
       "    }\n",
       "\n",
       "    .dataframe thead th {\n",
       "        text-align: right;\n",
       "    }\n",
       "</style>\n",
       "<table border=\"1\" class=\"dataframe\">\n",
       "  <thead>\n",
       "    <tr style=\"text-align: right;\">\n",
       "      <th></th>\n",
       "      <th>question_id</th>\n",
       "      <th>category_id</th>\n",
       "      <th>created_at</th>\n",
       "      <th>nb_points</th>\n",
       "      <th>sex_id</th>\n",
       "    </tr>\n",
       "  </thead>\n",
       "  <tbody>\n",
       "    <tr>\n",
       "      <th>0</th>\n",
       "      <td>21045</td>\n",
       "      <td>7</td>\n",
       "      <td>2018-09-06 01:23:42</td>\n",
       "      <td>1</td>\n",
       "      <td>0.0</td>\n",
       "    </tr>\n",
       "    <tr>\n",
       "      <th>1</th>\n",
       "      <td>21104</td>\n",
       "      <td>12</td>\n",
       "      <td>2018-09-07 12:51:52</td>\n",
       "      <td>1</td>\n",
       "      <td>0.0</td>\n",
       "    </tr>\n",
       "    <tr>\n",
       "      <th>2</th>\n",
       "      <td>21106</td>\n",
       "      <td>10</td>\n",
       "      <td>2018-09-07 15:03:05</td>\n",
       "      <td>0</td>\n",
       "      <td>2.0</td>\n",
       "    </tr>\n",
       "    <tr>\n",
       "      <th>3</th>\n",
       "      <td>21107</td>\n",
       "      <td>10</td>\n",
       "      <td>2018-09-07 15:07:58</td>\n",
       "      <td>0</td>\n",
       "      <td>0.0</td>\n",
       "    </tr>\n",
       "    <tr>\n",
       "      <th>4</th>\n",
       "      <td>21108</td>\n",
       "      <td>10</td>\n",
       "      <td>2018-09-07 15:10:56</td>\n",
       "      <td>0</td>\n",
       "      <td>2.0</td>\n",
       "    </tr>\n",
       "  </tbody>\n",
       "</table>\n",
       "</div>"
      ],
      "text/plain": [
       "   question_id  category_id          created_at  nb_points  sex_id\n",
       "0        21045            7 2018-09-06 01:23:42          1     0.0\n",
       "1        21104           12 2018-09-07 12:51:52          1     0.0\n",
       "2        21106           10 2018-09-07 15:03:05          0     2.0\n",
       "3        21107           10 2018-09-07 15:07:58          0     0.0\n",
       "4        21108           10 2018-09-07 15:10:56          0     2.0"
      ]
     },
     "execution_count": 175,
     "metadata": {},
     "output_type": "execute_result"
    }
   ],
   "source": [
    "df_q.head()"
   ]
  },
  {
   "cell_type": "code",
   "execution_count": 152,
   "metadata": {},
   "outputs": [
    {
     "data": {
      "text/plain": [
       "question_id             int64\n",
       "category_id             int64\n",
       "created_at     datetime64[ns]\n",
       "nb_points               int64\n",
       "sex_id                float64\n",
       "dtype: object"
      ]
     },
     "execution_count": 152,
     "metadata": {},
     "output_type": "execute_result"
    }
   ],
   "source": [
    "df_q.dtypes"
   ]
  },
  {
   "cell_type": "code",
   "execution_count": 153,
   "metadata": {},
   "outputs": [
    {
     "data": {
      "text/plain": [
       "question_id    0\n",
       "category_id    0\n",
       "created_at     0\n",
       "nb_points      0\n",
       "sex_id         4\n",
       "dtype: int64"
      ]
     },
     "execution_count": 153,
     "metadata": {},
     "output_type": "execute_result"
    }
   ],
   "source": [
    "df_q.isnull().sum()"
   ]
  },
  {
   "cell_type": "code",
   "execution_count": 154,
   "metadata": {},
   "outputs": [
    {
     "data": {
      "text/plain": [
       "0.0    205\n",
       "2.0     17\n",
       "1.0      9\n",
       "Name: sex_id, dtype: int64"
      ]
     },
     "execution_count": 154,
     "metadata": {},
     "output_type": "execute_result"
    }
   ],
   "source": [
    "df_q.sex_id.value_counts()"
   ]
  },
  {
   "cell_type": "code",
   "execution_count": 156,
   "metadata": {},
   "outputs": [],
   "source": [
    "# Fill nulls with the highest value count above\n",
    "df_q.sex_id.fi llna(0, inplace=True)"
   ]
  },
  {
   "cell_type": "markdown",
   "metadata": {},
   "source": [
    "> df_q is clean and ready fpr processing"
   ]
  },
  {
   "cell_type": "markdown",
   "metadata": {},
   "source": [
    "## Merge two dataframes for one dataframe for feature engineering"
   ]
  },
  {
   "cell_type": "code",
   "execution_count": 230,
   "metadata": {},
   "outputs": [
    {
     "data": {
      "text/plain": [
       "(509801, 235)"
      ]
     },
     "execution_count": 230,
     "metadata": {},
     "output_type": "execute_result"
    }
   ],
   "source": [
    "len(df_2), len(df_q)"
   ]
  },
  {
   "cell_type": "code",
   "execution_count": 231,
   "metadata": {},
   "outputs": [
    {
     "data": {
      "text/plain": [
       "Index(['user_id', 'question_id', 'answer_id', 'datetimestamp'], dtype='object')"
      ]
     },
     "execution_count": 231,
     "metadata": {},
     "output_type": "execute_result"
    }
   ],
   "source": [
    "df_2.columns"
   ]
  },
  {
   "cell_type": "code",
   "execution_count": 232,
   "metadata": {},
   "outputs": [
    {
     "data": {
      "text/plain": [
       "Index(['question_id', 'category_id', 'created_at', 'nb_points', 'sex_id'], dtype='object')"
      ]
     },
     "execution_count": 232,
     "metadata": {},
     "output_type": "execute_result"
    }
   ],
   "source": [
    "df_q.columns"
   ]
  },
  {
   "cell_type": "code",
   "execution_count": 233,
   "metadata": {},
   "outputs": [],
   "source": [
    "df = df_2.merge(df_q, on='question_id')"
   ]
  },
  {
   "cell_type": "code",
   "execution_count": 234,
   "metadata": {},
   "outputs": [
    {
     "data": {
      "text/plain": [
       "509801"
      ]
     },
     "execution_count": 234,
     "metadata": {},
     "output_type": "execute_result"
    }
   ],
   "source": [
    "len(df)"
   ]
  },
  {
   "cell_type": "code",
   "execution_count": 235,
   "metadata": {},
   "outputs": [
    {
     "data": {
      "text/html": [
       "<div>\n",
       "<style scoped>\n",
       "    .dataframe tbody tr th:only-of-type {\n",
       "        vertical-align: middle;\n",
       "    }\n",
       "\n",
       "    .dataframe tbody tr th {\n",
       "        vertical-align: top;\n",
       "    }\n",
       "\n",
       "    .dataframe thead th {\n",
       "        text-align: right;\n",
       "    }\n",
       "</style>\n",
       "<table border=\"1\" class=\"dataframe\">\n",
       "  <thead>\n",
       "    <tr style=\"text-align: right;\">\n",
       "      <th></th>\n",
       "      <th>user_id</th>\n",
       "      <th>question_id</th>\n",
       "      <th>answer_id</th>\n",
       "      <th>datetimestamp</th>\n",
       "      <th>category_id</th>\n",
       "      <th>created_at</th>\n",
       "      <th>nb_points</th>\n",
       "      <th>sex_id</th>\n",
       "    </tr>\n",
       "  </thead>\n",
       "  <tbody>\n",
       "    <tr>\n",
       "      <th>509786</th>\n",
       "      <td>109229</td>\n",
       "      <td>21711</td>\n",
       "      <td>62311</td>\n",
       "      <td>2018-09-20 09:19:14</td>\n",
       "      <td>18</td>\n",
       "      <td>2018-09-19 22:45:10</td>\n",
       "      <td>1</td>\n",
       "      <td>0.0</td>\n",
       "    </tr>\n",
       "    <tr>\n",
       "      <th>509787</th>\n",
       "      <td>109231</td>\n",
       "      <td>21711</td>\n",
       "      <td>62311</td>\n",
       "      <td>2018-09-20 10:04:14</td>\n",
       "      <td>18</td>\n",
       "      <td>2018-09-19 22:45:10</td>\n",
       "      <td>1</td>\n",
       "      <td>0.0</td>\n",
       "    </tr>\n",
       "    <tr>\n",
       "      <th>509788</th>\n",
       "      <td>109240</td>\n",
       "      <td>21711</td>\n",
       "      <td>62311</td>\n",
       "      <td>2018-09-20 09:53:22</td>\n",
       "      <td>18</td>\n",
       "      <td>2018-09-19 22:45:10</td>\n",
       "      <td>1</td>\n",
       "      <td>0.0</td>\n",
       "    </tr>\n",
       "    <tr>\n",
       "      <th>509789</th>\n",
       "      <td>109251</td>\n",
       "      <td>21711</td>\n",
       "      <td>62311</td>\n",
       "      <td>2018-09-20 10:24:24</td>\n",
       "      <td>18</td>\n",
       "      <td>2018-09-19 22:45:10</td>\n",
       "      <td>1</td>\n",
       "      <td>0.0</td>\n",
       "    </tr>\n",
       "    <tr>\n",
       "      <th>509790</th>\n",
       "      <td>109264</td>\n",
       "      <td>21711</td>\n",
       "      <td>62311</td>\n",
       "      <td>2018-09-20 10:28:26</td>\n",
       "      <td>18</td>\n",
       "      <td>2018-09-19 22:45:10</td>\n",
       "      <td>1</td>\n",
       "      <td>0.0</td>\n",
       "    </tr>\n",
       "    <tr>\n",
       "      <th>509791</th>\n",
       "      <td>109265</td>\n",
       "      <td>21711</td>\n",
       "      <td>62311</td>\n",
       "      <td>2018-09-20 09:57:22</td>\n",
       "      <td>18</td>\n",
       "      <td>2018-09-19 22:45:10</td>\n",
       "      <td>1</td>\n",
       "      <td>0.0</td>\n",
       "    </tr>\n",
       "    <tr>\n",
       "      <th>509792</th>\n",
       "      <td>109268</td>\n",
       "      <td>21711</td>\n",
       "      <td>62311</td>\n",
       "      <td>2018-09-20 10:16:59</td>\n",
       "      <td>18</td>\n",
       "      <td>2018-09-19 22:45:10</td>\n",
       "      <td>1</td>\n",
       "      <td>0.0</td>\n",
       "    </tr>\n",
       "    <tr>\n",
       "      <th>509793</th>\n",
       "      <td>109269</td>\n",
       "      <td>21711</td>\n",
       "      <td>62311</td>\n",
       "      <td>2018-09-20 09:50:57</td>\n",
       "      <td>18</td>\n",
       "      <td>2018-09-19 22:45:10</td>\n",
       "      <td>1</td>\n",
       "      <td>0.0</td>\n",
       "    </tr>\n",
       "    <tr>\n",
       "      <th>509794</th>\n",
       "      <td>109273</td>\n",
       "      <td>21711</td>\n",
       "      <td>62310</td>\n",
       "      <td>2018-09-20 11:20:02</td>\n",
       "      <td>18</td>\n",
       "      <td>2018-09-19 22:45:10</td>\n",
       "      <td>1</td>\n",
       "      <td>0.0</td>\n",
       "    </tr>\n",
       "    <tr>\n",
       "      <th>509795</th>\n",
       "      <td>109278</td>\n",
       "      <td>21711</td>\n",
       "      <td>62310</td>\n",
       "      <td>2018-09-20 10:08:59</td>\n",
       "      <td>18</td>\n",
       "      <td>2018-09-19 22:45:10</td>\n",
       "      <td>1</td>\n",
       "      <td>0.0</td>\n",
       "    </tr>\n",
       "    <tr>\n",
       "      <th>509796</th>\n",
       "      <td>109291</td>\n",
       "      <td>21711</td>\n",
       "      <td>62310</td>\n",
       "      <td>2018-09-20 10:19:42</td>\n",
       "      <td>18</td>\n",
       "      <td>2018-09-19 22:45:10</td>\n",
       "      <td>1</td>\n",
       "      <td>0.0</td>\n",
       "    </tr>\n",
       "    <tr>\n",
       "      <th>509797</th>\n",
       "      <td>109303</td>\n",
       "      <td>21711</td>\n",
       "      <td>62310</td>\n",
       "      <td>2018-09-20 09:48:44</td>\n",
       "      <td>18</td>\n",
       "      <td>2018-09-19 22:45:10</td>\n",
       "      <td>1</td>\n",
       "      <td>0.0</td>\n",
       "    </tr>\n",
       "    <tr>\n",
       "      <th>509798</th>\n",
       "      <td>109304</td>\n",
       "      <td>21711</td>\n",
       "      <td>62310</td>\n",
       "      <td>2018-09-20 10:43:41</td>\n",
       "      <td>18</td>\n",
       "      <td>2018-09-19 22:45:10</td>\n",
       "      <td>1</td>\n",
       "      <td>0.0</td>\n",
       "    </tr>\n",
       "    <tr>\n",
       "      <th>509799</th>\n",
       "      <td>109318</td>\n",
       "      <td>21711</td>\n",
       "      <td>62311</td>\n",
       "      <td>2018-09-20 09:27:35</td>\n",
       "      <td>18</td>\n",
       "      <td>2018-09-19 22:45:10</td>\n",
       "      <td>1</td>\n",
       "      <td>0.0</td>\n",
       "    </tr>\n",
       "    <tr>\n",
       "      <th>509800</th>\n",
       "      <td>109323</td>\n",
       "      <td>21711</td>\n",
       "      <td>62311</td>\n",
       "      <td>2018-09-20 11:07:07</td>\n",
       "      <td>18</td>\n",
       "      <td>2018-09-19 22:45:10</td>\n",
       "      <td>1</td>\n",
       "      <td>0.0</td>\n",
       "    </tr>\n",
       "  </tbody>\n",
       "</table>\n",
       "</div>"
      ],
      "text/plain": [
       "        user_id  question_id answer_id       datetimestamp  category_id  \\\n",
       "509786   109229        21711     62311 2018-09-20 09:19:14           18   \n",
       "509787   109231        21711     62311 2018-09-20 10:04:14           18   \n",
       "509788   109240        21711     62311 2018-09-20 09:53:22           18   \n",
       "509789   109251        21711     62311 2018-09-20 10:24:24           18   \n",
       "509790   109264        21711     62311 2018-09-20 10:28:26           18   \n",
       "509791   109265        21711     62311 2018-09-20 09:57:22           18   \n",
       "509792   109268        21711     62311 2018-09-20 10:16:59           18   \n",
       "509793   109269        21711     62311 2018-09-20 09:50:57           18   \n",
       "509794   109273        21711     62310 2018-09-20 11:20:02           18   \n",
       "509795   109278        21711     62310 2018-09-20 10:08:59           18   \n",
       "509796   109291        21711     62310 2018-09-20 10:19:42           18   \n",
       "509797   109303        21711     62310 2018-09-20 09:48:44           18   \n",
       "509798   109304        21711     62310 2018-09-20 10:43:41           18   \n",
       "509799   109318        21711     62311 2018-09-20 09:27:35           18   \n",
       "509800   109323        21711     62311 2018-09-20 11:07:07           18   \n",
       "\n",
       "                created_at  nb_points  sex_id  \n",
       "509786 2018-09-19 22:45:10          1     0.0  \n",
       "509787 2018-09-19 22:45:10          1     0.0  \n",
       "509788 2018-09-19 22:45:10          1     0.0  \n",
       "509789 2018-09-19 22:45:10          1     0.0  \n",
       "509790 2018-09-19 22:45:10          1     0.0  \n",
       "509791 2018-09-19 22:45:10          1     0.0  \n",
       "509792 2018-09-19 22:45:10          1     0.0  \n",
       "509793 2018-09-19 22:45:10          1     0.0  \n",
       "509794 2018-09-19 22:45:10          1     0.0  \n",
       "509795 2018-09-19 22:45:10          1     0.0  \n",
       "509796 2018-09-19 22:45:10          1     0.0  \n",
       "509797 2018-09-19 22:45:10          1     0.0  \n",
       "509798 2018-09-19 22:45:10          1     0.0  \n",
       "509799 2018-09-19 22:45:10          1     0.0  \n",
       "509800 2018-09-19 22:45:10          1     0.0  "
      ]
     },
     "execution_count": 235,
     "metadata": {},
     "output_type": "execute_result"
    }
   ],
   "source": [
    "df.tail(15)"
   ]
  },
  {
   "cell_type": "code",
   "execution_count": 236,
   "metadata": {},
   "outputs": [
    {
     "name": "stdout",
     "output_type": "stream",
     "text": [
      "<class 'pandas.core.frame.DataFrame'>\n",
      "Int64Index: 509801 entries, 0 to 509800\n",
      "Data columns (total 8 columns):\n",
      "user_id          509801 non-null int64\n",
      "question_id      509801 non-null int64\n",
      "answer_id        509801 non-null object\n",
      "datetimestamp    509801 non-null datetime64[ns]\n",
      "category_id      509801 non-null int64\n",
      "created_at       509801 non-null datetime64[ns]\n",
      "nb_points        509801 non-null int64\n",
      "sex_id           509801 non-null float64\n",
      "dtypes: datetime64[ns](2), float64(1), int64(4), object(1)\n",
      "memory usage: 35.0+ MB\n"
     ]
    }
   ],
   "source": [
    "df.info()"
   ]
  },
  {
   "cell_type": "code",
   "execution_count": 237,
   "metadata": {},
   "outputs": [],
   "source": [
    "df.category_id = df.category_id.astype('category')\n",
    "df.sex_id = df.sex_id.astype('category')\n",
    "df.answer_id = df.answer_id.astype('category')"
   ]
  },
  {
   "cell_type": "code",
   "execution_count": 238,
   "metadata": {},
   "outputs": [
    {
     "name": "stdout",
     "output_type": "stream",
     "text": [
      "<class 'pandas.core.frame.DataFrame'>\n",
      "Int64Index: 509801 entries, 0 to 509800\n",
      "Data columns (total 8 columns):\n",
      "user_id          509801 non-null int64\n",
      "question_id      509801 non-null int64\n",
      "answer_id        509801 non-null category\n",
      "datetimestamp    509801 non-null datetime64[ns]\n",
      "category_id      509801 non-null category\n",
      "created_at       509801 non-null datetime64[ns]\n",
      "nb_points        509801 non-null int64\n",
      "sex_id           509801 non-null category\n",
      "dtypes: category(3), datetime64[ns](2), int64(3)\n",
      "memory usage: 25.3 MB\n"
     ]
    }
   ],
   "source": [
    "df.info()"
   ]
  },
  {
   "cell_type": "markdown",
   "metadata": {},
   "source": [
    "## Feature Engineering"
   ]
  },
  {
   "cell_type": "markdown",
   "metadata": {},
   "source": [
    "#### 1. Time difference between question and answer by user"
   ]
  },
  {
   "cell_type": "code",
   "execution_count": 239,
   "metadata": {},
   "outputs": [],
   "source": [
    "df['diff_time'] = (df['created_at'] - df['datetimestamp']).astype('timedelta64[h]')"
   ]
  },
  {
   "cell_type": "code",
   "execution_count": 240,
   "metadata": {},
   "outputs": [],
   "source": [
    "df['diff_time'] = df['diff_time'].abs()"
   ]
  },
  {
   "cell_type": "code",
   "execution_count": 241,
   "metadata": {},
   "outputs": [
    {
     "data": {
      "text/html": [
       "<div>\n",
       "<style scoped>\n",
       "    .dataframe tbody tr th:only-of-type {\n",
       "        vertical-align: middle;\n",
       "    }\n",
       "\n",
       "    .dataframe tbody tr th {\n",
       "        vertical-align: top;\n",
       "    }\n",
       "\n",
       "    .dataframe thead th {\n",
       "        text-align: right;\n",
       "    }\n",
       "</style>\n",
       "<table border=\"1\" class=\"dataframe\">\n",
       "  <thead>\n",
       "    <tr style=\"text-align: right;\">\n",
       "      <th></th>\n",
       "      <th>user_id</th>\n",
       "      <th>question_id</th>\n",
       "      <th>answer_id</th>\n",
       "      <th>datetimestamp</th>\n",
       "      <th>category_id</th>\n",
       "      <th>created_at</th>\n",
       "      <th>nb_points</th>\n",
       "      <th>sex_id</th>\n",
       "      <th>diff_time</th>\n",
       "    </tr>\n",
       "  </thead>\n",
       "  <tbody>\n",
       "    <tr>\n",
       "      <th>0</th>\n",
       "      <td>10109</td>\n",
       "      <td>21045</td>\n",
       "      <td>60570</td>\n",
       "      <td>2018-09-06 16:18:02</td>\n",
       "      <td>7</td>\n",
       "      <td>2018-09-06 01:23:42</td>\n",
       "      <td>1</td>\n",
       "      <td>0.0</td>\n",
       "      <td>15.0</td>\n",
       "    </tr>\n",
       "    <tr>\n",
       "      <th>1</th>\n",
       "      <td>10135</td>\n",
       "      <td>21045</td>\n",
       "      <td>60571</td>\n",
       "      <td>2018-09-06 15:20:57</td>\n",
       "      <td>7</td>\n",
       "      <td>2018-09-06 01:23:42</td>\n",
       "      <td>1</td>\n",
       "      <td>0.0</td>\n",
       "      <td>14.0</td>\n",
       "    </tr>\n",
       "    <tr>\n",
       "      <th>2</th>\n",
       "      <td>10237</td>\n",
       "      <td>21045</td>\n",
       "      <td>60571</td>\n",
       "      <td>2018-09-06 13:30:05</td>\n",
       "      <td>7</td>\n",
       "      <td>2018-09-06 01:23:42</td>\n",
       "      <td>1</td>\n",
       "      <td>0.0</td>\n",
       "      <td>13.0</td>\n",
       "    </tr>\n",
       "    <tr>\n",
       "      <th>3</th>\n",
       "      <td>10261</td>\n",
       "      <td>21045</td>\n",
       "      <td>60570</td>\n",
       "      <td>2018-09-06 14:40:45</td>\n",
       "      <td>7</td>\n",
       "      <td>2018-09-06 01:23:42</td>\n",
       "      <td>1</td>\n",
       "      <td>0.0</td>\n",
       "      <td>14.0</td>\n",
       "    </tr>\n",
       "    <tr>\n",
       "      <th>4</th>\n",
       "      <td>10268</td>\n",
       "      <td>21045</td>\n",
       "      <td>60571</td>\n",
       "      <td>2018-09-06 15:06:17</td>\n",
       "      <td>7</td>\n",
       "      <td>2018-09-06 01:23:42</td>\n",
       "      <td>1</td>\n",
       "      <td>0.0</td>\n",
       "      <td>14.0</td>\n",
       "    </tr>\n",
       "  </tbody>\n",
       "</table>\n",
       "</div>"
      ],
      "text/plain": [
       "   user_id  question_id answer_id       datetimestamp category_id  \\\n",
       "0    10109        21045     60570 2018-09-06 16:18:02           7   \n",
       "1    10135        21045     60571 2018-09-06 15:20:57           7   \n",
       "2    10237        21045     60571 2018-09-06 13:30:05           7   \n",
       "3    10261        21045     60570 2018-09-06 14:40:45           7   \n",
       "4    10268        21045     60571 2018-09-06 15:06:17           7   \n",
       "\n",
       "           created_at  nb_points sex_id  diff_time  \n",
       "0 2018-09-06 01:23:42          1    0.0       15.0  \n",
       "1 2018-09-06 01:23:42          1    0.0       14.0  \n",
       "2 2018-09-06 01:23:42          1    0.0       13.0  \n",
       "3 2018-09-06 01:23:42          1    0.0       14.0  \n",
       "4 2018-09-06 01:23:42          1    0.0       14.0  "
      ]
     },
     "execution_count": 241,
     "metadata": {},
     "output_type": "execute_result"
    }
   ],
   "source": [
    "df.head()"
   ]
  },
  {
   "cell_type": "code",
   "execution_count": 242,
   "metadata": {},
   "outputs": [
    {
     "data": {
      "text/plain": [
       "user_id\n",
       "17067     301.571429\n",
       "105961    290.500000\n",
       "100494    290.000000\n",
       "27546     270.000000\n",
       "12468     235.333333\n",
       "109201    234.200000\n",
       "87931     232.428571\n",
       "100593    199.000000\n",
       "89703     198.166667\n",
       "89745     195.916667\n",
       "73854     195.666667\n",
       "91049     194.083333\n",
       "106638    193.916667\n",
       "76005     193.500000\n",
       "48799     192.153846\n",
       "104309    183.692308\n",
       "107158    183.312500\n",
       "103347    183.250000\n",
       "96001     182.611111\n",
       "104876    182.375000\n",
       "Name: diff_time, dtype: float64"
      ]
     },
     "execution_count": 242,
     "metadata": {},
     "output_type": "execute_result"
    }
   ],
   "source": [
    "# Grouoing by reposnse time to question on app\n",
    "# Worst Users\n",
    "df.groupby('user_id').diff_time.mean().sort_values(ascending=False).head(20)"
   ]
  },
  {
   "cell_type": "code",
   "execution_count": 243,
   "metadata": {},
   "outputs": [
    {
     "data": {
      "text/plain": [
       "user_id\n",
       "105596    1.0\n",
       "108150    1.0\n",
       "107378    1.0\n",
       "106908    1.0\n",
       "105465    1.0\n",
       "105841    1.0\n",
       "83757     1.0\n",
       "89062     1.0\n",
       "104867    1.0\n",
       "107376    1.0\n",
       "108330    1.0\n",
       "77509     1.0\n",
       "108328    1.0\n",
       "108327    1.0\n",
       "108326    1.0\n",
       "108277    1.0\n",
       "94696     1.0\n",
       "95398     1.0\n",
       "28878     1.0\n",
       "108270    1.0\n",
       "Name: diff_time, dtype: float64"
      ]
     },
     "execution_count": 243,
     "metadata": {},
     "output_type": "execute_result"
    }
   ],
   "source": [
    "# Best users\n",
    "df.groupby('user_id').diff_time.mean().sort_values(ascending=False).tail(20)"
   ]
  },
  {
   "cell_type": "code",
   "execution_count": 222,
   "metadata": {},
   "outputs": [
    {
     "name": "stdout",
     "output_type": "stream",
     "text": [
      "<class 'pandas.core.frame.DataFrame'>\n",
      "Int64Index: 509801 entries, 0 to 509800\n",
      "Data columns (total 9 columns):\n",
      "user_id          509801 non-null int64\n",
      "question_id      509801 non-null int64\n",
      "answer_id        509801 non-null object\n",
      "datetimestamp    509801 non-null datetime64[ns]\n",
      "category_id      509801 non-null int64\n",
      "created_at       509801 non-null datetime64[ns]\n",
      "nb_points        509801 non-null int64\n",
      "sex_id           509801 non-null float64\n",
      "diff_time        509801 non-null float64\n",
      "dtypes: datetime64[ns](2), float64(2), int64(4), object(1)\n",
      "memory usage: 38.9+ MB\n"
     ]
    }
   ],
   "source": [
    "df.info()"
   ]
  },
  {
   "cell_type": "markdown",
   "metadata": {},
   "source": [
    "## Training Basic Model"
   ]
  },
  {
   "cell_type": "code",
   "execution_count": null,
   "metadata": {},
   "outputs": [],
   "source": []
  },
  {
   "cell_type": "code",
   "execution_count": null,
   "metadata": {},
   "outputs": [],
   "source": []
  },
  {
   "cell_type": "code",
   "execution_count": null,
   "metadata": {},
   "outputs": [],
   "source": []
  },
  {
   "cell_type": "code",
   "execution_count": null,
   "metadata": {},
   "outputs": [],
   "source": []
  },
  {
   "cell_type": "markdown",
   "metadata": {},
   "source": [
    "# Treating every question as a feature"
   ]
  },
  {
   "cell_type": "code",
   "execution_count": null,
   "metadata": {},
   "outputs": [],
   "source": []
  }
 ],
 "metadata": {
  "kernelspec": {
   "display_name": "Python 3",
   "language": "python",
   "name": "python3"
  },
  "language_info": {
   "codemirror_mode": {
    "name": "ipython",
    "version": 3
   },
   "file_extension": ".py",
   "mimetype": "text/x-python",
   "name": "python",
   "nbconvert_exporter": "python",
   "pygments_lexer": "ipython3",
   "version": "3.6.5"
  }
 },
 "nbformat": 4,
 "nbformat_minor": 2
}
