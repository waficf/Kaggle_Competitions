{
 "cells": [
  {
   "cell_type": "code",
   "execution_count": 385,
   "metadata": {},
   "outputs": [],
   "source": [
    "import pandas as pd\n",
    "import numpy as np\n",
    "\n",
    "from itertools import product"
   ]
  },
  {
   "cell_type": "code",
   "execution_count": 501,
   "metadata": {},
   "outputs": [],
   "source": [
    "df_1 = pd.read_csv('Data/my/Questions_Answers.csv')\n",
    "df_2 = pd.read_csv('Data/my/User_Question_Answer.csv', low_memory=False)"
   ]
  },
  {
   "cell_type": "code",
   "execution_count": 502,
   "metadata": {},
   "outputs": [],
   "source": [
    "# Context manager to temporarily set options in the with statement context\n",
    "def display_all(df):\n",
    "    with pd.option_context('display.max_rows', 1000, 'display.max_columns', 1000):\n",
    "        display(df)"
   ]
  },
  {
   "cell_type": "markdown",
   "metadata": {},
   "source": [
    "## Preprocessing"
   ]
  },
  {
   "cell_type": "code",
   "execution_count": 564,
   "metadata": {},
   "outputs": [
    {
     "data": {
      "text/html": [
       "<div>\n",
       "<style scoped>\n",
       "    .dataframe tbody tr th:only-of-type {\n",
       "        vertical-align: middle;\n",
       "    }\n",
       "\n",
       "    .dataframe tbody tr th {\n",
       "        vertical-align: top;\n",
       "    }\n",
       "\n",
       "    .dataframe thead th {\n",
       "        text-align: right;\n",
       "    }\n",
       "</style>\n",
       "<table border=\"1\" class=\"dataframe\">\n",
       "  <thead>\n",
       "    <tr style=\"text-align: right;\">\n",
       "      <th></th>\n",
       "      <th>user_id</th>\n",
       "      <th>question_id</th>\n",
       "      <th>answer_id</th>\n",
       "      <th>datetimestamp</th>\n",
       "    </tr>\n",
       "  </thead>\n",
       "  <tbody>\n",
       "    <tr>\n",
       "      <th>0</th>\n",
       "      <td>10109</td>\n",
       "      <td>21045</td>\n",
       "      <td>60570</td>\n",
       "      <td>2018-09-06 16:18:02</td>\n",
       "    </tr>\n",
       "    <tr>\n",
       "      <th>1</th>\n",
       "      <td>10135</td>\n",
       "      <td>21045</td>\n",
       "      <td>60571</td>\n",
       "      <td>2018-09-06 15:20:57</td>\n",
       "    </tr>\n",
       "    <tr>\n",
       "      <th>2</th>\n",
       "      <td>10237</td>\n",
       "      <td>21045</td>\n",
       "      <td>60571</td>\n",
       "      <td>2018-09-06 13:30:05</td>\n",
       "    </tr>\n",
       "    <tr>\n",
       "      <th>3</th>\n",
       "      <td>10261</td>\n",
       "      <td>21045</td>\n",
       "      <td>60570</td>\n",
       "      <td>2018-09-06 14:40:45</td>\n",
       "    </tr>\n",
       "    <tr>\n",
       "      <th>4</th>\n",
       "      <td>10268</td>\n",
       "      <td>21045</td>\n",
       "      <td>60571</td>\n",
       "      <td>2018-09-06 15:06:17</td>\n",
       "    </tr>\n",
       "  </tbody>\n",
       "</table>\n",
       "</div>"
      ],
      "text/plain": [
       "   user_id  question_id  answer_id       datetimestamp\n",
       "0    10109        21045      60570 2018-09-06 16:18:02\n",
       "1    10135        21045      60571 2018-09-06 15:20:57\n",
       "2    10237        21045      60571 2018-09-06 13:30:05\n",
       "3    10261        21045      60570 2018-09-06 14:40:45\n",
       "4    10268        21045      60571 2018-09-06 15:06:17"
      ]
     },
     "execution_count": 564,
     "metadata": {},
     "output_type": "execute_result"
    }
   ],
   "source": [
    "df_2.head()"
   ]
  },
  {
   "cell_type": "code",
   "execution_count": 504,
   "metadata": {},
   "outputs": [
    {
     "data": {
      "text/plain": [
       "(512410, 7243)"
      ]
     },
     "execution_count": 504,
     "metadata": {},
     "output_type": "execute_result"
    }
   ],
   "source": [
    "len(df_2), df_2.user_id.nunique()"
   ]
  },
  {
   "cell_type": "code",
   "execution_count": 505,
   "metadata": {},
   "outputs": [
    {
     "data": {
      "text/html": [
       "<div>\n",
       "<style scoped>\n",
       "    .dataframe tbody tr th:only-of-type {\n",
       "        vertical-align: middle;\n",
       "    }\n",
       "\n",
       "    .dataframe tbody tr th {\n",
       "        vertical-align: top;\n",
       "    }\n",
       "\n",
       "    .dataframe thead th {\n",
       "        text-align: right;\n",
       "    }\n",
       "</style>\n",
       "<table border=\"1\" class=\"dataframe\">\n",
       "  <thead>\n",
       "    <tr style=\"text-align: right;\">\n",
       "      <th></th>\n",
       "      <th>user_id</th>\n",
       "      <th>question_id</th>\n",
       "      <th>answer_id</th>\n",
       "      <th>datetimestamp</th>\n",
       "    </tr>\n",
       "  </thead>\n",
       "  <tbody>\n",
       "    <tr>\n",
       "      <th>119871</th>\n",
       "      <td>82778</td>\n",
       "      <td>6</td>\n",
       "      <td>2018-09-12 19:09:06</td>\n",
       "      <td>NaN</td>\n",
       "    </tr>\n",
       "  </tbody>\n",
       "</table>\n",
       "</div>"
      ],
      "text/plain": [
       "        user_id  question_id            answer_id datetimestamp\n",
       "119871    82778            6  2018-09-12 19:09:06           NaN"
      ]
     },
     "execution_count": 505,
     "metadata": {},
     "output_type": "execute_result"
    }
   ],
   "source": [
    "# Check if any row contains a null\n",
    "df_2[df_2['datetimestamp'].isnull()]"
   ]
  },
  {
   "cell_type": "code",
   "execution_count": 506,
   "metadata": {},
   "outputs": [
    {
     "data": {
      "text/html": [
       "<div>\n",
       "<style scoped>\n",
       "    .dataframe tbody tr th:only-of-type {\n",
       "        vertical-align: middle;\n",
       "    }\n",
       "\n",
       "    .dataframe tbody tr th {\n",
       "        vertical-align: top;\n",
       "    }\n",
       "\n",
       "    .dataframe thead th {\n",
       "        text-align: right;\n",
       "    }\n",
       "</style>\n",
       "<table border=\"1\" class=\"dataframe\">\n",
       "  <thead>\n",
       "    <tr style=\"text-align: right;\">\n",
       "      <th></th>\n",
       "      <th>user_id</th>\n",
       "      <th>question_id</th>\n",
       "      <th>answer_id</th>\n",
       "      <th>datetimestamp</th>\n",
       "    </tr>\n",
       "  </thead>\n",
       "  <tbody>\n",
       "    <tr>\n",
       "      <th>291489</th>\n",
       "      <td>92579</td>\n",
       "      <td>21545</td>\n",
       "      <td>61865</td>\n",
       "      <td>2018-09-17 14:56:5,61898,2018-09-15 21:21:00\"</td>\n",
       "    </tr>\n",
       "  </tbody>\n",
       "</table>\n",
       "</div>"
      ],
      "text/plain": [
       "        user_id  question_id answer_id  \\\n",
       "291489    92579        21545     61865   \n",
       "\n",
       "                                        datetimestamp  \n",
       "291489  2018-09-17 14:56:5,61898,2018-09-15 21:21:00\"  "
      ]
     },
     "execution_count": 506,
     "metadata": {},
     "output_type": "execute_result"
    }
   ],
   "source": [
    "df_2[df_2['datetimestamp'] == '2018-09-17 14:56:5,61898,2018-09-15 21:21:00\"']"
   ]
  },
  {
   "cell_type": "code",
   "execution_count": 507,
   "metadata": {},
   "outputs": [
    {
     "data": {
      "text/html": [
       "<div>\n",
       "<style scoped>\n",
       "    .dataframe tbody tr th:only-of-type {\n",
       "        vertical-align: middle;\n",
       "    }\n",
       "\n",
       "    .dataframe tbody tr th {\n",
       "        vertical-align: top;\n",
       "    }\n",
       "\n",
       "    .dataframe thead th {\n",
       "        text-align: right;\n",
       "    }\n",
       "</style>\n",
       "<table border=\"1\" class=\"dataframe\">\n",
       "  <thead>\n",
       "    <tr style=\"text-align: right;\">\n",
       "      <th></th>\n",
       "      <th>user_id</th>\n",
       "      <th>question_id</th>\n",
       "      <th>answer_id</th>\n",
       "      <th>datetimestamp</th>\n",
       "    </tr>\n",
       "  </thead>\n",
       "  <tbody>\n",
       "    <tr>\n",
       "      <th>294320</th>\n",
       "      <td>75880</td>\n",
       "      <td>21559</td>\n",
       "      <td>61902</td>\n",
       "      <td>2018-09-18 13:0:\\r\\n74517,21562,61910,2018-09-...</td>\n",
       "    </tr>\n",
       "  </tbody>\n",
       "</table>\n",
       "</div>"
      ],
      "text/plain": [
       "        user_id  question_id answer_id  \\\n",
       "294320    75880        21559     61902   \n",
       "\n",
       "                                            datetimestamp  \n",
       "294320  2018-09-18 13:0:\\r\\n74517,21562,61910,2018-09-...  "
      ]
     },
     "execution_count": 507,
     "metadata": {},
     "output_type": "execute_result"
    }
   ],
   "source": [
    "df_2[df_2['datetimestamp'] == '2018-09-18 13:0:\\r\\n74517,21562,61910,2018-09-16 07:01:52\"']"
   ]
  },
  {
   "cell_type": "code",
   "execution_count": 508,
   "metadata": {},
   "outputs": [],
   "source": [
    "# Dropped the above corrupt rows\n",
    "df_2.drop(index=119871, inplace=True)\n",
    "df_2.drop(index=291489, inplace=True)\n",
    "df_2.drop(index=294320, inplace=True)"
   ]
  },
  {
   "cell_type": "code",
   "execution_count": 509,
   "metadata": {},
   "outputs": [],
   "source": [
    "# Convert datetimestamp from object type to datetime type\n",
    "df_2['datetimestamp'] = pd.to_datetime(df_2['datetimestamp'])"
   ]
  },
  {
   "cell_type": "code",
   "execution_count": 510,
   "metadata": {},
   "outputs": [
    {
     "name": "stdout",
     "output_type": "stream",
     "text": [
      "<class 'pandas.core.frame.DataFrame'>\n",
      "Int64Index: 512407 entries, 0 to 512409\n",
      "Data columns (total 4 columns):\n",
      "user_id          512407 non-null int64\n",
      "question_id      512407 non-null int64\n",
      "answer_id        509801 non-null object\n",
      "datetimestamp    512407 non-null datetime64[ns]\n",
      "dtypes: datetime64[ns](1), int64(2), object(1)\n",
      "memory usage: 19.5+ MB\n"
     ]
    }
   ],
   "source": [
    "df_2.info()"
   ]
  },
  {
   "cell_type": "code",
   "execution_count": 511,
   "metadata": {},
   "outputs": [],
   "source": [
    "# Dropped rows in null answers for now, although in real model this might not be the right approach\n",
    "df_2.dropna(inplace=True)"
   ]
  },
  {
   "cell_type": "code",
   "execution_count": 512,
   "metadata": {},
   "outputs": [],
   "source": [
    "df_2.answer_id = df_2.answer_id.astype('int64')"
   ]
  },
  {
   "cell_type": "code",
   "execution_count": 513,
   "metadata": {},
   "outputs": [
    {
     "name": "stdout",
     "output_type": "stream",
     "text": [
      "<class 'pandas.core.frame.DataFrame'>\n",
      "Int64Index: 509801 entries, 0 to 512409\n",
      "Data columns (total 4 columns):\n",
      "user_id          509801 non-null int64\n",
      "question_id      509801 non-null int64\n",
      "answer_id        509801 non-null int64\n",
      "datetimestamp    509801 non-null datetime64[ns]\n",
      "dtypes: datetime64[ns](1), int64(3)\n",
      "memory usage: 19.4 MB\n"
     ]
    }
   ],
   "source": [
    "df_2.info()"
   ]
  },
  {
   "cell_type": "markdown",
   "metadata": {},
   "source": [
    "### Create Matrix of users"
   ]
  },
  {
   "cell_type": "code",
   "execution_count": 514,
   "metadata": {},
   "outputs": [
    {
     "data": {
      "text/plain": [
       "7242"
      ]
     },
     "execution_count": 514,
     "metadata": {},
     "output_type": "execute_result"
    }
   ],
   "source": [
    "df_2.user_id.nunique()"
   ]
  },
  {
   "cell_type": "code",
   "execution_count": 515,
   "metadata": {},
   "outputs": [
    {
     "data": {
      "text/plain": [
       "183"
      ]
     },
     "execution_count": 515,
     "metadata": {},
     "output_type": "execute_result"
    }
   ],
   "source": [
    "df_2.question_id.nunique()"
   ]
  },
  {
   "cell_type": "code",
   "execution_count": 516,
   "metadata": {},
   "outputs": [
    {
     "data": {
      "text/plain": [
       "(3000, 2000, 2724)"
      ]
     },
     "execution_count": 516,
     "metadata": {},
     "output_type": "execute_result"
    }
   ],
   "source": [
    "# Not all users are associated with all questions\n",
    "len(df_2[df_2.question_id == 21045]), len(df_2[df_2.question_id == 21104]), len(df_2[df_2.question_id == 21108])"
   ]
  },
  {
   "cell_type": "code",
   "execution_count": 517,
   "metadata": {},
   "outputs": [
    {
     "data": {
      "text/plain": [
       "1325286"
      ]
     },
     "execution_count": 517,
     "metadata": {},
     "output_type": "execute_result"
    }
   ],
   "source": [
    "# I need to create a matrix of the below size\n",
    "7242*183"
   ]
  },
  {
   "cell_type": "code",
   "execution_count": 518,
   "metadata": {},
   "outputs": [],
   "source": [
    "# We need to create a matrix of users vs every question and fill with nulls the missing answers\n",
    "matrix = []\n",
    "for i in df_2.user_id.unique():\n",
    "    ques_unique = df_2.question_id.unique()\n",
    "    matrix.append(np.array(list(product(*[ [i], ques_unique]))))"
   ]
  },
  {
   "cell_type": "code",
   "execution_count": 519,
   "metadata": {},
   "outputs": [],
   "source": [
    "matrix = pd.DataFrame(np.vstack(matrix), columns = ['user_id', 'question_id'])"
   ]
  },
  {
   "cell_type": "code",
   "execution_count": 520,
   "metadata": {},
   "outputs": [
    {
     "data": {
      "text/plain": [
       "(1325286, 2)"
      ]
     },
     "execution_count": 520,
     "metadata": {},
     "output_type": "execute_result"
    }
   ],
   "source": [
    "matrix.shape"
   ]
  },
  {
   "cell_type": "code",
   "execution_count": 521,
   "metadata": {},
   "outputs": [],
   "source": [
    "# Merge with df_2 to return the answers\n",
    "matrix = matrix.merge(df_2, on =['user_id', 'question_id'], how='left')"
   ]
  },
  {
   "cell_type": "markdown",
   "metadata": {},
   "source": [
    "Sanity cheking that the matrix is correct"
   ]
  },
  {
   "cell_type": "code",
   "execution_count": 522,
   "metadata": {},
   "outputs": [
    {
     "data": {
      "text/html": [
       "<div>\n",
       "<style scoped>\n",
       "    .dataframe tbody tr th:only-of-type {\n",
       "        vertical-align: middle;\n",
       "    }\n",
       "\n",
       "    .dataframe tbody tr th {\n",
       "        vertical-align: top;\n",
       "    }\n",
       "\n",
       "    .dataframe thead th {\n",
       "        text-align: right;\n",
       "    }\n",
       "</style>\n",
       "<table border=\"1\" class=\"dataframe\">\n",
       "  <thead>\n",
       "    <tr style=\"text-align: right;\">\n",
       "      <th></th>\n",
       "      <th>user_id</th>\n",
       "      <th>question_id</th>\n",
       "      <th>answer_id</th>\n",
       "      <th>datetimestamp</th>\n",
       "    </tr>\n",
       "  </thead>\n",
       "  <tbody>\n",
       "    <tr>\n",
       "      <th>0</th>\n",
       "      <td>10109</td>\n",
       "      <td>21045</td>\n",
       "      <td>60570.0</td>\n",
       "      <td>2018-09-06 16:18:02</td>\n",
       "    </tr>\n",
       "    <tr>\n",
       "      <th>1</th>\n",
       "      <td>10109</td>\n",
       "      <td>21104</td>\n",
       "      <td>NaN</td>\n",
       "      <td>NaT</td>\n",
       "    </tr>\n",
       "    <tr>\n",
       "      <th>2</th>\n",
       "      <td>10109</td>\n",
       "      <td>21106</td>\n",
       "      <td>NaN</td>\n",
       "      <td>NaT</td>\n",
       "    </tr>\n",
       "    <tr>\n",
       "      <th>3</th>\n",
       "      <td>10109</td>\n",
       "      <td>21107</td>\n",
       "      <td>NaN</td>\n",
       "      <td>NaT</td>\n",
       "    </tr>\n",
       "    <tr>\n",
       "      <th>4</th>\n",
       "      <td>10109</td>\n",
       "      <td>21108</td>\n",
       "      <td>NaN</td>\n",
       "      <td>NaT</td>\n",
       "    </tr>\n",
       "  </tbody>\n",
       "</table>\n",
       "</div>"
      ],
      "text/plain": [
       "   user_id  question_id  answer_id       datetimestamp\n",
       "0    10109        21045    60570.0 2018-09-06 16:18:02\n",
       "1    10109        21104        NaN                 NaT\n",
       "2    10109        21106        NaN                 NaT\n",
       "3    10109        21107        NaN                 NaT\n",
       "4    10109        21108        NaN                 NaT"
      ]
     },
     "execution_count": 522,
     "metadata": {},
     "output_type": "execute_result"
    }
   ],
   "source": [
    "matrix.head()"
   ]
  },
  {
   "cell_type": "code",
   "execution_count": 523,
   "metadata": {},
   "outputs": [
    {
     "data": {
      "text/plain": [
       "user_id               0\n",
       "question_id           0\n",
       "answer_id        815485\n",
       "datetimestamp    815485\n",
       "dtype: int64"
      ]
     },
     "execution_count": 523,
     "metadata": {},
     "output_type": "execute_result"
    }
   ],
   "source": [
    "# Same value for answrs and timestamp\n",
    "matrix.isnull().sum()"
   ]
  },
  {
   "cell_type": "code",
   "execution_count": 524,
   "metadata": {},
   "outputs": [
    {
     "data": {
      "text/html": [
       "<div>\n",
       "<style scoped>\n",
       "    .dataframe tbody tr th:only-of-type {\n",
       "        vertical-align: middle;\n",
       "    }\n",
       "\n",
       "    .dataframe tbody tr th {\n",
       "        vertical-align: top;\n",
       "    }\n",
       "\n",
       "    .dataframe thead th {\n",
       "        text-align: right;\n",
       "    }\n",
       "</style>\n",
       "<table border=\"1\" class=\"dataframe\">\n",
       "  <thead>\n",
       "    <tr style=\"text-align: right;\">\n",
       "      <th></th>\n",
       "      <th>user_id</th>\n",
       "      <th>question_id</th>\n",
       "      <th>answer_id</th>\n",
       "      <th>datetimestamp</th>\n",
       "    </tr>\n",
       "  </thead>\n",
       "  <tbody>\n",
       "    <tr>\n",
       "      <th>0</th>\n",
       "      <td>10109</td>\n",
       "      <td>21045</td>\n",
       "      <td>60570</td>\n",
       "      <td>2018-09-06 16:18:02</td>\n",
       "    </tr>\n",
       "  </tbody>\n",
       "</table>\n",
       "</div>"
      ],
      "text/plain": [
       "   user_id  question_id  answer_id       datetimestamp\n",
       "0    10109        21045      60570 2018-09-06 16:18:02"
      ]
     },
     "execution_count": 524,
     "metadata": {},
     "output_type": "execute_result"
    }
   ],
   "source": [
    "# SANITY CHECKER\n",
    "df_2[(df_2.user_id == 10109) & (df_2.question_id == 21045)]"
   ]
  },
  {
   "cell_type": "code",
   "execution_count": 525,
   "metadata": {},
   "outputs": [
    {
     "data": {
      "text/html": [
       "<div>\n",
       "<style scoped>\n",
       "    .dataframe tbody tr th:only-of-type {\n",
       "        vertical-align: middle;\n",
       "    }\n",
       "\n",
       "    .dataframe tbody tr th {\n",
       "        vertical-align: top;\n",
       "    }\n",
       "\n",
       "    .dataframe thead th {\n",
       "        text-align: right;\n",
       "    }\n",
       "</style>\n",
       "<table border=\"1\" class=\"dataframe\">\n",
       "  <thead>\n",
       "    <tr style=\"text-align: right;\">\n",
       "      <th></th>\n",
       "      <th>user_id</th>\n",
       "      <th>question_id</th>\n",
       "      <th>answer_id</th>\n",
       "      <th>datetimestamp</th>\n",
       "    </tr>\n",
       "  </thead>\n",
       "  <tbody>\n",
       "    <tr>\n",
       "      <th>0</th>\n",
       "      <td>10109</td>\n",
       "      <td>21045</td>\n",
       "      <td>60570.0</td>\n",
       "      <td>2018-09-06 16:18:02</td>\n",
       "    </tr>\n",
       "  </tbody>\n",
       "</table>\n",
       "</div>"
      ],
      "text/plain": [
       "   user_id  question_id  answer_id       datetimestamp\n",
       "0    10109        21045    60570.0 2018-09-06 16:18:02"
      ]
     },
     "execution_count": 525,
     "metadata": {},
     "output_type": "execute_result"
    }
   ],
   "source": [
    "# SANITY CHECKER\n",
    "matrix[(matrix.user_id == 10109) & (matrix.question_id == 21045)]"
   ]
  },
  {
   "cell_type": "markdown",
   "metadata": {},
   "source": [
    "##### Getting the question features into our matrix"
   ]
  },
  {
   "cell_type": "code",
   "execution_count": 527,
   "metadata": {},
   "outputs": [
    {
     "data": {
      "text/plain": [
       "(623, 17)"
      ]
     },
     "execution_count": 527,
     "metadata": {},
     "output_type": "execute_result"
    }
   ],
   "source": [
    "df_1.shape"
   ]
  },
  {
   "cell_type": "code",
   "execution_count": 528,
   "metadata": {},
   "outputs": [
    {
     "data": {
      "text/html": [
       "<div>\n",
       "<style scoped>\n",
       "    .dataframe tbody tr th:only-of-type {\n",
       "        vertical-align: middle;\n",
       "    }\n",
       "\n",
       "    .dataframe tbody tr th {\n",
       "        vertical-align: top;\n",
       "    }\n",
       "\n",
       "    .dataframe thead th {\n",
       "        text-align: right;\n",
       "    }\n",
       "</style>\n",
       "<table border=\"1\" class=\"dataframe\">\n",
       "  <thead>\n",
       "    <tr style=\"text-align: right;\">\n",
       "      <th></th>\n",
       "      <th>question_id</th>\n",
       "      <th>title</th>\n",
       "      <th>start_age</th>\n",
       "      <th>end_age</th>\n",
       "      <th>sex_id</th>\n",
       "      <th>category_id</th>\n",
       "      <th>nb_targets</th>\n",
       "      <th>nb_points</th>\n",
       "      <th>created_at</th>\n",
       "      <th>updated_at</th>\n",
       "      <th>topic_id</th>\n",
       "      <th>prefered_lang</th>\n",
       "      <th>rank</th>\n",
       "      <th>Total_Number_of_Answers</th>\n",
       "      <th>answer_id</th>\n",
       "      <th>description</th>\n",
       "      <th>Number_Of_Answers</th>\n",
       "    </tr>\n",
       "  </thead>\n",
       "  <tbody>\n",
       "    <tr>\n",
       "      <th>0</th>\n",
       "      <td>21045</td>\n",
       "      <td>Are you trying to lose weight?</td>\n",
       "      <td>10</td>\n",
       "      <td>80</td>\n",
       "      <td>0.0</td>\n",
       "      <td>7</td>\n",
       "      <td>3000</td>\n",
       "      <td>1</td>\n",
       "      <td>2018-09-06 01:23:42</td>\n",
       "      <td>2018-09-06 15:12:03</td>\n",
       "      <td>0</td>\n",
       "      <td>0.0</td>\n",
       "      <td>0</td>\n",
       "      <td>3000</td>\n",
       "      <td>60570</td>\n",
       "      <td>Yes</td>\n",
       "      <td>1943</td>\n",
       "    </tr>\n",
       "    <tr>\n",
       "      <th>1</th>\n",
       "      <td>21045</td>\n",
       "      <td>Are you trying to lose weight?</td>\n",
       "      <td>10</td>\n",
       "      <td>80</td>\n",
       "      <td>0.0</td>\n",
       "      <td>7</td>\n",
       "      <td>3000</td>\n",
       "      <td>1</td>\n",
       "      <td>2018-09-06 01:23:42</td>\n",
       "      <td>2018-09-06 15:12:03</td>\n",
       "      <td>0</td>\n",
       "      <td>0.0</td>\n",
       "      <td>0</td>\n",
       "      <td>3000</td>\n",
       "      <td>60571</td>\n",
       "      <td>No</td>\n",
       "      <td>1057</td>\n",
       "    </tr>\n",
       "    <tr>\n",
       "      <th>2</th>\n",
       "      <td>21104</td>\n",
       "      <td>Which water brand do you prefer?</td>\n",
       "      <td>10</td>\n",
       "      <td>80</td>\n",
       "      <td>0.0</td>\n",
       "      <td>12</td>\n",
       "      <td>2000</td>\n",
       "      <td>1</td>\n",
       "      <td>2018-09-07 12:51:52</td>\n",
       "      <td>2018-09-07 12:55:01</td>\n",
       "      <td>0</td>\n",
       "      <td>NaN</td>\n",
       "      <td>1</td>\n",
       "      <td>2000</td>\n",
       "      <td>60724</td>\n",
       "      <td>Sohat</td>\n",
       "      <td>698</td>\n",
       "    </tr>\n",
       "    <tr>\n",
       "      <th>3</th>\n",
       "      <td>21104</td>\n",
       "      <td>Which water brand do you prefer?</td>\n",
       "      <td>10</td>\n",
       "      <td>80</td>\n",
       "      <td>0.0</td>\n",
       "      <td>12</td>\n",
       "      <td>2000</td>\n",
       "      <td>1</td>\n",
       "      <td>2018-09-07 12:51:52</td>\n",
       "      <td>2018-09-07 12:55:01</td>\n",
       "      <td>0</td>\n",
       "      <td>NaN</td>\n",
       "      <td>1</td>\n",
       "      <td>2000</td>\n",
       "      <td>60725</td>\n",
       "      <td>Rim</td>\n",
       "      <td>337</td>\n",
       "    </tr>\n",
       "    <tr>\n",
       "      <th>4</th>\n",
       "      <td>21104</td>\n",
       "      <td>Which water brand do you prefer?</td>\n",
       "      <td>10</td>\n",
       "      <td>80</td>\n",
       "      <td>0.0</td>\n",
       "      <td>12</td>\n",
       "      <td>2000</td>\n",
       "      <td>1</td>\n",
       "      <td>2018-09-07 12:51:52</td>\n",
       "      <td>2018-09-07 12:55:01</td>\n",
       "      <td>0</td>\n",
       "      <td>NaN</td>\n",
       "      <td>1</td>\n",
       "      <td>2000</td>\n",
       "      <td>60726</td>\n",
       "      <td>Sannine</td>\n",
       "      <td>139</td>\n",
       "    </tr>\n",
       "  </tbody>\n",
       "</table>\n",
       "</div>"
      ],
      "text/plain": [
       "   question_id                             title  start_age  end_age  sex_id  \\\n",
       "0        21045    Are you trying to lose weight?         10       80     0.0   \n",
       "1        21045    Are you trying to lose weight?         10       80     0.0   \n",
       "2        21104  Which water brand do you prefer?         10       80     0.0   \n",
       "3        21104  Which water brand do you prefer?         10       80     0.0   \n",
       "4        21104  Which water brand do you prefer?         10       80     0.0   \n",
       "\n",
       "   category_id  nb_targets  nb_points           created_at  \\\n",
       "0            7        3000          1  2018-09-06 01:23:42   \n",
       "1            7        3000          1  2018-09-06 01:23:42   \n",
       "2           12        2000          1  2018-09-07 12:51:52   \n",
       "3           12        2000          1  2018-09-07 12:51:52   \n",
       "4           12        2000          1  2018-09-07 12:51:52   \n",
       "\n",
       "            updated_at  topic_id  prefered_lang  rank  \\\n",
       "0  2018-09-06 15:12:03         0            0.0     0   \n",
       "1  2018-09-06 15:12:03         0            0.0     0   \n",
       "2  2018-09-07 12:55:01         0            NaN     1   \n",
       "3  2018-09-07 12:55:01         0            NaN     1   \n",
       "4  2018-09-07 12:55:01         0            NaN     1   \n",
       "\n",
       "   Total_Number_of_Answers  answer_id description  Number_Of_Answers  \n",
       "0                     3000      60570         Yes               1943  \n",
       "1                     3000      60571          No               1057  \n",
       "2                     2000      60724       Sohat                698  \n",
       "3                     2000      60725         Rim                337  \n",
       "4                     2000      60726     Sannine                139  "
      ]
     },
     "execution_count": 528,
     "metadata": {},
     "output_type": "execute_result"
    }
   ],
   "source": [
    "df_1.head()"
   ]
  },
  {
   "cell_type": "code",
   "execution_count": 529,
   "metadata": {},
   "outputs": [],
   "source": [
    "df_1.drop('prefered_lang', axis=1, inplace=True)"
   ]
  },
  {
   "cell_type": "code",
   "execution_count": 530,
   "metadata": {},
   "outputs": [],
   "source": [
    "# Drop the rows with desctiption empty\n",
    "df_1.dropna(inplace=True)"
   ]
  },
  {
   "cell_type": "code",
   "execution_count": 531,
   "metadata": {},
   "outputs": [],
   "source": [
    "# Create a unique answer 'Yes'\n",
    "df_1.description.replace('Yes ', 'Yes', inplace=True)"
   ]
  },
  {
   "cell_type": "code",
   "execution_count": 532,
   "metadata": {},
   "outputs": [],
   "source": [
    "useful = df_1[['answer_id', 'description']].copy()"
   ]
  },
  {
   "cell_type": "code",
   "execution_count": 533,
   "metadata": {},
   "outputs": [],
   "source": [
    "# Extract the text value of the answer rather than the code because every code is unique to each questions and doesnt allow for lots of interpreation\n",
    "temp = matrix.merge(useful, on = 'answer_id', how='left')"
   ]
  },
  {
   "cell_type": "code",
   "execution_count": 534,
   "metadata": {},
   "outputs": [],
   "source": [
    "temp.drop('answer_id',axis=1, inplace=True)"
   ]
  },
  {
   "cell_type": "code",
   "execution_count": 535,
   "metadata": {},
   "outputs": [
    {
     "data": {
      "text/plain": [
       "Index(['user_id', 'question_id', 'datetimestamp', 'description'], dtype='object')"
      ]
     },
     "execution_count": 535,
     "metadata": {},
     "output_type": "execute_result"
    }
   ],
   "source": [
    "temp.columns"
   ]
  },
  {
   "cell_type": "code",
   "execution_count": 536,
   "metadata": {},
   "outputs": [
    {
     "data": {
      "text/plain": [
       "(1325286, 4)"
      ]
     },
     "execution_count": 536,
     "metadata": {},
     "output_type": "execute_result"
    }
   ],
   "source": [
    "temp.shape"
   ]
  },
  {
   "cell_type": "code",
   "execution_count": 537,
   "metadata": {},
   "outputs": [
    {
     "data": {
      "text/html": [
       "<div>\n",
       "<style scoped>\n",
       "    .dataframe tbody tr th:only-of-type {\n",
       "        vertical-align: middle;\n",
       "    }\n",
       "\n",
       "    .dataframe tbody tr th {\n",
       "        vertical-align: top;\n",
       "    }\n",
       "\n",
       "    .dataframe thead th {\n",
       "        text-align: right;\n",
       "    }\n",
       "</style>\n",
       "<table border=\"1\" class=\"dataframe\">\n",
       "  <thead>\n",
       "    <tr style=\"text-align: right;\">\n",
       "      <th></th>\n",
       "      <th>user_id</th>\n",
       "      <th>question_id</th>\n",
       "      <th>datetimestamp</th>\n",
       "      <th>description</th>\n",
       "    </tr>\n",
       "  </thead>\n",
       "  <tbody>\n",
       "    <tr>\n",
       "      <th>0</th>\n",
       "      <td>10109</td>\n",
       "      <td>21045</td>\n",
       "      <td>2018-09-06 16:18:02</td>\n",
       "      <td>Yes</td>\n",
       "    </tr>\n",
       "    <tr>\n",
       "      <th>1</th>\n",
       "      <td>10109</td>\n",
       "      <td>21104</td>\n",
       "      <td>NaT</td>\n",
       "      <td>NaN</td>\n",
       "    </tr>\n",
       "    <tr>\n",
       "      <th>2</th>\n",
       "      <td>10109</td>\n",
       "      <td>21106</td>\n",
       "      <td>NaT</td>\n",
       "      <td>NaN</td>\n",
       "    </tr>\n",
       "    <tr>\n",
       "      <th>3</th>\n",
       "      <td>10109</td>\n",
       "      <td>21107</td>\n",
       "      <td>NaT</td>\n",
       "      <td>NaN</td>\n",
       "    </tr>\n",
       "    <tr>\n",
       "      <th>4</th>\n",
       "      <td>10109</td>\n",
       "      <td>21108</td>\n",
       "      <td>NaT</td>\n",
       "      <td>NaN</td>\n",
       "    </tr>\n",
       "  </tbody>\n",
       "</table>\n",
       "</div>"
      ],
      "text/plain": [
       "   user_id  question_id       datetimestamp description\n",
       "0    10109        21045 2018-09-06 16:18:02         Yes\n",
       "1    10109        21104                 NaT         NaN\n",
       "2    10109        21106                 NaT         NaN\n",
       "3    10109        21107                 NaT         NaN\n",
       "4    10109        21108                 NaT         NaN"
      ]
     },
     "execution_count": 537,
     "metadata": {},
     "output_type": "execute_result"
    }
   ],
   "source": [
    "temp.head()"
   ]
  },
  {
   "cell_type": "code",
   "execution_count": 538,
   "metadata": {},
   "outputs": [
    {
     "name": "stderr",
     "output_type": "stream",
     "text": [
      "C:\\Users\\wfahme\\AppData\\Local\\Continuum\\anaconda3\\lib\\site-packages\\ipykernel_launcher.py:5: SettingWithCopyWarning: \n",
      "A value is trying to be set on a copy of a slice from a DataFrame\n",
      "\n",
      "See the caveats in the documentation: http://pandas.pydata.org/pandas-docs/stable/indexing.html#indexing-view-versus-copy\n",
      "  \"\"\"\n"
     ]
    }
   ],
   "source": [
    "# We need extract more features from df_1\n",
    "useful_2 = df_1[['question_id', 'title', 'sex_id', 'category_id', 'nb_points', 'created_at']]\n",
    "\n",
    "# Make sure to drop duplicate question as answers are no more visible\n",
    "useful_2.drop_duplicates(inplace=True)\n",
    "\n",
    "temp = temp.merge(useful_2, on = 'question_id')"
   ]
  },
  {
   "cell_type": "markdown",
   "metadata": {},
   "source": [
    "Sanity Checker to make sure that every user has a list of all questions and answers"
   ]
  },
  {
   "cell_type": "code",
   "execution_count": 539,
   "metadata": {},
   "outputs": [
    {
     "data": {
      "text/plain": [
       "177"
      ]
     },
     "execution_count": 539,
     "metadata": {},
     "output_type": "execute_result"
    }
   ],
   "source": [
    "len(temp[temp.user_id == 89])"
   ]
  },
  {
   "cell_type": "code",
   "execution_count": 540,
   "metadata": {},
   "outputs": [],
   "source": [
    "temp.drop('question_id',axis=1, inplace=True)"
   ]
  },
  {
   "cell_type": "code",
   "execution_count": 541,
   "metadata": {},
   "outputs": [
    {
     "data": {
      "text/plain": [
       "Index(['user_id', 'datetimestamp', 'description', 'title', 'sex_id',\n",
       "       'category_id', 'nb_points', 'created_at'],\n",
       "      dtype='object')"
      ]
     },
     "execution_count": 541,
     "metadata": {},
     "output_type": "execute_result"
    }
   ],
   "source": [
    "temp.columns"
   ]
  },
  {
   "cell_type": "code",
   "execution_count": 542,
   "metadata": {},
   "outputs": [],
   "source": [
    "temp.rename(index=str, columns={\"description\": \"Answer\", \"title\": \"Question\", 'datetimestamp':'respond_time'}, inplace=True)"
   ]
  },
  {
   "cell_type": "code",
   "execution_count": 543,
   "metadata": {},
   "outputs": [
    {
     "data": {
      "text/html": [
       "<div>\n",
       "<style scoped>\n",
       "    .dataframe tbody tr th:only-of-type {\n",
       "        vertical-align: middle;\n",
       "    }\n",
       "\n",
       "    .dataframe tbody tr th {\n",
       "        vertical-align: top;\n",
       "    }\n",
       "\n",
       "    .dataframe thead th {\n",
       "        text-align: right;\n",
       "    }\n",
       "</style>\n",
       "<table border=\"1\" class=\"dataframe\">\n",
       "  <thead>\n",
       "    <tr style=\"text-align: right;\">\n",
       "      <th></th>\n",
       "      <th>user_id</th>\n",
       "      <th>respond_time</th>\n",
       "      <th>Answer</th>\n",
       "      <th>Question</th>\n",
       "      <th>sex_id</th>\n",
       "      <th>category_id</th>\n",
       "      <th>nb_points</th>\n",
       "      <th>created_at</th>\n",
       "    </tr>\n",
       "  </thead>\n",
       "  <tbody>\n",
       "    <tr>\n",
       "      <th>0</th>\n",
       "      <td>10109</td>\n",
       "      <td>2018-09-06 16:18:02</td>\n",
       "      <td>Yes</td>\n",
       "      <td>Are you trying to lose weight?</td>\n",
       "      <td>0.0</td>\n",
       "      <td>7</td>\n",
       "      <td>1</td>\n",
       "      <td>2018-09-06 01:23:42</td>\n",
       "    </tr>\n",
       "    <tr>\n",
       "      <th>1</th>\n",
       "      <td>10135</td>\n",
       "      <td>2018-09-06 15:20:57</td>\n",
       "      <td>No</td>\n",
       "      <td>Are you trying to lose weight?</td>\n",
       "      <td>0.0</td>\n",
       "      <td>7</td>\n",
       "      <td>1</td>\n",
       "      <td>2018-09-06 01:23:42</td>\n",
       "    </tr>\n",
       "    <tr>\n",
       "      <th>2</th>\n",
       "      <td>10237</td>\n",
       "      <td>2018-09-06 13:30:05</td>\n",
       "      <td>No</td>\n",
       "      <td>Are you trying to lose weight?</td>\n",
       "      <td>0.0</td>\n",
       "      <td>7</td>\n",
       "      <td>1</td>\n",
       "      <td>2018-09-06 01:23:42</td>\n",
       "    </tr>\n",
       "    <tr>\n",
       "      <th>3</th>\n",
       "      <td>10261</td>\n",
       "      <td>2018-09-06 14:40:45</td>\n",
       "      <td>Yes</td>\n",
       "      <td>Are you trying to lose weight?</td>\n",
       "      <td>0.0</td>\n",
       "      <td>7</td>\n",
       "      <td>1</td>\n",
       "      <td>2018-09-06 01:23:42</td>\n",
       "    </tr>\n",
       "    <tr>\n",
       "      <th>4</th>\n",
       "      <td>10268</td>\n",
       "      <td>2018-09-06 15:06:17</td>\n",
       "      <td>No</td>\n",
       "      <td>Are you trying to lose weight?</td>\n",
       "      <td>0.0</td>\n",
       "      <td>7</td>\n",
       "      <td>1</td>\n",
       "      <td>2018-09-06 01:23:42</td>\n",
       "    </tr>\n",
       "  </tbody>\n",
       "</table>\n",
       "</div>"
      ],
      "text/plain": [
       "   user_id        respond_time Answer                        Question  sex_id  \\\n",
       "0    10109 2018-09-06 16:18:02    Yes  Are you trying to lose weight?     0.0   \n",
       "1    10135 2018-09-06 15:20:57     No  Are you trying to lose weight?     0.0   \n",
       "2    10237 2018-09-06 13:30:05     No  Are you trying to lose weight?     0.0   \n",
       "3    10261 2018-09-06 14:40:45    Yes  Are you trying to lose weight?     0.0   \n",
       "4    10268 2018-09-06 15:06:17     No  Are you trying to lose weight?     0.0   \n",
       "\n",
       "   category_id  nb_points           created_at  \n",
       "0            7          1  2018-09-06 01:23:42  \n",
       "1            7          1  2018-09-06 01:23:42  \n",
       "2            7          1  2018-09-06 01:23:42  \n",
       "3            7          1  2018-09-06 01:23:42  \n",
       "4            7          1  2018-09-06 01:23:42  "
      ]
     },
     "execution_count": 543,
     "metadata": {},
     "output_type": "execute_result"
    }
   ],
   "source": [
    "temp.head()"
   ]
  },
  {
   "cell_type": "code",
   "execution_count": 544,
   "metadata": {},
   "outputs": [],
   "source": [
    "# Convert created_at from object type to datetime type\n",
    "temp['created_at'] = pd.to_datetime(temp['created_at'])\n",
    "temp['respond_time'] = pd.to_datetime(temp['respond_time'])\n",
    "\n",
    "# Convert feature type to category\n",
    "temp.Question = temp.Question.astype('category')\n",
    "temp.Answer = temp.Answer.astype('category')\n",
    "temp.category_id = temp.category_id.astype('category')\n",
    "temp.sex_id = temp.sex_id.astype('category')"
   ]
  },
  {
   "cell_type": "code",
   "execution_count": 545,
   "metadata": {},
   "outputs": [
    {
     "data": {
      "text/plain": [
       "user_id                  int64\n",
       "respond_time    datetime64[ns]\n",
       "Answer                category\n",
       "Question              category\n",
       "sex_id                category\n",
       "category_id           category\n",
       "nb_points                int64\n",
       "created_at      datetime64[ns]\n",
       "dtype: object"
      ]
     },
     "execution_count": 545,
     "metadata": {},
     "output_type": "execute_result"
    }
   ],
   "source": [
    "temp.dtypes"
   ]
  },
  {
   "cell_type": "code",
   "execution_count": 550,
   "metadata": {},
   "outputs": [
    {
     "data": {
      "text/plain": [
       "user_id              0\n",
       "respond_time    797033\n",
       "Answer          797033\n",
       "Question             0\n",
       "sex_id               0\n",
       "category_id          0\n",
       "nb_points            0\n",
       "created_at           0\n",
       "dtype: int64"
      ]
     },
     "execution_count": 550,
     "metadata": {},
     "output_type": "execute_result"
    }
   ],
   "source": [
    "temp.isnull().sum()"
   ]
  },
  {
   "cell_type": "markdown",
   "metadata": {},
   "source": [
    "#### Now, we have a dataframe to work with"
   ]
  },
  {
   "cell_type": "markdown",
   "metadata": {},
   "source": [
    "## Feature Engineering"
   ]
  },
  {
   "cell_type": "markdown",
   "metadata": {},
   "source": [
    "#### 1. Time difference between question and answer by user"
   ]
  },
  {
   "cell_type": "code",
   "execution_count": 552,
   "metadata": {},
   "outputs": [
    {
     "data": {
      "text/html": [
       "<div>\n",
       "<style scoped>\n",
       "    .dataframe tbody tr th:only-of-type {\n",
       "        vertical-align: middle;\n",
       "    }\n",
       "\n",
       "    .dataframe tbody tr th {\n",
       "        vertical-align: top;\n",
       "    }\n",
       "\n",
       "    .dataframe thead th {\n",
       "        text-align: right;\n",
       "    }\n",
       "</style>\n",
       "<table border=\"1\" class=\"dataframe\">\n",
       "  <thead>\n",
       "    <tr style=\"text-align: right;\">\n",
       "      <th></th>\n",
       "      <th>user_id</th>\n",
       "      <th>respond_time</th>\n",
       "      <th>Answer</th>\n",
       "      <th>Question</th>\n",
       "      <th>sex_id</th>\n",
       "      <th>category_id</th>\n",
       "      <th>nb_points</th>\n",
       "      <th>created_at</th>\n",
       "    </tr>\n",
       "  </thead>\n",
       "  <tbody>\n",
       "    <tr>\n",
       "      <th>0</th>\n",
       "      <td>10109</td>\n",
       "      <td>2018-09-06 16:18:02</td>\n",
       "      <td>Yes</td>\n",
       "      <td>Are you trying to lose weight?</td>\n",
       "      <td>0.0</td>\n",
       "      <td>7</td>\n",
       "      <td>1</td>\n",
       "      <td>2018-09-06 01:23:42</td>\n",
       "    </tr>\n",
       "    <tr>\n",
       "      <th>1</th>\n",
       "      <td>10135</td>\n",
       "      <td>2018-09-06 15:20:57</td>\n",
       "      <td>No</td>\n",
       "      <td>Are you trying to lose weight?</td>\n",
       "      <td>0.0</td>\n",
       "      <td>7</td>\n",
       "      <td>1</td>\n",
       "      <td>2018-09-06 01:23:42</td>\n",
       "    </tr>\n",
       "    <tr>\n",
       "      <th>2</th>\n",
       "      <td>10237</td>\n",
       "      <td>2018-09-06 13:30:05</td>\n",
       "      <td>No</td>\n",
       "      <td>Are you trying to lose weight?</td>\n",
       "      <td>0.0</td>\n",
       "      <td>7</td>\n",
       "      <td>1</td>\n",
       "      <td>2018-09-06 01:23:42</td>\n",
       "    </tr>\n",
       "    <tr>\n",
       "      <th>3</th>\n",
       "      <td>10261</td>\n",
       "      <td>2018-09-06 14:40:45</td>\n",
       "      <td>Yes</td>\n",
       "      <td>Are you trying to lose weight?</td>\n",
       "      <td>0.0</td>\n",
       "      <td>7</td>\n",
       "      <td>1</td>\n",
       "      <td>2018-09-06 01:23:42</td>\n",
       "    </tr>\n",
       "    <tr>\n",
       "      <th>4</th>\n",
       "      <td>10268</td>\n",
       "      <td>2018-09-06 15:06:17</td>\n",
       "      <td>No</td>\n",
       "      <td>Are you trying to lose weight?</td>\n",
       "      <td>0.0</td>\n",
       "      <td>7</td>\n",
       "      <td>1</td>\n",
       "      <td>2018-09-06 01:23:42</td>\n",
       "    </tr>\n",
       "  </tbody>\n",
       "</table>\n",
       "</div>"
      ],
      "text/plain": [
       "   user_id        respond_time Answer                        Question sex_id  \\\n",
       "0    10109 2018-09-06 16:18:02    Yes  Are you trying to lose weight?    0.0   \n",
       "1    10135 2018-09-06 15:20:57     No  Are you trying to lose weight?    0.0   \n",
       "2    10237 2018-09-06 13:30:05     No  Are you trying to lose weight?    0.0   \n",
       "3    10261 2018-09-06 14:40:45    Yes  Are you trying to lose weight?    0.0   \n",
       "4    10268 2018-09-06 15:06:17     No  Are you trying to lose weight?    0.0   \n",
       "\n",
       "  category_id  nb_points          created_at  \n",
       "0           7          1 2018-09-06 01:23:42  \n",
       "1           7          1 2018-09-06 01:23:42  \n",
       "2           7          1 2018-09-06 01:23:42  \n",
       "3           7          1 2018-09-06 01:23:42  \n",
       "4           7          1 2018-09-06 01:23:42  "
      ]
     },
     "execution_count": 552,
     "metadata": {},
     "output_type": "execute_result"
    }
   ],
   "source": [
    "df = temp.copy()\n",
    "df.head()"
   ]
  },
  {
   "cell_type": "code",
   "execution_count": 553,
   "metadata": {},
   "outputs": [],
   "source": [
    "df['time_diff'] = (df['created_at'] - df['respond_time']).astype('timedelta64[h]')"
   ]
  },
  {
   "cell_type": "code",
   "execution_count": 556,
   "metadata": {},
   "outputs": [],
   "source": [
    "df['time_diff'] = df['time_diff'].abs()"
   ]
  },
  {
   "cell_type": "code",
   "execution_count": 569,
   "metadata": {},
   "outputs": [
    {
     "data": {
      "text/plain": [
       "user_id\n",
       "17067     301.571429\n",
       "105961    290.500000\n",
       "100494    290.000000\n",
       "27546     270.000000\n",
       "12468     235.333333\n",
       "109201    234.200000\n",
       "87931     232.428571\n",
       "100593    199.000000\n",
       "89703     198.166667\n",
       "89745     195.916667\n",
       "Name: time_diff, dtype: float64"
      ]
     },
     "execution_count": 569,
     "metadata": {},
     "output_type": "execute_result"
    }
   ],
   "source": [
    "# Grouping by response time to question on app\n",
    "# Worst 10 Users in response time\n",
    "df.groupby('user_id').time_diff.mean().sort_values(ascending=False).head(10)"
   ]
  },
  {
   "cell_type": "code",
   "execution_count": 570,
   "metadata": {},
   "outputs": [
    {
     "data": {
      "text/plain": [
       "user_id\n",
       "105841    1.0\n",
       "107376    1.0\n",
       "108326    1.0\n",
       "108327    1.0\n",
       "94696     1.0\n",
       "108328    1.0\n",
       "108330    1.0\n",
       "101277    1.0\n",
       "107673    NaN\n",
       "108853    NaN\n",
       "Name: time_diff, dtype: float64"
      ]
     },
     "execution_count": 570,
     "metadata": {},
     "output_type": "execute_result"
    }
   ],
   "source": [
    "# Best 10 Users in response time\n",
    "df.groupby('user_id').time_diff.mean().sort_values(ascending=False).tail(10)"
   ]
  },
  {
   "cell_type": "markdown",
   "metadata": {},
   "source": [
    "#### We can see that users 107673 and 108853 has null values because they answered one question which turned out to be a question with all missign values in which I dropped earlier"
   ]
  },
  {
   "cell_type": "code",
   "execution_count": null,
   "metadata": {},
   "outputs": [],
   "source": []
  },
  {
   "cell_type": "code",
   "execution_count": null,
   "metadata": {},
   "outputs": [],
   "source": []
  },
  {
   "cell_type": "code",
   "execution_count": null,
   "metadata": {},
   "outputs": [],
   "source": []
  },
  {
   "cell_type": "code",
   "execution_count": null,
   "metadata": {},
   "outputs": [],
   "source": []
  },
  {
   "cell_type": "code",
   "execution_count": null,
   "metadata": {},
   "outputs": [],
   "source": []
  },
  {
   "cell_type": "code",
   "execution_count": null,
   "metadata": {},
   "outputs": [],
   "source": []
  },
  {
   "cell_type": "code",
   "execution_count": null,
   "metadata": {},
   "outputs": [],
   "source": []
  },
  {
   "cell_type": "code",
   "execution_count": null,
   "metadata": {},
   "outputs": [],
   "source": []
  },
  {
   "cell_type": "code",
   "execution_count": null,
   "metadata": {},
   "outputs": [],
   "source": []
  },
  {
   "cell_type": "code",
   "execution_count": null,
   "metadata": {},
   "outputs": [],
   "source": []
  },
  {
   "cell_type": "markdown",
   "metadata": {},
   "source": [
    "# Treating every question as a feature"
   ]
  },
  {
   "cell_type": "code",
   "execution_count": 2,
   "metadata": {},
   "outputs": [],
   "source": [
    "data = pd.read_csv('Data/my/QAID.csv')\n",
    "qa = pd.read_csv('Data/my/Questions_Answers.csv')"
   ]
  },
  {
   "cell_type": "code",
   "execution_count": 3,
   "metadata": {},
   "outputs": [
    {
     "data": {
      "text/html": [
       "<div>\n",
       "<style scoped>\n",
       "    .dataframe tbody tr th:only-of-type {\n",
       "        vertical-align: middle;\n",
       "    }\n",
       "\n",
       "    .dataframe tbody tr th {\n",
       "        vertical-align: top;\n",
       "    }\n",
       "\n",
       "    .dataframe thead th {\n",
       "        text-align: right;\n",
       "    }\n",
       "</style>\n",
       "<table border=\"1\" class=\"dataframe\">\n",
       "  <thead>\n",
       "    <tr style=\"text-align: right;\">\n",
       "      <th></th>\n",
       "      <th>user_id</th>\n",
       "      <th>q_9423</th>\n",
       "      <th>q_9328</th>\n",
       "      <th>q_9326</th>\n",
       "      <th>q_9431</th>\n",
       "      <th>q_9429</th>\n",
       "      <th>q_9435</th>\n",
       "      <th>q_9428</th>\n",
       "      <th>q_9434</th>\n",
       "      <th>q_9433</th>\n",
       "      <th>...</th>\n",
       "      <th>q_8179</th>\n",
       "      <th>q_6119</th>\n",
       "      <th>q_7903</th>\n",
       "      <th>q_8632</th>\n",
       "      <th>q_7420</th>\n",
       "      <th>q_7708</th>\n",
       "      <th>q_7785</th>\n",
       "      <th>q_7803</th>\n",
       "      <th>q_8005</th>\n",
       "      <th>q_8408</th>\n",
       "    </tr>\n",
       "  </thead>\n",
       "  <tbody>\n",
       "    <tr>\n",
       "      <th>0</th>\n",
       "      <td>89</td>\n",
       "      <td>29239</td>\n",
       "      <td>0</td>\n",
       "      <td>0</td>\n",
       "      <td>29264</td>\n",
       "      <td>29258</td>\n",
       "      <td>29284</td>\n",
       "      <td>29253</td>\n",
       "      <td>29278</td>\n",
       "      <td>29276</td>\n",
       "      <td>...</td>\n",
       "      <td>0</td>\n",
       "      <td>0</td>\n",
       "      <td>0</td>\n",
       "      <td>26778</td>\n",
       "      <td>0</td>\n",
       "      <td>0</td>\n",
       "      <td>0</td>\n",
       "      <td>0</td>\n",
       "      <td>0</td>\n",
       "      <td>0</td>\n",
       "    </tr>\n",
       "    <tr>\n",
       "      <th>1</th>\n",
       "      <td>107</td>\n",
       "      <td>0</td>\n",
       "      <td>0</td>\n",
       "      <td>0</td>\n",
       "      <td>0</td>\n",
       "      <td>0</td>\n",
       "      <td>0</td>\n",
       "      <td>0</td>\n",
       "      <td>0</td>\n",
       "      <td>0</td>\n",
       "      <td>...</td>\n",
       "      <td>0</td>\n",
       "      <td>0</td>\n",
       "      <td>0</td>\n",
       "      <td>0</td>\n",
       "      <td>0</td>\n",
       "      <td>0</td>\n",
       "      <td>0</td>\n",
       "      <td>0</td>\n",
       "      <td>0</td>\n",
       "      <td>0</td>\n",
       "    </tr>\n",
       "    <tr>\n",
       "      <th>2</th>\n",
       "      <td>173</td>\n",
       "      <td>29239</td>\n",
       "      <td>0</td>\n",
       "      <td>0</td>\n",
       "      <td>29268</td>\n",
       "      <td>29259</td>\n",
       "      <td>29284</td>\n",
       "      <td>29252</td>\n",
       "      <td>29278</td>\n",
       "      <td>29275</td>\n",
       "      <td>...</td>\n",
       "      <td>0</td>\n",
       "      <td>0</td>\n",
       "      <td>0</td>\n",
       "      <td>0</td>\n",
       "      <td>0</td>\n",
       "      <td>0</td>\n",
       "      <td>0</td>\n",
       "      <td>0</td>\n",
       "      <td>0</td>\n",
       "      <td>0</td>\n",
       "    </tr>\n",
       "    <tr>\n",
       "      <th>3</th>\n",
       "      <td>183</td>\n",
       "      <td>29239</td>\n",
       "      <td>0</td>\n",
       "      <td>0</td>\n",
       "      <td>29268</td>\n",
       "      <td>29257</td>\n",
       "      <td>29285</td>\n",
       "      <td>29255</td>\n",
       "      <td>29278</td>\n",
       "      <td>29275</td>\n",
       "      <td>...</td>\n",
       "      <td>0</td>\n",
       "      <td>0</td>\n",
       "      <td>0</td>\n",
       "      <td>0</td>\n",
       "      <td>0</td>\n",
       "      <td>0</td>\n",
       "      <td>0</td>\n",
       "      <td>0</td>\n",
       "      <td>0</td>\n",
       "      <td>0</td>\n",
       "    </tr>\n",
       "    <tr>\n",
       "      <th>4</th>\n",
       "      <td>10109</td>\n",
       "      <td>29239</td>\n",
       "      <td>0</td>\n",
       "      <td>0</td>\n",
       "      <td>29268</td>\n",
       "      <td>29259</td>\n",
       "      <td>29281</td>\n",
       "      <td>29252</td>\n",
       "      <td>29278</td>\n",
       "      <td>29273</td>\n",
       "      <td>...</td>\n",
       "      <td>0</td>\n",
       "      <td>0</td>\n",
       "      <td>0</td>\n",
       "      <td>0</td>\n",
       "      <td>0</td>\n",
       "      <td>0</td>\n",
       "      <td>0</td>\n",
       "      <td>0</td>\n",
       "      <td>0</td>\n",
       "      <td>0</td>\n",
       "    </tr>\n",
       "  </tbody>\n",
       "</table>\n",
       "<p>5 rows × 420 columns</p>\n",
       "</div>"
      ],
      "text/plain": [
       "   user_id  q_9423  q_9328  q_9326  q_9431  q_9429  q_9435  q_9428  q_9434  \\\n",
       "0       89   29239       0       0   29264   29258   29284   29253   29278   \n",
       "1      107       0       0       0       0       0       0       0       0   \n",
       "2      173   29239       0       0   29268   29259   29284   29252   29278   \n",
       "3      183   29239       0       0   29268   29257   29285   29255   29278   \n",
       "4    10109   29239       0       0   29268   29259   29281   29252   29278   \n",
       "\n",
       "   q_9433   ...    q_8179  q_6119  q_7903  q_8632  q_7420  q_7708  q_7785  \\\n",
       "0   29276   ...         0       0       0   26778       0       0       0   \n",
       "1       0   ...         0       0       0       0       0       0       0   \n",
       "2   29275   ...         0       0       0       0       0       0       0   \n",
       "3   29275   ...         0       0       0       0       0       0       0   \n",
       "4   29273   ...         0       0       0       0       0       0       0   \n",
       "\n",
       "   q_7803  q_8005  q_8408  \n",
       "0       0       0       0  \n",
       "1       0       0       0  \n",
       "2       0       0       0  \n",
       "3       0       0       0  \n",
       "4       0       0       0  \n",
       "\n",
       "[5 rows x 420 columns]"
      ]
     },
     "execution_count": 3,
     "metadata": {},
     "output_type": "execute_result"
    }
   ],
   "source": [
    "data.head()"
   ]
  },
  {
   "cell_type": "code",
   "execution_count": 5,
   "metadata": {},
   "outputs": [
    {
     "data": {
      "text/plain": [
       "(4513, 420)"
      ]
     },
     "execution_count": 5,
     "metadata": {},
     "output_type": "execute_result"
    }
   ],
   "source": [
    "data.shape"
   ]
  },
  {
   "cell_type": "code",
   "execution_count": null,
   "metadata": {},
   "outputs": [],
   "source": []
  },
  {
   "cell_type": "code",
   "execution_count": 611,
   "metadata": {},
   "outputs": [
    {
     "data": {
      "text/plain": [
       "Index(['question_id', 'title', 'start_age', 'end_age', 'sex_id', 'category_id',\n",
       "       'nb_targets', 'nb_points', 'created_at', 'updated_at', 'topic_id',\n",
       "       'prefered_lang', 'rank', 'Total_Number_of_Answers', 'answer_id',\n",
       "       'description', 'Number_Of_Answers'],\n",
       "      dtype='object')"
      ]
     },
     "execution_count": 611,
     "metadata": {},
     "output_type": "execute_result"
    }
   ],
   "source": [
    "qa.columns"
   ]
  },
  {
   "cell_type": "code",
   "execution_count": 579,
   "metadata": {},
   "outputs": [
    {
     "data": {
      "text/plain": [
       "4513"
      ]
     },
     "execution_count": 579,
     "metadata": {},
     "output_type": "execute_result"
    }
   ],
   "source": [
    "data.user_id.nunique()"
   ]
  },
  {
   "cell_type": "markdown",
   "metadata": {},
   "source": [
    "### Since this is categorical data we are working with, keeping the answerid as a numeric variable will fool the clustering algorithm into measuring the distance although there is no real distance implied in these numbers"
   ]
  },
  {
   "cell_type": "code",
   "execution_count": 609,
   "metadata": {},
   "outputs": [],
   "source": [
    "temp = qa[['answer_id', 'description']]"
   ]
  },
  {
   "cell_type": "code",
   "execution_count": 591,
   "metadata": {},
   "outputs": [],
   "source": [
    "# mapper = dict(zip(qa.answer_id.values, qa.description.values))"
   ]
  },
  {
   "cell_type": "code",
   "execution_count": 610,
   "metadata": {},
   "outputs": [
    {
     "data": {
      "text/html": [
       "<div>\n",
       "<style scoped>\n",
       "    .dataframe tbody tr th:only-of-type {\n",
       "        vertical-align: middle;\n",
       "    }\n",
       "\n",
       "    .dataframe tbody tr th {\n",
       "        vertical-align: top;\n",
       "    }\n",
       "\n",
       "    .dataframe thead th {\n",
       "        text-align: right;\n",
       "    }\n",
       "</style>\n",
       "<table border=\"1\" class=\"dataframe\">\n",
       "  <thead>\n",
       "    <tr style=\"text-align: right;\">\n",
       "      <th></th>\n",
       "      <th>answer_id</th>\n",
       "      <th>description</th>\n",
       "    </tr>\n",
       "  </thead>\n",
       "  <tbody>\n",
       "    <tr>\n",
       "      <th>0</th>\n",
       "      <td>60570</td>\n",
       "      <td>Yes</td>\n",
       "    </tr>\n",
       "    <tr>\n",
       "      <th>1</th>\n",
       "      <td>60571</td>\n",
       "      <td>No</td>\n",
       "    </tr>\n",
       "    <tr>\n",
       "      <th>2</th>\n",
       "      <td>60724</td>\n",
       "      <td>Sohat</td>\n",
       "    </tr>\n",
       "    <tr>\n",
       "      <th>3</th>\n",
       "      <td>60725</td>\n",
       "      <td>Rim</td>\n",
       "    </tr>\n",
       "    <tr>\n",
       "      <th>4</th>\n",
       "      <td>60726</td>\n",
       "      <td>Sannine</td>\n",
       "    </tr>\n",
       "  </tbody>\n",
       "</table>\n",
       "</div>"
      ],
      "text/plain": [
       "   answer_id description\n",
       "0      60570         Yes\n",
       "1      60571          No\n",
       "2      60724       Sohat\n",
       "3      60725         Rim\n",
       "4      60726     Sannine"
      ]
     },
     "execution_count": 610,
     "metadata": {},
     "output_type": "execute_result"
    }
   ],
   "source": [
    "temp.head()"
   ]
  },
  {
   "cell_type": "markdown",
   "metadata": {},
   "source": []
  },
  {
   "cell_type": "code",
   "execution_count": 603,
   "metadata": {},
   "outputs": [],
   "source": [
    "data['q_9434'] = qa['answer_id']"
   ]
  },
  {
   "cell_type": "code",
   "execution_count": 605,
   "metadata": {},
   "outputs": [
    {
     "data": {
      "text/plain": [
       "0       60570.0\n",
       "1       60571.0\n",
       "2       60724.0\n",
       "3       60725.0\n",
       "4       60726.0\n",
       "5       60727.0\n",
       "6       60728.0\n",
       "7       60732.0\n",
       "8       60733.0\n",
       "9       60734.0\n",
       "10      60735.0\n",
       "11      60750.0\n",
       "12      60736.0\n",
       "13      60737.0\n",
       "14      60738.0\n",
       "15      60739.0\n",
       "16      60740.0\n",
       "17      60741.0\n",
       "18      60742.0\n",
       "19      60743.0\n",
       "20      60744.0\n",
       "21      60745.0\n",
       "22      60746.0\n",
       "23      60747.0\n",
       "24      60748.0\n",
       "25      60749.0\n",
       "26      60751.0\n",
       "27      60752.0\n",
       "28      60753.0\n",
       "29      60754.0\n",
       "         ...   \n",
       "4483        NaN\n",
       "4484        NaN\n",
       "4485        NaN\n",
       "4486        NaN\n",
       "4487        NaN\n",
       "4488        NaN\n",
       "4489        NaN\n",
       "4490        NaN\n",
       "4491        NaN\n",
       "4492        NaN\n",
       "4493        NaN\n",
       "4494        NaN\n",
       "4495        NaN\n",
       "4496        NaN\n",
       "4497        NaN\n",
       "4498        NaN\n",
       "4499        NaN\n",
       "4500        NaN\n",
       "4501        NaN\n",
       "4502        NaN\n",
       "4503        NaN\n",
       "4504        NaN\n",
       "4505        NaN\n",
       "4506        NaN\n",
       "4507        NaN\n",
       "4508        NaN\n",
       "4509        NaN\n",
       "4510        NaN\n",
       "4511        NaN\n",
       "4512        NaN\n",
       "Name: q_9434, Length: 4513, dtype: float64"
      ]
     },
     "execution_count": 605,
     "metadata": {},
     "output_type": "execute_result"
    }
   ],
   "source": [
    "data['q_9434']"
   ]
  },
  {
   "cell_type": "code",
   "execution_count": null,
   "metadata": {},
   "outputs": [],
   "source": [
    "# Convert the answerid to value then label encode as these are categorical data\n"
   ]
  },
  {
   "cell_type": "code",
   "execution_count": 7,
   "metadata": {},
   "outputs": [],
   "source": [
    "# data.isnull().sum()"
   ]
  },
  {
   "cell_type": "markdown",
   "metadata": {},
   "source": [
    "The standard k-means performs poorly in case of categorical data since in the sample space is discrete. The cost function defined by k-means computes the Euclidean Distance (or something similar) which is relevant only for continuous variables. Instead of computing the Euclidean distance, one could use the Hammer Distance (for categorical) or Gower Distance (for mixed). Instead of computing the mean, one can compute the mode. The most occurring value of a nominal variable is used as its representative (centers of cluster). Such a cost function is used in a variation of k-means called k-modes. Modes are analogous to centroids in k-means.\n",
    "\n",
    "If you are using python then you could probably use this package."
   ]
  },
  {
   "cell_type": "code",
   "execution_count": 9,
   "metadata": {},
   "outputs": [
    {
     "data": {
      "text/plain": [
       "29239    1842\n",
       "0        1252\n",
       "29237     757\n",
       "29238     662\n",
       "Name: q_9423, dtype: int64"
      ]
     },
     "execution_count": 9,
     "metadata": {},
     "output_type": "execute_result"
    }
   ],
   "source": [
    "data.q_9423.value_counts()"
   ]
  },
  {
   "cell_type": "code",
   "execution_count": 10,
   "metadata": {},
   "outputs": [
    {
     "data": {
      "text/plain": [
       "28939    2129\n",
       "0        1943\n",
       "28942     202\n",
       "28940     149\n",
       "28941      90\n",
       "Name: q_9328, dtype: int64"
      ]
     },
     "execution_count": 10,
     "metadata": {},
     "output_type": "execute_result"
    }
   ],
   "source": [
    "data.q_9328.value_counts()"
   ]
  },
  {
   "cell_type": "code",
   "execution_count": 11,
   "metadata": {},
   "outputs": [
    {
     "data": {
      "text/plain": [
       "array([0, 0, 0, ..., 1, 3, 0], dtype=int64)"
      ]
     },
     "execution_count": 11,
     "metadata": {},
     "output_type": "execute_result"
    }
   ],
   "source": [
    "data.q_9328.factorize()[0]"
   ]
  },
  {
   "cell_type": "markdown",
   "metadata": {},
   "source": [
    "1. Take the answers and replace code with answers\n",
    "2. Then label encode them, this way the answers will look similar along the different questions"
   ]
  },
  {
   "cell_type": "markdown",
   "metadata": {},
   "source": [
    "https://datascience.stackexchange.com/questions/22/k-means-clustering-for-mixed-numeric-and-categorical-data/24#24\n",
    "https://datascience.stackexchange.com/questions/22/k-means-clustering-for-mixed-numeric-and-categorical-data/24#24\n",
    "https://arxiv.org/ftp/cs/papers/0603/0603120.pdf\n"
   ]
  },
  {
   "cell_type": "code",
   "execution_count": null,
   "metadata": {},
   "outputs": [],
   "source": []
  },
  {
   "cell_type": "code",
   "execution_count": null,
   "metadata": {},
   "outputs": [],
   "source": []
  },
  {
   "cell_type": "code",
   "execution_count": null,
   "metadata": {},
   "outputs": [],
   "source": []
  },
  {
   "cell_type": "code",
   "execution_count": null,
   "metadata": {},
   "outputs": [],
   "source": []
  },
  {
   "cell_type": "code",
   "execution_count": null,
   "metadata": {},
   "outputs": [],
   "source": []
  },
  {
   "cell_type": "code",
   "execution_count": 424,
   "metadata": {},
   "outputs": [],
   "source": [
    "df = pd.read_csv('Data/my/User_Question_Answer.csv', low_memory=False)"
   ]
  },
  {
   "cell_type": "code",
   "execution_count": 425,
   "metadata": {},
   "outputs": [],
   "source": [
    "df_q = pd.read_csv('Data/my/Questions_Answers.csv')"
   ]
  },
  {
   "cell_type": "code",
   "execution_count": 426,
   "metadata": {},
   "outputs": [],
   "source": [
    "df = df[['user_id', 'answer_id']].copy()"
   ]
  },
  {
   "cell_type": "code",
   "execution_count": 427,
   "metadata": {},
   "outputs": [],
   "source": [
    "matrix = pd.get_dummies(df,  'answer_id')"
   ]
  },
  {
   "cell_type": "code",
   "execution_count": 428,
   "metadata": {},
   "outputs": [],
   "source": [
    "matrix.drop('answer_id_2018-09-12 19:09:06', axis=1, inplace=True)"
   ]
  },
  {
   "cell_type": "code",
   "execution_count": 429,
   "metadata": {},
   "outputs": [
    {
     "data": {
      "text/plain": [
       "7243"
      ]
     },
     "execution_count": 429,
     "metadata": {},
     "output_type": "execute_result"
    }
   ],
   "source": [
    "matrix.user_id.nunique()"
   ]
  },
  {
   "cell_type": "code",
   "execution_count": 504,
   "metadata": {},
   "outputs": [],
   "source": [
    "data = matrix.groupby('user_id')[matrix.columns[1:]].sum().reset_index()"
   ]
  },
  {
   "cell_type": "code",
   "execution_count": 505,
   "metadata": {},
   "outputs": [
    {
     "data": {
      "text/html": [
       "<div>\n",
       "<style scoped>\n",
       "    .dataframe tbody tr th:only-of-type {\n",
       "        vertical-align: middle;\n",
       "    }\n",
       "\n",
       "    .dataframe tbody tr th {\n",
       "        vertical-align: top;\n",
       "    }\n",
       "\n",
       "    .dataframe thead th {\n",
       "        text-align: right;\n",
       "    }\n",
       "</style>\n",
       "<table border=\"1\" class=\"dataframe\">\n",
       "  <thead>\n",
       "    <tr style=\"text-align: right;\">\n",
       "      <th></th>\n",
       "      <th>user_id</th>\n",
       "      <th>answer_id_60570</th>\n",
       "      <th>answer_id_60571</th>\n",
       "      <th>answer_id_60724</th>\n",
       "      <th>answer_id_60725</th>\n",
       "      <th>answer_id_60726</th>\n",
       "      <th>answer_id_60727</th>\n",
       "      <th>answer_id_60728</th>\n",
       "      <th>answer_id_60732</th>\n",
       "      <th>answer_id_60733</th>\n",
       "      <th>...</th>\n",
       "      <th>answer_id_62302</th>\n",
       "      <th>answer_id_62303</th>\n",
       "      <th>answer_id_62304</th>\n",
       "      <th>answer_id_62305</th>\n",
       "      <th>answer_id_62306</th>\n",
       "      <th>answer_id_62307</th>\n",
       "      <th>answer_id_62308</th>\n",
       "      <th>answer_id_62309</th>\n",
       "      <th>answer_id_62310</th>\n",
       "      <th>answer_id_62311</th>\n",
       "    </tr>\n",
       "  </thead>\n",
       "  <tbody>\n",
       "    <tr>\n",
       "      <th>0</th>\n",
       "      <td>89</td>\n",
       "      <td>0</td>\n",
       "      <td>0</td>\n",
       "      <td>0</td>\n",
       "      <td>1</td>\n",
       "      <td>0</td>\n",
       "      <td>0</td>\n",
       "      <td>0</td>\n",
       "      <td>0</td>\n",
       "      <td>0</td>\n",
       "      <td>...</td>\n",
       "      <td>0</td>\n",
       "      <td>0</td>\n",
       "      <td>0</td>\n",
       "      <td>0</td>\n",
       "      <td>0</td>\n",
       "      <td>0</td>\n",
       "      <td>0</td>\n",
       "      <td>0</td>\n",
       "      <td>0</td>\n",
       "      <td>0</td>\n",
       "    </tr>\n",
       "    <tr>\n",
       "      <th>1</th>\n",
       "      <td>107</td>\n",
       "      <td>0</td>\n",
       "      <td>0</td>\n",
       "      <td>0</td>\n",
       "      <td>0</td>\n",
       "      <td>0</td>\n",
       "      <td>0</td>\n",
       "      <td>0</td>\n",
       "      <td>1</td>\n",
       "      <td>0</td>\n",
       "      <td>...</td>\n",
       "      <td>0</td>\n",
       "      <td>0</td>\n",
       "      <td>0</td>\n",
       "      <td>0</td>\n",
       "      <td>0</td>\n",
       "      <td>0</td>\n",
       "      <td>0</td>\n",
       "      <td>0</td>\n",
       "      <td>0</td>\n",
       "      <td>0</td>\n",
       "    </tr>\n",
       "    <tr>\n",
       "      <th>2</th>\n",
       "      <td>173</td>\n",
       "      <td>0</td>\n",
       "      <td>0</td>\n",
       "      <td>0</td>\n",
       "      <td>0</td>\n",
       "      <td>0</td>\n",
       "      <td>0</td>\n",
       "      <td>0</td>\n",
       "      <td>0</td>\n",
       "      <td>0</td>\n",
       "      <td>...</td>\n",
       "      <td>0</td>\n",
       "      <td>0</td>\n",
       "      <td>1</td>\n",
       "      <td>0</td>\n",
       "      <td>0</td>\n",
       "      <td>1</td>\n",
       "      <td>0</td>\n",
       "      <td>0</td>\n",
       "      <td>0</td>\n",
       "      <td>0</td>\n",
       "    </tr>\n",
       "    <tr>\n",
       "      <th>3</th>\n",
       "      <td>183</td>\n",
       "      <td>0</td>\n",
       "      <td>0</td>\n",
       "      <td>0</td>\n",
       "      <td>0</td>\n",
       "      <td>0</td>\n",
       "      <td>0</td>\n",
       "      <td>0</td>\n",
       "      <td>0</td>\n",
       "      <td>0</td>\n",
       "      <td>...</td>\n",
       "      <td>0</td>\n",
       "      <td>0</td>\n",
       "      <td>0</td>\n",
       "      <td>0</td>\n",
       "      <td>0</td>\n",
       "      <td>0</td>\n",
       "      <td>0</td>\n",
       "      <td>0</td>\n",
       "      <td>0</td>\n",
       "      <td>0</td>\n",
       "    </tr>\n",
       "    <tr>\n",
       "      <th>4</th>\n",
       "      <td>10109</td>\n",
       "      <td>1</td>\n",
       "      <td>0</td>\n",
       "      <td>0</td>\n",
       "      <td>0</td>\n",
       "      <td>0</td>\n",
       "      <td>0</td>\n",
       "      <td>0</td>\n",
       "      <td>0</td>\n",
       "      <td>0</td>\n",
       "      <td>...</td>\n",
       "      <td>0</td>\n",
       "      <td>0</td>\n",
       "      <td>0</td>\n",
       "      <td>0</td>\n",
       "      <td>0</td>\n",
       "      <td>0</td>\n",
       "      <td>0</td>\n",
       "      <td>1</td>\n",
       "      <td>0</td>\n",
       "      <td>0</td>\n",
       "    </tr>\n",
       "  </tbody>\n",
       "</table>\n",
       "<p>5 rows × 490 columns</p>\n",
       "</div>"
      ],
      "text/plain": [
       "   user_id  answer_id_60570  answer_id_60571  answer_id_60724  \\\n",
       "0       89                0                0                0   \n",
       "1      107                0                0                0   \n",
       "2      173                0                0                0   \n",
       "3      183                0                0                0   \n",
       "4    10109                1                0                0   \n",
       "\n",
       "   answer_id_60725  answer_id_60726  answer_id_60727  answer_id_60728  \\\n",
       "0                1                0                0                0   \n",
       "1                0                0                0                0   \n",
       "2                0                0                0                0   \n",
       "3                0                0                0                0   \n",
       "4                0                0                0                0   \n",
       "\n",
       "   answer_id_60732  answer_id_60733       ...         answer_id_62302  \\\n",
       "0                0                0       ...                       0   \n",
       "1                1                0       ...                       0   \n",
       "2                0                0       ...                       0   \n",
       "3                0                0       ...                       0   \n",
       "4                0                0       ...                       0   \n",
       "\n",
       "   answer_id_62303  answer_id_62304  answer_id_62305  answer_id_62306  \\\n",
       "0                0                0                0                0   \n",
       "1                0                0                0                0   \n",
       "2                0                1                0                0   \n",
       "3                0                0                0                0   \n",
       "4                0                0                0                0   \n",
       "\n",
       "   answer_id_62307  answer_id_62308  answer_id_62309  answer_id_62310  \\\n",
       "0                0                0                0                0   \n",
       "1                0                0                0                0   \n",
       "2                1                0                0                0   \n",
       "3                0                0                0                0   \n",
       "4                0                0                1                0   \n",
       "\n",
       "   answer_id_62311  \n",
       "0                0  \n",
       "1                0  \n",
       "2                0  \n",
       "3                0  \n",
       "4                0  \n",
       "\n",
       "[5 rows x 490 columns]"
      ]
     },
     "execution_count": 505,
     "metadata": {},
     "output_type": "execute_result"
    }
   ],
   "source": [
    "data.head()"
   ]
  },
  {
   "cell_type": "code",
   "execution_count": 506,
   "metadata": {},
   "outputs": [
    {
     "data": {
      "text/plain": [
       "array(['60725', '60736', '60746', '60761', '60763', '60767', '60771',\n",
       "       '60775', '60780', '60791', '60803', '60810', '60816', '60821',\n",
       "       '60829', '60837', '60842', '60855', '60861', '60868', '61608',\n",
       "       '61610', '61630', '61637', '61662', '61678', '61686', '61688',\n",
       "       '61698', '61754', '61786', '61788', '61847', '61851', '61860',\n",
       "       '61918', '61923', '61925', '61930', '61949', '62000', '62052'],\n",
       "      dtype=object)"
      ]
     },
     "execution_count": 506,
     "metadata": {},
     "output_type": "execute_result"
    }
   ],
   "source": [
    "# Sanity Check\n",
    "df[df.user_id == 89].answer_id.values"
   ]
  },
  {
   "cell_type": "code",
   "execution_count": 566,
   "metadata": {},
   "outputs": [
    {
     "data": {
      "text/plain": [
       "Index(['user_id', 'answer_id_60725', 'answer_id_60736', 'answer_id_60746',\n",
       "       'answer_id_60761', 'answer_id_60763', 'answer_id_60767',\n",
       "       'answer_id_60771', 'answer_id_60775', 'answer_id_60780',\n",
       "       'answer_id_60791', 'answer_id_60803', 'answer_id_60810',\n",
       "       'answer_id_60816', 'answer_id_60821', 'answer_id_60829',\n",
       "       'answer_id_60837', 'answer_id_60842', 'answer_id_60855',\n",
       "       'answer_id_60861', 'answer_id_60868', 'answer_id_61608',\n",
       "       'answer_id_61610', 'answer_id_61630', 'answer_id_61637',\n",
       "       'answer_id_61662', 'answer_id_61678', 'answer_id_61686',\n",
       "       'answer_id_61688', 'answer_id_61698', 'answer_id_61754',\n",
       "       'answer_id_61786', 'answer_id_61788', 'answer_id_61847',\n",
       "       'answer_id_61851', 'answer_id_61860', 'answer_id_61918',\n",
       "       'answer_id_61923', 'answer_id_61925', 'answer_id_61930',\n",
       "       'answer_id_61949', 'answer_id_62000', 'answer_id_62052'],\n",
       "      dtype='object')"
      ]
     },
     "execution_count": 566,
     "metadata": {},
     "output_type": "execute_result"
    }
   ],
   "source": [
    "data.columns[data.iloc[0]>0]"
   ]
  },
  {
   "cell_type": "markdown",
   "metadata": {},
   "source": [
    "### After we have the data in the right form, we can have a premilinary model to train"
   ]
  },
  {
   "cell_type": "code",
   "execution_count": null,
   "metadata": {},
   "outputs": [],
   "source": []
  }
 ],
 "metadata": {
  "kernelspec": {
   "display_name": "Python 3",
   "language": "python",
   "name": "python3"
  },
  "language_info": {
   "codemirror_mode": {
    "name": "ipython",
    "version": 3
   },
   "file_extension": ".py",
   "mimetype": "text/x-python",
   "name": "python",
   "nbconvert_exporter": "python",
   "pygments_lexer": "ipython3",
   "version": "3.6.5"
  }
 },
 "nbformat": 4,
 "nbformat_minor": 2
}
