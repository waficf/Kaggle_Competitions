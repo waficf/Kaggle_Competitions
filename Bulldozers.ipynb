{
 "cells": [
  {
   "cell_type": "markdown",
   "metadata": {},
   "source": [
    "## Imports"
   ]
  },
  {
   "cell_type": "code",
   "execution_count": 1,
   "metadata": {
    "collapsed": false,
    "scrolled": true
   },
   "outputs": [],
   "source": [
    "%load_ext autoreload\n",
    "%autoreload 2\n",
    "\n",
    "%matplotlib inline"
   ]
  },
  {
   "cell_type": "code",
   "execution_count": 2,
   "metadata": {
    "collapsed": false
   },
   "outputs": [],
   "source": [
    "import pandas as pd\n",
    "import numpy as np\n",
    "import os\n",
    "import matplotlib.pyplot as plt\n",
    "\n",
    "from sklearn.ensemble import RandomForestRegressor, RandomForestClassifier\n",
    "from IPython.display import display"
   ]
  },
  {
   "cell_type": "code",
   "execution_count": 3,
   "metadata": {
    "collapsed": true
   },
   "outputs": [],
   "source": [
    "PATH = \"/home/nbuser/courses/fastai/courses/ml1/data/bulldozers/\""
   ]
  },
  {
   "cell_type": "code",
   "execution_count": 4,
   "metadata": {
    "collapsed": false
   },
   "outputs": [
    {
     "name": "stderr",
     "output_type": "stream",
     "text": [
      "'ls' is not recognized as an internal or external command,\n",
      "operable program or batch file.\n"
     ]
    }
   ],
   "source": [
    "!ls {PATH}"
   ]
  },
  {
   "cell_type": "markdown",
   "metadata": {},
   "source": [
    "## The Data"
   ]
  },
  {
   "cell_type": "code",
   "execution_count": 4,
   "metadata": {
    "collapsed": false
   },
   "outputs": [],
   "source": [
    "# data = pd.read_csv(f'{PATH}Train.csv', low_memory=False, parse_dates=['saledate'])\n",
    "data = pd.read_csv('Train.csv', low_memory=False, parse_dates=['saledate'])"
   ]
  },
  {
   "cell_type": "markdown",
   "metadata": {},
   "source": [
    "### Looking at the data"
   ]
  },
  {
   "cell_type": "code",
   "execution_count": 5,
   "metadata": {
    "collapsed": false,
    "scrolled": true
   },
   "outputs": [
    {
     "data": {
      "text/plain": [
       "(401125, 53)"
      ]
     },
     "execution_count": 5,
     "metadata": {},
     "output_type": "execute_result"
    }
   ],
   "source": [
    "data.shape"
   ]
  },
  {
   "cell_type": "code",
   "execution_count": 6,
   "metadata": {
    "collapsed": false
   },
   "outputs": [
    {
     "data": {
      "text/plain": [
       "Index(['SalesID', 'SalePrice', 'MachineID', 'ModelID', 'datasource',\n",
       "       'auctioneerID', 'YearMade', 'MachineHoursCurrentMeter', 'UsageBand',\n",
       "       'saledate', 'fiModelDesc', 'fiBaseModel', 'fiSecondaryDesc',\n",
       "       'fiModelSeries', 'fiModelDescriptor', 'ProductSize',\n",
       "       'fiProductClassDesc', 'state', 'ProductGroup', 'ProductGroupDesc',\n",
       "       'Drive_System', 'Enclosure', 'Forks', 'Pad_Type', 'Ride_Control',\n",
       "       'Stick', 'Transmission', 'Turbocharged', 'Blade_Extension',\n",
       "       'Blade_Width', 'Enclosure_Type', 'Engine_Horsepower', 'Hydraulics',\n",
       "       'Pushblock', 'Ripper', 'Scarifier', 'Tip_Control', 'Tire_Size',\n",
       "       'Coupler', 'Coupler_System', 'Grouser_Tracks', 'Hydraulics_Flow',\n",
       "       'Track_Type', 'Undercarriage_Pad_Width', 'Stick_Length', 'Thumb',\n",
       "       'Pattern_Changer', 'Grouser_Type', 'Backhoe_Mounting', 'Blade_Type',\n",
       "       'Travel_Controls', 'Differential_Type', 'Steering_Controls'],\n",
       "      dtype='object')"
      ]
     },
     "execution_count": 6,
     "metadata": {},
     "output_type": "execute_result"
    }
   ],
   "source": [
    "data.columns"
   ]
  },
  {
   "cell_type": "code",
   "execution_count": 7,
   "metadata": {
    "collapsed": true
   },
   "outputs": [],
   "source": [
    "# Context manager to temporarily set options in the with statement context\n",
    "def display_all(df):\n",
    "    with pd.option_context('display.max_rows', 1000, 'display.max_columns', 1000):\n",
    "        display(df)"
   ]
  },
  {
   "cell_type": "code",
   "execution_count": 8,
   "metadata": {
    "collapsed": false,
    "scrolled": true
   },
   "outputs": [
    {
     "data": {
      "text/html": [
       "<div>\n",
       "<style scoped>\n",
       "    .dataframe tbody tr th:only-of-type {\n",
       "        vertical-align: middle;\n",
       "    }\n",
       "\n",
       "    .dataframe tbody tr th {\n",
       "        vertical-align: top;\n",
       "    }\n",
       "\n",
       "    .dataframe thead th {\n",
       "        text-align: right;\n",
       "    }\n",
       "</style>\n",
       "<table border=\"1\" class=\"dataframe\">\n",
       "  <thead>\n",
       "    <tr style=\"text-align: right;\">\n",
       "      <th></th>\n",
       "      <th>SalesID</th>\n",
       "      <th>SalePrice</th>\n",
       "      <th>MachineID</th>\n",
       "      <th>ModelID</th>\n",
       "      <th>datasource</th>\n",
       "      <th>auctioneerID</th>\n",
       "      <th>YearMade</th>\n",
       "      <th>MachineHoursCurrentMeter</th>\n",
       "      <th>UsageBand</th>\n",
       "      <th>saledate</th>\n",
       "      <th>fiModelDesc</th>\n",
       "      <th>fiBaseModel</th>\n",
       "      <th>fiSecondaryDesc</th>\n",
       "      <th>fiModelSeries</th>\n",
       "      <th>fiModelDescriptor</th>\n",
       "      <th>ProductSize</th>\n",
       "      <th>fiProductClassDesc</th>\n",
       "      <th>state</th>\n",
       "      <th>ProductGroup</th>\n",
       "      <th>ProductGroupDesc</th>\n",
       "      <th>Drive_System</th>\n",
       "      <th>Enclosure</th>\n",
       "      <th>Forks</th>\n",
       "      <th>Pad_Type</th>\n",
       "      <th>Ride_Control</th>\n",
       "      <th>Stick</th>\n",
       "      <th>Transmission</th>\n",
       "      <th>Turbocharged</th>\n",
       "      <th>Blade_Extension</th>\n",
       "      <th>Blade_Width</th>\n",
       "      <th>Enclosure_Type</th>\n",
       "      <th>Engine_Horsepower</th>\n",
       "      <th>Hydraulics</th>\n",
       "      <th>Pushblock</th>\n",
       "      <th>Ripper</th>\n",
       "      <th>Scarifier</th>\n",
       "      <th>Tip_Control</th>\n",
       "      <th>Tire_Size</th>\n",
       "      <th>Coupler</th>\n",
       "      <th>Coupler_System</th>\n",
       "      <th>Grouser_Tracks</th>\n",
       "      <th>Hydraulics_Flow</th>\n",
       "      <th>Track_Type</th>\n",
       "      <th>Undercarriage_Pad_Width</th>\n",
       "      <th>Stick_Length</th>\n",
       "      <th>Thumb</th>\n",
       "      <th>Pattern_Changer</th>\n",
       "      <th>Grouser_Type</th>\n",
       "      <th>Backhoe_Mounting</th>\n",
       "      <th>Blade_Type</th>\n",
       "      <th>Travel_Controls</th>\n",
       "      <th>Differential_Type</th>\n",
       "      <th>Steering_Controls</th>\n",
       "    </tr>\n",
       "  </thead>\n",
       "  <tbody>\n",
       "    <tr>\n",
       "      <th>0</th>\n",
       "      <td>1139246</td>\n",
       "      <td>66000</td>\n",
       "      <td>999089</td>\n",
       "      <td>3157</td>\n",
       "      <td>121</td>\n",
       "      <td>3.0</td>\n",
       "      <td>2004</td>\n",
       "      <td>68.0</td>\n",
       "      <td>Low</td>\n",
       "      <td>2006-11-16</td>\n",
       "      <td>521D</td>\n",
       "      <td>521</td>\n",
       "      <td>D</td>\n",
       "      <td>NaN</td>\n",
       "      <td>NaN</td>\n",
       "      <td>NaN</td>\n",
       "      <td>Wheel Loader - 110.0 to 120.0 Horsepower</td>\n",
       "      <td>Alabama</td>\n",
       "      <td>WL</td>\n",
       "      <td>Wheel Loader</td>\n",
       "      <td>NaN</td>\n",
       "      <td>EROPS w AC</td>\n",
       "      <td>None or Unspecified</td>\n",
       "      <td>NaN</td>\n",
       "      <td>None or Unspecified</td>\n",
       "      <td>NaN</td>\n",
       "      <td>NaN</td>\n",
       "      <td>NaN</td>\n",
       "      <td>NaN</td>\n",
       "      <td>NaN</td>\n",
       "      <td>NaN</td>\n",
       "      <td>NaN</td>\n",
       "      <td>2 Valve</td>\n",
       "      <td>NaN</td>\n",
       "      <td>NaN</td>\n",
       "      <td>NaN</td>\n",
       "      <td>NaN</td>\n",
       "      <td>None or Unspecified</td>\n",
       "      <td>None or Unspecified</td>\n",
       "      <td>NaN</td>\n",
       "      <td>NaN</td>\n",
       "      <td>NaN</td>\n",
       "      <td>NaN</td>\n",
       "      <td>NaN</td>\n",
       "      <td>NaN</td>\n",
       "      <td>NaN</td>\n",
       "      <td>NaN</td>\n",
       "      <td>NaN</td>\n",
       "      <td>NaN</td>\n",
       "      <td>NaN</td>\n",
       "      <td>NaN</td>\n",
       "      <td>Standard</td>\n",
       "      <td>Conventional</td>\n",
       "    </tr>\n",
       "    <tr>\n",
       "      <th>1</th>\n",
       "      <td>1139248</td>\n",
       "      <td>57000</td>\n",
       "      <td>117657</td>\n",
       "      <td>77</td>\n",
       "      <td>121</td>\n",
       "      <td>3.0</td>\n",
       "      <td>1996</td>\n",
       "      <td>4640.0</td>\n",
       "      <td>Low</td>\n",
       "      <td>2004-03-26</td>\n",
       "      <td>950FII</td>\n",
       "      <td>950</td>\n",
       "      <td>F</td>\n",
       "      <td>II</td>\n",
       "      <td>NaN</td>\n",
       "      <td>Medium</td>\n",
       "      <td>Wheel Loader - 150.0 to 175.0 Horsepower</td>\n",
       "      <td>North Carolina</td>\n",
       "      <td>WL</td>\n",
       "      <td>Wheel Loader</td>\n",
       "      <td>NaN</td>\n",
       "      <td>EROPS w AC</td>\n",
       "      <td>None or Unspecified</td>\n",
       "      <td>NaN</td>\n",
       "      <td>None or Unspecified</td>\n",
       "      <td>NaN</td>\n",
       "      <td>NaN</td>\n",
       "      <td>NaN</td>\n",
       "      <td>NaN</td>\n",
       "      <td>NaN</td>\n",
       "      <td>NaN</td>\n",
       "      <td>NaN</td>\n",
       "      <td>2 Valve</td>\n",
       "      <td>NaN</td>\n",
       "      <td>NaN</td>\n",
       "      <td>NaN</td>\n",
       "      <td>NaN</td>\n",
       "      <td>23.5</td>\n",
       "      <td>None or Unspecified</td>\n",
       "      <td>NaN</td>\n",
       "      <td>NaN</td>\n",
       "      <td>NaN</td>\n",
       "      <td>NaN</td>\n",
       "      <td>NaN</td>\n",
       "      <td>NaN</td>\n",
       "      <td>NaN</td>\n",
       "      <td>NaN</td>\n",
       "      <td>NaN</td>\n",
       "      <td>NaN</td>\n",
       "      <td>NaN</td>\n",
       "      <td>NaN</td>\n",
       "      <td>Standard</td>\n",
       "      <td>Conventional</td>\n",
       "    </tr>\n",
       "  </tbody>\n",
       "</table>\n",
       "</div>"
      ],
      "text/plain": [
       "   SalesID  SalePrice  MachineID  ModelID  datasource  auctioneerID  YearMade  \\\n",
       "0  1139246      66000     999089     3157         121           3.0      2004   \n",
       "1  1139248      57000     117657       77         121           3.0      1996   \n",
       "\n",
       "   MachineHoursCurrentMeter UsageBand   saledate fiModelDesc fiBaseModel  \\\n",
       "0                      68.0       Low 2006-11-16        521D         521   \n",
       "1                    4640.0       Low 2004-03-26      950FII         950   \n",
       "\n",
       "  fiSecondaryDesc fiModelSeries fiModelDescriptor ProductSize  \\\n",
       "0               D           NaN               NaN         NaN   \n",
       "1               F            II               NaN      Medium   \n",
       "\n",
       "                         fiProductClassDesc           state ProductGroup  \\\n",
       "0  Wheel Loader - 110.0 to 120.0 Horsepower         Alabama           WL   \n",
       "1  Wheel Loader - 150.0 to 175.0 Horsepower  North Carolina           WL   \n",
       "\n",
       "  ProductGroupDesc Drive_System   Enclosure                Forks Pad_Type  \\\n",
       "0     Wheel Loader          NaN  EROPS w AC  None or Unspecified      NaN   \n",
       "1     Wheel Loader          NaN  EROPS w AC  None or Unspecified      NaN   \n",
       "\n",
       "          Ride_Control Stick Transmission Turbocharged Blade_Extension  \\\n",
       "0  None or Unspecified   NaN          NaN          NaN             NaN   \n",
       "1  None or Unspecified   NaN          NaN          NaN             NaN   \n",
       "\n",
       "  Blade_Width Enclosure_Type Engine_Horsepower Hydraulics Pushblock Ripper  \\\n",
       "0         NaN            NaN               NaN    2 Valve       NaN    NaN   \n",
       "1         NaN            NaN               NaN    2 Valve       NaN    NaN   \n",
       "\n",
       "  Scarifier Tip_Control            Tire_Size              Coupler  \\\n",
       "0       NaN         NaN  None or Unspecified  None or Unspecified   \n",
       "1       NaN         NaN                 23.5  None or Unspecified   \n",
       "\n",
       "  Coupler_System Grouser_Tracks Hydraulics_Flow Track_Type  \\\n",
       "0            NaN            NaN             NaN        NaN   \n",
       "1            NaN            NaN             NaN        NaN   \n",
       "\n",
       "  Undercarriage_Pad_Width Stick_Length Thumb Pattern_Changer Grouser_Type  \\\n",
       "0                     NaN          NaN   NaN             NaN          NaN   \n",
       "1                     NaN          NaN   NaN             NaN          NaN   \n",
       "\n",
       "  Backhoe_Mounting Blade_Type Travel_Controls Differential_Type  \\\n",
       "0              NaN        NaN             NaN          Standard   \n",
       "1              NaN        NaN             NaN          Standard   \n",
       "\n",
       "  Steering_Controls  \n",
       "0      Conventional  \n",
       "1      Conventional  "
      ]
     },
     "metadata": {},
     "output_type": "display_data"
    }
   ],
   "source": [
    "display_all(data.head(2))"
   ]
  },
  {
   "cell_type": "code",
   "execution_count": 9,
   "metadata": {
    "collapsed": false
   },
   "outputs": [],
   "source": [
    "# display_all(data.describe(include='all').T).head()"
   ]
  },
  {
   "cell_type": "code",
   "execution_count": 10,
   "metadata": {
    "collapsed": true
   },
   "outputs": [],
   "source": [
    "# Transform SalePrice to log to comply with Kaggle evaluation\n",
    "data['SalePrice'] = np.log(data['SalePrice'] )"
   ]
  },
  {
   "cell_type": "code",
   "execution_count": 11,
   "metadata": {
    "collapsed": false
   },
   "outputs": [
    {
     "data": {
      "text/plain": [
       "0    11.097410\n",
       "1    10.950807\n",
       "2     9.210340\n",
       "3    10.558414\n",
       "4     9.305651\n",
       "Name: SalePrice, dtype: float64"
      ]
     },
     "execution_count": 11,
     "metadata": {},
     "output_type": "execute_result"
    }
   ],
   "source": [
    "data.SalePrice.head()"
   ]
  },
  {
   "cell_type": "markdown",
   "metadata": {},
   "source": [
    "### Initial Processing"
   ]
  },
  {
   "cell_type": "code",
   "execution_count": 12,
   "metadata": {
    "collapsed": true
   },
   "outputs": [],
   "source": [
    "# Extracting date attributes from saledate and dropping original column\n",
    "def datetransform(df, fldname, drop=True):\n",
    "    fld = df[fldname]\n",
    "    for n in ('Year', 'Month', 'Week', 'Day', 'Dayofweek', 'Dayofyear','Is_month_end', 'Is_month_start', 'Is_quarter_end', \\\n",
    "              'Is_quarter_start', 'Is_year_end', 'Is_year_start'):\n",
    "        df['Sales_'+n] = getattr(fld.dt, n.lower())\n",
    "    df[\"Sales_\"+'Elapsed'] = fld.astype(np.int64) // 10**9\n",
    "    if drop:\n",
    "        df = df.drop(fldname, axis=1, inplace=True)"
   ]
  },
  {
   "cell_type": "code",
   "execution_count": 13,
   "metadata": {
    "collapsed": true
   },
   "outputs": [],
   "source": [
    "datetransform(data, 'saledate')"
   ]
  },
  {
   "cell_type": "code",
   "execution_count": 14,
   "metadata": {
    "collapsed": false
   },
   "outputs": [
    {
     "data": {
      "text/plain": [
       "Index(['SalesID', 'SalePrice', 'MachineID', 'ModelID', 'datasource',\n",
       "       'auctioneerID', 'YearMade', 'MachineHoursCurrentMeter', 'UsageBand',\n",
       "       'fiModelDesc', 'fiBaseModel', 'fiSecondaryDesc', 'fiModelSeries',\n",
       "       'fiModelDescriptor', 'ProductSize', 'fiProductClassDesc', 'state',\n",
       "       'ProductGroup', 'ProductGroupDesc', 'Drive_System', 'Enclosure',\n",
       "       'Forks', 'Pad_Type', 'Ride_Control', 'Stick', 'Transmission',\n",
       "       'Turbocharged', 'Blade_Extension', 'Blade_Width', 'Enclosure_Type',\n",
       "       'Engine_Horsepower', 'Hydraulics', 'Pushblock', 'Ripper', 'Scarifier',\n",
       "       'Tip_Control', 'Tire_Size', 'Coupler', 'Coupler_System',\n",
       "       'Grouser_Tracks', 'Hydraulics_Flow', 'Track_Type',\n",
       "       'Undercarriage_Pad_Width', 'Stick_Length', 'Thumb', 'Pattern_Changer',\n",
       "       'Grouser_Type', 'Backhoe_Mounting', 'Blade_Type', 'Travel_Controls',\n",
       "       'Differential_Type', 'Steering_Controls', 'Sales_Year', 'Sales_Month',\n",
       "       'Sales_Week', 'Sales_Day', 'Sales_Dayofweek', 'Sales_Dayofyear',\n",
       "       'Sales_Is_month_end', 'Sales_Is_month_start', 'Sales_Is_quarter_end',\n",
       "       'Sales_Is_quarter_start', 'Sales_Is_year_end', 'Sales_Is_year_start',\n",
       "       'Sales_Elapsed'],\n",
       "      dtype='object')"
      ]
     },
     "execution_count": 14,
     "metadata": {},
     "output_type": "execute_result"
    }
   ],
   "source": [
    "data.columns"
   ]
  },
  {
   "cell_type": "code",
   "execution_count": 15,
   "metadata": {
    "collapsed": true,
    "scrolled": true
   },
   "outputs": [],
   "source": [
    "def catconv(df):\n",
    "    for n in df:\n",
    "        if df[n].dtypes == object:\n",
    "            df[n] = df[n].astype('category')"
   ]
  },
  {
   "cell_type": "code",
   "execution_count": 16,
   "metadata": {
    "collapsed": true
   },
   "outputs": [],
   "source": [
    "# Convert object to categorical variable\n",
    "catconv(data)"
   ]
  },
  {
   "cell_type": "code",
   "execution_count": 17,
   "metadata": {
    "collapsed": false
   },
   "outputs": [
    {
     "data": {
      "text/plain": [
       "Index(['High', 'Low', 'Medium'], dtype='object')"
      ]
     },
     "execution_count": 17,
     "metadata": {},
     "output_type": "execute_result"
    }
   ],
   "source": [
    "data.UsageBand.cat.categories"
   ]
  },
  {
   "cell_type": "code",
   "execution_count": 18,
   "metadata": {
    "collapsed": false,
    "scrolled": true
   },
   "outputs": [
    {
     "data": {
      "text/plain": [
       "Backhoe_Mounting            80.387161\n",
       "Blade_Extension             93.712932\n",
       "Blade_Type                  80.097725\n",
       "Blade_Width                 93.712932\n",
       "Coupler                     46.662013\n",
       "Coupler_System              89.165971\n",
       "Differential_Type           82.695918\n",
       "Drive_System                73.982923\n",
       "Enclosure                    0.081022\n",
       "Enclosure_Type              93.712932\n",
       "Engine_Horsepower           93.712932\n",
       "Forks                       52.115425\n",
       "Grouser_Tracks              89.189903\n",
       "Grouser_Type                75.281271\n",
       "Hydraulics                  20.082269\n",
       "Hydraulics_Flow             89.189903\n",
       "MachineHoursCurrentMeter    64.408850\n",
       "MachineID                    0.000000\n",
       "ModelID                      0.000000\n",
       "Pad_Type                    80.271985\n",
       "Pattern_Changer             75.265067\n",
       "ProductGroup                 0.000000\n",
       "ProductGroupDesc             0.000000\n",
       "ProductSize                 52.545964\n",
       "Pushblock                   93.712932\n",
       "Ride_Control                62.952696\n",
       "Ripper                      74.038766\n",
       "SalePrice                    0.000000\n",
       "SalesID                      0.000000\n",
       "Sales_Day                    0.000000\n",
       "                              ...    \n",
       "Sales_Is_quarter_end         0.000000\n",
       "Sales_Is_quarter_start       0.000000\n",
       "Sales_Is_year_end            0.000000\n",
       "Sales_Is_year_start          0.000000\n",
       "Sales_Month                  0.000000\n",
       "Sales_Week                   0.000000\n",
       "Sales_Year                   0.000000\n",
       "Scarifier                   93.710190\n",
       "Steering_Controls           82.706388\n",
       "Stick                       80.271985\n",
       "Stick_Length                75.265067\n",
       "Thumb                       75.247616\n",
       "Tip_Control                 93.712932\n",
       "Tire_Size                   76.386912\n",
       "Track_Type                  75.281271\n",
       "Transmission                54.320972\n",
       "Travel_Controls             80.097476\n",
       "Turbocharged                80.271985\n",
       "Undercarriage_Pad_Width     75.102026\n",
       "UsageBand                   82.639078\n",
       "YearMade                     0.000000\n",
       "auctioneerID                 5.019882\n",
       "datasource                   0.000000\n",
       "fiBaseModel                  0.000000\n",
       "fiModelDesc                  0.000000\n",
       "fiModelDescriptor           82.070676\n",
       "fiModelSeries               85.812901\n",
       "fiProductClassDesc           0.000000\n",
       "fiSecondaryDesc             34.201558\n",
       "state                        0.000000\n",
       "Length: 65, dtype: float64"
      ]
     },
     "execution_count": 18,
     "metadata": {},
     "output_type": "execute_result"
    }
   ],
   "source": [
    "# This is how much of a varaible is null \n",
    "data.isnull().sum().sort_index()/len(data)*100"
   ]
  },
  {
   "cell_type": "code",
   "execution_count": 19,
   "metadata": {
    "collapsed": false
   },
   "outputs": [],
   "source": [
    "os.makedirs('tmp', exist_ok=True)\n",
    "# data.to_feather('tmp/bulldozers-raw')"
   ]
  },
  {
   "cell_type": "markdown",
   "metadata": {},
   "source": [
    "### Preprocessing"
   ]
  },
  {
   "cell_type": "code",
   "execution_count": 20,
   "metadata": {
    "collapsed": true
   },
   "outputs": [],
   "source": [
    "# df_raw = pd.read_feather('tmp/bulldozers-raw')\n",
    "df_raw = data"
   ]
  },
  {
   "cell_type": "markdown",
   "metadata": {},
   "source": [
    "We'll replace categories with their numeric codes, handle missing continuous values, and split the dependent variable into a separate variable."
   ]
  },
  {
   "cell_type": "code",
   "execution_count": 21,
   "metadata": {
    "collapsed": true
   },
   "outputs": [],
   "source": [
    "from pandas.api.types import is_string_dtype, is_numeric_dtype\n",
    "\n",
    "def fix_missing(df, col, name, na_dict):\n",
    "    if is_numeric_dtype(col):\n",
    "        if pd.isnull(col).sum() or (name in na_dict):\n",
    "            df[name+\"_na\"] = pd.isnull(col)\n",
    "            filler = col.median()\n",
    "            df[name] = col.fillna(filler)\n",
    "            na_dict[name] = filler\n",
    "    return na_dict"
   ]
  },
  {
   "cell_type": "code",
   "execution_count": 22,
   "metadata": {
    "collapsed": true
   },
   "outputs": [],
   "source": [
    "def numericalize(df, col, name, max_n_cat):\n",
    "    if not is_numeric_dtype(col) and (max_n_cat is None or col.nunique() > max_n_cat):\n",
    "        df[name] = col.cat.codes+1"
   ]
  },
  {
   "cell_type": "code",
   "execution_count": 23,
   "metadata": {
    "collapsed": false
   },
   "outputs": [],
   "source": [
    "from sklearn_pandas import DataFrameMapper\n",
    "from sklearn.preprocessing import LabelEncoder, Imputer, StandardScaler\n",
    "\n",
    "def scale_vars(df, mapper):\n",
    "    if mapper is None:\n",
    "        map_f = [([n],StandardScaler()) for n in df if is_numeric_dtype(df[n])]\n",
    "        mapper = DataFrameMapper(map_f).fit(df)\n",
    "    df[mapper.transformed_names_] = mapper.transform(df)\n",
    "    return mapper"
   ]
  },
  {
   "cell_type": "code",
   "execution_count": 24,
   "metadata": {
    "collapsed": true
   },
   "outputs": [],
   "source": [
    "def get_sample(df, n):\n",
    "    idxs = sorted(np.random.permutation(len(df))[:n])\n",
    "    return df.iloc[idxs].copy()"
   ]
  },
  {
   "cell_type": "code",
   "execution_count": 25,
   "metadata": {
    "collapsed": true
   },
   "outputs": [],
   "source": [
    "def proc_df(df, y_fld, skip_flds=None, do_scale=False, na_dict=None, max_n_cat=None, subset=None, mapper=None):\n",
    "   \n",
    "    if not skip_flds:\n",
    "        skip_flds = []\n",
    "    if subset:\n",
    "        df = get_sample(df, subset)\n",
    "    df = df.copy()\n",
    "    y = df[y_fld].values\n",
    "    df.drop(skip_flds+[y_fld], axis =1, inplace=True)\n",
    "    \n",
    "    if na_dict is None:\n",
    "        na_dict = {}\n",
    "    for n,c in df.items():\n",
    "        na_dict = fix_missing(df, c, n, na_dict)\n",
    "    if do_scale:\n",
    "        mapper = scale_vars(df, mapper)\n",
    "    for n,c in df.items():\n",
    "        numericalize(df, c, n, max_n_cat)\n",
    "    res = [pd.get_dummies(df, dummy_na = True), y, na_dict]\n",
    "    if do_scale:\n",
    "        res = res + [mapper]\n",
    "    return res\n",
    "        "
   ]
  },
  {
   "cell_type": "code",
   "execution_count": 26,
   "metadata": {
    "collapsed": false
   },
   "outputs": [],
   "source": [
    "df, y, nas = proc_df(df_raw, 'SalePrice')"
   ]
  },
  {
   "cell_type": "code",
   "execution_count": 27,
   "metadata": {
    "collapsed": false,
    "scrolled": false
   },
   "outputs": [
    {
     "data": {
      "text/plain": [
       "0.9831657720498996"
      ]
     },
     "execution_count": 27,
     "metadata": {},
     "output_type": "execute_result"
    }
   ],
   "source": [
    "m = RandomForestRegressor(n_jobs=-1)\n",
    "m.fit(df, y)\n",
    "m.score(df, y)"
   ]
  },
  {
   "cell_type": "markdown",
   "metadata": {},
   "source": [
    "R-squared of 0.98? Are we overfitting the data, the best way is to seperate out data into training and validation"
   ]
  },
  {
   "cell_type": "code",
   "execution_count": 28,
   "metadata": {
    "collapsed": false
   },
   "outputs": [
    {
     "data": {
      "text/plain": [
       "401125"
      ]
     },
     "execution_count": 28,
     "metadata": {},
     "output_type": "execute_result"
    }
   ],
   "source": [
    "len(df)"
   ]
  },
  {
   "cell_type": "code",
   "execution_count": 29,
   "metadata": {
    "collapsed": true
   },
   "outputs": [],
   "source": [
    "def split_data(df, n):\n",
    "    return df[0:n].copy(), df[n:].copy()"
   ]
  },
  {
   "cell_type": "code",
   "execution_count": 30,
   "metadata": {
    "collapsed": false,
    "scrolled": true
   },
   "outputs": [
    {
     "data": {
      "text/plain": [
       "((389125, 66), (389125,), (12000, 66))"
      ]
     },
     "execution_count": 30,
     "metadata": {},
     "output_type": "execute_result"
    }
   ],
   "source": [
    "n_valid = 12000 # Same as Kaggle's test set\n",
    "n_trn = len(df)-n_valid\n",
    "\n",
    "raw_train, raw_valid = split_data(df_raw, n_trn) #Splitting the raw data\n",
    "X_train, X_valid = split_data(df, n_trn)\n",
    "y_train, y_valid = split_data(y, n_trn)\n",
    "\n",
    "X_train.shape, y_train.shape, X_valid.shape, "
   ]
  },
  {
   "cell_type": "markdown",
   "metadata": {},
   "source": [
    "# Random Forest"
   ]
  },
  {
   "cell_type": "markdown",
   "metadata": {},
   "source": [
    "## Base Model"
   ]
  },
  {
   "cell_type": "code",
   "execution_count": 31,
   "metadata": {
    "collapsed": true
   },
   "outputs": [],
   "source": [
    "import math\n",
    "def rmse(x,y):\n",
    "    return math.sqrt(((x-y)**2).mean())"
   ]
  },
  {
   "cell_type": "code",
   "execution_count": 32,
   "metadata": {
    "collapsed": true
   },
   "outputs": [],
   "source": [
    "def print_score(m):\n",
    "    res = [rmse(m.predict(X_train), y_train), rmse(m.predict(X_valid), y_valid),\n",
    "    m.score(X_train, y_train), m.score(X_valid, y_valid)]\n",
    "    if hasattr(m, 'oob_score_'):\n",
    "        res.append(m.oob_score_)\n",
    "    print(res)"
   ]
  },
  {
   "cell_type": "code",
   "execution_count": 33,
   "metadata": {
    "collapsed": false
   },
   "outputs": [
    {
     "name": "stdout",
     "output_type": "stream",
     "text": [
      "Wall time: 17.9 s\n",
      "[0.09052289266868697, 0.2520485280482559, 0.9828741682539627, 0.8865469162078469]\n"
     ]
    }
   ],
   "source": [
    "m = RandomForestRegressor(n_jobs=-1)\n",
    "%time m.fit(X_train, y_train)\n",
    "print_score(m)"
   ]
  },
  {
   "cell_type": "markdown",
   "metadata": {},
   "source": [
    "## Speeding things up"
   ]
  },
  {
   "cell_type": "code",
   "execution_count": 34,
   "metadata": {
    "collapsed": true
   },
   "outputs": [],
   "source": [
    "df_trn, y_trn, nas = proc_df(df_raw, 'SalePrice', subset= 30000, na_dict=nas)\n",
    "\n",
    "X_train, _ = split_data(df_trn, 20000) # Use _ cuz I dont want to chamge my validation set, rather I want to throw it away\n",
    "y_train, _ = split_data(y_trn, 20000)"
   ]
  },
  {
   "cell_type": "code",
   "execution_count": 35,
   "metadata": {
    "collapsed": false
   },
   "outputs": [
    {
     "name": "stdout",
     "output_type": "stream",
     "text": [
      "Wall time: 760 ms\n",
      "[0.11195907724899545, 0.3480438053022919, 0.9726500262921128, 0.7836704780149717]\n"
     ]
    }
   ],
   "source": [
    "m = RandomForestRegressor(n_jobs=-1)\n",
    "%time m.fit(X_train, y_train)\n",
    "print_score(m)"
   ]
  },
  {
   "cell_type": "markdown",
   "metadata": {},
   "source": [
    "## Single tree"
   ]
  },
  {
   "cell_type": "code",
   "execution_count": 6,
   "metadata": {
    "collapsed": true
   },
   "outputs": [],
   "source": [
    "from sklearn.tree import export_graphviz\n",
    "\n",
    "def draw_tree(t, df,  size=10, ratio=0.6, precision=0):\n",
    "    s=export_graphviz(t, out_file=None, feature_names=df.columns, filled=True, rotate=True, precision=precision)\n",
    "    IPython.display.display(graphviz.Source(re.sub('Tree {', f'Tree {{ size={size}; ratio={ratio}', s)))"
   ]
  },
  {
   "cell_type": "code",
   "execution_count": 54,
   "metadata": {
    "collapsed": false
   },
   "outputs": [
    {
     "name": "stdout",
     "output_type": "stream",
     "text": [
      "[0.5371269683343529, 0.5674541015387262, 0.3970396664995464, 0.424944908737197]\n"
     ]
    }
   ],
   "source": [
    "m = RandomForestRegressor(n_estimators=1, max_depth=3, bootstrap=False, n_jobs=-1)\n",
    "m.fit(X_train, y_train)\n",
    "print_score(m)"
   ]
  },
  {
   "cell_type": "code",
   "execution_count": 55,
   "metadata": {
    "collapsed": false
   },
   "outputs": [
    {
     "data": {
      "image/svg+xml": [
       "<?xml version=\"1.0\" encoding=\"UTF-8\" standalone=\"no\"?>\n",
       "<!DOCTYPE svg PUBLIC \"-//W3C//DTD SVG 1.1//EN\"\n",
       " \"http://www.w3.org/Graphics/SVG/1.1/DTD/svg11.dtd\">\n",
       "<!-- Generated by graphviz version 2.38.0 (20140413.2041)\n",
       " -->\n",
       "<!-- Title: Tree Pages: 1 -->\n",
       "<svg width=\"720pt\" height=\"434pt\"\n",
       " viewBox=\"0.00 0.00 720.00 434.49\" xmlns=\"http://www.w3.org/2000/svg\" xmlns:xlink=\"http://www.w3.org/1999/xlink\">\n",
       "<g id=\"graph0\" class=\"graph\" transform=\"scale(0.778659 0.778659) rotate(0) translate(4 554)\">\n",
       "<title>Tree</title>\n",
       "<polygon fill=\"white\" stroke=\"none\" points=\"-4,4 -4,-554 920.667,-554 920.667,4 -4,4\"/>\n",
       "<!-- 0 -->\n",
       "<g id=\"node1\" class=\"node\"><title>0</title>\n",
       "<polygon fill=\"#e58139\" fill-opacity=\"0.698039\" stroke=\"black\" points=\"198.167,-308.5 9.16667,-308.5 9.16667,-240.5 198.167,-240.5 198.167,-308.5\"/>\n",
       "<text text-anchor=\"middle\" x=\"103.667\" y=\"-293.3\" font-family=\"Times,serif\" font-size=\"14.00\">Coupler_System &lt;= 0.5</text>\n",
       "<text text-anchor=\"middle\" x=\"103.667\" y=\"-278.3\" font-family=\"Times,serif\" font-size=\"14.00\">mse = 0.478</text>\n",
       "<text text-anchor=\"middle\" x=\"103.667\" y=\"-263.3\" font-family=\"Times,serif\" font-size=\"14.00\">samples = 389125</text>\n",
       "<text text-anchor=\"middle\" x=\"103.667\" y=\"-248.3\" font-family=\"Times,serif\" font-size=\"14.00\">value = 10.106</text>\n",
       "</g>\n",
       "<!-- 1 -->\n",
       "<g id=\"node2\" class=\"node\"><title>1</title>\n",
       "<polygon fill=\"#e58139\" fill-opacity=\"0.760784\" stroke=\"black\" points=\"425.167,-361.5 254.167,-361.5 254.167,-293.5 425.167,-293.5 425.167,-361.5\"/>\n",
       "<text text-anchor=\"middle\" x=\"339.667\" y=\"-346.3\" font-family=\"Times,serif\" font-size=\"14.00\">YearMade &lt;= 1991.5</text>\n",
       "<text text-anchor=\"middle\" x=\"339.667\" y=\"-331.3\" font-family=\"Times,serif\" font-size=\"14.00\">mse = 0.415</text>\n",
       "<text text-anchor=\"middle\" x=\"339.667\" y=\"-316.3\" font-family=\"Times,serif\" font-size=\"14.00\">samples = 348393</text>\n",
       "<text text-anchor=\"middle\" x=\"339.667\" y=\"-301.3\" font-family=\"Times,serif\" font-size=\"14.00\">value = 10.211</text>\n",
       "</g>\n",
       "<!-- 0&#45;&gt;1 -->\n",
       "<g id=\"edge1\" class=\"edge\"><title>0&#45;&gt;1</title>\n",
       "<path fill=\"none\" stroke=\"black\" d=\"M198.495,-295.752C213.515,-299.154 229.065,-302.676 244.102,-306.081\"/>\n",
       "<polygon fill=\"black\" stroke=\"black\" points=\"243.372,-309.505 253.898,-308.3 244.918,-302.678 243.372,-309.505\"/>\n",
       "<text text-anchor=\"middle\" x=\"232.752\" y=\"-317.936\" font-family=\"Times,serif\" font-size=\"14.00\">True</text>\n",
       "</g>\n",
       "<!-- 8 -->\n",
       "<g id=\"node9\" class=\"node\"><title>8</title>\n",
       "<polygon fill=\"#e58139\" fill-opacity=\"0.137255\" stroke=\"black\" points=\"425.167,-255.5 254.167,-255.5 254.167,-187.5 425.167,-187.5 425.167,-255.5\"/>\n",
       "<text text-anchor=\"middle\" x=\"339.667\" y=\"-240.3\" font-family=\"Times,serif\" font-size=\"14.00\">YearMade &lt;= 1998.5</text>\n",
       "<text text-anchor=\"middle\" x=\"339.667\" y=\"-225.3\" font-family=\"Times,serif\" font-size=\"14.00\">mse = 0.114</text>\n",
       "<text text-anchor=\"middle\" x=\"339.667\" y=\"-210.3\" font-family=\"Times,serif\" font-size=\"14.00\">samples = 40732</text>\n",
       "<text text-anchor=\"middle\" x=\"339.667\" y=\"-195.3\" font-family=\"Times,serif\" font-size=\"14.00\">value = 9.204</text>\n",
       "</g>\n",
       "<!-- 0&#45;&gt;8 -->\n",
       "<g id=\"edge8\" class=\"edge\"><title>0&#45;&gt;8</title>\n",
       "<path fill=\"none\" stroke=\"black\" d=\"M198.495,-253.248C213.515,-249.846 229.065,-246.324 244.102,-242.919\"/>\n",
       "<polygon fill=\"black\" stroke=\"black\" points=\"244.918,-246.322 253.898,-240.7 243.372,-239.495 244.918,-246.322\"/>\n",
       "<text text-anchor=\"middle\" x=\"232.752\" y=\"-223.664\" font-family=\"Times,serif\" font-size=\"14.00\">False</text>\n",
       "</g>\n",
       "<!-- 2 -->\n",
       "<g id=\"node3\" class=\"node\"><title>2</title>\n",
       "<polygon fill=\"#e58139\" fill-opacity=\"0.611765\" stroke=\"black\" points=\"673.167,-486.5 512.167,-486.5 512.167,-418.5 673.167,-418.5 673.167,-486.5\"/>\n",
       "<text text-anchor=\"middle\" x=\"592.667\" y=\"-471.3\" font-family=\"Times,serif\" font-size=\"14.00\">ModelID &lt;= 4418.5</text>\n",
       "<text text-anchor=\"middle\" x=\"592.667\" y=\"-456.3\" font-family=\"Times,serif\" font-size=\"14.00\">mse = 0.373</text>\n",
       "<text text-anchor=\"middle\" x=\"592.667\" y=\"-441.3\" font-family=\"Times,serif\" font-size=\"14.00\">samples = 153147</text>\n",
       "<text text-anchor=\"middle\" x=\"592.667\" y=\"-426.3\" font-family=\"Times,serif\" font-size=\"14.00\">value = 9.969</text>\n",
       "</g>\n",
       "<!-- 1&#45;&gt;2 -->\n",
       "<g id=\"edge2\" class=\"edge\"><title>1&#45;&gt;2</title>\n",
       "<path fill=\"none\" stroke=\"black\" d=\"M409.254,-361.657C441.626,-377.779 480.409,-397.093 513.875,-413.759\"/>\n",
       "<polygon fill=\"black\" stroke=\"black\" points=\"512.651,-417.06 523.163,-418.384 515.772,-410.794 512.651,-417.06\"/>\n",
       "</g>\n",
       "<!-- 5 -->\n",
       "<g id=\"node6\" class=\"node\"><title>5</title>\n",
       "<polygon fill=\"#e58139\" fill-opacity=\"0.878431\" stroke=\"black\" points=\"703.167,-361.5 482.167,-361.5 482.167,-293.5 703.167,-293.5 703.167,-361.5\"/>\n",
       "<text text-anchor=\"middle\" x=\"592.667\" y=\"-346.3\" font-family=\"Times,serif\" font-size=\"14.00\">fiProductClassDesc &lt;= 13.5</text>\n",
       "<text text-anchor=\"middle\" x=\"592.667\" y=\"-331.3\" font-family=\"Times,serif\" font-size=\"14.00\">mse = 0.366</text>\n",
       "<text text-anchor=\"middle\" x=\"592.667\" y=\"-316.3\" font-family=\"Times,serif\" font-size=\"14.00\">samples = 195246</text>\n",
       "<text text-anchor=\"middle\" x=\"592.667\" y=\"-301.3\" font-family=\"Times,serif\" font-size=\"14.00\">value = 10.401</text>\n",
       "</g>\n",
       "<!-- 1&#45;&gt;5 -->\n",
       "<g id=\"edge5\" class=\"edge\"><title>1&#45;&gt;5</title>\n",
       "<path fill=\"none\" stroke=\"black\" d=\"M425.294,-327.5C440.238,-327.5 456.049,-327.5 471.744,-327.5\"/>\n",
       "<polygon fill=\"black\" stroke=\"black\" points=\"472.031,-331 482.031,-327.5 472.031,-324 472.031,-331\"/>\n",
       "</g>\n",
       "<!-- 3 -->\n",
       "<g id=\"node4\" class=\"node\"><title>3</title>\n",
       "<polygon fill=\"#e58139\" fill-opacity=\"0.752941\" stroke=\"black\" points=\"905.167,-550 764.167,-550 764.167,-497 905.167,-497 905.167,-550\"/>\n",
       "<text text-anchor=\"middle\" x=\"834.667\" y=\"-534.8\" font-family=\"Times,serif\" font-size=\"14.00\">mse = 0.388</text>\n",
       "<text text-anchor=\"middle\" x=\"834.667\" y=\"-519.8\" font-family=\"Times,serif\" font-size=\"14.00\">samples = 78592</text>\n",
       "<text text-anchor=\"middle\" x=\"834.667\" y=\"-504.8\" font-family=\"Times,serif\" font-size=\"14.00\">value = 10.195</text>\n",
       "</g>\n",
       "<!-- 2&#45;&gt;3 -->\n",
       "<g id=\"edge3\" class=\"edge\"><title>2&#45;&gt;3</title>\n",
       "<path fill=\"none\" stroke=\"black\" d=\"M673.25,-476.043C699.263,-483.739 728.145,-492.283 754.153,-499.977\"/>\n",
       "<polygon fill=\"black\" stroke=\"black\" points=\"753.386,-503.4 763.969,-502.881 755.372,-496.688 753.386,-503.4\"/>\n",
       "</g>\n",
       "<!-- 4 -->\n",
       "<g id=\"node5\" class=\"node\"><title>4</title>\n",
       "<polygon fill=\"#e58139\" fill-opacity=\"0.462745\" stroke=\"black\" points=\"905.167,-479 764.167,-479 764.167,-426 905.167,-426 905.167,-479\"/>\n",
       "<text text-anchor=\"middle\" x=\"834.667\" y=\"-463.8\" font-family=\"Times,serif\" font-size=\"14.00\">mse = 0.248</text>\n",
       "<text text-anchor=\"middle\" x=\"834.667\" y=\"-448.8\" font-family=\"Times,serif\" font-size=\"14.00\">samples = 74555</text>\n",
       "<text text-anchor=\"middle\" x=\"834.667\" y=\"-433.8\" font-family=\"Times,serif\" font-size=\"14.00\">value = 9.731</text>\n",
       "</g>\n",
       "<!-- 2&#45;&gt;4 -->\n",
       "<g id=\"edge4\" class=\"edge\"><title>2&#45;&gt;4</title>\n",
       "<path fill=\"none\" stroke=\"black\" d=\"M673.25,-452.5C699.148,-452.5 727.891,-452.5 753.81,-452.5\"/>\n",
       "<polygon fill=\"black\" stroke=\"black\" points=\"753.969,-456 763.969,-452.5 753.969,-449 753.969,-456\"/>\n",
       "</g>\n",
       "<!-- 6 -->\n",
       "<g id=\"node7\" class=\"node\"><title>6</title>\n",
       "<polygon fill=\"#e58139\" fill-opacity=\"0.690196\" stroke=\"black\" points=\"905.167,-408 764.167,-408 764.167,-355 905.167,-355 905.167,-408\"/>\n",
       "<text text-anchor=\"middle\" x=\"834.667\" y=\"-392.8\" font-family=\"Times,serif\" font-size=\"14.00\">mse = 0.203</text>\n",
       "<text text-anchor=\"middle\" x=\"834.667\" y=\"-377.8\" font-family=\"Times,serif\" font-size=\"14.00\">samples = 76325</text>\n",
       "<text text-anchor=\"middle\" x=\"834.667\" y=\"-362.8\" font-family=\"Times,serif\" font-size=\"14.00\">value = 10.098</text>\n",
       "</g>\n",
       "<!-- 5&#45;&gt;6 -->\n",
       "<g id=\"edge6\" class=\"edge\"><title>5&#45;&gt;6</title>\n",
       "<path fill=\"none\" stroke=\"black\" d=\"M703.482,-352.209C720.552,-356.049 737.898,-359.952 754.127,-363.604\"/>\n",
       "<polygon fill=\"black\" stroke=\"black\" points=\"753.55,-367.061 764.074,-365.842 755.087,-360.232 753.55,-367.061\"/>\n",
       "</g>\n",
       "<!-- 7 -->\n",
       "<g id=\"node8\" class=\"node\"><title>7</title>\n",
       "<polygon fill=\"#e58139\" stroke=\"black\" points=\"909.667,-337 759.667,-337 759.667,-284 909.667,-284 909.667,-337\"/>\n",
       "<text text-anchor=\"middle\" x=\"834.667\" y=\"-321.8\" font-family=\"Times,serif\" font-size=\"14.00\">mse = 0.374</text>\n",
       "<text text-anchor=\"middle\" x=\"834.667\" y=\"-306.8\" font-family=\"Times,serif\" font-size=\"14.00\">samples = 118921</text>\n",
       "<text text-anchor=\"middle\" x=\"834.667\" y=\"-291.8\" font-family=\"Times,serif\" font-size=\"14.00\">value = 10.595</text>\n",
       "</g>\n",
       "<!-- 5&#45;&gt;7 -->\n",
       "<g id=\"edge7\" class=\"edge\"><title>5&#45;&gt;7</title>\n",
       "<path fill=\"none\" stroke=\"black\" d=\"M703.482,-319.721C718.926,-318.627 734.597,-317.517 749.461,-316.465\"/>\n",
       "<polygon fill=\"black\" stroke=\"black\" points=\"749.882,-319.944 759.61,-315.746 749.387,-312.961 749.882,-319.944\"/>\n",
       "</g>\n",
       "<!-- 9 -->\n",
       "<g id=\"node10\" class=\"node\"><title>9</title>\n",
       "<polygon fill=\"#e58139\" fill-opacity=\"0.027451\" stroke=\"black\" points=\"703.167,-255.5 482.167,-255.5 482.167,-187.5 703.167,-187.5 703.167,-255.5\"/>\n",
       "<text text-anchor=\"middle\" x=\"592.667\" y=\"-240.3\" font-family=\"Times,serif\" font-size=\"14.00\">fiProductClassDesc &lt;= 40.5</text>\n",
       "<text text-anchor=\"middle\" x=\"592.667\" y=\"-225.3\" font-family=\"Times,serif\" font-size=\"14.00\">mse = 0.088</text>\n",
       "<text text-anchor=\"middle\" x=\"592.667\" y=\"-210.3\" font-family=\"Times,serif\" font-size=\"14.00\">samples = 17328</text>\n",
       "<text text-anchor=\"middle\" x=\"592.667\" y=\"-195.3\" font-family=\"Times,serif\" font-size=\"14.00\">value = 9.028</text>\n",
       "</g>\n",
       "<!-- 8&#45;&gt;9 -->\n",
       "<g id=\"edge9\" class=\"edge\"><title>8&#45;&gt;9</title>\n",
       "<path fill=\"none\" stroke=\"black\" d=\"M425.294,-221.5C440.238,-221.5 456.049,-221.5 471.744,-221.5\"/>\n",
       "<polygon fill=\"black\" stroke=\"black\" points=\"472.031,-225 482.031,-221.5 472.031,-218 472.031,-225\"/>\n",
       "</g>\n",
       "<!-- 12 -->\n",
       "<g id=\"node13\" class=\"node\"><title>12</title>\n",
       "<polygon fill=\"#e58139\" fill-opacity=\"0.219608\" stroke=\"black\" points=\"703.167,-131.5 482.167,-131.5 482.167,-63.5 703.167,-63.5 703.167,-131.5\"/>\n",
       "<text text-anchor=\"middle\" x=\"592.667\" y=\"-116.3\" font-family=\"Times,serif\" font-size=\"14.00\">fiProductClassDesc &lt;= 40.5</text>\n",
       "<text text-anchor=\"middle\" x=\"592.667\" y=\"-101.3\" font-family=\"Times,serif\" font-size=\"14.00\">mse = 0.094</text>\n",
       "<text text-anchor=\"middle\" x=\"592.667\" y=\"-86.3\" font-family=\"Times,serif\" font-size=\"14.00\">samples = 23404</text>\n",
       "<text text-anchor=\"middle\" x=\"592.667\" y=\"-71.3\" font-family=\"Times,serif\" font-size=\"14.00\">value = 9.334</text>\n",
       "</g>\n",
       "<!-- 8&#45;&gt;12 -->\n",
       "<g id=\"edge12\" class=\"edge\"><title>8&#45;&gt;12</title>\n",
       "<path fill=\"none\" stroke=\"black\" d=\"M409.586,-187.452C441.688,-171.593 480.039,-152.647 513.246,-136.242\"/>\n",
       "<polygon fill=\"black\" stroke=\"black\" points=\"515.051,-139.254 522.466,-131.687 511.95,-132.978 515.051,-139.254\"/>\n",
       "</g>\n",
       "<!-- 10 -->\n",
       "<g id=\"node11\" class=\"node\"><title>10</title>\n",
       "<polygon fill=\"none\" stroke=\"black\" points=\"905.167,-266 764.167,-266 764.167,-213 905.167,-213 905.167,-266\"/>\n",
       "<text text-anchor=\"middle\" x=\"834.667\" y=\"-250.8\" font-family=\"Times,serif\" font-size=\"14.00\">mse = 0.071</text>\n",
       "<text text-anchor=\"middle\" x=\"834.667\" y=\"-235.8\" font-family=\"Times,serif\" font-size=\"14.00\">samples = 13018</text>\n",
       "<text text-anchor=\"middle\" x=\"834.667\" y=\"-220.8\" font-family=\"Times,serif\" font-size=\"14.00\">value = 8.981</text>\n",
       "</g>\n",
       "<!-- 9&#45;&gt;10 -->\n",
       "<g id=\"edge10\" class=\"edge\"><title>9&#45;&gt;10</title>\n",
       "<path fill=\"none\" stroke=\"black\" d=\"M703.482,-229.736C720.391,-231.004 737.571,-232.293 753.667,-233.5\"/>\n",
       "<polygon fill=\"black\" stroke=\"black\" points=\"753.841,-237.023 764.074,-234.281 754.364,-230.042 753.841,-237.023\"/>\n",
       "</g>\n",
       "<!-- 11 -->\n",
       "<g id=\"node12\" class=\"node\"><title>11</title>\n",
       "<polygon fill=\"#e58139\" fill-opacity=\"0.117647\" stroke=\"black\" points=\"900.667,-195 768.667,-195 768.667,-142 900.667,-142 900.667,-195\"/>\n",
       "<text text-anchor=\"middle\" x=\"834.667\" y=\"-179.8\" font-family=\"Times,serif\" font-size=\"14.00\">mse = 0.115</text>\n",
       "<text text-anchor=\"middle\" x=\"834.667\" y=\"-164.8\" font-family=\"Times,serif\" font-size=\"14.00\">samples = 4310</text>\n",
       "<text text-anchor=\"middle\" x=\"834.667\" y=\"-149.8\" font-family=\"Times,serif\" font-size=\"14.00\">value = 9.169</text>\n",
       "</g>\n",
       "<!-- 9&#45;&gt;11 -->\n",
       "<g id=\"edge11\" class=\"edge\"><title>9&#45;&gt;11</title>\n",
       "<path fill=\"none\" stroke=\"black\" d=\"M703.482,-197.249C722.054,-193.148 740.954,-188.974 758.385,-185.125\"/>\n",
       "<polygon fill=\"black\" stroke=\"black\" points=\"759.455,-188.473 768.464,-182.899 757.945,-181.638 759.455,-188.473\"/>\n",
       "</g>\n",
       "<!-- 13 -->\n",
       "<g id=\"node14\" class=\"node\"><title>13</title>\n",
       "<polygon fill=\"#e58139\" fill-opacity=\"0.160784\" stroke=\"black\" points=\"905.167,-124 764.167,-124 764.167,-71 905.167,-71 905.167,-124\"/>\n",
       "<text text-anchor=\"middle\" x=\"834.667\" y=\"-108.8\" font-family=\"Times,serif\" font-size=\"14.00\">mse = 0.086</text>\n",
       "<text text-anchor=\"middle\" x=\"834.667\" y=\"-93.8\" font-family=\"Times,serif\" font-size=\"14.00\">samples = 12554</text>\n",
       "<text text-anchor=\"middle\" x=\"834.667\" y=\"-78.8\" font-family=\"Times,serif\" font-size=\"14.00\">value = 9.243</text>\n",
       "</g>\n",
       "<!-- 12&#45;&gt;13 -->\n",
       "<g id=\"edge13\" class=\"edge\"><title>12&#45;&gt;13</title>\n",
       "<path fill=\"none\" stroke=\"black\" d=\"M703.482,-97.5C720.391,-97.5 737.571,-97.5 753.667,-97.5\"/>\n",
       "<polygon fill=\"black\" stroke=\"black\" points=\"754.074,-101 764.074,-97.5 754.074,-94.0001 754.074,-101\"/>\n",
       "</g>\n",
       "<!-- 14 -->\n",
       "<g id=\"node15\" class=\"node\"><title>14</title>\n",
       "<polygon fill=\"#e58139\" fill-opacity=\"0.282353\" stroke=\"black\" points=\"905.167,-53 764.167,-53 764.167,-0 905.167,-0 905.167,-53\"/>\n",
       "<text text-anchor=\"middle\" x=\"834.667\" y=\"-37.8\" font-family=\"Times,serif\" font-size=\"14.00\">mse = 0.081</text>\n",
       "<text text-anchor=\"middle\" x=\"834.667\" y=\"-22.8\" font-family=\"Times,serif\" font-size=\"14.00\">samples = 10850</text>\n",
       "<text text-anchor=\"middle\" x=\"834.667\" y=\"-7.8\" font-family=\"Times,serif\" font-size=\"14.00\">value = 9.44</text>\n",
       "</g>\n",
       "<!-- 12&#45;&gt;14 -->\n",
       "<g id=\"edge14\" class=\"edge\"><title>12&#45;&gt;14</title>\n",
       "<path fill=\"none\" stroke=\"black\" d=\"M703.482,-65.0129C720.552,-59.9631 737.898,-54.8314 754.127,-50.0305\"/>\n",
       "<polygon fill=\"black\" stroke=\"black\" points=\"755.478,-53.2808 764.074,-47.0877 753.492,-46.5684 755.478,-53.2808\"/>\n",
       "</g>\n",
       "</g>\n",
       "</svg>\n"
      ],
      "text/plain": [
       "<graphviz.files.Source at 0x7f2a4e301f28>"
      ]
     },
     "metadata": {},
     "output_type": "display_data"
    }
   ],
   "source": [
    "draw_tree(m.estimators_[0], df_trn, precision=3)"
   ]
  },
  {
   "cell_type": "code",
   "execution_count": 25,
   "metadata": {
    "collapsed": false
   },
   "outputs": [
    {
     "name": "stdout",
     "output_type": "stream",
     "text": [
      "[7.536443801682121e-17, 0.4797389301108064, 1.0, 0.5889847854047335]\n"
     ]
    }
   ],
   "source": [
    "m = RandomForestRegressor(n_estimators=1, bootstrap=False, n_jobs=-1)\n",
    "m.fit(X_train, y_train)\n",
    "print_score(m)"
   ]
  },
  {
   "cell_type": "markdown",
   "metadata": {
    "heading_collapsed": true
   },
   "source": [
    "## Bagging"
   ]
  },
  {
   "cell_type": "markdown",
   "metadata": {
    "hidden": true
   },
   "source": [
    "### Intro to bagging"
   ]
  },
  {
   "cell_type": "markdown",
   "metadata": {
    "hidden": true
   },
   "source": [
    "To learn about bagging in random forests, let's start with our basic model again."
   ]
  },
  {
   "cell_type": "code",
   "execution_count": 26,
   "metadata": {
    "collapsed": false,
    "hidden": true
   },
   "outputs": [
    {
     "name": "stdout",
     "output_type": "stream",
     "text": [
      "[0.11145979473450096, 0.3761791704270528, 0.9728049004634968, 0.7472812511888947]\n"
     ]
    }
   ],
   "source": [
    "m = RandomForestRegressor(n_jobs=-1)\n",
    "m.fit(X_train, y_train)\n",
    "print_score(m)"
   ]
  },
  {
   "cell_type": "markdown",
   "metadata": {
    "hidden": true
   },
   "source": [
    "We'll grab the predictions for each individual tree, and look at one example."
   ]
  },
  {
   "cell_type": "code",
   "execution_count": 27,
   "metadata": {
    "collapsed": false,
    "hidden": true
   },
   "outputs": [
    {
     "data": {
      "text/plain": [
       "(array([ 8.9872 , 10.12663,  9.3501 ,  9.6486 ,  9.25913,  9.10498,  9.25913,  8.9872 ,  9.90349,  9.21034]),\n",
       " 9.383679121555486,\n",
       " 9.104979856318357)"
      ]
     },
     "execution_count": 27,
     "metadata": {},
     "output_type": "execute_result"
    }
   ],
   "source": [
    "preds = np.stack([t.predict(X_valid) for t in m.estimators_])\n",
    "preds[:,0], np.mean(preds[:,0]), y_valid[0]"
   ]
  },
  {
   "cell_type": "code",
   "execution_count": 28,
   "metadata": {
    "collapsed": false,
    "hidden": true,
    "scrolled": true
   },
   "outputs": [
    {
     "data": {
      "text/plain": [
       "(10, 12000)"
      ]
     },
     "execution_count": 28,
     "metadata": {},
     "output_type": "execute_result"
    }
   ],
   "source": [
    "preds.shape"
   ]
  },
  {
   "cell_type": "code",
   "execution_count": 140,
   "metadata": {
    "collapsed": false,
    "hidden": true,
    "scrolled": true
   },
   "outputs": [
    {
     "data": {
      "image/png": "[encoded data removed]",
      "text/plain": [
       "<Figure size 432x288 with 1 Axes>"
      ]
     },
     "metadata": {},
     "output_type": "display_data"
    }
   ],
   "source": [
    "plt.plot([r2_score(y_valid, np.mean(preds[:i+1], axis=0)) for i in range(10)]);"
   ]
  },
  {
   "cell_type": "markdown",
   "metadata": {
    "hidden": true
   },
   "source": [
    "The number here at the 10th tree shall match the last score in the print_score:\n",
    "[0.11145979473450096, 0.3761791704270528, 0.9728049004634968, 0.7472812511888947]"
   ]
  },
  {
   "cell_type": "code",
   "execution_count": 141,
   "metadata": {
    "collapsed": false,
    "hidden": true
   },
   "outputs": [
    {
     "name": "stdout",
     "output_type": "stream",
     "text": [
      "[0.10265366614849009, 0.37917387512054745, 0.9769323632747796, 0.7432415247018948]\n"
     ]
    }
   ],
   "source": [
    "m = RandomForestRegressor(n_estimators=20, n_jobs=-1)\n",
    "m.fit(X_train, y_train)\n",
    "print_score(m)"
   ]
  },
  {
   "cell_type": "code",
   "execution_count": 142,
   "metadata": {
    "collapsed": false,
    "hidden": true
   },
   "outputs": [
    {
     "name": "stdout",
     "output_type": "stream",
     "text": [
      "[0.09392961472226918, 0.3699937827528779, 0.9806865768069059, 0.7555236647529878]\n"
     ]
    }
   ],
   "source": [
    "m = RandomForestRegressor(n_estimators=80, n_jobs=-1)\n",
    "m.fit(X_train, y_train)\n",
    "print_score(m)"
   ]
  },
  {
   "cell_type": "markdown",
   "metadata": {
    "hidden": true
   },
   "source": [
    "### Out-of-bag (OOB) score"
   ]
  },
  {
   "cell_type": "code",
   "execution_count": 145,
   "metadata": {
    "collapsed": false,
    "hidden": true
   },
   "outputs": [
    {
     "name": "stdout",
     "output_type": "stream",
     "text": [
      "[0.09647135727965261, 0.36401582773787355, 0.9796271891793586, 0.7633598079346455, 0.8529476095700255]\n"
     ]
    }
   ],
   "source": [
    "m = RandomForestRegressor(n_estimators=40, n_jobs=-1, oob_score=True)\n",
    "m.fit(X_train, y_train)\n",
    "print_score(m)"
   ]
  },
  {
   "cell_type": "markdown",
   "metadata": {},
   "source": [
    "## Reducing over-fitting"
   ]
  },
  {
   "cell_type": "code",
   "execution_count": 17,
   "metadata": {
    "collapsed": true
   },
   "outputs": [],
   "source": [
    "df_trn, y_trn, nas = proc_df(df_raw, 'SalePrice', na_dict=nas)\n",
    "X_train, X_valid = split_data(df_trn, n_trn)\n",
    "y_train, y_valid = split_data(y_trn, n_trn)"
   ]
  },
  {
   "cell_type": "code",
   "execution_count": 27,
   "metadata": {
    "collapsed": false
   },
   "outputs": [
    {
     "name": "stdout",
     "output_type": "stream",
     "text": [
      "[0.11925551304473253, 0.22949470443593706, 0.9702770605813713, 0.9059425259598639, 0.9116323323225264]\n"
     ]
    }
   ],
   "source": [
    "m = RandomForestRegressor(n_estimators=40, min_samples_leaf=3, max_features=0.5, n_jobs=-1, oob_score=True)\n",
    "m.fit(X_train, y_train)\n",
    "print_score(m)"
   ]
  },
  {
   "cell_type": "markdown",
   "metadata": {},
   "source": [
    "# Random Forest Model interpretation"
   ]
  },
  {
   "cell_type": "code",
   "execution_count": 36,
   "metadata": {
    "collapsed": true
   },
   "outputs": [],
   "source": [
    "# df_raw = pd.read_feather('tmp/bulldozers-raw')\n",
    "df_trn, y_trn, nas = proc_df(df_raw, 'SalePrice')"
   ]
  },
  {
   "cell_type": "code",
   "execution_count": 37,
   "metadata": {
    "collapsed": false
   },
   "outputs": [],
   "source": [
    "n_valid = 12000 # Same as Kaggle's test set\n",
    "n_trn = len(df_trn)-n_valid\n",
    "\n",
    "raw_train, raw_valid = split_data(df_raw, n_trn) #Splitting the raw data\n",
    "X_train, X_valid = split_data(df_trn, n_trn)\n",
    "y_train, y_valid = split_data(y_trn, n_trn)"
   ]
  },
  {
   "cell_type": "markdown",
   "metadata": {},
   "source": [
    "Profiling to check which lines takes most time to get it to run faster"
   ]
  },
  {
   "cell_type": "markdown",
   "metadata": {},
   "source": [
    "# Confidence based on tree variance"
   ]
  },
  {
   "cell_type": "code",
   "execution_count": 38,
   "metadata": {
    "collapsed": true
   },
   "outputs": [],
   "source": [
    "from sklearn.ensemble import forest\n",
    "def set_rf_samples(n):\n",
    "    \"\"\" Changes Scikit learn's random forests to give each tree a random sample of\n",
    "    n random rows.\n",
    "    \"\"\"\n",
    "    forest._generate_sample_indices = (lambda rs, n_samples:\n",
    "        forest.check_random_state(rs).randint(0, n_samples, n))"
   ]
  },
  {
   "cell_type": "code",
   "execution_count": 39,
   "metadata": {
    "collapsed": true
   },
   "outputs": [],
   "source": [
    "def reset_rf_samples():\n",
    "    \"\"\" Undoes the changes produced by set_rf_samples.\n",
    "    \"\"\"\n",
    "    forest._generate_sample_indices = (lambda rs, n_samples:\n",
    "        forest.check_random_state(rs).randint(0, n_samples, n_samples))"
   ]
  },
  {
   "cell_type": "code",
   "execution_count": 40,
   "metadata": {
    "collapsed": true
   },
   "outputs": [],
   "source": [
    "# While bootstrapping, change Random Forest Sample to give every tree a random sample of max 50,000\n",
    "set_rf_samples(50000)"
   ]
  },
  {
   "cell_type": "markdown",
   "metadata": {},
   "source": [
    "We do the above because we dont want massivaly accurante RF, but which indicates the nature of relationship, but make it high enough and run in seconds"
   ]
  },
  {
   "cell_type": "code",
   "execution_count": 41,
   "metadata": {
    "collapsed": true
   },
   "outputs": [],
   "source": [
    "# reset_rf_samples()"
   ]
  },
  {
   "cell_type": "code",
   "execution_count": 42,
   "metadata": {
    "collapsed": false
   },
   "outputs": [
    {
     "name": "stdout",
     "output_type": "stream",
     "text": [
      "[0.20575283551900891, 0.2489572036409543, 0.9115237954251064, 0.8893128084182513]\n"
     ]
    }
   ],
   "source": [
    "m = RandomForestRegressor(n_estimators=40, min_samples_leaf=3, max_features=0.5, n_jobs=-1)\n",
    "m.fit(X_train, y_train)\n",
    "print_score(m)"
   ]
  },
  {
   "cell_type": "code",
   "execution_count": 43,
   "metadata": {
    "collapsed": true,
    "scrolled": true
   },
   "outputs": [],
   "source": [
    "preds = np.stack([t.predict(X_valid) for t in m.estimators_])# Concat 12,000 predictions for every tree each in a list of arrays "
   ]
  },
  {
   "cell_type": "code",
   "execution_count": 44,
   "metadata": {
    "collapsed": false,
    "scrolled": true
   },
   "outputs": [
    {
     "data": {
      "text/plain": [
       "array([ 9.27476152,  9.14333733,  9.29086125,  8.98388637,  9.04141187,\n",
       "        9.14056235,  9.13054719,  9.404036  ,  9.78766103,  9.258563  ,\n",
       "        9.2573548 ,  9.11681103,  9.12854662,  9.23354213,  9.07640065,\n",
       "        9.28248071, 10.25332752,  9.39704559,  9.16544874,  9.18064449,\n",
       "        9.54450149, 10.41346689,  9.15812244,  9.23054858,  9.80751018,\n",
       "        9.35045828,  9.04247443,  9.30912712,  9.27293217,  9.18826702,\n",
       "        9.55186329,  9.16544874,  9.66804508,  9.41652648,  9.39636206,\n",
       "        9.02520205,  9.05529183,  9.02000763,  9.12821436,  9.99820366])"
      ]
     },
     "execution_count": 44,
     "metadata": {},
     "output_type": "execute_result"
    }
   ],
   "source": [
    "preds[:,0] # This extract all 12000 predictions from the first tree"
   ]
  },
  {
   "cell_type": "code",
   "execution_count": 45,
   "metadata": {
    "collapsed": false
   },
   "outputs": [
    {
     "data": {
      "text/plain": [
       "(9.332245098650237, 10.024625319314138)"
      ]
     },
     "execution_count": 45,
     "metadata": {},
     "output_type": "execute_result"
    }
   ],
   "source": [
    "np.mean(preds[:,0]), np.mean(y_valid)"
   ]
  },
  {
   "cell_type": "markdown",
   "metadata": {},
   "source": [
    "The mean of the prediction is 9.3 while the real validation set is 10 which is not bad for one tree"
   ]
  },
  {
   "cell_type": "code",
   "execution_count": 46,
   "metadata": {
    "collapsed": false
   },
   "outputs": [
    {
     "data": {
      "text/plain": [
       "(10.01067762743576, 10.024625319314138)"
      ]
     },
     "execution_count": 46,
     "metadata": {},
     "output_type": "execute_result"
    }
   ],
   "source": [
    "np.mean(preds), np.mean(y_valid)"
   ]
  },
  {
   "cell_type": "markdown",
   "metadata": {},
   "source": [
    "Much better mean for the 40 trees"
   ]
  },
  {
   "cell_type": "markdown",
   "metadata": {},
   "source": [
    "Since Python runs in series, the below will help run in parallel on all cores to make it faster"
   ]
  },
  {
   "cell_type": "code",
   "execution_count": 47,
   "metadata": {
    "collapsed": false
   },
   "outputs": [],
   "source": [
    "from concurrent.futures import ThreadPoolExecutor, ProcessPoolExecutor\n",
    "def parallel_trees(m, fn, n_jobs=8):\n",
    "    return list(ProcessPoolExecutor(n_jobs).map(fn, m.estimators_))"
   ]
  },
  {
   "cell_type": "code",
   "execution_count": 48,
   "metadata": {
    "collapsed": false,
    "scrolled": true
   },
   "outputs": [
    {
     "data": {
      "text/plain": [
       "(9.332245098650237, 0.3224894385859736)"
      ]
     },
     "execution_count": 48,
     "metadata": {},
     "output_type": "execute_result"
    }
   ],
   "source": [
    "def get_preds(t):\n",
    "    return t.predict(X_valid)\n",
    "\n",
    "if __name__ == '__parallel_trees__':\n",
    "    preds = np.stack(parallel_trees(m, get_preds))\n",
    "np.mean(preds[:,0]), np.std(preds[:,0])"
   ]
  },
  {
   "cell_type": "markdown",
   "metadata": {},
   "source": [
    "For every tree we are predicting 12,000, then getting mean and standard deviation"
   ]
  },
  {
   "cell_type": "code",
   "execution_count": 49,
   "metadata": {
    "collapsed": true
   },
   "outputs": [],
   "source": [
    "x = raw_valid.copy()\n",
    "x['pred_std'] = np.std(preds, axis=0)\n",
    "x['pred'] = np.mean(preds, axis=0)"
   ]
  },
  {
   "cell_type": "code",
   "execution_count": 50,
   "metadata": {
    "collapsed": false
   },
   "outputs": [
    {
     "data": {
      "text/plain": [
       "<matplotlib.axes._subplots.AxesSubplot at 0xbe62a20>"
      ]
     },
     "execution_count": 50,
     "metadata": {},
     "output_type": "execute_result"
    },
    {
     "data": {
      "image/png": "[encoded data removed]",
      "text/plain": [
       "<Figure size 432x288 with 1 Axes>"
      ]
     },
     "metadata": {},
     "output_type": "display_data"
    }
   ],
   "source": [
    "x.Enclosure.value_counts().plot.barh()"
   ]
  },
  {
   "cell_type": "code",
   "execution_count": 51,
   "metadata": {
    "collapsed": false
   },
   "outputs": [
    {
     "data": {
      "text/html": [
       "<div>\n",
       "<style scoped>\n",
       "    .dataframe tbody tr th:only-of-type {\n",
       "        vertical-align: middle;\n",
       "    }\n",
       "\n",
       "    .dataframe tbody tr th {\n",
       "        vertical-align: top;\n",
       "    }\n",
       "\n",
       "    .dataframe thead th {\n",
       "        text-align: right;\n",
       "    }\n",
       "</style>\n",
       "<table border=\"1\" class=\"dataframe\">\n",
       "  <thead>\n",
       "    <tr style=\"text-align: right;\">\n",
       "      <th></th>\n",
       "      <th>Enclosure</th>\n",
       "      <th>SalePrice</th>\n",
       "      <th>pred_std</th>\n",
       "      <th>pred</th>\n",
       "    </tr>\n",
       "  </thead>\n",
       "  <tbody>\n",
       "    <tr>\n",
       "      <th>0</th>\n",
       "      <td>EROPS</td>\n",
       "      <td>9.849178</td>\n",
       "      <td>0.272060</td>\n",
       "      <td>9.844179</td>\n",
       "    </tr>\n",
       "    <tr>\n",
       "      <th>1</th>\n",
       "      <td>EROPS AC</td>\n",
       "      <td>NaN</td>\n",
       "      <td>NaN</td>\n",
       "      <td>NaN</td>\n",
       "    </tr>\n",
       "    <tr>\n",
       "      <th>2</th>\n",
       "      <td>EROPS w AC</td>\n",
       "      <td>10.623971</td>\n",
       "      <td>0.264149</td>\n",
       "      <td>10.575775</td>\n",
       "    </tr>\n",
       "    <tr>\n",
       "      <th>3</th>\n",
       "      <td>NO ROPS</td>\n",
       "      <td>NaN</td>\n",
       "      <td>NaN</td>\n",
       "      <td>NaN</td>\n",
       "    </tr>\n",
       "    <tr>\n",
       "      <th>4</th>\n",
       "      <td>None or Unspecified</td>\n",
       "      <td>NaN</td>\n",
       "      <td>NaN</td>\n",
       "      <td>NaN</td>\n",
       "    </tr>\n",
       "    <tr>\n",
       "      <th>5</th>\n",
       "      <td>OROPS</td>\n",
       "      <td>9.682064</td>\n",
       "      <td>0.223715</td>\n",
       "      <td>9.688404</td>\n",
       "    </tr>\n",
       "  </tbody>\n",
       "</table>\n",
       "</div>"
      ],
      "text/plain": [
       "             Enclosure  SalePrice  pred_std       pred\n",
       "0                EROPS   9.849178  0.272060   9.844179\n",
       "1             EROPS AC        NaN       NaN        NaN\n",
       "2           EROPS w AC  10.623971  0.264149  10.575775\n",
       "3              NO ROPS        NaN       NaN        NaN\n",
       "4  None or Unspecified        NaN       NaN        NaN\n",
       "5                OROPS   9.682064  0.223715   9.688404"
      ]
     },
     "execution_count": 51,
     "metadata": {},
     "output_type": "execute_result"
    }
   ],
   "source": [
    "flds = ['Enclosure', 'SalePrice', 'pred_std', 'pred']\n",
    "enc_summ = x[flds].groupby('Enclosure', as_index=False).mean()\n",
    "enc_summ"
   ]
  },
  {
   "cell_type": "code",
   "execution_count": 52,
   "metadata": {
    "collapsed": false
   },
   "outputs": [
    {
     "data": {
      "text/html": [
       "<div>\n",
       "<style scoped>\n",
       "    .dataframe tbody tr th:only-of-type {\n",
       "        vertical-align: middle;\n",
       "    }\n",
       "\n",
       "    .dataframe tbody tr th {\n",
       "        vertical-align: top;\n",
       "    }\n",
       "\n",
       "    .dataframe thead th {\n",
       "        text-align: right;\n",
       "    }\n",
       "</style>\n",
       "<table border=\"1\" class=\"dataframe\">\n",
       "  <thead>\n",
       "    <tr style=\"text-align: right;\">\n",
       "      <th></th>\n",
       "      <th>Enclosure</th>\n",
       "      <th>SalePrice</th>\n",
       "      <th>pred_std</th>\n",
       "      <th>pred</th>\n",
       "    </tr>\n",
       "  </thead>\n",
       "  <tbody>\n",
       "    <tr>\n",
       "      <th>0</th>\n",
       "      <td>EROPS</td>\n",
       "      <td>9.849178</td>\n",
       "      <td>0.272060</td>\n",
       "      <td>9.844179</td>\n",
       "    </tr>\n",
       "    <tr>\n",
       "      <th>2</th>\n",
       "      <td>EROPS w AC</td>\n",
       "      <td>10.623971</td>\n",
       "      <td>0.264149</td>\n",
       "      <td>10.575775</td>\n",
       "    </tr>\n",
       "    <tr>\n",
       "      <th>5</th>\n",
       "      <td>OROPS</td>\n",
       "      <td>9.682064</td>\n",
       "      <td>0.223715</td>\n",
       "      <td>9.688404</td>\n",
       "    </tr>\n",
       "  </tbody>\n",
       "</table>\n",
       "</div>"
      ],
      "text/plain": [
       "    Enclosure  SalePrice  pred_std       pred\n",
       "0       EROPS   9.849178  0.272060   9.844179\n",
       "2  EROPS w AC  10.623971  0.264149  10.575775\n",
       "5       OROPS   9.682064  0.223715   9.688404"
      ]
     },
     "execution_count": 52,
     "metadata": {},
     "output_type": "execute_result"
    }
   ],
   "source": [
    "enc_summ = enc_summ[~pd.isnull(enc_summ.SalePrice)]\n",
    "enc_summ"
   ]
  },
  {
   "cell_type": "code",
   "execution_count": 53,
   "metadata": {
    "collapsed": false
   },
   "outputs": [
    {
     "data": {
      "text/plain": [
       "<matplotlib.axes._subplots.AxesSubplot at 0x16d9c080>"
      ]
     },
     "execution_count": 53,
     "metadata": {},
     "output_type": "execute_result"
    },
    {
     "data": {
      "image/png": "[encoded data removed]",
      "text/plain": [
       "<Figure size 432x288 with 1 Axes>"
      ]
     },
     "metadata": {},
     "output_type": "display_data"
    }
   ],
   "source": [
    "enc_summ.plot('Enclosure', 'SalePrice', 'barh')"
   ]
  },
  {
   "cell_type": "code",
   "execution_count": 54,
   "metadata": {
    "collapsed": false
   },
   "outputs": [
    {
     "data": {
      "text/plain": [
       "<matplotlib.axes._subplots.AxesSubplot at 0xc5d20f0>"
      ]
     },
     "execution_count": 54,
     "metadata": {},
     "output_type": "execute_result"
    },
    {
     "data": {
      "image/png": "[encoded data removed]",
      "text/plain": [
       "<Figure size 432x288 with 1 Axes>"
      ]
     },
     "metadata": {},
     "output_type": "display_data"
    }
   ],
   "source": [
    "enc_summ.plot('Enclosure', 'SalePrice', 'barh', xerr='pred_std')"
   ]
  },
  {
   "cell_type": "code",
   "execution_count": 55,
   "metadata": {
    "collapsed": false
   },
   "outputs": [
    {
     "data": {
      "text/plain": [
       "<matplotlib.axes._subplots.AxesSubplot at 0x147f94e0>"
      ]
     },
     "execution_count": 55,
     "metadata": {},
     "output_type": "execute_result"
    },
    {
     "data": {
      "image/png": "[encoded data removed]",
      "text/plain": [
       "<Figure size 432x288 with 1 Axes>"
      ]
     },
     "metadata": {},
     "output_type": "display_data"
    }
   ],
   "source": [
    "raw_valid.ProductSize.value_counts().plot.barh()"
   ]
  },
  {
   "cell_type": "code",
   "execution_count": 56,
   "metadata": {
    "collapsed": false
   },
   "outputs": [
    {
     "data": {
      "text/html": [
       "<div>\n",
       "<style scoped>\n",
       "    .dataframe tbody tr th:only-of-type {\n",
       "        vertical-align: middle;\n",
       "    }\n",
       "\n",
       "    .dataframe tbody tr th {\n",
       "        vertical-align: top;\n",
       "    }\n",
       "\n",
       "    .dataframe thead th {\n",
       "        text-align: right;\n",
       "    }\n",
       "</style>\n",
       "<table border=\"1\" class=\"dataframe\">\n",
       "  <thead>\n",
       "    <tr style=\"text-align: right;\">\n",
       "      <th></th>\n",
       "      <th>SalePrice</th>\n",
       "      <th>pred_std</th>\n",
       "      <th>pred</th>\n",
       "    </tr>\n",
       "    <tr>\n",
       "      <th>ProductSize</th>\n",
       "      <th></th>\n",
       "      <th></th>\n",
       "      <th></th>\n",
       "    </tr>\n",
       "  </thead>\n",
       "  <tbody>\n",
       "    <tr>\n",
       "      <th>Compact</th>\n",
       "      <td>9.735093</td>\n",
       "      <td>0.353621</td>\n",
       "      <td>9.866987</td>\n",
       "    </tr>\n",
       "    <tr>\n",
       "      <th>Large</th>\n",
       "      <td>10.470589</td>\n",
       "      <td>0.359173</td>\n",
       "      <td>10.385005</td>\n",
       "    </tr>\n",
       "    <tr>\n",
       "      <th>Large / Medium</th>\n",
       "      <td>10.691871</td>\n",
       "      <td>0.299265</td>\n",
       "      <td>10.649164</td>\n",
       "    </tr>\n",
       "    <tr>\n",
       "      <th>Medium</th>\n",
       "      <td>10.681511</td>\n",
       "      <td>0.287767</td>\n",
       "      <td>10.619854</td>\n",
       "    </tr>\n",
       "    <tr>\n",
       "      <th>Mini</th>\n",
       "      <td>9.535147</td>\n",
       "      <td>0.242993</td>\n",
       "      <td>9.565941</td>\n",
       "    </tr>\n",
       "    <tr>\n",
       "      <th>Small</th>\n",
       "      <td>10.324448</td>\n",
       "      <td>0.302791</td>\n",
       "      <td>10.336527</td>\n",
       "    </tr>\n",
       "  </tbody>\n",
       "</table>\n",
       "</div>"
      ],
      "text/plain": [
       "                SalePrice  pred_std       pred\n",
       "ProductSize                                   \n",
       "Compact          9.735093  0.353621   9.866987\n",
       "Large           10.470589  0.359173  10.385005\n",
       "Large / Medium  10.691871  0.299265  10.649164\n",
       "Medium          10.681511  0.287767  10.619854\n",
       "Mini             9.535147  0.242993   9.565941\n",
       "Small           10.324448  0.302791  10.336527"
      ]
     },
     "execution_count": 56,
     "metadata": {},
     "output_type": "execute_result"
    }
   ],
   "source": [
    "fld = ['ProductSize', 'SalePrice', 'pred_std', 'pred']\n",
    "summ = x[fld].groupby(fld[0]).mean()\n",
    "summ"
   ]
  },
  {
   "cell_type": "code",
   "execution_count": 57,
   "metadata": {
    "collapsed": false
   },
   "outputs": [
    {
     "data": {
      "text/plain": [
       "ProductSize\n",
       "Compact           0.035839\n",
       "Large             0.034586\n",
       "Small             0.029293\n",
       "Large / Medium    0.028102\n",
       "Medium            0.027097\n",
       "Mini              0.025402\n",
       "dtype: float64"
      ]
     },
     "execution_count": 57,
     "metadata": {},
     "output_type": "execute_result"
    }
   ],
   "source": [
    "(summ.pred_std/summ.pred).sort_values(ascending = False)"
   ]
  },
  {
   "cell_type": "markdown",
   "metadata": {},
   "source": [
    "# Feature Importance"
   ]
  },
  {
   "cell_type": "markdown",
   "metadata": {},
   "source": [
    "It's not normally enough to just to know that a model can make accurate predictions - we also want to know how it's making predictions. The most important way to see this is with feature importance."
   ]
  },
  {
   "cell_type": "code",
   "execution_count": 58,
   "metadata": {
    "collapsed": true
   },
   "outputs": [],
   "source": [
    "def rf_feat_imp(m, df):\n",
    "    return pd.DataFrame({'Features': X_train.columns, 'imp':m.feature_importances_}).sort_values('imp', ascending=False)"
   ]
  },
  {
   "cell_type": "code",
   "execution_count": 59,
   "metadata": {
    "collapsed": false,
    "scrolled": true
   },
   "outputs": [
    {
     "data": {
      "text/html": [
       "<div>\n",
       "<style scoped>\n",
       "    .dataframe tbody tr th:only-of-type {\n",
       "        vertical-align: middle;\n",
       "    }\n",
       "\n",
       "    .dataframe tbody tr th {\n",
       "        vertical-align: top;\n",
       "    }\n",
       "\n",
       "    .dataframe thead th {\n",
       "        text-align: right;\n",
       "    }\n",
       "</style>\n",
       "<table border=\"1\" class=\"dataframe\">\n",
       "  <thead>\n",
       "    <tr style=\"text-align: right;\">\n",
       "      <th></th>\n",
       "      <th>Features</th>\n",
       "      <th>imp</th>\n",
       "    </tr>\n",
       "  </thead>\n",
       "  <tbody>\n",
       "    <tr>\n",
       "      <th>5</th>\n",
       "      <td>YearMade</td>\n",
       "      <td>0.171547</td>\n",
       "    </tr>\n",
       "    <tr>\n",
       "      <th>13</th>\n",
       "      <td>ProductSize</td>\n",
       "      <td>0.105737</td>\n",
       "    </tr>\n",
       "    <tr>\n",
       "      <th>37</th>\n",
       "      <td>Coupler_System</td>\n",
       "      <td>0.101406</td>\n",
       "    </tr>\n",
       "    <tr>\n",
       "      <th>14</th>\n",
       "      <td>fiProductClassDesc</td>\n",
       "      <td>0.082254</td>\n",
       "    </tr>\n",
       "    <tr>\n",
       "      <th>38</th>\n",
       "      <td>Grouser_Tracks</td>\n",
       "      <td>0.060141</td>\n",
       "    </tr>\n",
       "    <tr>\n",
       "      <th>2</th>\n",
       "      <td>ModelID</td>\n",
       "      <td>0.054904</td>\n",
       "    </tr>\n",
       "    <tr>\n",
       "      <th>63</th>\n",
       "      <td>Sales_Elapsed</td>\n",
       "      <td>0.050008</td>\n",
       "    </tr>\n",
       "    <tr>\n",
       "      <th>10</th>\n",
       "      <td>fiSecondaryDesc</td>\n",
       "      <td>0.046371</td>\n",
       "    </tr>\n",
       "    <tr>\n",
       "      <th>39</th>\n",
       "      <td>Hydraulics_Flow</td>\n",
       "      <td>0.039355</td>\n",
       "    </tr>\n",
       "    <tr>\n",
       "      <th>19</th>\n",
       "      <td>Enclosure</td>\n",
       "      <td>0.030487</td>\n",
       "    </tr>\n",
       "  </tbody>\n",
       "</table>\n",
       "</div>"
      ],
      "text/plain": [
       "              Features       imp\n",
       "5             YearMade  0.171547\n",
       "13         ProductSize  0.105737\n",
       "37      Coupler_System  0.101406\n",
       "14  fiProductClassDesc  0.082254\n",
       "38      Grouser_Tracks  0.060141\n",
       "2              ModelID  0.054904\n",
       "63       Sales_Elapsed  0.050008\n",
       "10     fiSecondaryDesc  0.046371\n",
       "39     Hydraulics_Flow  0.039355\n",
       "19           Enclosure  0.030487"
      ]
     },
     "execution_count": 59,
     "metadata": {},
     "output_type": "execute_result"
    }
   ],
   "source": [
    "fi = rf_feat_imp(m, df_trn)\n",
    "fi[:10]"
   ]
  },
  {
   "cell_type": "code",
   "execution_count": 60,
   "metadata": {
    "collapsed": false,
    "scrolled": false
   },
   "outputs": [
    {
     "data": {
      "text/plain": [
       "<matplotlib.axes._subplots.AxesSubplot at 0xeab11d0>"
      ]
     },
     "execution_count": 60,
     "metadata": {},
     "output_type": "execute_result"
    },
    {
     "data": {
      "image/png": "[encoded data removed]",
      "text/plain": [
       "<Figure size 720x432 with 1 Axes>"
      ]
     },
     "metadata": {},
     "output_type": "display_data"
    }
   ],
   "source": [
    "fi.plot('Features', \"imp\", figsize=(10,6), legend=False)"
   ]
  },
  {
   "cell_type": "code",
   "execution_count": 61,
   "metadata": {
    "collapsed": false
   },
   "outputs": [
    {
     "data": {
      "text/plain": [
       "<matplotlib.axes._subplots.AxesSubplot at 0xed05a20>"
      ]
     },
     "execution_count": 61,
     "metadata": {},
     "output_type": "execute_result"
    },
    {
     "data": {
      "image/png": "[encoded data removed]",
      "text/plain": [
       "<Figure size 864x576 with 1 Axes>"
      ]
     },
     "metadata": {},
     "output_type": "display_data"
    }
   ],
   "source": [
    "fi[:30].plot('Features', \"imp\", 'barh',figsize=(12,8), legend=False)"
   ]
  },
  {
   "cell_type": "code",
   "execution_count": 62,
   "metadata": {
    "collapsed": false
   },
   "outputs": [
    {
     "data": {
      "text/plain": [
       "24"
      ]
     },
     "execution_count": 62,
     "metadata": {},
     "output_type": "execute_result"
    }
   ],
   "source": [
    "to_keep = fi[fi.imp > 0.005]\n",
    "len(to_keep)"
   ]
  },
  {
   "cell_type": "code",
   "execution_count": 63,
   "metadata": {
    "collapsed": true,
    "scrolled": true
   },
   "outputs": [],
   "source": [
    "df_keep = df_trn[list(to_keep.Features)].copy()"
   ]
  },
  {
   "cell_type": "code",
   "execution_count": 64,
   "metadata": {
    "collapsed": true
   },
   "outputs": [],
   "source": [
    "X_train, X_valid = split_data(df_keep, n_trn)"
   ]
  },
  {
   "cell_type": "code",
   "execution_count": 65,
   "metadata": {
    "collapsed": false
   },
   "outputs": [
    {
     "name": "stdout",
     "output_type": "stream",
     "text": [
      "[0.20715184633149025, 0.24592294245725696, 0.91031652182351, 0.8919944514510075, 0.8938589595664673]\n"
     ]
    }
   ],
   "source": [
    "m = RandomForestRegressor(n_estimators=40, min_samples_leaf=3, max_features=0.5, n_jobs=-1, oob_score=True)\n",
    "m.fit(X_train, y_train)\n",
    "print_score(m)"
   ]
  },
  {
   "cell_type": "code",
   "execution_count": 66,
   "metadata": {
    "collapsed": false
   },
   "outputs": [
    {
     "data": {
      "text/plain": [
       "<matplotlib.axes._subplots.AxesSubplot at 0x10a8b438>"
      ]
     },
     "execution_count": 66,
     "metadata": {},
     "output_type": "execute_result"
    },
    {
     "data": {
      "image/png": "[encoded data removed]",
      "text/plain": [
       "<Figure size 864x576 with 1 Axes>"
      ]
     },
     "metadata": {},
     "output_type": "display_data"
    }
   ],
   "source": [
    "fi = rf_feat_imp(m, df_keep)\n",
    "fi.plot('Features', \"imp\", 'barh',figsize=(12,8), legend=False)"
   ]
  },
  {
   "cell_type": "markdown",
   "metadata": {},
   "source": [
    "## One-hot encoding"
   ]
  },
  {
   "cell_type": "code",
   "execution_count": 52,
   "metadata": {
    "collapsed": true
   },
   "outputs": [],
   "source": [
    "def print_score(m):\n",
    "    res = [rmse(m.predict(X_train), y_train), rmse(m.predict(X_valid), y_valid),\n",
    "    m.score(X_train, y_train), m.score(X_valid, y_valid)]\n",
    "    if hasattr(m, 'oob_score_'):\n",
    "        res.append(m.oob_score_)\n",
    "    print(res)"
   ]
  },
  {
   "cell_type": "code",
   "execution_count": 53,
   "metadata": {
    "collapsed": false
   },
   "outputs": [
    {
     "name": "stdout",
     "output_type": "stream",
     "text": [
      "[0.11815669116170455, 0.23495856394284872, 0.9708222722801453, 0.9014105299262688, 0.910113258361064]\n"
     ]
    }
   ],
   "source": [
    "df_trn2, y_trn, nas = proc_df(df_raw, 'SalePrice', max_n_cat=7)\n",
    "X_train, X_valid = split_data(df_trn2, n_trn)\n",
    "\n",
    "m = RandomForestRegressor(n_estimators=40, min_samples_leaf=3, max_features=0.6, n_jobs=-1, oob_score=True)\n",
    "m.fit(X_train, y_train)\n",
    "print_score(m)"
   ]
  },
  {
   "cell_type": "code",
   "execution_count": 54,
   "metadata": {
    "collapsed": false
   },
   "outputs": [
    {
     "data": {
      "text/plain": [
       "<matplotlib.axes._subplots.AxesSubplot at 0x73eb048>"
      ]
     },
     "execution_count": 54,
     "metadata": {},
     "output_type": "execute_result"
    },
    {
     "data": {
      "image/png": "[encoded data removed]",
      "text/plain": [
       "<Figure size 864x576 with 1 Axes>"
      ]
     },
     "metadata": {},
     "output_type": "display_data"
    }
   ],
   "source": [
    "fi = rf_feat_imp(m, df_keep)\n",
    "fi[:25].plot('Features', \"imp\", 'barh',figsize=(12,8), legend=False)"
   ]
  },
  {
   "cell_type": "markdown",
   "metadata": {},
   "source": [
    "# Removing redundant features"
   ]
  },
  {
   "cell_type": "code",
   "execution_count": 63,
   "metadata": {
    "collapsed": true
   },
   "outputs": [],
   "source": [
    "from scipy.cluster import hierarchy as hc\n",
    "import scipy"
   ]
  },
  {
   "cell_type": "code",
   "execution_count": 64,
   "metadata": {
    "collapsed": false,
    "scrolled": true
   },
   "outputs": [],
   "source": [
    "corr = np.round(df_keep.corr(method='spearman').values, 4) # Use rank correlation instead of correlation coefficient\n",
    "corr_condensed = hc.distance.squareform(1-corr)\n",
    "z = hc.linkage(corr_condensed, method='average')"
   ]
  },
  {
   "cell_type": "code",
   "execution_count": 65,
   "metadata": {
    "collapsed": false
   },
   "outputs": [
    {
     "data": {
      "image/png": "[encoded data removed]",
      "text/plain": [
       "<Figure size 1152x720 with 1 Axes>"
      ]
     },
     "metadata": {},
     "output_type": "display_data"
    }
   ],
   "source": [
    "fig = plt.figure(figsize=(16,10))\n",
    "dendrogram = hc.dendrogram(z, labels=df_keep.columns, orientation='left', leaf_font_size=16)\n",
    "plt.show()"
   ]
  },
  {
   "cell_type": "code",
   "execution_count": 67,
   "metadata": {
    "collapsed": false
   },
   "outputs": [],
   "source": [
    "def get_oob(df):\n",
    "    m = RandomForestRegressor(n_estimators=30, min_samples_leaf=3, max_features=0.6, n_jobs=-1, oob_score=True)\n",
    "    x, _ = split_data(df, n_trn)\n",
    "    m.fit(x, y_train)\n",
    "    return m.oob_score_"
   ]
  },
  {
   "cell_type": "code",
   "execution_count": 68,
   "metadata": {
    "collapsed": false
   },
   "outputs": [
    {
     "data": {
      "text/plain": [
       "0.8933580589908807"
      ]
     },
     "execution_count": 68,
     "metadata": {},
     "output_type": "execute_result"
    }
   ],
   "source": [
    "get_oob(df_keep)"
   ]
  },
  {
   "cell_type": "code",
   "execution_count": 69,
   "metadata": {
    "collapsed": false,
    "scrolled": true
   },
   "outputs": [
    {
     "name": "stdout",
     "output_type": "stream",
     "text": [
      "Sales_Year 0.8926492643983207\n",
      "Sales_Elapsed 0.8909853200726822\n",
      "Hydraulics_Flow 0.8939805608592456\n",
      "Grouser_Tracks 0.8934556275261417\n",
      "Coupler_System 0.8933981994056244\n",
      "fiBaseModel 0.8923949521573618\n",
      "fiModelDesc 0.8925425077025282\n",
      "ProductGroup 0.893084697393558\n",
      "ProductGroupDesc 0.893563985163276\n"
     ]
    }
   ],
   "source": [
    "for i in ('Sales_Year', 'Sales_Elapsed', 'Hydraulics_Flow', 'Grouser_Tracks', 'Coupler_System', 'fiBaseModel', 'fiModelDesc', 'ProductGroup', 'ProductGroupDesc'):\n",
    "    print(i, get_oob(df_keep.drop(i, axis=1)))"
   ]
  },
  {
   "cell_type": "markdown",
   "metadata": {},
   "source": [
    "We can try one from each group for removal"
   ]
  },
  {
   "cell_type": "code",
   "execution_count": 70,
   "metadata": {
    "collapsed": false
   },
   "outputs": [
    {
     "data": {
      "text/plain": [
       "0.8919445964513604"
      ]
     },
     "execution_count": 70,
     "metadata": {},
     "output_type": "execute_result"
    }
   ],
   "source": [
    "get_oob(df_keep.drop(['Sales_Year', 'fiBaseModel', 'Grouser_Tracks','ProductGroupDesc'], axis=1))"
   ]
  },
  {
   "cell_type": "code",
   "execution_count": 71,
   "metadata": {
    "collapsed": false
   },
   "outputs": [],
   "source": [
    "df_keep.drop(['Sales_Year', 'fiBaseModel', 'Grouser_Tracks','ProductGroupDesc'], axis=1, inplace=True)\n",
    "X_train, X_valid = split_data(df_keep, n_trn)"
   ]
  },
  {
   "cell_type": "markdown",
   "metadata": {},
   "source": [
    "No difference in OOB, so dropping the 3 features didnt improve the error but the simpler the better"
   ]
  },
  {
   "cell_type": "code",
   "execution_count": 72,
   "metadata": {
    "collapsed": true
   },
   "outputs": [],
   "source": [
    "reset_rf_samples()"
   ]
  },
  {
   "cell_type": "code",
   "execution_count": 73,
   "metadata": {
    "collapsed": false
   },
   "outputs": [
    {
     "name": "stdout",
     "output_type": "stream",
     "text": [
      "[0.1257810894112554, 0.2267694803435047, 0.9669352281863233, 0.908163106722476, 0.9087024483340511]\n"
     ]
    }
   ],
   "source": [
    "m = RandomForestRegressor(n_estimators=40, min_samples_leaf=3, max_features=0.5, n_jobs=-1, oob_score=True)\n",
    "m.fit(X_train, y_train)\n",
    "print_score(m)"
   ]
  },
  {
   "cell_type": "markdown",
   "metadata": {},
   "source": [
    "# Partial dependence"
   ]
  },
  {
   "cell_type": "code",
   "execution_count": 67,
   "metadata": {},
   "outputs": [],
   "source": [
    "from pdpbox import pdp\n",
    "from plotnine import *"
   ]
  },
  {
   "cell_type": "code",
   "execution_count": 68,
   "metadata": {
    "collapsed": true
   },
   "outputs": [],
   "source": [
    "set_rf_samples(50000)"
   ]
  },
  {
   "cell_type": "markdown",
   "metadata": {},
   "source": [
    "This is easier if we used 1-hot encoding"
   ]
  },
  {
   "cell_type": "code",
   "execution_count": 69,
   "metadata": {},
   "outputs": [],
   "source": [
    "df_trn2, y_trn, nas = proc_df(df_raw, 'SalePrice', max_n_cat=7)\n",
    "X_train, X_valid = split_data(df_trn2, n_trn)\n",
    "m = RandomForestRegressor(n_estimators=40, min_samples_leaf=3, max_features=0.6, n_jobs=-1)\n",
    "m.fit(X_train, y_train);"
   ]
  },
  {
   "cell_type": "code",
   "execution_count": 70,
   "metadata": {},
   "outputs": [
    {
     "data": {
      "text/plain": [
       "<matplotlib.axes._subplots.AxesSubplot at 0x1cc93828>"
      ]
     },
     "execution_count": 70,
     "metadata": {},
     "output_type": "execute_result"
    },
    {
     "data": {
      "image/png": "[encoded data removed]",
      "text/plain": [
       "<Figure size 864x576 with 1 Axes>"
      ]
     },
     "metadata": {},
     "output_type": "display_data"
    }
   ],
   "source": [
    "fi = rf_feat_imp(m, df_trn2)\n",
    "fi[:10].plot('Features', 'imp', 'barh',figsize=(12,8), legend=False )"
   ]
  },
  {
   "cell_type": "code",
   "execution_count": 71,
   "metadata": {},
   "outputs": [
    {
     "data": {
      "text/plain": [
       "<matplotlib.axes._subplots.AxesSubplot at 0x1d501748>"
      ]
     },
     "execution_count": 71,
     "metadata": {},
     "output_type": "execute_result"
    },
    {
     "data": {
      "image/png": "[encoded data removed]",
      "text/plain": [
       "<Figure size 864x576 with 1 Axes>"
      ]
     },
     "metadata": {},
     "output_type": "display_data"
    }
   ],
   "source": [
    "df_raw.plot('YearMade', 'Sales_Elapsed', 'scatter',figsize=(12,8), alpha=0.01)"
   ]
  },
  {
   "cell_type": "code",
   "execution_count": 72,
   "metadata": {},
   "outputs": [],
   "source": [
    "x_all = get_sample(df_raw[df_raw.YearMade > 1930],  500)"
   ]
  },
  {
   "cell_type": "code",
   "execution_count": 73,
   "metadata": {},
   "outputs": [
    {
     "name": "stderr",
     "output_type": "stream",
     "text": [
      "C:\\Users\\wfahme\\AppData\\Local\\Continuum\\anaconda3\\lib\\site-packages\\plotnine\\stats\\smoothers.py:150: UserWarning: Confidence intervals are not yet implementedfor lowess smoothings.\n",
      "  warnings.warn(\"Confidence intervals are not yet implemented\"\n"
     ]
    },
    {
     "data": {
      "image/png": "[encoded data removed]",
      "text/plain": [
       "<Figure size 640x480 with 1 Axes>"
      ]
     },
     "metadata": {},
     "output_type": "display_data"
    },
    {
     "data": {
      "text/plain": [
       "<ggplot: (30173097)>"
      ]
     },
     "execution_count": 73,
     "metadata": {},
     "output_type": "execute_result"
    }
   ],
   "source": [
    "ggplot(x_all, aes('YearMade', 'SalePrice'))+stat_smooth(colour='blue', se=True)"
   ]
  },
  {
   "cell_type": "code",
   "execution_count": 74,
   "metadata": {},
   "outputs": [],
   "source": [
    "x = get_sample(X_train[X_train.YearMade>1930], 500)"
   ]
  },
  {
   "cell_type": "code",
   "execution_count": 76,
   "metadata": {},
   "outputs": [],
   "source": [
    "x_feat = list(x.columns)"
   ]
  },
  {
   "cell_type": "code",
   "execution_count": 77,
   "metadata": {},
   "outputs": [],
   "source": [
    "p = pdp.pdp_isolate(model=m, dataset=x, model_features=x_feat, feature='YearMade')"
   ]
  },
  {
   "cell_type": "code",
   "execution_count": 78,
   "metadata": {},
   "outputs": [
    {
     "data": {
      "image/png": "[encoded data removed]",
      "text/plain": [
       "<Figure size 1080x684 with 2 Axes>"
      ]
     },
     "metadata": {},
     "output_type": "display_data"
    }
   ],
   "source": [
    "fig, axes = pdp.pdp_plot(p, 'YearMade', plot_lines=True, frac_to_plot=100)"
   ]
  },
  {
   "cell_type": "code",
   "execution_count": 79,
   "metadata": {},
   "outputs": [
    {
     "data": {
      "image/png": "[encoded data removed]",
      "text/plain": [
       "<Figure size 1080x684 with 2 Axes>"
      ]
     },
     "metadata": {},
     "output_type": "display_data"
    }
   ],
   "source": [
    "fig, axes = pdp.pdp_plot(p, 'YearMade', plot_lines=True, frac_to_plot=100, cluster=True, n_cluster_centers=5)"
   ]
  },
  {
   "cell_type": "code",
   "execution_count": 89,
   "metadata": {},
   "outputs": [
    {
     "name": "stderr",
     "output_type": "stream",
     "text": [
      "C:\\Users\\wfahme\\AppData\\Local\\Continuum\\anaconda3\\lib\\site-packages\\matplotlib\\contour.py:960: UserWarning: The following kwargs were not used by contour: 'N'\n",
      "  s)\n"
     ]
    },
    {
     "data": {
      "text/plain": [
       "(<Figure size 540x684 with 3 Axes>,\n",
       " {'title_ax': <matplotlib.axes._subplots.AxesSubplot at 0x10943940>,\n",
       "  'pdp_inter_ax': <matplotlib.axes._subplots.AxesSubplot at 0x633ef28>})"
      ]
     },
     "execution_count": 89,
     "metadata": {},
     "output_type": "execute_result"
    },
    {
     "data": {
      "image/png": "[encoded data removed]",
      "text/plain": [
       "<Figure size 540x684 with 3 Axes>"
      ]
     },
     "metadata": {},
     "output_type": "display_data"
    }
   ],
   "source": [
    "feats = ['Sales_Elapsed', 'YearMade']\n",
    "p = pdp.pdp_interact(m, x, x_feat, feats)\n",
    "pdp.pdp_interact_plot(p, feats)"
   ]
  },
  {
   "cell_type": "code",
   "execution_count": 92,
   "metadata": {},
   "outputs": [
    {
     "data": {
      "text/html": [
       "<div>\n",
       "<style scoped>\n",
       "    .dataframe tbody tr th:only-of-type {\n",
       "        vertical-align: middle;\n",
       "    }\n",
       "\n",
       "    .dataframe tbody tr th {\n",
       "        vertical-align: top;\n",
       "    }\n",
       "\n",
       "    .dataframe thead th {\n",
       "        text-align: right;\n",
       "    }\n",
       "</style>\n",
       "<table border=\"1\" class=\"dataframe\">\n",
       "  <thead>\n",
       "    <tr style=\"text-align: right;\">\n",
       "      <th></th>\n",
       "      <th>SalesID</th>\n",
       "      <th>MachineID</th>\n",
       "      <th>ModelID</th>\n",
       "      <th>datasource</th>\n",
       "      <th>auctioneerID</th>\n",
       "      <th>YearMade</th>\n",
       "      <th>MachineHoursCurrentMeter</th>\n",
       "      <th>fiModelDesc</th>\n",
       "      <th>fiBaseModel</th>\n",
       "      <th>fiSecondaryDesc</th>\n",
       "      <th>fiModelSeries</th>\n",
       "      <th>fiModelDescriptor</th>\n",
       "      <th>fiProductClassDesc</th>\n",
       "      <th>state</th>\n",
       "      <th>Transmission</th>\n",
       "      <th>Hydraulics</th>\n",
       "      <th>Tire_Size</th>\n",
       "      <th>Undercarriage_Pad_Width</th>\n",
       "      <th>Stick_Length</th>\n",
       "      <th>Blade_Type</th>\n",
       "      <th>Sales_Year</th>\n",
       "      <th>Sales_Month</th>\n",
       "      <th>Sales_Week</th>\n",
       "      <th>Sales_Day</th>\n",
       "      <th>Sales_Dayofweek</th>\n",
       "      <th>Sales_Dayofyear</th>\n",
       "      <th>Sales_Is_month_end</th>\n",
       "      <th>Sales_Is_month_start</th>\n",
       "      <th>Sales_Is_quarter_end</th>\n",
       "      <th>Sales_Is_quarter_start</th>\n",
       "      <th>Sales_Is_year_end</th>\n",
       "      <th>Sales_Is_year_start</th>\n",
       "      <th>Sales_Elapsed</th>\n",
       "      <th>auctioneerID_na</th>\n",
       "      <th>MachineHoursCurrentMeter_na</th>\n",
       "      <th>UsageBand_High</th>\n",
       "      <th>UsageBand_Low</th>\n",
       "      <th>UsageBand_Medium</th>\n",
       "      <th>UsageBand_nan</th>\n",
       "      <th>ProductSize_Compact</th>\n",
       "      <th>ProductSize_Large</th>\n",
       "      <th>ProductSize_Large / Medium</th>\n",
       "      <th>ProductSize_Medium</th>\n",
       "      <th>ProductSize_Mini</th>\n",
       "      <th>ProductSize_Small</th>\n",
       "      <th>ProductSize_nan</th>\n",
       "      <th>ProductGroup_BL</th>\n",
       "      <th>ProductGroup_MG</th>\n",
       "      <th>ProductGroup_SSL</th>\n",
       "      <th>ProductGroup_TEX</th>\n",
       "      <th>ProductGroup_TTT</th>\n",
       "      <th>ProductGroup_WL</th>\n",
       "      <th>ProductGroup_nan</th>\n",
       "      <th>ProductGroupDesc_Backhoe Loaders</th>\n",
       "      <th>ProductGroupDesc_Motor Graders</th>\n",
       "      <th>ProductGroupDesc_Skid Steer Loaders</th>\n",
       "      <th>ProductGroupDesc_Track Excavators</th>\n",
       "      <th>ProductGroupDesc_Track Type Tractors</th>\n",
       "      <th>ProductGroupDesc_Wheel Loader</th>\n",
       "      <th>ProductGroupDesc_nan</th>\n",
       "      <th>Drive_System_All Wheel Drive</th>\n",
       "      <th>Drive_System_Four Wheel Drive</th>\n",
       "      <th>Drive_System_No</th>\n",
       "      <th>Drive_System_Two Wheel Drive</th>\n",
       "      <th>Drive_System_nan</th>\n",
       "      <th>Enclosure_EROPS</th>\n",
       "      <th>Enclosure_EROPS AC</th>\n",
       "      <th>Enclosure_EROPS w AC</th>\n",
       "      <th>Enclosure_NO ROPS</th>\n",
       "      <th>Enclosure_None or Unspecified</th>\n",
       "      <th>Enclosure_OROPS</th>\n",
       "      <th>Enclosure_nan</th>\n",
       "      <th>Forks_None or Unspecified</th>\n",
       "      <th>Forks_Yes</th>\n",
       "      <th>Forks_nan</th>\n",
       "      <th>Pad_Type_Grouser</th>\n",
       "      <th>Pad_Type_None or Unspecified</th>\n",
       "      <th>Pad_Type_Reversible</th>\n",
       "      <th>Pad_Type_Street</th>\n",
       "      <th>Pad_Type_nan</th>\n",
       "      <th>Ride_Control_No</th>\n",
       "      <th>Ride_Control_None or Unspecified</th>\n",
       "      <th>Ride_Control_Yes</th>\n",
       "      <th>Ride_Control_nan</th>\n",
       "      <th>Stick_Extended</th>\n",
       "      <th>Stick_Standard</th>\n",
       "      <th>Stick_nan</th>\n",
       "      <th>Turbocharged_None or Unspecified</th>\n",
       "      <th>Turbocharged_Yes</th>\n",
       "      <th>Turbocharged_nan</th>\n",
       "      <th>Blade_Extension_None or Unspecified</th>\n",
       "      <th>Blade_Extension_Yes</th>\n",
       "      <th>Blade_Extension_nan</th>\n",
       "      <th>Blade_Width_12'</th>\n",
       "      <th>Blade_Width_13'</th>\n",
       "      <th>Blade_Width_14'</th>\n",
       "      <th>Blade_Width_16'</th>\n",
       "      <th>Blade_Width_&lt;12'</th>\n",
       "      <th>Blade_Width_None or Unspecified</th>\n",
       "      <th>Blade_Width_nan</th>\n",
       "      <th>Enclosure_Type_High Profile</th>\n",
       "      <th>Enclosure_Type_Low Profile</th>\n",
       "      <th>Enclosure_Type_None or Unspecified</th>\n",
       "      <th>Enclosure_Type_nan</th>\n",
       "      <th>Engine_Horsepower_No</th>\n",
       "      <th>Engine_Horsepower_Variable</th>\n",
       "      <th>Engine_Horsepower_nan</th>\n",
       "      <th>Pushblock_None or Unspecified</th>\n",
       "      <th>Pushblock_Yes</th>\n",
       "      <th>Pushblock_nan</th>\n",
       "      <th>Ripper_Multi Shank</th>\n",
       "      <th>Ripper_None or Unspecified</th>\n",
       "      <th>Ripper_Single Shank</th>\n",
       "      <th>Ripper_Yes</th>\n",
       "      <th>Ripper_nan</th>\n",
       "      <th>Scarifier_None or Unspecified</th>\n",
       "      <th>Scarifier_Yes</th>\n",
       "      <th>Scarifier_nan</th>\n",
       "      <th>Tip_Control_None or Unspecified</th>\n",
       "      <th>Tip_Control_Sideshift &amp; Tip</th>\n",
       "      <th>Tip_Control_Tip</th>\n",
       "      <th>Tip_Control_nan</th>\n",
       "      <th>Coupler_Hydraulic</th>\n",
       "      <th>Coupler_Manual</th>\n",
       "      <th>Coupler_None or Unspecified</th>\n",
       "      <th>Coupler_nan</th>\n",
       "      <th>Coupler_System_None or Unspecified</th>\n",
       "      <th>Coupler_System_Yes</th>\n",
       "      <th>Coupler_System_nan</th>\n",
       "      <th>Grouser_Tracks_None or Unspecified</th>\n",
       "      <th>Grouser_Tracks_Yes</th>\n",
       "      <th>Grouser_Tracks_nan</th>\n",
       "      <th>Hydraulics_Flow_High Flow</th>\n",
       "      <th>Hydraulics_Flow_None or Unspecified</th>\n",
       "      <th>Hydraulics_Flow_Standard</th>\n",
       "      <th>Hydraulics_Flow_nan</th>\n",
       "      <th>Track_Type_Rubber</th>\n",
       "      <th>Track_Type_Steel</th>\n",
       "      <th>Track_Type_nan</th>\n",
       "      <th>Thumb_Hydraulic</th>\n",
       "      <th>Thumb_Manual</th>\n",
       "      <th>Thumb_None or Unspecified</th>\n",
       "      <th>Thumb_nan</th>\n",
       "      <th>Pattern_Changer_No</th>\n",
       "      <th>Pattern_Changer_None or Unspecified</th>\n",
       "      <th>Pattern_Changer_Yes</th>\n",
       "      <th>Pattern_Changer_nan</th>\n",
       "      <th>Grouser_Type_Double</th>\n",
       "      <th>Grouser_Type_Single</th>\n",
       "      <th>Grouser_Type_Triple</th>\n",
       "      <th>Grouser_Type_nan</th>\n",
       "      <th>Backhoe_Mounting_None or Unspecified</th>\n",
       "      <th>Backhoe_Mounting_Yes</th>\n",
       "      <th>Backhoe_Mounting_nan</th>\n",
       "      <th>Travel_Controls_1 Speed</th>\n",
       "      <th>Travel_Controls_2 Pedal</th>\n",
       "      <th>Travel_Controls_Differential Steer</th>\n",
       "      <th>Travel_Controls_Finger Tip</th>\n",
       "      <th>Travel_Controls_Lever</th>\n",
       "      <th>Travel_Controls_None or Unspecified</th>\n",
       "      <th>Travel_Controls_Pedal</th>\n",
       "      <th>Travel_Controls_nan</th>\n",
       "      <th>Differential_Type_Limited Slip</th>\n",
       "      <th>Differential_Type_Locking</th>\n",
       "      <th>Differential_Type_No Spin</th>\n",
       "      <th>Differential_Type_Standard</th>\n",
       "      <th>Differential_Type_nan</th>\n",
       "      <th>Steering_Controls_Command Control</th>\n",
       "      <th>Steering_Controls_Conventional</th>\n",
       "      <th>Steering_Controls_Four Wheel Standard</th>\n",
       "      <th>Steering_Controls_No</th>\n",
       "      <th>Steering_Controls_Wheel</th>\n",
       "      <th>Steering_Controls_nan</th>\n",
       "    </tr>\n",
       "  </thead>\n",
       "  <tbody>\n",
       "    <tr>\n",
       "      <th>45</th>\n",
       "      <td>1139423</td>\n",
       "      <td>999442</td>\n",
       "      <td>3217</td>\n",
       "      <td>121</td>\n",
       "      <td>3.0</td>\n",
       "      <td>2003</td>\n",
       "      <td>1788.0</td>\n",
       "      <td>1288</td>\n",
       "      <td>375</td>\n",
       "      <td>167</td>\n",
       "      <td>0</td>\n",
       "      <td>0</td>\n",
       "      <td>41</td>\n",
       "      <td>9</td>\n",
       "      <td>0</td>\n",
       "      <td>4</td>\n",
       "      <td>0</td>\n",
       "      <td>0</td>\n",
       "      <td>0</td>\n",
       "      <td>0</td>\n",
       "      <td>2006</td>\n",
       "      <td>12</td>\n",
       "      <td>50</td>\n",
       "      <td>14</td>\n",
       "      <td>3</td>\n",
       "      <td>348</td>\n",
       "      <td>False</td>\n",
       "      <td>False</td>\n",
       "      <td>False</td>\n",
       "      <td>False</td>\n",
       "      <td>False</td>\n",
       "      <td>False</td>\n",
       "      <td>1166054400</td>\n",
       "      <td>False</td>\n",
       "      <td>False</td>\n",
       "      <td>1</td>\n",
       "      <td>0</td>\n",
       "      <td>0</td>\n",
       "      <td>0</td>\n",
       "      <td>0</td>\n",
       "      <td>0</td>\n",
       "      <td>0</td>\n",
       "      <td>0</td>\n",
       "      <td>0</td>\n",
       "      <td>0</td>\n",
       "      <td>1</td>\n",
       "      <td>0</td>\n",
       "      <td>0</td>\n",
       "      <td>1</td>\n",
       "      <td>0</td>\n",
       "      <td>0</td>\n",
       "      <td>0</td>\n",
       "      <td>0</td>\n",
       "      <td>0</td>\n",
       "      <td>0</td>\n",
       "      <td>1</td>\n",
       "      <td>0</td>\n",
       "      <td>0</td>\n",
       "      <td>0</td>\n",
       "      <td>0</td>\n",
       "      <td>0</td>\n",
       "      <td>0</td>\n",
       "      <td>0</td>\n",
       "      <td>0</td>\n",
       "      <td>1</td>\n",
       "      <td>0</td>\n",
       "      <td>0</td>\n",
       "      <td>0</td>\n",
       "      <td>0</td>\n",
       "      <td>0</td>\n",
       "      <td>1</td>\n",
       "      <td>0</td>\n",
       "      <td>1</td>\n",
       "      <td>0</td>\n",
       "      <td>0</td>\n",
       "      <td>0</td>\n",
       "      <td>0</td>\n",
       "      <td>0</td>\n",
       "      <td>0</td>\n",
       "      <td>1</td>\n",
       "      <td>0</td>\n",
       "      <td>0</td>\n",
       "      <td>0</td>\n",
       "      <td>1</td>\n",
       "      <td>0</td>\n",
       "      <td>0</td>\n",
       "      <td>1</td>\n",
       "      <td>0</td>\n",
       "      <td>0</td>\n",
       "      <td>1</td>\n",
       "      <td>0</td>\n",
       "      <td>0</td>\n",
       "      <td>1</td>\n",
       "      <td>0</td>\n",
       "      <td>0</td>\n",
       "      <td>0</td>\n",
       "      <td>0</td>\n",
       "      <td>0</td>\n",
       "      <td>0</td>\n",
       "      <td>1</td>\n",
       "      <td>0</td>\n",
       "      <td>0</td>\n",
       "      <td>0</td>\n",
       "      <td>1</td>\n",
       "      <td>0</td>\n",
       "      <td>0</td>\n",
       "      <td>1</td>\n",
       "      <td>0</td>\n",
       "      <td>0</td>\n",
       "      <td>1</td>\n",
       "      <td>0</td>\n",
       "      <td>0</td>\n",
       "      <td>0</td>\n",
       "      <td>0</td>\n",
       "      <td>1</td>\n",
       "      <td>0</td>\n",
       "      <td>0</td>\n",
       "      <td>1</td>\n",
       "      <td>0</td>\n",
       "      <td>0</td>\n",
       "      <td>0</td>\n",
       "      <td>1</td>\n",
       "      <td>0</td>\n",
       "      <td>0</td>\n",
       "      <td>1</td>\n",
       "      <td>0</td>\n",
       "      <td>1</td>\n",
       "      <td>0</td>\n",
       "      <td>0</td>\n",
       "      <td>1</td>\n",
       "      <td>0</td>\n",
       "      <td>0</td>\n",
       "      <td>0</td>\n",
       "      <td>0</td>\n",
       "      <td>1</td>\n",
       "      <td>0</td>\n",
       "      <td>0</td>\n",
       "      <td>0</td>\n",
       "      <td>1</td>\n",
       "      <td>0</td>\n",
       "      <td>0</td>\n",
       "      <td>0</td>\n",
       "      <td>1</td>\n",
       "      <td>0</td>\n",
       "      <td>0</td>\n",
       "      <td>0</td>\n",
       "      <td>1</td>\n",
       "      <td>0</td>\n",
       "      <td>0</td>\n",
       "      <td>0</td>\n",
       "      <td>1</td>\n",
       "      <td>0</td>\n",
       "      <td>0</td>\n",
       "      <td>1</td>\n",
       "      <td>0</td>\n",
       "      <td>0</td>\n",
       "      <td>0</td>\n",
       "      <td>0</td>\n",
       "      <td>0</td>\n",
       "      <td>0</td>\n",
       "      <td>0</td>\n",
       "      <td>1</td>\n",
       "      <td>0</td>\n",
       "      <td>0</td>\n",
       "      <td>0</td>\n",
       "      <td>0</td>\n",
       "      <td>1</td>\n",
       "      <td>0</td>\n",
       "      <td>0</td>\n",
       "      <td>0</td>\n",
       "      <td>0</td>\n",
       "      <td>0</td>\n",
       "      <td>1</td>\n",
       "    </tr>\n",
       "    <tr>\n",
       "      <th>868</th>\n",
       "      <td>1142134</td>\n",
       "      <td>1039915</td>\n",
       "      <td>615</td>\n",
       "      <td>121</td>\n",
       "      <td>3.0</td>\n",
       "      <td>1999</td>\n",
       "      <td>11245.0</td>\n",
       "      <td>4777</td>\n",
       "      <td>1853</td>\n",
       "      <td>0</td>\n",
       "      <td>23</td>\n",
       "      <td>0</td>\n",
       "      <td>63</td>\n",
       "      <td>41</td>\n",
       "      <td>0</td>\n",
       "      <td>1</td>\n",
       "      <td>12</td>\n",
       "      <td>0</td>\n",
       "      <td>0</td>\n",
       "      <td>0</td>\n",
       "      <td>2005</td>\n",
       "      <td>12</td>\n",
       "      <td>50</td>\n",
       "      <td>15</td>\n",
       "      <td>3</td>\n",
       "      <td>349</td>\n",
       "      <td>False</td>\n",
       "      <td>False</td>\n",
       "      <td>False</td>\n",
       "      <td>False</td>\n",
       "      <td>False</td>\n",
       "      <td>False</td>\n",
       "      <td>1134604800</td>\n",
       "      <td>False</td>\n",
       "      <td>False</td>\n",
       "      <td>1</td>\n",
       "      <td>0</td>\n",
       "      <td>0</td>\n",
       "      <td>0</td>\n",
       "      <td>0</td>\n",
       "      <td>0</td>\n",
       "      <td>0</td>\n",
       "      <td>1</td>\n",
       "      <td>0</td>\n",
       "      <td>0</td>\n",
       "      <td>0</td>\n",
       "      <td>0</td>\n",
       "      <td>0</td>\n",
       "      <td>0</td>\n",
       "      <td>0</td>\n",
       "      <td>0</td>\n",
       "      <td>1</td>\n",
       "      <td>0</td>\n",
       "      <td>0</td>\n",
       "      <td>0</td>\n",
       "      <td>0</td>\n",
       "      <td>0</td>\n",
       "      <td>0</td>\n",
       "      <td>1</td>\n",
       "      <td>0</td>\n",
       "      <td>0</td>\n",
       "      <td>0</td>\n",
       "      <td>0</td>\n",
       "      <td>0</td>\n",
       "      <td>1</td>\n",
       "      <td>0</td>\n",
       "      <td>0</td>\n",
       "      <td>1</td>\n",
       "      <td>0</td>\n",
       "      <td>0</td>\n",
       "      <td>0</td>\n",
       "      <td>0</td>\n",
       "      <td>1</td>\n",
       "      <td>0</td>\n",
       "      <td>0</td>\n",
       "      <td>0</td>\n",
       "      <td>0</td>\n",
       "      <td>0</td>\n",
       "      <td>0</td>\n",
       "      <td>1</td>\n",
       "      <td>0</td>\n",
       "      <td>1</td>\n",
       "      <td>0</td>\n",
       "      <td>0</td>\n",
       "      <td>0</td>\n",
       "      <td>0</td>\n",
       "      <td>1</td>\n",
       "      <td>0</td>\n",
       "      <td>0</td>\n",
       "      <td>1</td>\n",
       "      <td>0</td>\n",
       "      <td>0</td>\n",
       "      <td>1</td>\n",
       "      <td>0</td>\n",
       "      <td>0</td>\n",
       "      <td>0</td>\n",
       "      <td>0</td>\n",
       "      <td>0</td>\n",
       "      <td>0</td>\n",
       "      <td>1</td>\n",
       "      <td>0</td>\n",
       "      <td>0</td>\n",
       "      <td>0</td>\n",
       "      <td>1</td>\n",
       "      <td>0</td>\n",
       "      <td>0</td>\n",
       "      <td>1</td>\n",
       "      <td>0</td>\n",
       "      <td>0</td>\n",
       "      <td>1</td>\n",
       "      <td>0</td>\n",
       "      <td>0</td>\n",
       "      <td>0</td>\n",
       "      <td>0</td>\n",
       "      <td>1</td>\n",
       "      <td>0</td>\n",
       "      <td>0</td>\n",
       "      <td>1</td>\n",
       "      <td>0</td>\n",
       "      <td>0</td>\n",
       "      <td>0</td>\n",
       "      <td>1</td>\n",
       "      <td>0</td>\n",
       "      <td>0</td>\n",
       "      <td>1</td>\n",
       "      <td>0</td>\n",
       "      <td>0</td>\n",
       "      <td>0</td>\n",
       "      <td>1</td>\n",
       "      <td>0</td>\n",
       "      <td>0</td>\n",
       "      <td>1</td>\n",
       "      <td>0</td>\n",
       "      <td>0</td>\n",
       "      <td>0</td>\n",
       "      <td>1</td>\n",
       "      <td>0</td>\n",
       "      <td>0</td>\n",
       "      <td>1</td>\n",
       "      <td>0</td>\n",
       "      <td>0</td>\n",
       "      <td>0</td>\n",
       "      <td>1</td>\n",
       "      <td>0</td>\n",
       "      <td>0</td>\n",
       "      <td>0</td>\n",
       "      <td>1</td>\n",
       "      <td>0</td>\n",
       "      <td>0</td>\n",
       "      <td>0</td>\n",
       "      <td>1</td>\n",
       "      <td>0</td>\n",
       "      <td>0</td>\n",
       "      <td>1</td>\n",
       "      <td>0</td>\n",
       "      <td>0</td>\n",
       "      <td>0</td>\n",
       "      <td>0</td>\n",
       "      <td>0</td>\n",
       "      <td>0</td>\n",
       "      <td>0</td>\n",
       "      <td>1</td>\n",
       "      <td>0</td>\n",
       "      <td>0</td>\n",
       "      <td>0</td>\n",
       "      <td>1</td>\n",
       "      <td>0</td>\n",
       "      <td>0</td>\n",
       "      <td>1</td>\n",
       "      <td>0</td>\n",
       "      <td>0</td>\n",
       "      <td>0</td>\n",
       "      <td>0</td>\n",
       "    </tr>\n",
       "    <tr>\n",
       "      <th>2071</th>\n",
       "      <td>1146142</td>\n",
       "      <td>1066532</td>\n",
       "      <td>4840</td>\n",
       "      <td>121</td>\n",
       "      <td>3.0</td>\n",
       "      <td>1988</td>\n",
       "      <td>0.0</td>\n",
       "      <td>1541</td>\n",
       "      <td>470</td>\n",
       "      <td>21</td>\n",
       "      <td>0</td>\n",
       "      <td>0</td>\n",
       "      <td>49</td>\n",
       "      <td>51</td>\n",
       "      <td>4</td>\n",
       "      <td>1</td>\n",
       "      <td>0</td>\n",
       "      <td>0</td>\n",
       "      <td>0</td>\n",
       "      <td>5</td>\n",
       "      <td>2005</td>\n",
       "      <td>12</td>\n",
       "      <td>50</td>\n",
       "      <td>14</td>\n",
       "      <td>2</td>\n",
       "      <td>348</td>\n",
       "      <td>False</td>\n",
       "      <td>False</td>\n",
       "      <td>False</td>\n",
       "      <td>False</td>\n",
       "      <td>False</td>\n",
       "      <td>False</td>\n",
       "      <td>1134518400</td>\n",
       "      <td>False</td>\n",
       "      <td>False</td>\n",
       "      <td>0</td>\n",
       "      <td>0</td>\n",
       "      <td>0</td>\n",
       "      <td>1</td>\n",
       "      <td>0</td>\n",
       "      <td>0</td>\n",
       "      <td>0</td>\n",
       "      <td>1</td>\n",
       "      <td>0</td>\n",
       "      <td>0</td>\n",
       "      <td>0</td>\n",
       "      <td>0</td>\n",
       "      <td>0</td>\n",
       "      <td>0</td>\n",
       "      <td>0</td>\n",
       "      <td>1</td>\n",
       "      <td>0</td>\n",
       "      <td>0</td>\n",
       "      <td>0</td>\n",
       "      <td>0</td>\n",
       "      <td>0</td>\n",
       "      <td>0</td>\n",
       "      <td>1</td>\n",
       "      <td>0</td>\n",
       "      <td>0</td>\n",
       "      <td>0</td>\n",
       "      <td>0</td>\n",
       "      <td>0</td>\n",
       "      <td>0</td>\n",
       "      <td>1</td>\n",
       "      <td>0</td>\n",
       "      <td>0</td>\n",
       "      <td>0</td>\n",
       "      <td>0</td>\n",
       "      <td>0</td>\n",
       "      <td>1</td>\n",
       "      <td>0</td>\n",
       "      <td>0</td>\n",
       "      <td>0</td>\n",
       "      <td>1</td>\n",
       "      <td>0</td>\n",
       "      <td>0</td>\n",
       "      <td>0</td>\n",
       "      <td>0</td>\n",
       "      <td>1</td>\n",
       "      <td>0</td>\n",
       "      <td>0</td>\n",
       "      <td>0</td>\n",
       "      <td>1</td>\n",
       "      <td>0</td>\n",
       "      <td>0</td>\n",
       "      <td>1</td>\n",
       "      <td>0</td>\n",
       "      <td>0</td>\n",
       "      <td>1</td>\n",
       "      <td>0</td>\n",
       "      <td>0</td>\n",
       "      <td>1</td>\n",
       "      <td>0</td>\n",
       "      <td>0</td>\n",
       "      <td>0</td>\n",
       "      <td>0</td>\n",
       "      <td>0</td>\n",
       "      <td>0</td>\n",
       "      <td>1</td>\n",
       "      <td>0</td>\n",
       "      <td>0</td>\n",
       "      <td>0</td>\n",
       "      <td>1</td>\n",
       "      <td>0</td>\n",
       "      <td>0</td>\n",
       "      <td>1</td>\n",
       "      <td>0</td>\n",
       "      <td>0</td>\n",
       "      <td>1</td>\n",
       "      <td>0</td>\n",
       "      <td>1</td>\n",
       "      <td>0</td>\n",
       "      <td>0</td>\n",
       "      <td>0</td>\n",
       "      <td>0</td>\n",
       "      <td>0</td>\n",
       "      <td>1</td>\n",
       "      <td>0</td>\n",
       "      <td>0</td>\n",
       "      <td>0</td>\n",
       "      <td>1</td>\n",
       "      <td>0</td>\n",
       "      <td>0</td>\n",
       "      <td>0</td>\n",
       "      <td>1</td>\n",
       "      <td>0</td>\n",
       "      <td>0</td>\n",
       "      <td>1</td>\n",
       "      <td>0</td>\n",
       "      <td>0</td>\n",
       "      <td>1</td>\n",
       "      <td>0</td>\n",
       "      <td>0</td>\n",
       "      <td>0</td>\n",
       "      <td>1</td>\n",
       "      <td>0</td>\n",
       "      <td>0</td>\n",
       "      <td>1</td>\n",
       "      <td>0</td>\n",
       "      <td>0</td>\n",
       "      <td>0</td>\n",
       "      <td>1</td>\n",
       "      <td>0</td>\n",
       "      <td>0</td>\n",
       "      <td>0</td>\n",
       "      <td>1</td>\n",
       "      <td>0</td>\n",
       "      <td>0</td>\n",
       "      <td>0</td>\n",
       "      <td>1</td>\n",
       "      <td>1</td>\n",
       "      <td>0</td>\n",
       "      <td>0</td>\n",
       "      <td>0</td>\n",
       "      <td>0</td>\n",
       "      <td>0</td>\n",
       "      <td>0</td>\n",
       "      <td>0</td>\n",
       "      <td>1</td>\n",
       "      <td>0</td>\n",
       "      <td>0</td>\n",
       "      <td>0</td>\n",
       "      <td>0</td>\n",
       "      <td>0</td>\n",
       "      <td>0</td>\n",
       "      <td>1</td>\n",
       "      <td>0</td>\n",
       "      <td>0</td>\n",
       "      <td>0</td>\n",
       "      <td>0</td>\n",
       "      <td>0</td>\n",
       "      <td>1</td>\n",
       "    </tr>\n",
       "    <tr>\n",
       "      <th>2706</th>\n",
       "      <td>1148306</td>\n",
       "      <td>246092</td>\n",
       "      <td>3774</td>\n",
       "      <td>121</td>\n",
       "      <td>3.0</td>\n",
       "      <td>1999</td>\n",
       "      <td>9217.0</td>\n",
       "      <td>1690</td>\n",
       "      <td>515</td>\n",
       "      <td>55</td>\n",
       "      <td>0</td>\n",
       "      <td>0</td>\n",
       "      <td>60</td>\n",
       "      <td>32</td>\n",
       "      <td>0</td>\n",
       "      <td>1</td>\n",
       "      <td>17</td>\n",
       "      <td>0</td>\n",
       "      <td>0</td>\n",
       "      <td>0</td>\n",
       "      <td>2006</td>\n",
       "      <td>7</td>\n",
       "      <td>30</td>\n",
       "      <td>27</td>\n",
       "      <td>3</td>\n",
       "      <td>208</td>\n",
       "      <td>False</td>\n",
       "      <td>False</td>\n",
       "      <td>False</td>\n",
       "      <td>False</td>\n",
       "      <td>False</td>\n",
       "      <td>False</td>\n",
       "      <td>1153958400</td>\n",
       "      <td>False</td>\n",
       "      <td>False</td>\n",
       "      <td>1</td>\n",
       "      <td>0</td>\n",
       "      <td>0</td>\n",
       "      <td>0</td>\n",
       "      <td>0</td>\n",
       "      <td>0</td>\n",
       "      <td>0</td>\n",
       "      <td>0</td>\n",
       "      <td>0</td>\n",
       "      <td>0</td>\n",
       "      <td>1</td>\n",
       "      <td>0</td>\n",
       "      <td>0</td>\n",
       "      <td>0</td>\n",
       "      <td>0</td>\n",
       "      <td>0</td>\n",
       "      <td>1</td>\n",
       "      <td>0</td>\n",
       "      <td>0</td>\n",
       "      <td>0</td>\n",
       "      <td>0</td>\n",
       "      <td>0</td>\n",
       "      <td>0</td>\n",
       "      <td>1</td>\n",
       "      <td>0</td>\n",
       "      <td>0</td>\n",
       "      <td>0</td>\n",
       "      <td>0</td>\n",
       "      <td>0</td>\n",
       "      <td>1</td>\n",
       "      <td>0</td>\n",
       "      <td>0</td>\n",
       "      <td>1</td>\n",
       "      <td>0</td>\n",
       "      <td>0</td>\n",
       "      <td>0</td>\n",
       "      <td>0</td>\n",
       "      <td>1</td>\n",
       "      <td>0</td>\n",
       "      <td>0</td>\n",
       "      <td>0</td>\n",
       "      <td>0</td>\n",
       "      <td>0</td>\n",
       "      <td>0</td>\n",
       "      <td>1</td>\n",
       "      <td>0</td>\n",
       "      <td>1</td>\n",
       "      <td>0</td>\n",
       "      <td>0</td>\n",
       "      <td>0</td>\n",
       "      <td>0</td>\n",
       "      <td>1</td>\n",
       "      <td>0</td>\n",
       "      <td>0</td>\n",
       "      <td>1</td>\n",
       "      <td>0</td>\n",
       "      <td>0</td>\n",
       "      <td>1</td>\n",
       "      <td>0</td>\n",
       "      <td>0</td>\n",
       "      <td>0</td>\n",
       "      <td>0</td>\n",
       "      <td>0</td>\n",
       "      <td>0</td>\n",
       "      <td>1</td>\n",
       "      <td>0</td>\n",
       "      <td>0</td>\n",
       "      <td>0</td>\n",
       "      <td>1</td>\n",
       "      <td>0</td>\n",
       "      <td>0</td>\n",
       "      <td>1</td>\n",
       "      <td>0</td>\n",
       "      <td>0</td>\n",
       "      <td>1</td>\n",
       "      <td>0</td>\n",
       "      <td>0</td>\n",
       "      <td>0</td>\n",
       "      <td>0</td>\n",
       "      <td>1</td>\n",
       "      <td>0</td>\n",
       "      <td>0</td>\n",
       "      <td>1</td>\n",
       "      <td>0</td>\n",
       "      <td>0</td>\n",
       "      <td>0</td>\n",
       "      <td>1</td>\n",
       "      <td>0</td>\n",
       "      <td>0</td>\n",
       "      <td>1</td>\n",
       "      <td>0</td>\n",
       "      <td>0</td>\n",
       "      <td>0</td>\n",
       "      <td>1</td>\n",
       "      <td>0</td>\n",
       "      <td>0</td>\n",
       "      <td>1</td>\n",
       "      <td>0</td>\n",
       "      <td>0</td>\n",
       "      <td>0</td>\n",
       "      <td>1</td>\n",
       "      <td>0</td>\n",
       "      <td>0</td>\n",
       "      <td>1</td>\n",
       "      <td>0</td>\n",
       "      <td>0</td>\n",
       "      <td>0</td>\n",
       "      <td>1</td>\n",
       "      <td>0</td>\n",
       "      <td>0</td>\n",
       "      <td>0</td>\n",
       "      <td>1</td>\n",
       "      <td>0</td>\n",
       "      <td>0</td>\n",
       "      <td>0</td>\n",
       "      <td>1</td>\n",
       "      <td>0</td>\n",
       "      <td>0</td>\n",
       "      <td>1</td>\n",
       "      <td>0</td>\n",
       "      <td>0</td>\n",
       "      <td>0</td>\n",
       "      <td>0</td>\n",
       "      <td>0</td>\n",
       "      <td>0</td>\n",
       "      <td>0</td>\n",
       "      <td>1</td>\n",
       "      <td>0</td>\n",
       "      <td>0</td>\n",
       "      <td>0</td>\n",
       "      <td>1</td>\n",
       "      <td>0</td>\n",
       "      <td>0</td>\n",
       "      <td>1</td>\n",
       "      <td>0</td>\n",
       "      <td>0</td>\n",
       "      <td>0</td>\n",
       "      <td>0</td>\n",
       "    </tr>\n",
       "    <tr>\n",
       "      <th>3587</th>\n",
       "      <td>1151273</td>\n",
       "      <td>1061266</td>\n",
       "      <td>3486</td>\n",
       "      <td>121</td>\n",
       "      <td>3.0</td>\n",
       "      <td>1999</td>\n",
       "      <td>2191.0</td>\n",
       "      <td>541</td>\n",
       "      <td>186</td>\n",
       "      <td>21</td>\n",
       "      <td>0</td>\n",
       "      <td>0</td>\n",
       "      <td>14</td>\n",
       "      <td>22</td>\n",
       "      <td>0</td>\n",
       "      <td>12</td>\n",
       "      <td>0</td>\n",
       "      <td>19</td>\n",
       "      <td>29</td>\n",
       "      <td>0</td>\n",
       "      <td>2004</td>\n",
       "      <td>3</td>\n",
       "      <td>11</td>\n",
       "      <td>11</td>\n",
       "      <td>3</td>\n",
       "      <td>71</td>\n",
       "      <td>False</td>\n",
       "      <td>False</td>\n",
       "      <td>False</td>\n",
       "      <td>False</td>\n",
       "      <td>False</td>\n",
       "      <td>False</td>\n",
       "      <td>1078963200</td>\n",
       "      <td>False</td>\n",
       "      <td>False</td>\n",
       "      <td>0</td>\n",
       "      <td>1</td>\n",
       "      <td>0</td>\n",
       "      <td>0</td>\n",
       "      <td>0</td>\n",
       "      <td>0</td>\n",
       "      <td>1</td>\n",
       "      <td>0</td>\n",
       "      <td>0</td>\n",
       "      <td>0</td>\n",
       "      <td>0</td>\n",
       "      <td>0</td>\n",
       "      <td>0</td>\n",
       "      <td>0</td>\n",
       "      <td>1</td>\n",
       "      <td>0</td>\n",
       "      <td>0</td>\n",
       "      <td>0</td>\n",
       "      <td>0</td>\n",
       "      <td>0</td>\n",
       "      <td>0</td>\n",
       "      <td>1</td>\n",
       "      <td>0</td>\n",
       "      <td>0</td>\n",
       "      <td>0</td>\n",
       "      <td>0</td>\n",
       "      <td>0</td>\n",
       "      <td>0</td>\n",
       "      <td>0</td>\n",
       "      <td>1</td>\n",
       "      <td>1</td>\n",
       "      <td>0</td>\n",
       "      <td>0</td>\n",
       "      <td>0</td>\n",
       "      <td>0</td>\n",
       "      <td>0</td>\n",
       "      <td>0</td>\n",
       "      <td>0</td>\n",
       "      <td>0</td>\n",
       "      <td>1</td>\n",
       "      <td>0</td>\n",
       "      <td>0</td>\n",
       "      <td>0</td>\n",
       "      <td>0</td>\n",
       "      <td>1</td>\n",
       "      <td>0</td>\n",
       "      <td>0</td>\n",
       "      <td>0</td>\n",
       "      <td>1</td>\n",
       "      <td>0</td>\n",
       "      <td>0</td>\n",
       "      <td>1</td>\n",
       "      <td>0</td>\n",
       "      <td>0</td>\n",
       "      <td>1</td>\n",
       "      <td>0</td>\n",
       "      <td>0</td>\n",
       "      <td>1</td>\n",
       "      <td>0</td>\n",
       "      <td>0</td>\n",
       "      <td>0</td>\n",
       "      <td>0</td>\n",
       "      <td>0</td>\n",
       "      <td>0</td>\n",
       "      <td>1</td>\n",
       "      <td>0</td>\n",
       "      <td>0</td>\n",
       "      <td>0</td>\n",
       "      <td>1</td>\n",
       "      <td>0</td>\n",
       "      <td>0</td>\n",
       "      <td>1</td>\n",
       "      <td>0</td>\n",
       "      <td>0</td>\n",
       "      <td>1</td>\n",
       "      <td>0</td>\n",
       "      <td>0</td>\n",
       "      <td>0</td>\n",
       "      <td>0</td>\n",
       "      <td>1</td>\n",
       "      <td>0</td>\n",
       "      <td>0</td>\n",
       "      <td>1</td>\n",
       "      <td>0</td>\n",
       "      <td>0</td>\n",
       "      <td>0</td>\n",
       "      <td>1</td>\n",
       "      <td>0</td>\n",
       "      <td>0</td>\n",
       "      <td>1</td>\n",
       "      <td>0</td>\n",
       "      <td>0</td>\n",
       "      <td>0</td>\n",
       "      <td>1</td>\n",
       "      <td>0</td>\n",
       "      <td>0</td>\n",
       "      <td>1</td>\n",
       "      <td>0</td>\n",
       "      <td>0</td>\n",
       "      <td>0</td>\n",
       "      <td>1</td>\n",
       "      <td>0</td>\n",
       "      <td>1</td>\n",
       "      <td>0</td>\n",
       "      <td>0</td>\n",
       "      <td>0</td>\n",
       "      <td>1</td>\n",
       "      <td>0</td>\n",
       "      <td>0</td>\n",
       "      <td>1</td>\n",
       "      <td>0</td>\n",
       "      <td>0</td>\n",
       "      <td>1</td>\n",
       "      <td>0</td>\n",
       "      <td>0</td>\n",
       "      <td>0</td>\n",
       "      <td>0</td>\n",
       "      <td>0</td>\n",
       "      <td>1</td>\n",
       "      <td>0</td>\n",
       "      <td>0</td>\n",
       "      <td>0</td>\n",
       "      <td>0</td>\n",
       "      <td>0</td>\n",
       "      <td>0</td>\n",
       "      <td>0</td>\n",
       "      <td>1</td>\n",
       "      <td>0</td>\n",
       "      <td>0</td>\n",
       "      <td>0</td>\n",
       "      <td>0</td>\n",
       "      <td>1</td>\n",
       "      <td>0</td>\n",
       "      <td>0</td>\n",
       "      <td>0</td>\n",
       "      <td>0</td>\n",
       "      <td>0</td>\n",
       "      <td>1</td>\n",
       "    </tr>\n",
       "  </tbody>\n",
       "</table>\n",
       "</div>"
      ],
      "text/plain": [
       "      SalesID  MachineID  ModelID  datasource  auctioneerID  YearMade  \\\n",
       "45    1139423     999442     3217         121           3.0      2003   \n",
       "868   1142134    1039915      615         121           3.0      1999   \n",
       "2071  1146142    1066532     4840         121           3.0      1988   \n",
       "2706  1148306     246092     3774         121           3.0      1999   \n",
       "3587  1151273    1061266     3486         121           3.0      1999   \n",
       "\n",
       "      MachineHoursCurrentMeter  fiModelDesc  fiBaseModel  fiSecondaryDesc  \\\n",
       "45                      1788.0         1288          375              167   \n",
       "868                    11245.0         4777         1853                0   \n",
       "2071                       0.0         1541          470               21   \n",
       "2706                    9217.0         1690          515               55   \n",
       "3587                    2191.0          541          186               21   \n",
       "\n",
       "      fiModelSeries  fiModelDescriptor  fiProductClassDesc  state  \\\n",
       "45                0                  0                  41      9   \n",
       "868              23                  0                  63     41   \n",
       "2071              0                  0                  49     51   \n",
       "2706              0                  0                  60     32   \n",
       "3587              0                  0                  14     22   \n",
       "\n",
       "      Transmission  Hydraulics  Tire_Size  Undercarriage_Pad_Width  \\\n",
       "45               0           4          0                        0   \n",
       "868              0           1         12                        0   \n",
       "2071             4           1          0                        0   \n",
       "2706             0           1         17                        0   \n",
       "3587             0          12          0                       19   \n",
       "\n",
       "      Stick_Length  Blade_Type  Sales_Year  Sales_Month  Sales_Week  \\\n",
       "45               0           0        2006           12          50   \n",
       "868              0           0        2005           12          50   \n",
       "2071             0           5        2005           12          50   \n",
       "2706             0           0        2006            7          30   \n",
       "3587            29           0        2004            3          11   \n",
       "\n",
       "      Sales_Day  Sales_Dayofweek  Sales_Dayofyear  Sales_Is_month_end  \\\n",
       "45           14                3              348               False   \n",
       "868          15                3              349               False   \n",
       "2071         14                2              348               False   \n",
       "2706         27                3              208               False   \n",
       "3587         11                3               71               False   \n",
       "\n",
       "      Sales_Is_month_start  Sales_Is_quarter_end  Sales_Is_quarter_start  \\\n",
       "45                   False                 False                   False   \n",
       "868                  False                 False                   False   \n",
       "2071                 False                 False                   False   \n",
       "2706                 False                 False                   False   \n",
       "3587                 False                 False                   False   \n",
       "\n",
       "      Sales_Is_year_end  Sales_Is_year_start  Sales_Elapsed  auctioneerID_na  \\\n",
       "45                False                False     1166054400            False   \n",
       "868               False                False     1134604800            False   \n",
       "2071              False                False     1134518400            False   \n",
       "2706              False                False     1153958400            False   \n",
       "3587              False                False     1078963200            False   \n",
       "\n",
       "      MachineHoursCurrentMeter_na  UsageBand_High  UsageBand_Low  \\\n",
       "45                          False               1              0   \n",
       "868                         False               1              0   \n",
       "2071                        False               0              0   \n",
       "2706                        False               1              0   \n",
       "3587                        False               0              1   \n",
       "\n",
       "      UsageBand_Medium  UsageBand_nan  ProductSize_Compact  ProductSize_Large  \\\n",
       "45                   0              0                    0                  0   \n",
       "868                  0              0                    0                  0   \n",
       "2071                 0              1                    0                  0   \n",
       "2706                 0              0                    0                  0   \n",
       "3587                 0              0                    0                  0   \n",
       "\n",
       "      ProductSize_Large / Medium  ProductSize_Medium  ProductSize_Mini  \\\n",
       "45                             0                   0                 0   \n",
       "868                            0                   1                 0   \n",
       "2071                           0                   1                 0   \n",
       "2706                           0                   0                 0   \n",
       "3587                           1                   0                 0   \n",
       "\n",
       "      ProductSize_Small  ProductSize_nan  ProductGroup_BL  ProductGroup_MG  \\\n",
       "45                    0                1                0                0   \n",
       "868                   0                0                0                0   \n",
       "2071                  0                0                0                0   \n",
       "2706                  0                1                0                0   \n",
       "3587                  0                0                0                0   \n",
       "\n",
       "      ProductGroup_SSL  ProductGroup_TEX  ProductGroup_TTT  ProductGroup_WL  \\\n",
       "45                   1                 0                 0                0   \n",
       "868                  0                 0                 0                1   \n",
       "2071                 0                 0                 1                0   \n",
       "2706                 0                 0                 0                1   \n",
       "3587                 0                 1                 0                0   \n",
       "\n",
       "      ProductGroup_nan  ProductGroupDesc_Backhoe Loaders  \\\n",
       "45                   0                                 0   \n",
       "868                  0                                 0   \n",
       "2071                 0                                 0   \n",
       "2706                 0                                 0   \n",
       "3587                 0                                 0   \n",
       "\n",
       "      ProductGroupDesc_Motor Graders  ProductGroupDesc_Skid Steer Loaders  \\\n",
       "45                                 0                                    1   \n",
       "868                                0                                    0   \n",
       "2071                               0                                    0   \n",
       "2706                               0                                    0   \n",
       "3587                               0                                    0   \n",
       "\n",
       "      ProductGroupDesc_Track Excavators  ProductGroupDesc_Track Type Tractors  \\\n",
       "45                                    0                                     0   \n",
       "868                                   0                                     0   \n",
       "2071                                  0                                     1   \n",
       "2706                                  0                                     0   \n",
       "3587                                  1                                     0   \n",
       "\n",
       "      ProductGroupDesc_Wheel Loader  ProductGroupDesc_nan  \\\n",
       "45                                0                     0   \n",
       "868                               1                     0   \n",
       "2071                              0                     0   \n",
       "2706                              1                     0   \n",
       "3587                              0                     0   \n",
       "\n",
       "      Drive_System_All Wheel Drive  Drive_System_Four Wheel Drive  \\\n",
       "45                               0                              0   \n",
       "868                              0                              0   \n",
       "2071                             0                              0   \n",
       "2706                             0                              0   \n",
       "3587                             0                              0   \n",
       "\n",
       "      Drive_System_No  Drive_System_Two Wheel Drive  Drive_System_nan  \\\n",
       "45                  0                             0                 1   \n",
       "868                 0                             0                 1   \n",
       "2071                0                             0                 1   \n",
       "2706                0                             0                 1   \n",
       "3587                0                             0                 1   \n",
       "\n",
       "      Enclosure_EROPS  Enclosure_EROPS AC  Enclosure_EROPS w AC  \\\n",
       "45                  0                   0                     0   \n",
       "868                 0                   0                     1   \n",
       "2071                0                   0                     0   \n",
       "2706                0                   0                     1   \n",
       "3587                1                   0                     0   \n",
       "\n",
       "      Enclosure_NO ROPS  Enclosure_None or Unspecified  Enclosure_OROPS  \\\n",
       "45                    0                              0                1   \n",
       "868                   0                              0                0   \n",
       "2071                  0                              0                1   \n",
       "2706                  0                              0                0   \n",
       "3587                  0                              0                0   \n",
       "\n",
       "      Enclosure_nan  Forks_None or Unspecified  Forks_Yes  Forks_nan  \\\n",
       "45                0                          1          0          0   \n",
       "868               0                          1          0          0   \n",
       "2071              0                          0          0          1   \n",
       "2706              0                          1          0          0   \n",
       "3587              0                          0          0          1   \n",
       "\n",
       "      Pad_Type_Grouser  Pad_Type_None or Unspecified  Pad_Type_Reversible  \\\n",
       "45                   0                             0                    0   \n",
       "868                  0                             0                    0   \n",
       "2071                 0                             0                    0   \n",
       "2706                 0                             0                    0   \n",
       "3587                 0                             0                    0   \n",
       "\n",
       "      Pad_Type_Street  Pad_Type_nan  Ride_Control_No  \\\n",
       "45                  0             1                0   \n",
       "868                 0             1                0   \n",
       "2071                0             1                0   \n",
       "2706                0             1                0   \n",
       "3587                0             1                0   \n",
       "\n",
       "      Ride_Control_None or Unspecified  Ride_Control_Yes  Ride_Control_nan  \\\n",
       "45                                   0                 0                 1   \n",
       "868                                  1                 0                 0   \n",
       "2071                                 0                 0                 1   \n",
       "2706                                 1                 0                 0   \n",
       "3587                                 0                 0                 1   \n",
       "\n",
       "      Stick_Extended  Stick_Standard  Stick_nan  \\\n",
       "45                 0               0          1   \n",
       "868                0               0          1   \n",
       "2071               0               0          1   \n",
       "2706               0               0          1   \n",
       "3587               0               0          1   \n",
       "\n",
       "      Turbocharged_None or Unspecified  Turbocharged_Yes  Turbocharged_nan  \\\n",
       "45                                   0                 0                 1   \n",
       "868                                  0                 0                 1   \n",
       "2071                                 0                 0                 1   \n",
       "2706                                 0                 0                 1   \n",
       "3587                                 0                 0                 1   \n",
       "\n",
       "      Blade_Extension_None or Unspecified  Blade_Extension_Yes  \\\n",
       "45                                      0                    0   \n",
       "868                                     0                    0   \n",
       "2071                                    0                    0   \n",
       "2706                                    0                    0   \n",
       "3587                                    0                    0   \n",
       "\n",
       "      Blade_Extension_nan  Blade_Width_12'  Blade_Width_13'  Blade_Width_14'  \\\n",
       "45                      1                0                0                0   \n",
       "868                     1                0                0                0   \n",
       "2071                    1                0                0                0   \n",
       "2706                    1                0                0                0   \n",
       "3587                    1                0                0                0   \n",
       "\n",
       "      Blade_Width_16'  Blade_Width_<12'  Blade_Width_None or Unspecified  \\\n",
       "45                  0                 0                                0   \n",
       "868                 0                 0                                0   \n",
       "2071                0                 0                                0   \n",
       "2706                0                 0                                0   \n",
       "3587                0                 0                                0   \n",
       "\n",
       "      Blade_Width_nan  Enclosure_Type_High Profile  \\\n",
       "45                  1                            0   \n",
       "868                 1                            0   \n",
       "2071                1                            0   \n",
       "2706                1                            0   \n",
       "3587                1                            0   \n",
       "\n",
       "      Enclosure_Type_Low Profile  Enclosure_Type_None or Unspecified  \\\n",
       "45                             0                                   0   \n",
       "868                            0                                   0   \n",
       "2071                           0                                   0   \n",
       "2706                           0                                   0   \n",
       "3587                           0                                   0   \n",
       "\n",
       "      Enclosure_Type_nan  Engine_Horsepower_No  Engine_Horsepower_Variable  \\\n",
       "45                     1                     0                           0   \n",
       "868                    1                     0                           0   \n",
       "2071                   1                     0                           0   \n",
       "2706                   1                     0                           0   \n",
       "3587                   1                     0                           0   \n",
       "\n",
       "      Engine_Horsepower_nan  Pushblock_None or Unspecified  Pushblock_Yes  \\\n",
       "45                        1                              0              0   \n",
       "868                       1                              0              0   \n",
       "2071                      1                              0              0   \n",
       "2706                      1                              0              0   \n",
       "3587                      1                              0              0   \n",
       "\n",
       "      Pushblock_nan  Ripper_Multi Shank  Ripper_None or Unspecified  \\\n",
       "45                1                   0                           0   \n",
       "868               1                   0                           0   \n",
       "2071              1                   0                           1   \n",
       "2706              1                   0                           0   \n",
       "3587              1                   0                           0   \n",
       "\n",
       "      Ripper_Single Shank  Ripper_Yes  Ripper_nan  \\\n",
       "45                      0           0           1   \n",
       "868                     0           0           1   \n",
       "2071                    0           0           0   \n",
       "2706                    0           0           1   \n",
       "3587                    0           0           1   \n",
       "\n",
       "      Scarifier_None or Unspecified  Scarifier_Yes  Scarifier_nan  \\\n",
       "45                                0              0              1   \n",
       "868                               0              0              1   \n",
       "2071                              0              0              1   \n",
       "2706                              0              0              1   \n",
       "3587                              0              0              1   \n",
       "\n",
       "      Tip_Control_None or Unspecified  Tip_Control_Sideshift & Tip  \\\n",
       "45                                  0                            0   \n",
       "868                                 0                            0   \n",
       "2071                                0                            0   \n",
       "2706                                0                            0   \n",
       "3587                                0                            0   \n",
       "\n",
       "      Tip_Control_Tip  Tip_Control_nan  Coupler_Hydraulic  Coupler_Manual  \\\n",
       "45                  0                1                  0               0   \n",
       "868                 0                1                  0               0   \n",
       "2071                0                1                  0               0   \n",
       "2706                0                1                  0               0   \n",
       "3587                0                1                  0               0   \n",
       "\n",
       "      Coupler_None or Unspecified  Coupler_nan  \\\n",
       "45                              1            0   \n",
       "868                             1            0   \n",
       "2071                            0            1   \n",
       "2706                            1            0   \n",
       "3587                            1            0   \n",
       "\n",
       "      Coupler_System_None or Unspecified  Coupler_System_Yes  \\\n",
       "45                                     1                   0   \n",
       "868                                    0                   0   \n",
       "2071                                   0                   0   \n",
       "2706                                   0                   0   \n",
       "3587                                   0                   0   \n",
       "\n",
       "      Coupler_System_nan  Grouser_Tracks_None or Unspecified  \\\n",
       "45                     0                                   1   \n",
       "868                    1                                   0   \n",
       "2071                   1                                   0   \n",
       "2706                   1                                   0   \n",
       "3587                   1                                   0   \n",
       "\n",
       "      Grouser_Tracks_Yes  Grouser_Tracks_nan  Hydraulics_Flow_High Flow  \\\n",
       "45                     0                   0                          0   \n",
       "868                    0                   1                          0   \n",
       "2071                   0                   1                          0   \n",
       "2706                   0                   1                          0   \n",
       "3587                   0                   1                          0   \n",
       "\n",
       "      Hydraulics_Flow_None or Unspecified  Hydraulics_Flow_Standard  \\\n",
       "45                                      0                         1   \n",
       "868                                     0                         0   \n",
       "2071                                    0                         0   \n",
       "2706                                    0                         0   \n",
       "3587                                    0                         0   \n",
       "\n",
       "      Hydraulics_Flow_nan  Track_Type_Rubber  Track_Type_Steel  \\\n",
       "45                      0                  0                 0   \n",
       "868                     1                  0                 0   \n",
       "2071                    1                  0                 0   \n",
       "2706                    1                  0                 0   \n",
       "3587                    1                  0                 1   \n",
       "\n",
       "      Track_Type_nan  Thumb_Hydraulic  Thumb_Manual  \\\n",
       "45                 1                0             0   \n",
       "868                1                0             0   \n",
       "2071               1                0             0   \n",
       "2706               1                0             0   \n",
       "3587               0                0             0   \n",
       "\n",
       "      Thumb_None or Unspecified  Thumb_nan  Pattern_Changer_No  \\\n",
       "45                            0          1                   0   \n",
       "868                           0          1                   0   \n",
       "2071                          0          1                   0   \n",
       "2706                          0          1                   0   \n",
       "3587                          1          0                   0   \n",
       "\n",
       "      Pattern_Changer_None or Unspecified  Pattern_Changer_Yes  \\\n",
       "45                                      0                    0   \n",
       "868                                     0                    0   \n",
       "2071                                    0                    0   \n",
       "2706                                    0                    0   \n",
       "3587                                    1                    0   \n",
       "\n",
       "      Pattern_Changer_nan  Grouser_Type_Double  Grouser_Type_Single  \\\n",
       "45                      1                    0                    0   \n",
       "868                     1                    0                    0   \n",
       "2071                    1                    0                    0   \n",
       "2706                    1                    0                    0   \n",
       "3587                    0                    1                    0   \n",
       "\n",
       "      Grouser_Type_Triple  Grouser_Type_nan  \\\n",
       "45                      0                 1   \n",
       "868                     0                 1   \n",
       "2071                    0                 1   \n",
       "2706                    0                 1   \n",
       "3587                    0                 0   \n",
       "\n",
       "      Backhoe_Mounting_None or Unspecified  Backhoe_Mounting_Yes  \\\n",
       "45                                       0                     0   \n",
       "868                                      0                     0   \n",
       "2071                                     1                     0   \n",
       "2706                                     0                     0   \n",
       "3587                                     0                     0   \n",
       "\n",
       "      Backhoe_Mounting_nan  Travel_Controls_1 Speed  Travel_Controls_2 Pedal  \\\n",
       "45                       1                        0                        0   \n",
       "868                      1                        0                        0   \n",
       "2071                     0                        0                        0   \n",
       "2706                     1                        0                        0   \n",
       "3587                     1                        0                        0   \n",
       "\n",
       "      Travel_Controls_Differential Steer  Travel_Controls_Finger Tip  \\\n",
       "45                                     0                           0   \n",
       "868                                    0                           0   \n",
       "2071                                   0                           0   \n",
       "2706                                   0                           0   \n",
       "3587                                   0                           0   \n",
       "\n",
       "      Travel_Controls_Lever  Travel_Controls_None or Unspecified  \\\n",
       "45                        0                                    0   \n",
       "868                       0                                    0   \n",
       "2071                      0                                    1   \n",
       "2706                      0                                    0   \n",
       "3587                      0                                    0   \n",
       "\n",
       "      Travel_Controls_Pedal  Travel_Controls_nan  \\\n",
       "45                        0                    1   \n",
       "868                       0                    1   \n",
       "2071                      0                    0   \n",
       "2706                      0                    1   \n",
       "3587                      0                    1   \n",
       "\n",
       "      Differential_Type_Limited Slip  Differential_Type_Locking  \\\n",
       "45                                 0                          0   \n",
       "868                                0                          0   \n",
       "2071                               0                          0   \n",
       "2706                               0                          0   \n",
       "3587                               0                          0   \n",
       "\n",
       "      Differential_Type_No Spin  Differential_Type_Standard  \\\n",
       "45                            0                           0   \n",
       "868                           0                           1   \n",
       "2071                          0                           0   \n",
       "2706                          0                           1   \n",
       "3587                          0                           0   \n",
       "\n",
       "      Differential_Type_nan  Steering_Controls_Command Control  \\\n",
       "45                        1                                  0   \n",
       "868                       0                                  0   \n",
       "2071                      1                                  0   \n",
       "2706                      0                                  0   \n",
       "3587                      1                                  0   \n",
       "\n",
       "      Steering_Controls_Conventional  Steering_Controls_Four Wheel Standard  \\\n",
       "45                                 0                                      0   \n",
       "868                                1                                      0   \n",
       "2071                               0                                      0   \n",
       "2706                               1                                      0   \n",
       "3587                               0                                      0   \n",
       "\n",
       "      Steering_Controls_No  Steering_Controls_Wheel  Steering_Controls_nan  \n",
       "45                       0                        0                      1  \n",
       "868                      0                        0                      0  \n",
       "2071                     0                        0                      1  \n",
       "2706                     0                        0                      0  \n",
       "3587                     0                        0                      1  "
      ]
     },
     "metadata": {},
     "output_type": "display_data"
    }
   ],
   "source": [
    "display_all(x.head())"
   ]
  },
  {
   "cell_type": "code",
   "execution_count": 100,
   "metadata": {},
   "outputs": [
    {
     "data": {
      "image/png": "[encoded data removed]",
      "text/plain": [
       "<Figure size 1080x684 with 2 Axes>"
      ]
     },
     "metadata": {},
     "output_type": "display_data"
    }
   ],
   "source": [
    "feat = ['Enclosure_EROPS w AC', 'Enclosure_EROPS', 'Enclosure_OROPS']\n",
    "p = pdp.pdp_isolate(model=m, dataset=x, model_features=x_feat, feature=feat)\n",
    "fig, axes = pdp.pdp_plot(p, 'Enclosure' , cluster=True, n_cluster_centers=5, plot_lines=True, frac_to_plot=100)"
   ]
  },
  {
   "cell_type": "markdown",
   "metadata": {},
   "source": [
    "# Tree Interpreter"
   ]
  },
  {
   "cell_type": "code",
   "execution_count": 102,
   "metadata": {},
   "outputs": [],
   "source": [
    "from treeinterpreter import treeinterpreter as ti"
   ]
  },
  {
   "cell_type": "code",
   "execution_count": null,
   "metadata": {},
   "outputs": [],
   "source": []
  }
 ],
 "metadata": {
  "kernelspec": {
   "display_name": "Python 3",
   "language": "python",
   "name": "python3"
  },
  "language_info": {
   "codemirror_mode": {
    "name": "ipython",
    "version": 3
   },
   "file_extension": ".py",
   "mimetype": "text/x-python",
   "name": "python",
   "nbconvert_exporter": "python",
   "pygments_lexer": "ipython3",
   "version": "3.6.5"
  }
 },
 "nbformat": 4,
 "nbformat_minor": 2
}
