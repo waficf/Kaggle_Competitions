{
 "cells": [
  {
   "cell_type": "markdown",
   "metadata": {},
   "source": [
    "## Imports"
   ]
  },
  {
   "cell_type": "code",
   "execution_count": 2,
   "metadata": {},
   "outputs": [],
   "source": [
    "from functions.my_imports import *\n",
    "\n",
    "from pandas_summary import DataFrameSummary\n",
    "from sklearn.ensemble import RandomForestRegressor, RandomForestClassifier\n",
    "from IPython.display import display\n",
    "\n",
    "from sklearn import metrics"
   ]
  },
  {
   "cell_type": "code",
   "execution_count": 3,
   "metadata": {},
   "outputs": [],
   "source": [
    "from functions.my_functions import *"
   ]
  },
  {
   "cell_type": "code",
   "execution_count": 4,
   "metadata": {},
   "outputs": [],
   "source": [
    "%matplotlib inline"
   ]
  },
  {
   "cell_type": "code",
   "execution_count": 4,
   "metadata": {},
   "outputs": [],
   "source": [
    "PATH = '/home/nbuser/data/house_prices/'"
   ]
  },
  {
   "cell_type": "code",
   "execution_count": 5,
   "metadata": {},
   "outputs": [
    {
     "name": "stdout",
     "output_type": "stream",
     "text": [
      "house_test.csv\thouse_train.csv\r\n"
     ]
    }
   ],
   "source": [
    "!ls {PATH}"
   ]
  },
  {
   "cell_type": "markdown",
   "metadata": {},
   "source": [
    "## The Data"
   ]
  },
  {
   "cell_type": "code",
   "execution_count": 6,
   "metadata": {},
   "outputs": [],
   "source": [
    "df_train = pd.read_csv(f'{PATH}house_train.csv', low_memory=False)\n",
    "df_test = pd.read_csv(f'{PATH}house_test.csv', low_memory=False)"
   ]
  },
  {
   "cell_type": "code",
   "execution_count": 7,
   "metadata": {},
   "outputs": [
    {
     "data": {
      "text/plain": [
       "(1460, 81)"
      ]
     },
     "execution_count": 7,
     "metadata": {},
     "output_type": "execute_result"
    }
   ],
   "source": [
    "df_train.shape"
   ]
  },
  {
   "cell_type": "code",
   "execution_count": 8,
   "metadata": {},
   "outputs": [],
   "source": [
    "# display_full(df_train)"
   ]
  },
  {
   "cell_type": "code",
   "execution_count": 9,
   "metadata": {},
   "outputs": [
    {
     "data": {
      "text/plain": [
       "(1459, 80)"
      ]
     },
     "execution_count": 9,
     "metadata": {},
     "output_type": "execute_result"
    }
   ],
   "source": [
    "df_test.shape"
   ]
  },
  {
   "cell_type": "code",
   "execution_count": 10,
   "metadata": {},
   "outputs": [],
   "source": [
    "df_test['SalePrice'] = np.nan"
   ]
  },
  {
   "cell_type": "code",
   "execution_count": 11,
   "metadata": {},
   "outputs": [],
   "source": [
    "# display_full(df_test)"
   ]
  },
  {
   "cell_type": "code",
   "execution_count": 12,
   "metadata": {},
   "outputs": [],
   "source": [
    "data = pd.concat([df_train, df_test], axis=0)"
   ]
  },
  {
   "cell_type": "code",
   "execution_count": 13,
   "metadata": {},
   "outputs": [
    {
     "data": {
      "text/plain": [
       "(2919, 81)"
      ]
     },
     "execution_count": 13,
     "metadata": {},
     "output_type": "execute_result"
    }
   ],
   "source": [
    "data.shape"
   ]
  },
  {
   "cell_type": "code",
   "execution_count": 14,
   "metadata": {},
   "outputs": [],
   "source": [
    "df = data.drop(columns = 'Id', axis=1)"
   ]
  },
  {
   "cell_type": "code",
   "execution_count": 15,
   "metadata": {
    "scrolled": true
   },
   "outputs": [],
   "source": [
    "# df.describe().T"
   ]
  },
  {
   "cell_type": "markdown",
   "metadata": {},
   "source": [
    "## Metric\n",
    "Submissions are evaluated on Root-Mean-Squared-Error (RMSE) between the logarithm of the predicted value and the logarithm of the observed sales price. (Taking logs means that errors in predicting expensive houses and cheap houses will affect the result equally.)"
   ]
  },
  {
   "cell_type": "code",
   "execution_count": 16,
   "metadata": {
    "scrolled": true
   },
   "outputs": [
    {
     "data": {
      "text/plain": [
       "0    12.247694\n",
       "1    12.109011\n",
       "2    12.317167\n",
       "3    11.849398\n",
       "4    12.429216\n",
       "Name: SalePrice, dtype: float64"
      ]
     },
     "execution_count": 16,
     "metadata": {},
     "output_type": "execute_result"
    }
   ],
   "source": [
    "df.SalePrice = np.log(df.SalePrice)\n",
    "df.SalePrice.head()"
   ]
  },
  {
   "cell_type": "markdown",
   "metadata": {},
   "source": [
    "## Proprocessing\n",
    "Dealing with null values and categorical variables before processing the data with a regression function"
   ]
  },
  {
   "cell_type": "code",
   "execution_count": 17,
   "metadata": {
    "scrolled": true
   },
   "outputs": [
    {
     "data": {
      "text/plain": [
       "MSSubClass          0\n",
       "MSZoning            4\n",
       "LotFrontage       486\n",
       "LotArea             0\n",
       "Street              0\n",
       "Alley            2721\n",
       "LotShape            0\n",
       "LandContour         0\n",
       "Utilities           2\n",
       "LotConfig           0\n",
       "LandSlope           0\n",
       "Neighborhood        0\n",
       "Condition1          0\n",
       "Condition2          0\n",
       "BldgType            0\n",
       "HouseStyle          0\n",
       "OverallQual         0\n",
       "OverallCond         0\n",
       "YearBuilt           0\n",
       "YearRemodAdd        0\n",
       "RoofStyle           0\n",
       "RoofMatl            0\n",
       "Exterior1st         1\n",
       "Exterior2nd         1\n",
       "MasVnrType         24\n",
       "MasVnrArea         23\n",
       "ExterQual           0\n",
       "ExterCond           0\n",
       "Foundation          0\n",
       "BsmtQual           81\n",
       "BsmtCond           82\n",
       "BsmtExposure       82\n",
       "BsmtFinType1       79\n",
       "BsmtFinSF1          1\n",
       "BsmtFinType2       80\n",
       "BsmtFinSF2          1\n",
       "BsmtUnfSF           1\n",
       "TotalBsmtSF         1\n",
       "Heating             0\n",
       "HeatingQC           0\n",
       "CentralAir          0\n",
       "Electrical          1\n",
       "1stFlrSF            0\n",
       "2ndFlrSF            0\n",
       "LowQualFinSF        0\n",
       "GrLivArea           0\n",
       "BsmtFullBath        2\n",
       "BsmtHalfBath        2\n",
       "FullBath            0\n",
       "HalfBath            0\n",
       "BedroomAbvGr        0\n",
       "KitchenAbvGr        0\n",
       "KitchenQual         1\n",
       "TotRmsAbvGrd        0\n",
       "Functional          2\n",
       "Fireplaces          0\n",
       "FireplaceQu      1420\n",
       "GarageType        157\n",
       "GarageYrBlt       159\n",
       "GarageFinish      159\n",
       "GarageCars          1\n",
       "GarageArea          1\n",
       "GarageQual        159\n",
       "GarageCond        159\n",
       "PavedDrive          0\n",
       "WoodDeckSF          0\n",
       "OpenPorchSF         0\n",
       "EnclosedPorch       0\n",
       "3SsnPorch           0\n",
       "ScreenPorch         0\n",
       "PoolArea            0\n",
       "PoolQC           2909\n",
       "Fence            2348\n",
       "MiscFeature      2814\n",
       "MiscVal             0\n",
       "MoSold              0\n",
       "YrSold              0\n",
       "SaleType            1\n",
       "SaleCondition       0\n",
       "SalePrice        1459\n",
       "dtype: int64"
      ]
     },
     "metadata": {},
     "output_type": "display_data"
    }
   ],
   "source": [
    "display_full(df.isnull().sum())"
   ]
  },
  {
   "cell_type": "markdown",
   "metadata": {},
   "source": [
    "Here is a list of numeric and categorical variables where the missing data is due to the absense of the feature and shall not be imputed"
   ]
  },
  {
   "cell_type": "markdown",
   "metadata": {},
   "source": [
    "- Alley (No alley access)\n",
    "- MasVnrType, MasVnrArea (Masonry not available thus ares missing and shall not be imputed)\n",
    "- BsmtQual, BsmtCond, BsmtExposure, BsmtFinType1, BsmtFinSF1, BsmtFinType2, BsmtFinSF2, TotalBsmtSF (No basement)\n",
    "- FireplaceQu (No fireplace)\n",
    "- GarageType, GarageYrBlt, GarageFinish, GarageQual, GarageCond   (No Garage)\n",
    "- PoolQC (No pool)\n",
    "- Fence (No fence)\n",
    "- MiscFeature (No features)"
   ]
  },
  {
   "cell_type": "code",
   "execution_count": 18,
   "metadata": {},
   "outputs": [],
   "source": [
    "list_missing = ['Alley', 'MasVnrType', 'MasVnrArea', 'BsmtQual', 'BsmtCond', 'BsmtExposure', 'BsmtFinType1', \n",
    "                'BsmtFinSF1', \n",
    "                'BsmtFinType2', 'BsmtFinSF2', 'TotalBsmtSF', 'FireplaceQu', 'GarageType', 'GarageYrBlt', \n",
    "                'GarageFinish', 'GarageQual', 'GarageCond', 'PoolQC', 'Fence', 'MiscFeature']"
   ]
  },
  {
   "cell_type": "markdown",
   "metadata": {},
   "source": [
    "From the above list, if variable is categorical, then replace it with \"None\" else if numeric replace with zero"
   ]
  },
  {
   "cell_type": "code",
   "execution_count": 19,
   "metadata": {
    "scrolled": true
   },
   "outputs": [
    {
     "data": {
      "text/plain": [
       "MSSubClass          0\n",
       "MSZoning            4\n",
       "LotFrontage       486\n",
       "LotArea             0\n",
       "Street              0\n",
       "Alley               0\n",
       "LotShape            0\n",
       "LandContour         0\n",
       "Utilities           2\n",
       "LotConfig           0\n",
       "LandSlope           0\n",
       "Neighborhood        0\n",
       "Condition1          0\n",
       "Condition2          0\n",
       "BldgType            0\n",
       "HouseStyle          0\n",
       "OverallQual         0\n",
       "OverallCond         0\n",
       "YearBuilt           0\n",
       "YearRemodAdd        0\n",
       "RoofStyle           0\n",
       "RoofMatl            0\n",
       "Exterior1st         1\n",
       "Exterior2nd         1\n",
       "MasVnrType          0\n",
       "MasVnrArea          0\n",
       "ExterQual           0\n",
       "ExterCond           0\n",
       "Foundation          0\n",
       "BsmtQual            0\n",
       "BsmtCond            0\n",
       "BsmtExposure        0\n",
       "BsmtFinType1        0\n",
       "BsmtFinSF1          0\n",
       "BsmtFinType2        0\n",
       "BsmtFinSF2          0\n",
       "BsmtUnfSF           1\n",
       "TotalBsmtSF         0\n",
       "Heating             0\n",
       "HeatingQC           0\n",
       "CentralAir          0\n",
       "Electrical          1\n",
       "1stFlrSF            0\n",
       "2ndFlrSF            0\n",
       "LowQualFinSF        0\n",
       "GrLivArea           0\n",
       "BsmtFullBath        2\n",
       "BsmtHalfBath        2\n",
       "FullBath            0\n",
       "HalfBath            0\n",
       "BedroomAbvGr        0\n",
       "KitchenAbvGr        0\n",
       "KitchenQual         1\n",
       "TotRmsAbvGrd        0\n",
       "Functional          2\n",
       "Fireplaces          0\n",
       "FireplaceQu         0\n",
       "GarageType          0\n",
       "GarageYrBlt         0\n",
       "GarageFinish        0\n",
       "GarageCars          1\n",
       "GarageArea          1\n",
       "GarageQual          0\n",
       "GarageCond          0\n",
       "PavedDrive          0\n",
       "WoodDeckSF          0\n",
       "OpenPorchSF         0\n",
       "EnclosedPorch       0\n",
       "3SsnPorch           0\n",
       "ScreenPorch         0\n",
       "PoolArea            0\n",
       "PoolQC              0\n",
       "Fence               0\n",
       "MiscFeature         0\n",
       "MiscVal             0\n",
       "MoSold              0\n",
       "YrSold              0\n",
       "SaleType            1\n",
       "SaleCondition       0\n",
       "SalePrice        1459\n",
       "dtype: int64"
      ]
     },
     "metadata": {},
     "output_type": "display_data"
    }
   ],
   "source": [
    "for i in list_missing:\n",
    "    if i in df._get_numeric_data():\n",
    "        df[i] = df[i].fillna(0)\n",
    "    elif i not in df._get_numeric_data():\n",
    "        df[i] = df[i].fillna('None')\n",
    "display_full (df.isnull().sum())"
   ]
  },
  {
   "cell_type": "markdown",
   "metadata": {},
   "source": [
    "For the remaining variables, this is data missing and shall be imputed to be capable of running the algorithm. For a start, I will impute the median for all numerical variables"
   ]
  },
  {
   "cell_type": "code",
   "execution_count": 20,
   "metadata": {},
   "outputs": [],
   "source": [
    "fillna_median(df, 'SalePrice')"
   ]
  },
  {
   "cell_type": "code",
   "execution_count": 21,
   "metadata": {
    "scrolled": true
   },
   "outputs": [
    {
     "data": {
      "text/plain": [
       "MSSubClass          0\n",
       "MSZoning            4\n",
       "LotFrontage         0\n",
       "LotArea             0\n",
       "Street              0\n",
       "Alley               0\n",
       "LotShape            0\n",
       "LandContour         0\n",
       "Utilities           2\n",
       "LotConfig           0\n",
       "LandSlope           0\n",
       "Neighborhood        0\n",
       "Condition1          0\n",
       "Condition2          0\n",
       "BldgType            0\n",
       "HouseStyle          0\n",
       "OverallQual         0\n",
       "OverallCond         0\n",
       "YearBuilt           0\n",
       "YearRemodAdd        0\n",
       "RoofStyle           0\n",
       "RoofMatl            0\n",
       "Exterior1st         1\n",
       "Exterior2nd         1\n",
       "MasVnrType          0\n",
       "MasVnrArea          0\n",
       "ExterQual           0\n",
       "ExterCond           0\n",
       "Foundation          0\n",
       "BsmtQual            0\n",
       "BsmtCond            0\n",
       "BsmtExposure        0\n",
       "BsmtFinType1        0\n",
       "BsmtFinSF1          0\n",
       "BsmtFinType2        0\n",
       "BsmtFinSF2          0\n",
       "BsmtUnfSF           0\n",
       "TotalBsmtSF         0\n",
       "Heating             0\n",
       "HeatingQC           0\n",
       "CentralAir          0\n",
       "Electrical          1\n",
       "1stFlrSF            0\n",
       "2ndFlrSF            0\n",
       "LowQualFinSF        0\n",
       "GrLivArea           0\n",
       "BsmtFullBath        0\n",
       "BsmtHalfBath        0\n",
       "FullBath            0\n",
       "HalfBath            0\n",
       "BedroomAbvGr        0\n",
       "KitchenAbvGr        0\n",
       "KitchenQual         1\n",
       "TotRmsAbvGrd        0\n",
       "Functional          2\n",
       "Fireplaces          0\n",
       "FireplaceQu         0\n",
       "GarageType          0\n",
       "GarageYrBlt         0\n",
       "GarageFinish        0\n",
       "GarageCars          0\n",
       "GarageArea          0\n",
       "GarageQual          0\n",
       "GarageCond          0\n",
       "PavedDrive          0\n",
       "WoodDeckSF          0\n",
       "OpenPorchSF         0\n",
       "EnclosedPorch       0\n",
       "3SsnPorch           0\n",
       "ScreenPorch         0\n",
       "PoolArea            0\n",
       "PoolQC              0\n",
       "Fence               0\n",
       "MiscFeature         0\n",
       "MiscVal             0\n",
       "MoSold              0\n",
       "YrSold              0\n",
       "SaleType            1\n",
       "SaleCondition       0\n",
       "SalePrice        1459\n",
       "dtype: int64"
      ]
     },
     "metadata": {},
     "output_type": "display_data"
    }
   ],
   "source": [
    "display_full (df.isnull().sum())"
   ]
  },
  {
   "cell_type": "markdown",
   "metadata": {},
   "source": [
    "Some few remaining categorical variables will be randomly assigned to None"
   ]
  },
  {
   "cell_type": "code",
   "execution_count": 22,
   "metadata": {},
   "outputs": [],
   "source": [
    "for i in df.drop(columns = 'SalePrice', axis=1):\n",
    "    df[i] = df[i].fillna('None')"
   ]
  },
  {
   "cell_type": "code",
   "execution_count": 23,
   "metadata": {
    "scrolled": true
   },
   "outputs": [
    {
     "data": {
      "text/plain": [
       "MSSubClass          0\n",
       "MSZoning            0\n",
       "LotFrontage         0\n",
       "LotArea             0\n",
       "Street              0\n",
       "Alley               0\n",
       "LotShape            0\n",
       "LandContour         0\n",
       "Utilities           0\n",
       "LotConfig           0\n",
       "LandSlope           0\n",
       "Neighborhood        0\n",
       "Condition1          0\n",
       "Condition2          0\n",
       "BldgType            0\n",
       "HouseStyle          0\n",
       "OverallQual         0\n",
       "OverallCond         0\n",
       "YearBuilt           0\n",
       "YearRemodAdd        0\n",
       "RoofStyle           0\n",
       "RoofMatl            0\n",
       "Exterior1st         0\n",
       "Exterior2nd         0\n",
       "MasVnrType          0\n",
       "MasVnrArea          0\n",
       "ExterQual           0\n",
       "ExterCond           0\n",
       "Foundation          0\n",
       "BsmtQual            0\n",
       "BsmtCond            0\n",
       "BsmtExposure        0\n",
       "BsmtFinType1        0\n",
       "BsmtFinSF1          0\n",
       "BsmtFinType2        0\n",
       "BsmtFinSF2          0\n",
       "BsmtUnfSF           0\n",
       "TotalBsmtSF         0\n",
       "Heating             0\n",
       "HeatingQC           0\n",
       "CentralAir          0\n",
       "Electrical          0\n",
       "1stFlrSF            0\n",
       "2ndFlrSF            0\n",
       "LowQualFinSF        0\n",
       "GrLivArea           0\n",
       "BsmtFullBath        0\n",
       "BsmtHalfBath        0\n",
       "FullBath            0\n",
       "HalfBath            0\n",
       "BedroomAbvGr        0\n",
       "KitchenAbvGr        0\n",
       "KitchenQual         0\n",
       "TotRmsAbvGrd        0\n",
       "Functional          0\n",
       "Fireplaces          0\n",
       "FireplaceQu         0\n",
       "GarageType          0\n",
       "GarageYrBlt         0\n",
       "GarageFinish        0\n",
       "GarageCars          0\n",
       "GarageArea          0\n",
       "GarageQual          0\n",
       "GarageCond          0\n",
       "PavedDrive          0\n",
       "WoodDeckSF          0\n",
       "OpenPorchSF         0\n",
       "EnclosedPorch       0\n",
       "3SsnPorch           0\n",
       "ScreenPorch         0\n",
       "PoolArea            0\n",
       "PoolQC              0\n",
       "Fence               0\n",
       "MiscFeature         0\n",
       "MiscVal             0\n",
       "MoSold              0\n",
       "YrSold              0\n",
       "SaleType            0\n",
       "SaleCondition       0\n",
       "SalePrice        1459\n",
       "dtype: int64"
      ]
     },
     "metadata": {},
     "output_type": "display_data"
    }
   ],
   "source": [
    "display_full (df.isnull().sum())"
   ]
  },
  {
   "cell_type": "code",
   "execution_count": 24,
   "metadata": {},
   "outputs": [],
   "source": [
    "df_2 = df.copy()"
   ]
  },
  {
   "cell_type": "markdown",
   "metadata": {},
   "source": [
    "## Replacing Categorical with Numerical Values"
   ]
  },
  {
   "cell_type": "code",
   "execution_count": 25,
   "metadata": {},
   "outputs": [],
   "source": [
    "# Converting all object series to categories\n",
    "conv_cat(df_2)"
   ]
  },
  {
   "cell_type": "code",
   "execution_count": 26,
   "metadata": {},
   "outputs": [],
   "source": [
    "# Converting catergorical variables to numeric\n",
    "cat_to_numeric(df_2)"
   ]
  },
  {
   "cell_type": "code",
   "execution_count": 31,
   "metadata": {
    "scrolled": true
   },
   "outputs": [],
   "source": [
    "# Resetting index, should have been done when merging 2 dataframes above\n",
    "df_raw = df_2.reset_index(drop=True)"
   ]
  },
  {
   "cell_type": "markdown",
   "metadata": {},
   "source": [
    "But let's save this file for now, since it's already in format can we be stored and accessed efficiently."
   ]
  },
  {
   "cell_type": "code",
   "execution_count": 4,
   "metadata": {},
   "outputs": [
    {
     "ename": "NameError",
     "evalue": "name 'df_raw' is not defined",
     "output_type": "error",
     "traceback": [
      "\u001b[0;31m---------------------------------------------------------------------------\u001b[0m",
      "\u001b[0;31mNameError\u001b[0m                                 Traceback (most recent call last)",
      "\u001b[0;32m<ipython-input-4-f74372fed1a0>\u001b[0m in \u001b[0;36m<module>\u001b[0;34m()\u001b[0m\n\u001b[1;32m      1\u001b[0m \u001b[0mos\u001b[0m\u001b[0;34m.\u001b[0m\u001b[0mmakedirs\u001b[0m\u001b[0;34m(\u001b[0m\u001b[0;34m'tmp'\u001b[0m\u001b[0;34m,\u001b[0m \u001b[0mexist_ok\u001b[0m\u001b[0;34m=\u001b[0m\u001b[0;32mTrue\u001b[0m\u001b[0;34m)\u001b[0m\u001b[0;34m\u001b[0m\u001b[0m\n\u001b[0;32m----> 2\u001b[0;31m \u001b[0mdf_raw\u001b[0m\u001b[0;34m.\u001b[0m\u001b[0mto_feather\u001b[0m\u001b[0;34m(\u001b[0m\u001b[0;34m'tmp/houses-raw'\u001b[0m\u001b[0;34m)\u001b[0m\u001b[0;34m\u001b[0m\u001b[0m\n\u001b[0m",
      "\u001b[0;31mNameError\u001b[0m: name 'df_raw' is not defined"
     ]
    }
   ],
   "source": [
    "os.makedirs('tmp', exist_ok=True)\n",
    "df_raw.to_feather('tmp/houses-raw')"
   ]
  },
  {
   "cell_type": "markdown",
   "metadata": {},
   "source": [
    "## Initial Processing"
   ]
  },
  {
   "cell_type": "code",
   "execution_count": 5,
   "metadata": {},
   "outputs": [],
   "source": [
    "df_raw = pd.read_feather('tmp/houses-raw')"
   ]
  },
  {
   "cell_type": "code",
   "execution_count": 6,
   "metadata": {},
   "outputs": [],
   "source": [
    "df_train  = df_raw.iloc[:1459]"
   ]
  },
  {
   "cell_type": "code",
   "execution_count": 7,
   "metadata": {},
   "outputs": [
    {
     "data": {
      "text/plain": [
       "0.9765493497761044"
      ]
     },
     "execution_count": 7,
     "metadata": {},
     "output_type": "execute_result"
    }
   ],
   "source": [
    "m = RandomForestRegressor(n_jobs=-1)\n",
    "m.fit(df_train.drop(columns = \"SalePrice\", axis=1), df_train.SalePrice)\n",
    "m.score(df_train.drop(columns = \"SalePrice\", axis=1),df_train.SalePrice)"
   ]
  },
  {
   "cell_type": "markdown",
   "metadata": {},
   "source": [
    "This illustrates how using all our data can lead to overfitting. A validation set helps diagnose this problem."
   ]
  },
  {
   "cell_type": "code",
   "execution_count": 8,
   "metadata": {},
   "outputs": [
    {
     "data": {
      "text/plain": [
       "(1459, 80)"
      ]
     },
     "execution_count": 8,
     "metadata": {},
     "output_type": "execute_result"
    }
   ],
   "source": [
    "df_train.shape"
   ]
  },
  {
   "cell_type": "code",
   "execution_count": 9,
   "metadata": {},
   "outputs": [],
   "source": [
    "# Assign df_x and Y to seperate datasets for better use\n",
    "y = df_train['SalePrice']\n",
    "df_x = df_train.drop(columns = \"SalePrice\", axis=1)"
   ]
  },
  {
   "cell_type": "code",
   "execution_count": 10,
   "metadata": {},
   "outputs": [
    {
     "data": {
      "text/plain": [
       "(1459, 79)"
      ]
     },
     "execution_count": 10,
     "metadata": {},
     "output_type": "execute_result"
    }
   ],
   "source": [
    "df_x.shape"
   ]
  },
  {
   "cell_type": "code",
   "execution_count": 11,
   "metadata": {},
   "outputs": [],
   "source": [
    "def split_vars(a, n):\n",
    "    return a[:n].copy(), a[n:].copy()"
   ]
  },
  {
   "cell_type": "code",
   "execution_count": 12,
   "metadata": {},
   "outputs": [],
   "source": [
    "n_valid = 700\n",
    "n_trn = len(df_x)-n_valid\n",
    "raw_train, raw_valid = split_vars(df_train, n_trn) # split train dataset including SalePrice\n",
    "X_train, X_valid = split_vars(df_x, n_trn) # Split X (df_x) set\n",
    "Y_train, Y_valid = split_vars(y, n_trn) # Split Y (SalePrice) "
   ]
  },
  {
   "cell_type": "code",
   "execution_count": 13,
   "metadata": {},
   "outputs": [
    {
     "data": {
      "text/plain": [
       "((759, 79), (700, 79), (759,), (700,))"
      ]
     },
     "execution_count": 13,
     "metadata": {},
     "output_type": "execute_result"
    }
   ],
   "source": [
    "X_train.shape, X_valid.shape, Y_train.shape, Y_valid.shape"
   ]
  },
  {
   "cell_type": "markdown",
   "metadata": {},
   "source": [
    "# Random Forest"
   ]
  },
  {
   "cell_type": "markdown",
   "metadata": {},
   "source": [
    "## Basic Modeling"
   ]
  },
  {
   "cell_type": "code",
   "execution_count": 14,
   "metadata": {},
   "outputs": [],
   "source": [
    "def rmse(x,y): \n",
    "    return math.sqrt(((x-y)**2).mean())"
   ]
  },
  {
   "cell_type": "code",
   "execution_count": 58,
   "metadata": {},
   "outputs": [],
   "source": [
    "def print_score(m):\n",
    "    res = [(rmse(m.predict(X_train), Y_train), rmse(m.predict(X_valid), Y_valid),\n",
    "           m.score(X_train, Y_train), m.score(X_valid, Y_valid))]\n",
    "    if hasattr(m, 'oob_score_'): res.append(m.oob_score_)\n",
    "    print(res)"
   ]
  },
  {
   "cell_type": "code",
   "execution_count": 20,
   "metadata": {},
   "outputs": [
    {
     "name": "stdout",
     "output_type": "stream",
     "text": [
      "CPU times: user 8 ms, sys: 0 ns, total: 8 ms\n",
      "Wall time: 123 ms\n",
      "[(0.24445362687337688, 0.20461976661203257, 0.6495944294399492, 0.7161452609774888)]\n"
     ]
    }
   ],
   "source": [
    "m = RandomForestRegressor(n_estimators=1, max_depth=3,n_jobs=-1)\n",
    "%time m.fit(X_valid, Y_valid) \n",
    "print_score(m)"
   ]
  },
  {
   "cell_type": "code",
   "execution_count": 21,
   "metadata": {},
   "outputs": [
    {
     "data": {
      "image/svg+xml": [
       "<?xml version=\"1.0\" encoding=\"UTF-8\" standalone=\"no\"?>\n",
       "<!DOCTYPE svg PUBLIC \"-//W3C//DTD SVG 1.1//EN\"\n",
       " \"http://www.w3.org/Graphics/SVG/1.1/DTD/svg11.dtd\">\n",
       "<!-- Generated by graphviz version 2.38.0 (20140413.2041)\n",
       " -->\n",
       "<!-- Title: Tree Pages: 1 -->\n",
       "<svg width=\"720pt\" height=\"434pt\"\n",
       " viewBox=\"0.00 0.00 720.00 434.49\" xmlns=\"http://www.w3.org/2000/svg\" xmlns:xlink=\"http://www.w3.org/1999/xlink\">\n",
       "<g id=\"graph0\" class=\"graph\" transform=\"scale(0.778659 0.778659) rotate(0) translate(4 554)\">\n",
       "<title>Tree</title>\n",
       "<polygon fill=\"white\" stroke=\"none\" points=\"-4,4 -4,-554 920.667,-554 920.667,4 -4,4\"/>\n",
       "<!-- 0 -->\n",
       "<g id=\"node1\" class=\"node\"><title>0</title>\n",
       "<polygon fill=\"#e58139\" fill-opacity=\"0.415686\" stroke=\"black\" points=\"165.167,-308.5 20.1667,-308.5 20.1667,-240.5 165.167,-240.5 165.167,-308.5\"/>\n",
       "<text text-anchor=\"start\" x=\"28.1667\" y=\"-293.3\" font-family=\"Times,serif\" font-size=\"14.00\">OverallQual ≤ 6.5</text>\n",
       "<text text-anchor=\"start\" x=\"47.1667\" y=\"-278.3\" font-family=\"Times,serif\" font-size=\"14.00\">mse = 0.153</text>\n",
       "<text text-anchor=\"start\" x=\"39.1667\" y=\"-263.3\" font-family=\"Times,serif\" font-size=\"14.00\">samples = 443</text>\n",
       "<text text-anchor=\"start\" x=\"38.1667\" y=\"-248.3\" font-family=\"Times,serif\" font-size=\"14.00\">value = 12.024</text>\n",
       "</g>\n",
       "<!-- 1 -->\n",
       "<g id=\"node2\" class=\"node\"><title>1</title>\n",
       "<polygon fill=\"#e58139\" fill-opacity=\"0.309804\" stroke=\"black\" points=\"415.167,-361.5 254.167,-361.5 254.167,-293.5 415.167,-293.5 415.167,-361.5\"/>\n",
       "<text text-anchor=\"start\" x=\"262.167\" y=\"-346.3\" font-family=\"Times,serif\" font-size=\"14.00\">GrLivArea ≤ 1261.0</text>\n",
       "<text text-anchor=\"start\" x=\"289.167\" y=\"-331.3\" font-family=\"Times,serif\" font-size=\"14.00\">mse = 0.082</text>\n",
       "<text text-anchor=\"start\" x=\"281.167\" y=\"-316.3\" font-family=\"Times,serif\" font-size=\"14.00\">samples = 280</text>\n",
       "<text text-anchor=\"start\" x=\"280.167\" y=\"-301.3\" font-family=\"Times,serif\" font-size=\"14.00\">value = 11.827</text>\n",
       "</g>\n",
       "<!-- 0&#45;&gt;1 -->\n",
       "<g id=\"edge1\" class=\"edge\"><title>0&#45;&gt;1</title>\n",
       "<path fill=\"none\" stroke=\"black\" d=\"M165.349,-290.33C190.09,-295.793 218.12,-301.983 244.11,-307.723\"/>\n",
       "<polygon fill=\"black\" stroke=\"black\" points=\"243.44,-311.159 253.96,-309.898 244.95,-304.324 243.44,-311.159\"/>\n",
       "<text text-anchor=\"middle\" x=\"232.886\" y=\"-319.648\" font-family=\"Times,serif\" font-size=\"14.00\">True</text>\n",
       "</g>\n",
       "<!-- 8 -->\n",
       "<g id=\"node9\" class=\"node\"><title>8</title>\n",
       "<polygon fill=\"#e58139\" fill-opacity=\"0.596078\" stroke=\"black\" points=\"416.667,-255.5 252.667,-255.5 252.667,-187.5 416.667,-187.5 416.667,-255.5\"/>\n",
       "<text text-anchor=\"start\" x=\"260.667\" y=\"-240.3\" font-family=\"Times,serif\" font-size=\"14.00\">GarageArea ≤ 664.5</text>\n",
       "<text text-anchor=\"start\" x=\"289.167\" y=\"-225.3\" font-family=\"Times,serif\" font-size=\"14.00\">mse = 0.092</text>\n",
       "<text text-anchor=\"start\" x=\"281.167\" y=\"-210.3\" font-family=\"Times,serif\" font-size=\"14.00\">samples = 163</text>\n",
       "<text text-anchor=\"start\" x=\"280.167\" y=\"-195.3\" font-family=\"Times,serif\" font-size=\"14.00\">value = 12.365</text>\n",
       "</g>\n",
       "<!-- 0&#45;&gt;8 -->\n",
       "<g id=\"edge8\" class=\"edge\"><title>0&#45;&gt;8</title>\n",
       "<path fill=\"none\" stroke=\"black\" d=\"M165.349,-258.67C189.493,-253.338 216.77,-247.315 242.226,-241.693\"/>\n",
       "<polygon fill=\"black\" stroke=\"black\" points=\"243.245,-245.052 252.255,-239.478 241.736,-238.217 243.245,-245.052\"/>\n",
       "<text text-anchor=\"middle\" x=\"231.182\" y=\"-222.329\" font-family=\"Times,serif\" font-size=\"14.00\">False</text>\n",
       "</g>\n",
       "<!-- 2 -->\n",
       "<g id=\"node3\" class=\"node\"><title>2</title>\n",
       "<polygon fill=\"#e58139\" fill-opacity=\"0.231373\" stroke=\"black\" points=\"666.667,-486.5 530.667,-486.5 530.667,-418.5 666.667,-418.5 666.667,-486.5\"/>\n",
       "<text text-anchor=\"start\" x=\"538.667\" y=\"-471.3\" font-family=\"Times,serif\" font-size=\"14.00\">CentralAir ≤ 0.5</text>\n",
       "<text text-anchor=\"start\" x=\"553.167\" y=\"-456.3\" font-family=\"Times,serif\" font-size=\"14.00\">mse = 0.072</text>\n",
       "<text text-anchor=\"start\" x=\"545.167\" y=\"-441.3\" font-family=\"Times,serif\" font-size=\"14.00\">samples = 147</text>\n",
       "<text text-anchor=\"start\" x=\"544.167\" y=\"-426.3\" font-family=\"Times,serif\" font-size=\"14.00\">value = 11.674</text>\n",
       "</g>\n",
       "<!-- 1&#45;&gt;2 -->\n",
       "<g id=\"edge2\" class=\"edge\"><title>1&#45;&gt;2</title>\n",
       "<path fill=\"none\" stroke=\"black\" d=\"M407.259,-361.657C442.586,-378.511 485.226,-398.854 521.191,-416.013\"/>\n",
       "<polygon fill=\"black\" stroke=\"black\" points=\"520.13,-419.385 530.663,-420.533 523.145,-413.068 520.13,-419.385\"/>\n",
       "</g>\n",
       "<!-- 5 -->\n",
       "<g id=\"node6\" class=\"node\"><title>5</title>\n",
       "<polygon fill=\"#e58139\" fill-opacity=\"0.400000\" stroke=\"black\" points=\"671.667,-361.5 525.667,-361.5 525.667,-293.5 671.667,-293.5 671.667,-361.5\"/>\n",
       "<text text-anchor=\"start\" x=\"533.667\" y=\"-346.3\" font-family=\"Times,serif\" font-size=\"14.00\">GarageCars ≤ 1.5</text>\n",
       "<text text-anchor=\"start\" x=\"553.167\" y=\"-331.3\" font-family=\"Times,serif\" font-size=\"14.00\">mse = 0.041</text>\n",
       "<text text-anchor=\"start\" x=\"545.167\" y=\"-316.3\" font-family=\"Times,serif\" font-size=\"14.00\">samples = 133</text>\n",
       "<text text-anchor=\"start\" x=\"544.167\" y=\"-301.3\" font-family=\"Times,serif\" font-size=\"14.00\">value = 11.993</text>\n",
       "</g>\n",
       "<!-- 1&#45;&gt;5 -->\n",
       "<g id=\"edge5\" class=\"edge\"><title>1&#45;&gt;5</title>\n",
       "<path fill=\"none\" stroke=\"black\" d=\"M415.342,-327.5C446.995,-327.5 483.396,-327.5 515.309,-327.5\"/>\n",
       "<polygon fill=\"black\" stroke=\"black\" points=\"515.501,-331 525.5,-327.5 515.5,-324 515.501,-331\"/>\n",
       "</g>\n",
       "<!-- 3 -->\n",
       "<g id=\"node4\" class=\"node\"><title>3</title>\n",
       "<polygon fill=\"none\" stroke=\"black\" points=\"895.667,-550 779.667,-550 779.667,-497 895.667,-497 895.667,-550\"/>\n",
       "<text text-anchor=\"start\" x=\"792.167\" y=\"-534.8\" font-family=\"Times,serif\" font-size=\"14.00\">mse = 0.108</text>\n",
       "<text text-anchor=\"start\" x=\"788.667\" y=\"-519.8\" font-family=\"Times,serif\" font-size=\"14.00\">samples = 18</text>\n",
       "<text text-anchor=\"start\" x=\"787.667\" y=\"-504.8\" font-family=\"Times,serif\" font-size=\"14.00\">value = 11.24</text>\n",
       "</g>\n",
       "<!-- 2&#45;&gt;3 -->\n",
       "<g id=\"edge3\" class=\"edge\"><title>2&#45;&gt;3</title>\n",
       "<path fill=\"none\" stroke=\"black\" d=\"M666.947,-472.656C699.193,-482.316 737.704,-493.853 769.884,-503.493\"/>\n",
       "<polygon fill=\"black\" stroke=\"black\" points=\"769.07,-506.903 779.654,-506.42 771.079,-500.198 769.07,-506.903\"/>\n",
       "</g>\n",
       "<!-- 4 -->\n",
       "<g id=\"node5\" class=\"node\"><title>4</title>\n",
       "<polygon fill=\"#e58139\" fill-opacity=\"0.266667\" stroke=\"black\" points=\"900.167,-479 775.167,-479 775.167,-426 900.167,-426 900.167,-479\"/>\n",
       "<text text-anchor=\"start\" x=\"792.167\" y=\"-463.8\" font-family=\"Times,serif\" font-size=\"14.00\">mse = 0.033</text>\n",
       "<text text-anchor=\"start\" x=\"784.167\" y=\"-448.8\" font-family=\"Times,serif\" font-size=\"14.00\">samples = 129</text>\n",
       "<text text-anchor=\"start\" x=\"783.167\" y=\"-433.8\" font-family=\"Times,serif\" font-size=\"14.00\">value = 11.742</text>\n",
       "</g>\n",
       "<!-- 2&#45;&gt;4 -->\n",
       "<g id=\"edge4\" class=\"edge\"><title>2&#45;&gt;4</title>\n",
       "<path fill=\"none\" stroke=\"black\" d=\"M666.947,-452.5C697.439,-452.5 733.534,-452.5 764.581,-452.5\"/>\n",
       "<polygon fill=\"black\" stroke=\"black\" points=\"764.901,-456 774.901,-452.5 764.9,-449 764.901,-456\"/>\n",
       "</g>\n",
       "<!-- 6 -->\n",
       "<g id=\"node7\" class=\"node\"><title>6</title>\n",
       "<polygon fill=\"#e58139\" fill-opacity=\"0.309804\" stroke=\"black\" points=\"900.167,-408 775.167,-408 775.167,-355 900.167,-355 900.167,-408\"/>\n",
       "<text text-anchor=\"start\" x=\"792.167\" y=\"-392.8\" font-family=\"Times,serif\" font-size=\"14.00\">mse = 0.027</text>\n",
       "<text text-anchor=\"start\" x=\"788.667\" y=\"-377.8\" font-family=\"Times,serif\" font-size=\"14.00\">samples = 37</text>\n",
       "<text text-anchor=\"start\" x=\"783.167\" y=\"-362.8\" font-family=\"Times,serif\" font-size=\"14.00\">value = 11.828</text>\n",
       "</g>\n",
       "<!-- 5&#45;&gt;6 -->\n",
       "<g id=\"edge6\" class=\"edge\"><title>5&#45;&gt;6</title>\n",
       "<path fill=\"none\" stroke=\"black\" d=\"M671.74,-343.922C701.349,-350.668 735.553,-358.461 765.109,-365.196\"/>\n",
       "<polygon fill=\"black\" stroke=\"black\" points=\"764.413,-368.627 774.94,-367.436 765.968,-361.802 764.413,-368.627\"/>\n",
       "</g>\n",
       "<!-- 7 -->\n",
       "<g id=\"node8\" class=\"node\"><title>7</title>\n",
       "<polygon fill=\"#e58139\" fill-opacity=\"0.431373\" stroke=\"black\" points=\"900.167,-337 775.167,-337 775.167,-284 900.167,-284 900.167,-337\"/>\n",
       "<text text-anchor=\"start\" x=\"792.167\" y=\"-321.8\" font-family=\"Times,serif\" font-size=\"14.00\">mse = 0.032</text>\n",
       "<text text-anchor=\"start\" x=\"788.667\" y=\"-306.8\" font-family=\"Times,serif\" font-size=\"14.00\">samples = 96</text>\n",
       "<text text-anchor=\"start\" x=\"783.167\" y=\"-291.8\" font-family=\"Times,serif\" font-size=\"14.00\">value = 12.056</text>\n",
       "</g>\n",
       "<!-- 5&#45;&gt;7 -->\n",
       "<g id=\"edge7\" class=\"edge\"><title>5&#45;&gt;7</title>\n",
       "<path fill=\"none\" stroke=\"black\" d=\"M671.74,-322.33C701.221,-320.216 735.255,-317.774 764.723,-315.661\"/>\n",
       "<polygon fill=\"black\" stroke=\"black\" points=\"765.216,-319.134 774.94,-314.928 764.716,-312.152 765.216,-319.134\"/>\n",
       "</g>\n",
       "<!-- 9 -->\n",
       "<g id=\"node10\" class=\"node\"><title>9</title>\n",
       "<polygon fill=\"#e58139\" fill-opacity=\"0.521569\" stroke=\"black\" points=\"688.167,-255.5 509.167,-255.5 509.167,-187.5 688.167,-187.5 688.167,-255.5\"/>\n",
       "<text text-anchor=\"start\" x=\"517.167\" y=\"-240.3\" font-family=\"Times,serif\" font-size=\"14.00\">TotalBsmtSF ≤ 1500.5</text>\n",
       "<text text-anchor=\"start\" x=\"557.667\" y=\"-225.3\" font-family=\"Times,serif\" font-size=\"14.00\">mse = 0.04</text>\n",
       "<text text-anchor=\"start\" x=\"545.167\" y=\"-210.3\" font-family=\"Times,serif\" font-size=\"14.00\">samples = 109</text>\n",
       "<text text-anchor=\"start\" x=\"544.167\" y=\"-195.3\" font-family=\"Times,serif\" font-size=\"14.00\">value = 12.224</text>\n",
       "</g>\n",
       "<!-- 8&#45;&gt;9 -->\n",
       "<g id=\"edge9\" class=\"edge\"><title>8&#45;&gt;9</title>\n",
       "<path fill=\"none\" stroke=\"black\" d=\"M416.771,-221.5C442.624,-221.5 471.525,-221.5 498.507,-221.5\"/>\n",
       "<polygon fill=\"black\" stroke=\"black\" points=\"498.744,-225 508.744,-221.5 498.744,-218 498.744,-225\"/>\n",
       "</g>\n",
       "<!-- 12 -->\n",
       "<g id=\"node13\" class=\"node\"><title>12</title>\n",
       "<polygon fill=\"#e58139\" fill-opacity=\"0.733333\" stroke=\"black\" points=\"661.167,-131.5 536.167,-131.5 536.167,-63.5 661.167,-63.5 661.167,-131.5\"/>\n",
       "<text text-anchor=\"start\" x=\"545.667\" y=\"-116.3\" font-family=\"Times,serif\" font-size=\"14.00\">FullBath ≤ 2.5</text>\n",
       "<text text-anchor=\"start\" x=\"553.167\" y=\"-101.3\" font-family=\"Times,serif\" font-size=\"14.00\">mse = 0.085</text>\n",
       "<text text-anchor=\"start\" x=\"549.667\" y=\"-86.3\" font-family=\"Times,serif\" font-size=\"14.00\">samples = 54</text>\n",
       "<text text-anchor=\"start\" x=\"544.167\" y=\"-71.3\" font-family=\"Times,serif\" font-size=\"14.00\">value = 12.624</text>\n",
       "</g>\n",
       "<!-- 8&#45;&gt;12 -->\n",
       "<g id=\"edge12\" class=\"edge\"><title>8&#45;&gt;12</title>\n",
       "<path fill=\"none\" stroke=\"black\" d=\"M407.606,-187.452C444.754,-169.871 489.916,-148.497 526.894,-130.996\"/>\n",
       "<polygon fill=\"black\" stroke=\"black\" points=\"528.567,-134.076 536.109,-126.634 525.573,-127.749 528.567,-134.076\"/>\n",
       "</g>\n",
       "<!-- 10 -->\n",
       "<g id=\"node11\" class=\"node\"><title>10</title>\n",
       "<polygon fill=\"#e58139\" fill-opacity=\"0.494118\" stroke=\"black\" points=\"900.167,-266 775.167,-266 775.167,-213 900.167,-213 900.167,-266\"/>\n",
       "<text text-anchor=\"start\" x=\"792.167\" y=\"-250.8\" font-family=\"Times,serif\" font-size=\"14.00\">mse = 0.024</text>\n",
       "<text text-anchor=\"start\" x=\"788.667\" y=\"-235.8\" font-family=\"Times,serif\" font-size=\"14.00\">samples = 93</text>\n",
       "<text text-anchor=\"start\" x=\"783.167\" y=\"-220.8\" font-family=\"Times,serif\" font-size=\"14.00\">value = 12.173</text>\n",
       "</g>\n",
       "<!-- 9&#45;&gt;10 -->\n",
       "<g id=\"edge10\" class=\"edge\"><title>9&#45;&gt;10</title>\n",
       "<path fill=\"none\" stroke=\"black\" d=\"M688.254,-228.228C713.563,-230.15 740.82,-232.221 764.983,-234.056\"/>\n",
       "<polygon fill=\"black\" stroke=\"black\" points=\"764.898,-237.559 775.135,-234.827 765.428,-230.579 764.898,-237.559\"/>\n",
       "</g>\n",
       "<!-- 11 -->\n",
       "<g id=\"node12\" class=\"node\"><title>11</title>\n",
       "<polygon fill=\"#e58139\" fill-opacity=\"0.674510\" stroke=\"black\" points=\"900.167,-195 775.167,-195 775.167,-142 900.167,-142 900.167,-195\"/>\n",
       "<text text-anchor=\"start\" x=\"792.167\" y=\"-179.8\" font-family=\"Times,serif\" font-size=\"14.00\">mse = 0.031</text>\n",
       "<text text-anchor=\"start\" x=\"788.667\" y=\"-164.8\" font-family=\"Times,serif\" font-size=\"14.00\">samples = 16</text>\n",
       "<text text-anchor=\"start\" x=\"783.167\" y=\"-149.8\" font-family=\"Times,serif\" font-size=\"14.00\">value = 12.514</text>\n",
       "</g>\n",
       "<!-- 9&#45;&gt;11 -->\n",
       "<g id=\"edge11\" class=\"edge\"><title>9&#45;&gt;11</title>\n",
       "<path fill=\"none\" stroke=\"black\" d=\"M688.254,-201.689C713.676,-196.004 741.064,-189.88 765.307,-184.458\"/>\n",
       "<polygon fill=\"black\" stroke=\"black\" points=\"766.14,-187.858 775.135,-182.26 764.612,-181.027 766.14,-187.858\"/>\n",
       "</g>\n",
       "<!-- 13 -->\n",
       "<g id=\"node14\" class=\"node\"><title>13</title>\n",
       "<polygon fill=\"#e58139\" fill-opacity=\"0.698039\" stroke=\"black\" points=\"900.167,-124 775.167,-124 775.167,-71 900.167,-71 900.167,-124\"/>\n",
       "<text text-anchor=\"start\" x=\"792.167\" y=\"-108.8\" font-family=\"Times,serif\" font-size=\"14.00\">mse = 0.055</text>\n",
       "<text text-anchor=\"start\" x=\"788.667\" y=\"-93.8\" font-family=\"Times,serif\" font-size=\"14.00\">samples = 46</text>\n",
       "<text text-anchor=\"start\" x=\"783.167\" y=\"-78.8\" font-family=\"Times,serif\" font-size=\"14.00\">value = 12.561</text>\n",
       "</g>\n",
       "<!-- 12&#45;&gt;13 -->\n",
       "<g id=\"edge13\" class=\"edge\"><title>12&#45;&gt;13</title>\n",
       "<path fill=\"none\" stroke=\"black\" d=\"M661.317,-97.5C693.012,-97.5 731.818,-97.5 764.859,-97.5\"/>\n",
       "<polygon fill=\"black\" stroke=\"black\" points=\"764.914,-101 774.914,-97.5 764.914,-94.0001 764.914,-101\"/>\n",
       "</g>\n",
       "<!-- 14 -->\n",
       "<g id=\"node15\" class=\"node\"><title>14</title>\n",
       "<polygon fill=\"#e58139\" stroke=\"black\" points=\"900.167,-53 775.167,-53 775.167,-0 900.167,-0 900.167,-53\"/>\n",
       "<text text-anchor=\"start\" x=\"792.167\" y=\"-37.8\" font-family=\"Times,serif\" font-size=\"14.00\">mse = 0.045</text>\n",
       "<text text-anchor=\"start\" x=\"793.167\" y=\"-22.8\" font-family=\"Times,serif\" font-size=\"14.00\">samples = 8</text>\n",
       "<text text-anchor=\"start\" x=\"783.167\" y=\"-7.8\" font-family=\"Times,serif\" font-size=\"14.00\">value = 13.128</text>\n",
       "</g>\n",
       "<!-- 12&#45;&gt;14 -->\n",
       "<g id=\"edge14\" class=\"edge\"><title>12&#45;&gt;14</title>\n",
       "<path fill=\"none\" stroke=\"black\" d=\"M661.317,-79.0309C693.149,-69.4949 732.153,-57.8101 765.286,-47.8841\"/>\n",
       "<polygon fill=\"black\" stroke=\"black\" points=\"766.339,-51.2224 774.914,-44.9998 764.33,-44.5169 766.339,-51.2224\"/>\n",
       "</g>\n",
       "</g>\n",
       "</svg>\n"
      ],
      "text/plain": [
       "<graphviz.files.Source at 0x7fb4281cccf8>"
      ]
     },
     "metadata": {},
     "output_type": "display_data"
    }
   ],
   "source": [
    "draw_tree(m.estimators_[0], X_train, precision=3)"
   ]
  },
  {
   "cell_type": "code",
   "execution_count": 22,
   "metadata": {},
   "outputs": [
    {
     "name": "stdout",
     "output_type": "stream",
     "text": [
      "CPU times: user 16 ms, sys: 0 ns, total: 16 ms\n",
      "Wall time: 128 ms\n",
      "[(0.21479726490828674, 0.12512119887056883, 0.7294574833920625, 0.8938639860220873)]\n"
     ]
    }
   ],
   "source": [
    "m = RandomForestRegressor(n_estimators=1,n_jobs=-1)\n",
    "%time m.fit(X_valid, Y_valid) \n",
    "print_score(m)"
   ]
  },
  {
   "cell_type": "markdown",
   "metadata": {},
   "source": [
    "## Bagging"
   ]
  },
  {
   "cell_type": "code",
   "execution_count": 22,
   "metadata": {},
   "outputs": [
    {
     "name": "stdout",
     "output_type": "stream",
     "text": [
      "CPU times: user 148 ms, sys: 4 ms, total: 152 ms\n",
      "Wall time: 340 ms\n",
      "[(0.16243131358871543, 0.065819876345881, 0.8452902998340467, 0.970629245482264)]\n"
     ]
    }
   ],
   "source": [
    "# Run it with the default estimator (tree in sklearn language) of 10\n",
    "m = RandomForestRegressor(n_jobs=-1)\n",
    "%time m.fit(X_valid, Y_valid) \n",
    "print_score(m)"
   ]
  },
  {
   "cell_type": "markdown",
   "metadata": {},
   "source": [
    "After running 10 trees, we want to extract the estimator of each of the trees which is stored in the estimators_ attribute in sklearn"
   ]
  },
  {
   "cell_type": "code",
   "execution_count": 50,
   "metadata": {},
   "outputs": [
    {
     "data": {
      "text/plain": [
       "(array([12.54611, 12.57764, 12.57764, 12.57764, 12.64433, 12.57764, 12.92391, 12.57764, 13.05301, 12.61818]),\n",
       " 12.667372656889752,\n",
       " 12.577636201962656)"
      ]
     },
     "execution_count": 50,
     "metadata": {},
     "output_type": "execute_result"
    }
   ],
   "source": [
    "preds = np.stack([i.predict(X_valid) for i in m.estimators_])\n",
    "preds[:,0], np.mean(preds[:,0]), Y_valid[759]"
   ]
  },
  {
   "cell_type": "markdown",
   "metadata": {},
   "source": [
    "None of the predictions has a proper predictions but the mean was actually good"
   ]
  },
  {
   "cell_type": "code",
   "execution_count": 35,
   "metadata": {},
   "outputs": [
    {
     "data": {
      "text/plain": [
       "(10, 700)"
      ]
     },
     "execution_count": 35,
     "metadata": {},
     "output_type": "execute_result"
    }
   ],
   "source": [
    "preds.shape"
   ]
  },
  {
   "cell_type": "code",
   "execution_count": 52,
   "metadata": {},
   "outputs": [
    {
     "data": {
      "image/png": "[encoded data removed]",
      "text/plain": [
       "<Figure size 432x288 with 1 Axes>"
      ]
     },
     "metadata": {},
     "output_type": "display_data"
    }
   ],
   "source": [
    "plt.plot([metrics.r2_score(Y_valid, np.mean(preds[:i+1], axis=0)) for i in range(10)]);"
   ]
  },
  {
   "cell_type": "code",
   "execution_count": 53,
   "metadata": {},
   "outputs": [
    {
     "name": "stdout",
     "output_type": "stream",
     "text": [
      "CPU times: user 288 ms, sys: 4 ms, total: 292 ms\n",
      "Wall time: 603 ms\n",
      "[(0.1552694655492784, 0.06292243333755541, 0.8586323144866844, 0.9731581776339407)]\n"
     ]
    }
   ],
   "source": [
    "# Run it with the estimator (tree in sklearn language) of 20\n",
    "m = RandomForestRegressor(n_estimators=20,n_jobs=-1)\n",
    "%time m.fit(X_valid, Y_valid) \n",
    "print_score(m)"
   ]
  },
  {
   "cell_type": "code",
   "execution_count": 54,
   "metadata": {},
   "outputs": [
    {
     "name": "stdout",
     "output_type": "stream",
     "text": [
      "CPU times: user 576 ms, sys: 0 ns, total: 576 ms\n",
      "Wall time: 1.26 s\n",
      "[(0.15552641273121676, 0.05534375240515581, 0.8581640436179373, 0.979234701291688)]\n"
     ]
    }
   ],
   "source": [
    "# Run it with the estimator (tree in sklearn language) of 40\n",
    "m = RandomForestRegressor(n_estimators=40,n_jobs=-1)\n",
    "%time m.fit(X_valid, Y_valid) \n",
    "print_score(m)"
   ]
  },
  {
   "cell_type": "code",
   "execution_count": 55,
   "metadata": {},
   "outputs": [
    {
     "name": "stdout",
     "output_type": "stream",
     "text": [
      "CPU times: user 868 ms, sys: 4 ms, total: 872 ms\n",
      "Wall time: 1.83 s\n",
      "[(0.15341463123432353, 0.056219939332884945, 0.8619896705977128, 0.9785719957141573)]\n"
     ]
    }
   ],
   "source": [
    "# Run it with the estimator (tree in sklearn language) of 60\n",
    "m = RandomForestRegressor(n_estimators=60,n_jobs=-1)\n",
    "%time m.fit(X_valid, Y_valid) \n",
    "print_score(m)"
   ]
  },
  {
   "cell_type": "code",
   "execution_count": 56,
   "metadata": {},
   "outputs": [
    {
     "name": "stdout",
     "output_type": "stream",
     "text": [
      "CPU times: user 8.6 s, sys: 68 ms, total: 8.67 s\n",
      "Wall time: 17.4 s\n",
      "[(0.1512497253720188, 0.05414951035485746, 0.8658572451677439, 0.980121205365539)]\n"
     ]
    }
   ],
   "source": [
    "# Run it with the estimator (tree in sklearn language) of 600\n",
    "m = RandomForestRegressor(n_estimators=600,n_jobs=-1)\n",
    "%time m.fit(X_valid, Y_valid) \n",
    "print_score(m)"
   ]
  },
  {
   "cell_type": "markdown",
   "metadata": {},
   "source": [
    "### OOB"
   ]
  },
  {
   "cell_type": "markdown",
   "metadata": {},
   "source": [
    "Is our validation set worse than our training set because we're over-fitting, or because the validation set is for a different time period, or a bit of both? With the existing information we've shown, we can't tell. However, random forests have a very clever trick called out-of-bag (OOB) error which can handle this (and more!)\n",
    "\n",
    "The idea is to calculate error on the training set, but only include the trees in the calculation of a row's error where that row was not included in training that tree. This allows us to see whether the model is over-fitting, without needing a separate validation set.\n",
    "\n",
    "This also has the benefit of allowing us to see whether our model generalizes, even if we only have a small amount of data so want to avoid separating some out to create a validation set.\n",
    "\n",
    "This is as simple as adding one more parameter to our model constructor. We print the OOB error last in our print_score function below."
   ]
  },
  {
   "cell_type": "code",
   "execution_count": 59,
   "metadata": {},
   "outputs": [
    {
     "name": "stdout",
     "output_type": "stream",
     "text": [
      "CPU times: user 584 ms, sys: 4 ms, total: 588 ms\n",
      "Wall time: 1.24 s\n",
      "[(0.1535733546604927, 0.056097850029039546, 0.8617039507299233, 0.978664962356046), 0.8461449684526889]\n"
     ]
    }
   ],
   "source": [
    "# Run it with the estimator (tree in sklearn language) of 40\n",
    "m = RandomForestRegressor(n_estimators=40,n_jobs=-1, oob_score=True)\n",
    "%time m.fit(X_valid, Y_valid) \n",
    "print_score(m)"
   ]
  },
  {
   "cell_type": "code",
   "execution_count": null,
   "metadata": {},
   "outputs": [],
   "source": []
  },
  {
   "cell_type": "code",
   "execution_count": null,
   "metadata": {},
   "outputs": [],
   "source": []
  },
  {
   "cell_type": "code",
   "execution_count": null,
   "metadata": {},
   "outputs": [],
   "source": []
  },
  {
   "cell_type": "code",
   "execution_count": null,
   "metadata": {},
   "outputs": [],
   "source": []
  }
 ],
 "metadata": {
  "kernelspec": {
   "display_name": "Python 3",
   "language": "python",
   "name": "python3"
  },
  "language_info": {
   "codemirror_mode": {
    "name": "ipython",
    "version": 3
   },
   "file_extension": ".py",
   "mimetype": "text/x-python",
   "name": "python",
   "nbconvert_exporter": "python",
   "pygments_lexer": "ipython3",
   "version": "3.6.3"
  }
 },
 "nbformat": 4,
 "nbformat_minor": 2
}
